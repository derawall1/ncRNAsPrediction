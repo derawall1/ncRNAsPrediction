{
 "cells": [
  {
   "cell_type": "code",
   "execution_count": 1,
   "metadata": {},
   "outputs": [],
   "source": [
    "%config IPCompleter.greedy=True\n"
   ]
  },
  {
   "cell_type": "markdown",
   "metadata": {},
   "source": [
    "### Loading packages and libraries "
   ]
  },
  {
   "cell_type": "code",
   "execution_count": 1,
   "metadata": {},
   "outputs": [],
   "source": [
    "import itertools\n",
    "import numpy as np\n",
    "from Bio import Align\n",
    "from Bio import SeqIO\n",
    "from Bio import pairwise2\n",
    "from Bio.SubsMat.MatrixInfo import blosum62\n",
    "import csv\n",
    "import pandas as pd\n",
    "from Bio.SeqRecord import SeqRecord\n",
    "from tqdm import tqdm\n",
    "import random\n",
    "from random import randint\n",
    "from sklearn.model_selection  import train_test_split, StratifiedKFold\n",
    "from sklearn.linear_model import LogisticRegression\n",
    "import features_extraction_utility.kmer as kmer\n",
    "from sklearn.svm import SVC\n",
    "from xgboost import XGBClassifier\n",
    "# import the metrics class\n",
    "from sklearn.metrics import confusion_matrix, roc_auc_score ,roc_curve,auc, classification_report\n",
    "from sklearn import metrics\n",
    "# import required modules for plotig\n",
    "import numpy as np\n",
    "import matplotlib.pyplot as plt\n",
    "import seaborn as sns\n",
    "%matplotlib inline\n",
    "seed =45"
   ]
  },
  {
   "cell_type": "markdown",
   "metadata": {},
   "source": [
    "# Reading Interacting lncRNAs"
   ]
  },
  {
   "cell_type": "code",
   "execution_count": 2,
   "metadata": {},
   "outputs": [
    {
     "data": {
      "text/plain": [
       "(1925, 11)"
      ]
     },
     "execution_count": 2,
     "metadata": {},
     "output_type": "execute_result"
    }
   ],
   "source": [
    "df_nc_seq= pd.read_csv('../Data/NpInter2 Interacting LncRNAs/NP_V2_LncRNAsSequences_clean2.csv')\n",
    "df_nc_seq.shape"
   ]
  },
  {
   "cell_type": "code",
   "execution_count": 3,
   "metadata": {},
   "outputs": [
    {
     "data": {
      "text/plain": [
       "nncid           1923\n",
       "accn             365\n",
       "class              2\n",
       "organism           1\n",
       "name               2\n",
       "ref                6\n",
       "transcriptID    1923\n",
       "url                2\n",
       "cpcScore        1912\n",
       "cnci            1917\n",
       "sequence        1923\n",
       "dtype: int64"
      ]
     },
     "execution_count": 3,
     "metadata": {},
     "output_type": "execute_result"
    }
   ],
   "source": [
    "df_nc_seq.nunique()"
   ]
  },
  {
   "cell_type": "markdown",
   "metadata": {},
   "source": [
    "# Reading interacting proteins"
   ]
  },
  {
   "cell_type": "code",
   "execution_count": 4,
   "metadata": {},
   "outputs": [
    {
     "data": {
      "text/plain": [
       "(25, 4)"
      ]
     },
     "execution_count": 4,
     "metadata": {},
     "output_type": "execute_result"
    }
   ],
   "source": [
    "df_p_seq = pd.read_csv('..\\Data\\\\NpInter2 Interacting Protiens\\\\Np_pSeq_26_1923.csv')\n",
    "df_p_seq.shape"
   ]
  },
  {
   "cell_type": "code",
   "execution_count": 5,
   "metadata": {},
   "outputs": [
    {
     "data": {
      "text/plain": [
       "Entry                    25\n",
       "Sequence                 25\n",
       "Cross-reference (PDB)    20\n",
       "Entry name               25\n",
       "dtype: int64"
      ]
     },
     "execution_count": 5,
     "metadata": {},
     "output_type": "execute_result"
    }
   ],
   "source": [
    "df_p_seq.nunique()"
   ]
  },
  {
   "cell_type": "markdown",
   "metadata": {},
   "source": [
    "# Reading np inter v 2 interactions"
   ]
  },
  {
   "cell_type": "code",
   "execution_count": 6,
   "metadata": {},
   "outputs": [
    {
     "data": {
      "text/plain": [
       "(5353, 16)"
      ]
     },
     "execution_count": 6,
     "metadata": {},
     "output_type": "execute_result"
    }
   ],
   "source": [
    "df_NPInter2 = pd.read_csv('../data/NPInter_v2.0 homo_sapiens_type_lncrna.csv')\n",
    "df_NPInter2.shape\n"
   ]
  },
  {
   "cell_type": "code",
   "execution_count": 7,
   "metadata": {},
   "outputs": [],
   "source": [
    "df_NPInter2.prIdentifier=df_NPInter2.prIdentifier.str.strip()"
   ]
  },
  {
   "cell_type": "code",
   "execution_count": 8,
   "metadata": {},
   "outputs": [
    {
     "data": {
      "text/plain": [
       "interID               4895\n",
       "ncID                  1924\n",
       "ncType                   1\n",
       "ncIdentifier          1923\n",
       "ncName                1924\n",
       "PartnerID               22\n",
       "prType                   1\n",
       "prIdentifier            25\n",
       "InteractionPartner      22\n",
       "interDescription        24\n",
       "experiment               7\n",
       "pubmed                  14\n",
       "organism                 1\n",
       "tag                      1\n",
       "interClass               1\n",
       "interLevel               1\n",
       "dtype: int64"
      ]
     },
     "execution_count": 8,
     "metadata": {},
     "output_type": "execute_result"
    }
   ],
   "source": [
    "df_NPInter2.nunique()"
   ]
  },
  {
   "cell_type": "markdown",
   "metadata": {},
   "source": [
    "### Reading Protein similarity scores "
   ]
  },
  {
   "cell_type": "code",
   "execution_count": 9,
   "metadata": {},
   "outputs": [
    {
     "data": {
      "text/plain": [
       "Query_Seq_ID        25\n",
       "Target_Seq_ID       25\n",
       "Align_Score        190\n",
       "Normalize_Score     30\n",
       "Identity           283\n",
       "Similarity         289\n",
       "dtype: int64"
      ]
     },
     "execution_count": 9,
     "metadata": {},
     "output_type": "execute_result"
    }
   ],
   "source": [
    "# read protein similarites\n",
    "df_pr_sim = pd.read_csv('../Data/NpInter2 Interacting Protiens/Protein-Protein Sequence Similarity/Protien-Protien_Similarity_26_1923.csv')\n",
    "df_pr_sim.nunique()"
   ]
  },
  {
   "cell_type": "markdown",
   "metadata": {},
   "source": [
    "### Reading LncRNA similarity scores"
   ]
  },
  {
   "cell_type": "code",
   "execution_count": 10,
   "metadata": {},
   "outputs": [],
   "source": [
    "# df_lnc_sim = pd.read_csv(\"../Data/NpInter2 Interacting LncRNAs/LncRNA-LncRNA Sequence Similarity/LncRNA-LncRNA_Similarity.csv\")\n",
    "# df_lnc_sim.shape"
   ]
  },
  {
   "cell_type": "code",
   "execution_count": 11,
   "metadata": {},
   "outputs": [],
   "source": [
    "# df_lnc_sim.nunique()"
   ]
  },
  {
   "cell_type": "markdown",
   "metadata": {},
   "source": [
    "### adding the nncid with respect to NONCODEID"
   ]
  },
  {
   "cell_type": "code",
   "execution_count": 12,
   "metadata": {},
   "outputs": [],
   "source": [
    "# df_nc22= pd.read_csv(\"../Data/NpInter2 Interacting LncRNAs/NP_V2_LncRNAsSequences_clean.csv\")\n",
    "# df_nc22.shape"
   ]
  },
  {
   "cell_type": "code",
   "execution_count": 13,
   "metadata": {},
   "outputs": [],
   "source": [
    "# noncode_dict=dict(zip(df_nc22.NONCODEID,df_nc22.nncid))\n"
   ]
  },
  {
   "cell_type": "code",
   "execution_count": 14,
   "metadata": {},
   "outputs": [],
   "source": [
    "# def label_nonecodeid_to_nncid (row, noncode_dict):\n",
    "#     if row['Query_Seq_ID'] in  noncode_dict:\n",
    "#         #print( noncode_dict[row['Query_Seq_ID']])\n",
    "#         return noncode_dict[row['Query_Seq_ID']]\n",
    "    "
   ]
  },
  {
   "cell_type": "code",
   "execution_count": 15,
   "metadata": {},
   "outputs": [],
   "source": [
    "\n",
    "# df_lnc_sim['nncid'] = df_lnc_sim.apply (lambda row: label_nonecodeid_to_nncid(row,noncode_dict), axis=1)\n",
    "# df_lnc_sim.nunique()"
   ]
  },
  {
   "cell_type": "code",
   "execution_count": 16,
   "metadata": {},
   "outputs": [],
   "source": [
    "# def label_nonecodeid_to_nncid2 (row, noncode_dict):\n",
    "#     if row['Target_Seq_ID'] in  noncode_dict:\n",
    "#         #print( noncode_dict[row['Query_Seq_ID']])\n",
    "#         return noncode_dict[row['Target_Seq_ID']]"
   ]
  },
  {
   "cell_type": "code",
   "execution_count": 17,
   "metadata": {},
   "outputs": [],
   "source": [
    "# df_lnc_sim['nncid_target'] = df_lnc_sim.apply (lambda row: label_nonecodeid_to_nncid2(row,noncode_dict), axis=1)\n",
    "# df_lnc_sim.nunique()"
   ]
  },
  {
   "cell_type": "code",
   "execution_count": 18,
   "metadata": {},
   "outputs": [],
   "source": [
    "# df_lnc_sim = df_lnc_sim[df_lnc_sim.nncid != 'n363337']"
   ]
  },
  {
   "cell_type": "code",
   "execution_count": 19,
   "metadata": {},
   "outputs": [],
   "source": [
    "# #print(df_lnc_sim.nunique())\n",
    "# df_lnc_sim.head()"
   ]
  },
  {
   "cell_type": "markdown",
   "metadata": {},
   "source": [
    "### filtering the NPInterV2 interactions with respect to lncRNAs similarity items"
   ]
  },
  {
   "cell_type": "code",
   "execution_count": 20,
   "metadata": {},
   "outputs": [],
   "source": [
    "# df_np2_344 = df_NPInter2[df_NPInter2['ncIdentifier'].isin(df_lnc_sim.nncid)]\n",
    "# df_np2_344.nunique()"
   ]
  },
  {
   "cell_type": "code",
   "execution_count": 21,
   "metadata": {},
   "outputs": [],
   "source": [
    "# # filtering the similarities according to target ids\n",
    "# df_lnc_sim343 = df_lnc_sim[df_lnc_sim['nncid_target'].isin(df_np2_344.ncIdentifier)]\n",
    "# df_lnc_sim343.nunique()"
   ]
  },
  {
   "cell_type": "code",
   "execution_count": 22,
   "metadata": {},
   "outputs": [],
   "source": [
    "# df_lnc_sim343.shape"
   ]
  },
  {
   "cell_type": "code",
   "execution_count": 23,
   "metadata": {},
   "outputs": [],
   "source": [
    "# df_lnc_sim343.columns"
   ]
  },
  {
   "cell_type": "code",
   "execution_count": 24,
   "metadata": {},
   "outputs": [],
   "source": [
    "# # adding self similarity score for each nncid\n",
    "# lst_lnc_343 = df_lnc_sim343.nncid.unique()\n",
    "# for nc in lst_lnc_343:\n",
    "#     df_lnc_sim343=df_lnc_sim343.append({'Query_Seq_ID':nc, 'Target_Seq_ID':nc ,'Align_Score': 100,'Normalize_Score':1.0,\n",
    "#                          'Identity':100, 'Similarity':100,'nncid':nc,'nncid_target':nc}, ignore_index=True)\n",
    "# df_lnc_sim343.shape    "
   ]
  },
  {
   "cell_type": "code",
   "execution_count": null,
   "metadata": {},
   "outputs": [],
   "source": []
  },
  {
   "cell_type": "code",
   "execution_count": 25,
   "metadata": {},
   "outputs": [],
   "source": [
    "# df_np2_344.shape"
   ]
  },
  {
   "cell_type": "code",
   "execution_count": 26,
   "metadata": {},
   "outputs": [],
   "source": [
    "# #balanceing protein seq data\n",
    "# df_p_seq=df_p_seq[df_p_seq.Entry.isin(df_np2_344.prIdentifier)]\n",
    "# df_p_seq.nunique()"
   ]
  },
  {
   "cell_type": "code",
   "execution_count": 27,
   "metadata": {},
   "outputs": [],
   "source": [
    "# df_np2_344=df_np2_344[df_np2_344.prIdentifier.isin(df_p_seq.Entry)]\n",
    "# df_np2_344.nunique()"
   ]
  },
  {
   "cell_type": "code",
   "execution_count": 28,
   "metadata": {},
   "outputs": [],
   "source": [
    "# df_pr_sim19=df_pr_sim[df_pr_sim['Query_Seq_ID'].isin(df_p_seq.Entry)]\n",
    "# df_pr_sim19=df_pr_sim19[df_pr_sim19['Target_Seq_ID'].isin(df_p_seq.Entry)]\n",
    "# df_pr_sim19.nunique()"
   ]
  },
  {
   "cell_type": "code",
   "execution_count": null,
   "metadata": {},
   "outputs": [],
   "source": []
  },
  {
   "cell_type": "markdown",
   "metadata": {},
   "source": [
    "### preparing the features set for NPInterV2 dataset"
   ]
  },
  {
   "cell_type": "code",
   "execution_count": 29,
   "metadata": {},
   "outputs": [],
   "source": [
    "# creating features from npinter v2\n",
    "\n",
    "def prepare_NPinter_feature(df_p_seq, df_nc_seq, df_NPInter2):\n",
    "    # create dict of proteins\n",
    "    pro_dict=dict(zip(df_p_seq.Entry,df_p_seq.Sequence))\n",
    "    # create dict of lncRnas\n",
    "    lnc_dict = dict(zip(df_nc_seq.nncid,df_nc_seq.sequence))\n",
    "    # positive set\n",
    "    posi_set = set()\n",
    "    pro_set = set()\n",
    "    X_features =[]\n",
    "    Y_labels =[]\n",
    "    df_interact = pd.DataFrame(columns=['ncIdentifier', 'prIdentifier', 'interaction'])\n",
    "    # geting positive class\n",
    "    for index, row in tqdm(df_NPInter2.iterrows()):\n",
    "        ncIdentifier=row['ncIdentifier'].strip()\n",
    "        prIdentifier =row['prIdentifier'].strip()\n",
    "        posi_set.add((ncIdentifier, prIdentifier))\n",
    "        pro_set.add(prIdentifier)\n",
    "        if (ncIdentifier in lnc_dict) and (prIdentifier in pro_dict):\n",
    "            protein_seq=pro_dict[prIdentifier]\n",
    "            RNA_seq = lnc_dict[ncIdentifier]\n",
    "            df_interact = df_interact.append({'ncIdentifier': ncIdentifier, 'prIdentifier': prIdentifier, 'interaction': 1}, ignore_index=True)\n",
    "            pro_fea = kmer.make_kmer_list_from_seq(k=3, sequence_type='Protein', seq=protein_seq,revcomp=False)[0]\n",
    "            lnc_fea = kmer.make_kmer_list_from_seq(k=3, sequence_type='RNA', seq=RNA_seq.replace('T','U'),revcomp=False)[0]\n",
    "            #X_features.append((sim_lst_pro,sim_lst_lnc))\n",
    "            X_features.append(pro_fea + lnc_fea)\n",
    "            Y_labels.append(1)\n",
    "\n",
    "        else:\n",
    "            print(prIdentifier)\n",
    "    #getting negative data or class\n",
    "    pro_list = list(pro_set)   \n",
    "    total_pro_len = len(pro_list)  \n",
    "    for index, row in tqdm(df_NPInter2.iterrows()):\n",
    "        ncIdentifier=row['ncIdentifier'].strip()\n",
    "        prIdentifier =row['prIdentifier'].strip()\n",
    "        #posi_set.add((ncIdentifier, prIdentifier))\n",
    "        for val in range(50):\n",
    "                    random_choice = randint(0,total_pro_len-1)\n",
    "                    select_pro = pro_list[random_choice]\n",
    "                    selec_nega= (ncIdentifier, select_pro)\n",
    "                    if selec_nega not in posi_set:\n",
    "                        posi_set.add(selec_nega)\n",
    "                        #print selec_nega\n",
    "                        break\n",
    "        if (ncIdentifier in lnc_dict) and (select_pro in pro_dict):\n",
    "            protein_seq=pro_dict[prIdentifier]\n",
    "            RNA_seq = lnc_dict[ncIdentifier]\n",
    "            df_interact = df_interact.append({'ncIdentifier': ncIdentifier, 'prIdentifier': prIdentifier, 'interaction': 1}, ignore_index=True)\n",
    "            pro_fea = kmer.make_kmer_list_from_seq(k=3, sequence_type='Protein', seq=protein_seq,revcomp=False)[0]\n",
    "            lnc_fea = kmer.make_kmer_list_from_seq(k=3, sequence_type='RNA', seq=RNA_seq.replace('T','U'),revcomp=False)[0]\n",
    "            #X_features.append((sim_lst_pro,sim_lst_lnc))\n",
    "            X_features.append(pro_fea + lnc_fea)\n",
    "            Y_labels.append(0)\n",
    "    return df_interact,np.array(X_features) , Y_labels\n",
    "\n",
    "        \n",
    "    \n"
   ]
  },
  {
   "cell_type": "code",
   "execution_count": 30,
   "metadata": {},
   "outputs": [
    {
     "name": "stderr",
     "output_type": "stream",
     "text": [
      "5353it [2:10:42,  1.62s/it]\n",
      "5353it [2:06:55,  1.50s/it]\n"
     ]
    },
    {
     "data": {
      "text/plain": [
       "(10706, 3)"
      ]
     },
     "execution_count": 30,
     "metadata": {},
     "output_type": "execute_result"
    }
   ],
   "source": [
    "df_interact, X_Features, Y_Labels=prepare_NPinter_feature(df_p_seq, df_nc_seq, df_NPInter2)\n",
    "df_interact.shape"
   ]
  },
  {
   "cell_type": "code",
   "execution_count": 23,
   "metadata": {},
   "outputs": [
    {
     "data": {
      "text/plain": [
       "1"
      ]
     },
     "execution_count": 23,
     "metadata": {},
     "output_type": "execute_result"
    }
   ],
   "source": [
    "Y_Labels[0]"
   ]
  },
  {
   "cell_type": "code",
   "execution_count": 24,
   "metadata": {},
   "outputs": [
    {
     "name": "stdout",
     "output_type": "stream",
     "text": [
      "done...\n"
     ]
    }
   ],
   "source": [
    "import csv\n",
    "\n",
    "\n",
    "\n",
    "with open(\"Y_Labels.csv\", \"w\", newline=\"\") as f:\n",
    "    writer = csv.writer(f)\n",
    "    writer.writerows(map(lambda x: [x], Y_Labels))    \n",
    "    \n",
    "print(\"done...\")    "
   ]
  },
  {
   "cell_type": "code",
   "execution_count": 32,
   "metadata": {},
   "outputs": [],
   "source": [
    "#df_lnc_sim.count()"
   ]
  },
  {
   "cell_type": "code",
   "execution_count": 33,
   "metadata": {},
   "outputs": [],
   "source": [
    "# save pairs to disk\n",
    "df_interact.to_csv('../data/NpInterV2_Pairs_full.csv')"
   ]
  },
  {
   "cell_type": "markdown",
   "metadata": {},
   "source": [
    "### Model\n",
    "\n"
   ]
  },
  {
   "cell_type": "markdown",
   "metadata": {},
   "source": [
    "#### train test split"
   ]
  },
  {
   "cell_type": "code",
   "execution_count": 31,
   "metadata": {},
   "outputs": [
    {
     "data": {
      "text/plain": [
       "8029"
      ]
     },
     "execution_count": 31,
     "metadata": {},
     "output_type": "execute_result"
    }
   ],
   "source": [
    "#spliting train test\n",
    "X_train,X_test,y_train,y_test=train_test_split(X_Features,Y_Labels,test_size=0.25,random_state=0)\n",
    "len(X_train)"
   ]
  },
  {
   "cell_type": "code",
   "execution_count": 43,
   "metadata": {},
   "outputs": [
    {
     "data": {
      "text/plain": [
       "array([ -7.22159081,  -1.18680749,  -5.69708168,   0.75730705,\n",
       "        20.07440649, -12.27015461, -15.69741725,   5.86825684,\n",
       "       -10.72471259, -32.73350338,  -1.56891438,  -1.11565434,\n",
       "       -17.79657727,  -0.58463558,  -1.21927887,   3.31816995,\n",
       "         0.5925765 ,  48.28018991,  -0.7872663 ,  -1.54973504,\n",
       "        -0.51055081,   1.07248809])"
      ]
     },
     "execution_count": 43,
     "metadata": {},
     "output_type": "execute_result"
    }
   ],
   "source": [
    "X_train[0]"
   ]
  },
  {
   "cell_type": "code",
   "execution_count": 32,
   "metadata": {},
   "outputs": [
    {
     "data": {
      "text/plain": [
       "8064"
      ]
     },
     "execution_count": 32,
     "metadata": {},
     "output_type": "execute_result"
    }
   ],
   "source": [
    "len(X_train[0])"
   ]
  },
  {
   "cell_type": "markdown",
   "metadata": {},
   "source": [
    "## PCA"
   ]
  },
  {
   "cell_type": "code",
   "execution_count": 33,
   "metadata": {},
   "outputs": [],
   "source": [
    "from sklearn.preprocessing import StandardScaler\n",
    "scaler = StandardScaler()\n",
    "# Fit on training set only.\n",
    "scaler.fit(X_train)\n",
    "# Apply transform to both the training set and the test set.\n",
    "X_train = scaler.transform(X_train)\n",
    "X_test = scaler.transform(X_test)\n",
    "from sklearn.decomposition import PCA\n",
    "# Make an instance of the Model\n",
    "pca = PCA(.95)\n",
    "pca.fit(X_train)\n",
    "X_train = pca.transform(X_train)\n",
    "X_test = pca.transform(X_test)"
   ]
  },
  {
   "cell_type": "code",
   "execution_count": 35,
   "metadata": {},
   "outputs": [
    {
     "data": {
      "text/plain": [
       "22"
      ]
     },
     "execution_count": 35,
     "metadata": {},
     "output_type": "execute_result"
    }
   ],
   "source": [
    "len(X_train[0])"
   ]
  },
  {
   "cell_type": "markdown",
   "metadata": {},
   "source": [
    "### building model"
   ]
  },
  {
   "cell_type": "code",
   "execution_count": 36,
   "metadata": {},
   "outputs": [],
   "source": [
    "def train_model(model,X_train,y_train):\n",
    "        \n",
    "    # fiting kfold model\n",
    "    kf = StratifiedKFold(n_splits=5,shuffle=True,random_state=seed)\n",
    "    pred_test_full =0\n",
    "    cv_score =[]\n",
    "    i=1\n",
    "    y_train1=np.array(y_train)\n",
    "    #y_train1=y_train1.reshape(-1,1)\n",
    "    #print(y_train.shape)\n",
    "    #print(X_train.shape)\n",
    "\n",
    "    for train_index,test_index in kf.split(X_train,y_train1):\n",
    "        print('{} of KFold {}'.format(i,kf.n_splits))\n",
    "        #print(train_index)\n",
    "        #print(test_index)\n",
    "        xtr,xvl = X_train[train_index],X_train[test_index]\n",
    "        ytr,yvl = y_train1[train_index],y_train1[test_index]\n",
    "\n",
    "        #model\n",
    "        #medel = LogisticRegression(solver='lbfgs')#LogisticRegression(C=2)\n",
    "        model.fit(xtr,ytr)\n",
    "        score = roc_auc_score(yvl,model.predict(xvl))\n",
    "        print('ROC AUC score:',score)\n",
    "        cv_score.append(score)    \n",
    "        pred_test = model.predict_proba(X_test)[:,1]\n",
    "        pred_test_full +=pred_test\n",
    "        i+=1\n",
    "    return model,xtr,xvl, ytr,yvl,cv_score    "
   ]
  },
  {
   "cell_type": "markdown",
   "metadata": {},
   "source": [
    "### Logistic Regration Model\n"
   ]
  },
  {
   "cell_type": "code",
   "execution_count": 37,
   "metadata": {},
   "outputs": [
    {
     "name": "stdout",
     "output_type": "stream",
     "text": [
      "1 of KFold 5\n",
      "ROC AUC score: 0.48193704487820765\n",
      "2 of KFold 5\n",
      "ROC AUC score: 0.4918967964078822\n",
      "3 of KFold 5\n",
      "ROC AUC score: 0.4925629512442904\n",
      "4 of KFold 5\n",
      "ROC AUC score: 0.4959596429596197\n",
      "5 of KFold 5\n",
      "ROC AUC score: 0.49751216739603743\n"
     ]
    }
   ],
   "source": [
    "model = LogisticRegression(solver='lbfgs')#LogisticRegression(C=2)\n",
    "model,xtr,xvl, ytr,yvl,cv_score =train_model(model,X_train,y_train)"
   ]
  },
  {
   "cell_type": "code",
   "execution_count": 38,
   "metadata": {
    "scrolled": false
   },
   "outputs": [
    {
     "name": "stdout",
     "output_type": "stream",
     "text": [
      "Confusion matrix on validation set: \n",
      " [[372 422]\n",
      " [384 427]]\n",
      "Cv [0.48193704487820765, 0.4918967964078822, 0.4925629512442904, 0.4959596429596197, 0.49751216739603743] \n",
      "Mean cv Score 0.49197372057720745\n"
     ]
    }
   ],
   "source": [
    "print('Confusion matrix on validation set: \\n',confusion_matrix(yvl,model.predict(xvl)))\n",
    "print('Cv',cv_score,'\\nMean cv Score',np.mean(cv_score))\n"
   ]
  },
  {
   "cell_type": "code",
   "execution_count": 39,
   "metadata": {},
   "outputs": [
    {
     "name": "stdout",
     "output_type": "stream",
     "text": [
      "Results on validation set: \n",
      "Accuracy: 0.49781931464174456\n",
      "Precision: 0.502944640753828\n",
      "Recall: 0.5265104808877928\n",
      "F1 Score: 0.5144578313253012\n"
     ]
    }
   ],
   "source": [
    "print(\"Results on validation set: \")\n",
    "print(\"Accuracy:\",metrics.accuracy_score(yvl, model.predict(xvl)))\n",
    "print(\"Precision:\",metrics.precision_score(yvl, model.predict(xvl)))\n",
    "print(\"Recall:\",metrics.recall_score(yvl, model.predict(xvl)))\n",
    "print(\"F1 Score:\",metrics.f1_score(yvl, model.predict(xvl)))"
   ]
  },
  {
   "cell_type": "code",
   "execution_count": 40,
   "metadata": {},
   "outputs": [
    {
     "name": "stdout",
     "output_type": "stream",
     "text": [
      "Results on test set:\n"
     ]
    },
    {
     "data": {
      "text/plain": [
       "array([[603, 776],\n",
       "       [654, 644]], dtype=int64)"
      ]
     },
     "execution_count": 40,
     "metadata": {},
     "output_type": "execute_result"
    }
   ],
   "source": [
    "print(\"Results on test set:\")\n",
    "y_pred=model.predict(X_test)\n",
    "cnf_matrix = metrics.confusion_matrix(y_test, y_pred)\n",
    "cnf_matrix"
   ]
  },
  {
   "cell_type": "code",
   "execution_count": 40,
   "metadata": {},
   "outputs": [
    {
     "data": {
      "text/plain": [
       "Text(0.5, 257.44, 'Predicted label')"
      ]
     },
     "execution_count": 40,
     "metadata": {},
     "output_type": "execute_result"
    },
    {
     "data": {
      "image/png": "[encoded data removed]",
      "text/plain": [
       "<Figure size 432x288 with 2 Axes>"
      ]
     },
     "metadata": {
      "needs_background": "light"
     },
     "output_type": "display_data"
    }
   ],
   "source": [
    "class_names=[0,1] # name  of classes\n",
    "fig, ax = plt.subplots()\n",
    "tick_marks = np.arange(len(class_names))\n",
    "plt.xticks(tick_marks, class_names)\n",
    "plt.yticks(tick_marks, class_names)\n",
    "# create heatmap\n",
    "sns.heatmap(pd.DataFrame(cnf_matrix), annot=True, cmap=\"YlGnBu\" ,fmt='g')\n",
    "ax.xaxis.set_label_position(\"top\")\n",
    "plt.tight_layout()\n",
    "plt.title('Confusion matrix ', y=1.1)\n",
    "plt.ylabel('Actual label')\n",
    "plt.xlabel('Predicted label')"
   ]
  },
  {
   "cell_type": "code",
   "execution_count": 41,
   "metadata": {},
   "outputs": [
    {
     "name": "stdout",
     "output_type": "stream",
     "text": [
      "Results on test set: \n",
      "Accuracy: 0.4658199477026522\n",
      "Precision: 0.4535211267605634\n",
      "Recall: 0.49614791987673346\n",
      "F1 Score: 0.4738778513612951\n"
     ]
    }
   ],
   "source": [
    "print(\"Results on test set: \")\n",
    "print(\"Accuracy:\",metrics.accuracy_score(y_test, y_pred))\n",
    "print(\"Precision:\",metrics.precision_score(y_test, y_pred))\n",
    "print(\"Recall:\",metrics.recall_score(y_test, y_pred))\n",
    "print(\"F1 Score:\",metrics.f1_score(y_test, y_pred))"
   ]
  },
  {
   "cell_type": "code",
   "execution_count": null,
   "metadata": {},
   "outputs": [],
   "source": [
    "#lr.coef_\n"
   ]
  },
  {
   "cell_type": "code",
   "execution_count": 42,
   "metadata": {},
   "outputs": [
    {
     "name": "stdout",
     "output_type": "stream",
     "text": [
      "validation set score:\n",
      "0.49221183800623053\n",
      "test set score:\n",
      "0.4732909973851326\n"
     ]
    }
   ],
   "source": [
    "print(\"validation set score:\")\n",
    "print(model.score(xvl,yvl))\n",
    "\n",
    "print(\"test set score:\")\n",
    "print(model.score(X_test,y_test))\n"
   ]
  },
  {
   "cell_type": "markdown",
   "metadata": {},
   "source": [
    "### Reciever Operating Characteristics\n"
   ]
  },
  {
   "cell_type": "code",
   "execution_count": 43,
   "metadata": {},
   "outputs": [
    {
     "data": {
      "text/plain": [
       "Text(0.5, 0, 'False positive rate')"
      ]
     },
     "execution_count": 43,
     "metadata": {},
     "output_type": "execute_result"
    },
    {
     "data": {
      "image/png": "[encoded data removed]",
      "text/plain": [
       "<Figure size 1008x576 with 1 Axes>"
      ]
     },
     "metadata": {
      "needs_background": "light"
     },
     "output_type": "display_data"
    }
   ],
   "source": [
    "# proba = model.predict_proba(xvl)[:,1]\n",
    "# frp,trp, threshold = roc_curve(yvl,proba)\n",
    "proba = model.predict_proba(X_test)[:,1]\n",
    "frp,trp, threshold = roc_curve(y_test,proba)\n",
    "roc_auc_ = auc(frp,trp)\n",
    "\n",
    "plt.figure(figsize=(14,8))\n",
    "plt.title('Reciever Operating Characteristics')\n",
    "plt.plot(frp,trp,'r',label = 'AUC = %0.2f' % roc_auc_)\n",
    "plt.legend(loc='lower right')\n",
    "plt.plot([0,1],[0,1],'b--')\n",
    "plt.ylabel('True positive rate')\n",
    "plt.xlabel('False positive rate')"
   ]
  },
  {
   "cell_type": "code",
   "execution_count": null,
   "metadata": {},
   "outputs": [],
   "source": []
  },
  {
   "cell_type": "markdown",
   "metadata": {},
   "source": [
    "### XGBoost Model\n"
   ]
  },
  {
   "cell_type": "code",
   "execution_count": 44,
   "metadata": {},
   "outputs": [
    {
     "name": "stdout",
     "output_type": "stream",
     "text": [
      "1 of KFold 5\n",
      "ROC AUC score: 0.3599198132595057\n",
      "2 of KFold 5\n",
      "ROC AUC score: 0.3280800936804473\n",
      "3 of KFold 5\n",
      "ROC AUC score: 0.3570442578073502\n",
      "4 of KFold 5\n",
      "ROC AUC score: 0.34420895082552017\n",
      "5 of KFold 5\n",
      "ROC AUC score: 0.3648331971910165\n"
     ]
    }
   ],
   "source": [
    "model = XGBClassifier(learning_rate=0.05, n_estimators=50, max_depth=4,\n",
    " min_child_weight=2, gamma=0, subsample=0.8, colsample_bytree=0.8,\n",
    " objective= 'binary:logistic', nthread=4, scale_pos_weight=1,seed=27)\n",
    "\n",
    "model,xtr,xvl, ytr,yvl,cv_score =train_model(model,X_train,y_train)"
   ]
  },
  {
   "cell_type": "code",
   "execution_count": 45,
   "metadata": {
    "scrolled": false
   },
   "outputs": [
    {
     "name": "stdout",
     "output_type": "stream",
     "text": [
      "Confusion matrix on validation set: \n",
      " [[269 525]\n",
      " [494 317]]\n",
      "Cv [0.3599198132595057, 0.3280800936804473, 0.3570442578073502, 0.34420895082552017, 0.3648331971910165] \n",
      "Mean cv Score 0.35081726255276796\n"
     ]
    }
   ],
   "source": [
    "print('Confusion matrix on validation set: \\n',confusion_matrix(yvl,model.predict(xvl)))\n",
    "print('Cv',cv_score,'\\nMean cv Score',np.mean(cv_score))\n"
   ]
  },
  {
   "cell_type": "code",
   "execution_count": 46,
   "metadata": {},
   "outputs": [
    {
     "name": "stdout",
     "output_type": "stream",
     "text": [
      "Results on validation set: \n",
      "Accuracy: 0.36510903426791275\n",
      "Precision: 0.37648456057007124\n",
      "Recall: 0.3908754623921085\n",
      "F1 Score: 0.3835450695704779\n"
     ]
    }
   ],
   "source": [
    "print(\"Results on validation set: \")\n",
    "print(\"Accuracy:\",metrics.accuracy_score(yvl, model.predict(xvl)))\n",
    "print(\"Precision:\",metrics.precision_score(yvl, model.predict(xvl)))\n",
    "print(\"Recall:\",metrics.recall_score(yvl, model.predict(xvl)))\n",
    "print(\"F1 Score:\",metrics.f1_score(yvl, model.predict(xvl)))"
   ]
  },
  {
   "cell_type": "code",
   "execution_count": 47,
   "metadata": {},
   "outputs": [
    {
     "name": "stdout",
     "output_type": "stream",
     "text": [
      "Results on test set:\n"
     ]
    },
    {
     "data": {
      "text/plain": [
       "array([[460, 919],\n",
       "       [813, 485]], dtype=int64)"
      ]
     },
     "execution_count": 47,
     "metadata": {},
     "output_type": "execute_result"
    }
   ],
   "source": [
    "print(\"Results on test set:\")\n",
    "y_pred=model.predict(X_test)\n",
    "cnf_matrix = metrics.confusion_matrix(y_test, y_pred)\n",
    "cnf_matrix"
   ]
  },
  {
   "cell_type": "code",
   "execution_count": 48,
   "metadata": {},
   "outputs": [
    {
     "data": {
      "text/plain": [
       "Text(0.5, 257.44, 'Predicted label')"
      ]
     },
     "execution_count": 48,
     "metadata": {},
     "output_type": "execute_result"
    },
    {
     "data": {
      "image/png": "[encoded data removed]",
      "text/plain": [
       "<Figure size 432x288 with 2 Axes>"
      ]
     },
     "metadata": {
      "needs_background": "light"
     },
     "output_type": "display_data"
    }
   ],
   "source": [
    "class_names=[0,1] # name  of classes\n",
    "fig, ax = plt.subplots()\n",
    "tick_marks = np.arange(len(class_names))\n",
    "plt.xticks(tick_marks, class_names)\n",
    "plt.yticks(tick_marks, class_names)\n",
    "# create heatmap\n",
    "sns.heatmap(pd.DataFrame(cnf_matrix), annot=True, cmap=\"YlGnBu\" ,fmt='g')\n",
    "ax.xaxis.set_label_position(\"top\")\n",
    "plt.tight_layout()\n",
    "plt.title('Confusion matrix ', y=1.1)\n",
    "plt.ylabel('Actual label')\n",
    "plt.xlabel('Predicted label')"
   ]
  },
  {
   "cell_type": "code",
   "execution_count": 49,
   "metadata": {},
   "outputs": [
    {
     "name": "stdout",
     "output_type": "stream",
     "text": [
      "Accuracy: 0.35300709749719833\n",
      "Precision: 0.3454415954415954\n",
      "Recall: 0.3736517719568567\n",
      "F1 Score: 0.3589933382679497\n"
     ]
    }
   ],
   "source": [
    "print(\"Accuracy:\",metrics.accuracy_score(y_test, y_pred))\n",
    "print(\"Precision:\",metrics.precision_score(y_test, y_pred))\n",
    "print(\"Recall:\",metrics.recall_score(y_test, y_pred))\n",
    "print(\"F1 Score:\",metrics.f1_score(y_test, y_pred))"
   ]
  },
  {
   "cell_type": "code",
   "execution_count": null,
   "metadata": {},
   "outputs": [],
   "source": [
    "#lr.coef_\n"
   ]
  },
  {
   "cell_type": "code",
   "execution_count": 50,
   "metadata": {},
   "outputs": [
    {
     "name": "stdout",
     "output_type": "stream",
     "text": [
      "validation set score:\n",
      "0.36510903426791275\n",
      "test set score:\n",
      "0.35300709749719833\n"
     ]
    }
   ],
   "source": [
    "print(\"validation set score:\")\n",
    "print(model.score(xvl,yvl))\n",
    "\n",
    "print(\"test set score:\")\n",
    "print(model.score(X_test,y_test))\n"
   ]
  },
  {
   "cell_type": "markdown",
   "metadata": {},
   "source": [
    "### Reciever Operating Characteristics\n"
   ]
  },
  {
   "cell_type": "code",
   "execution_count": 51,
   "metadata": {},
   "outputs": [
    {
     "data": {
      "text/plain": [
       "Text(0.5, 0, 'False positive rate')"
      ]
     },
     "execution_count": 51,
     "metadata": {},
     "output_type": "execute_result"
    },
    {
     "data": {
      "image/png": "[encoded data removed]",
      "text/plain": [
       "<Figure size 1008x576 with 1 Axes>"
      ]
     },
     "metadata": {
      "needs_background": "light"
     },
     "output_type": "display_data"
    }
   ],
   "source": [
    "#proba = model.predict_proba(xvl)[:,1]\n",
    "#frp,trp, threshold = roc_curve(yvl,proba)\n",
    "proba = model.predict_proba(X_test)[:,1]\n",
    "frp,trp, threshold = roc_curve(y_test,proba)\n",
    "roc_auc_ = auc(frp,trp)\n",
    "\n",
    "plt.figure(figsize=(14,8))\n",
    "plt.title('Reciever Operating Characteristics')\n",
    "plt.plot(frp,trp,'r',label = 'AUC = %0.2f' % roc_auc_)\n",
    "plt.legend(loc='lower right')\n",
    "plt.plot([0,1],[0,1],'b--')\n",
    "plt.ylabel('True positive rate')\n",
    "plt.xlabel('False positive rate')"
   ]
  },
  {
   "cell_type": "markdown",
   "metadata": {},
   "source": [
    "### SVM"
   ]
  },
  {
   "cell_type": "code",
   "execution_count": null,
   "metadata": {},
   "outputs": [],
   "source": []
  },
  {
   "cell_type": "code",
   "execution_count": 50,
   "metadata": {},
   "outputs": [
    {
     "name": "stdout",
     "output_type": "stream",
     "text": [
      "1 of KFold 5\n",
      "ROC AUC score: 0.48193704487820765\n",
      "2 of KFold 5\n",
      "ROC AUC score: 0.48771762479740055\n",
      "3 of KFold 5\n",
      "ROC AUC score: 0.49257535925055645\n",
      "4 of KFold 5\n",
      "ROC AUC score: 0.4862441740533079\n",
      "5 of KFold 5\n",
      "ROC AUC score: 0.5041223168834073\n"
     ]
    }
   ],
   "source": [
    "model = SVC(kernel='linear',probability=True)\n",
    "\n",
    "model,xtr,xvl, ytr,yvl,cv_score =train_model(model,X_train,y_train)"
   ]
  },
  {
   "cell_type": "code",
   "execution_count": 51,
   "metadata": {
    "scrolled": false
   },
   "outputs": [
    {
     "name": "stdout",
     "output_type": "stream",
     "text": [
      "Confusion matrix on validation set: \n",
      " [[359 435]\n",
      " [360 451]]\n",
      "Cv [0.48193704487820765, 0.48771762479740055, 0.49257535925055645, 0.4862441740533079, 0.5041223168834073] \n",
      "Mean cv Score 0.4905193039725759\n"
     ]
    }
   ],
   "source": [
    "print('Confusion matrix on validation set: \\n',confusion_matrix(yvl,model.predict(xvl)))\n",
    "print('Cv',cv_score,'\\nMean cv Score',np.mean(cv_score))\n"
   ]
  },
  {
   "cell_type": "code",
   "execution_count": 52,
   "metadata": {},
   "outputs": [
    {
     "name": "stdout",
     "output_type": "stream",
     "text": [
      "Results on validation set: \n",
      "Accuracy: 0.5046728971962616\n",
      "Precision: 0.5090293453724605\n",
      "Recall: 0.5561035758323057\n",
      "F1 Score: 0.5315262227460223\n"
     ]
    }
   ],
   "source": [
    "print(\"Results on validation set: \")\n",
    "print(\"Accuracy:\",metrics.accuracy_score(yvl, model.predict(xvl)))\n",
    "print(\"Precision:\",metrics.precision_score(yvl, model.predict(xvl)))\n",
    "print(\"Recall:\",metrics.recall_score(yvl, model.predict(xvl)))\n",
    "print(\"F1 Score:\",metrics.f1_score(yvl, model.predict(xvl)))"
   ]
  },
  {
   "cell_type": "code",
   "execution_count": 53,
   "metadata": {},
   "outputs": [
    {
     "name": "stdout",
     "output_type": "stream",
     "text": [
      "Results on test set:\n"
     ]
    },
    {
     "data": {
      "text/plain": [
       "array([[576, 803],\n",
       "       [622, 676]], dtype=int64)"
      ]
     },
     "execution_count": 53,
     "metadata": {},
     "output_type": "execute_result"
    }
   ],
   "source": [
    "print(\"Results on test set:\")\n",
    "y_pred=model.predict(X_test)\n",
    "cnf_matrix = metrics.confusion_matrix(y_test, y_pred)\n",
    "cnf_matrix"
   ]
  },
  {
   "cell_type": "code",
   "execution_count": 54,
   "metadata": {},
   "outputs": [
    {
     "data": {
      "text/plain": [
       "Text(0.5, 257.44, 'Predicted label')"
      ]
     },
     "execution_count": 54,
     "metadata": {},
     "output_type": "execute_result"
    },
    {
     "data": {
      "image/png": "[encoded data removed]",
      "text/plain": [
       "<Figure size 432x288 with 2 Axes>"
      ]
     },
     "metadata": {
      "needs_background": "light"
     },
     "output_type": "display_data"
    }
   ],
   "source": [
    "class_names=[0,1] # name  of classes\n",
    "fig, ax = plt.subplots()\n",
    "tick_marks = np.arange(len(class_names))\n",
    "plt.xticks(tick_marks, class_names)\n",
    "plt.yticks(tick_marks, class_names)\n",
    "# create heatmap\n",
    "sns.heatmap(pd.DataFrame(cnf_matrix), annot=True, cmap=\"YlGnBu\" ,fmt='g')\n",
    "ax.xaxis.set_label_position(\"top\")\n",
    "plt.tight_layout()\n",
    "plt.title('Confusion matrix ', y=1.1)\n",
    "plt.ylabel('Actual label')\n",
    "plt.xlabel('Predicted label')"
   ]
  },
  {
   "cell_type": "code",
   "execution_count": 55,
   "metadata": {},
   "outputs": [
    {
     "name": "stdout",
     "output_type": "stream",
     "text": [
      "Results on test set:\n",
      "Accuracy: 0.4676877101232723\n",
      "Precision: 0.4570655848546315\n",
      "Recall: 0.5208012326656395\n",
      "F1 Score: 0.4868563197695355\n"
     ]
    }
   ],
   "source": [
    "print(\"Results on test set:\")\n",
    "print(\"Accuracy:\",metrics.accuracy_score(y_test, y_pred))\n",
    "print(\"Precision:\",metrics.precision_score(y_test, y_pred))\n",
    "print(\"Recall:\",metrics.recall_score(y_test, y_pred))\n",
    "print(\"F1 Score:\",metrics.f1_score(y_test, y_pred))"
   ]
  },
  {
   "cell_type": "code",
   "execution_count": 56,
   "metadata": {},
   "outputs": [],
   "source": [
    "#lr.coef_\n"
   ]
  },
  {
   "cell_type": "code",
   "execution_count": 48,
   "metadata": {},
   "outputs": [
    {
     "name": "stdout",
     "output_type": "stream",
     "text": [
      "validation set score:\n",
      "0.49781931464174456\n",
      "test set score:\n",
      "0.4658199477026522\n"
     ]
    }
   ],
   "source": [
    "print(\"validation set score:\")\n",
    "print(model.score(xvl,yvl))\n",
    "\n",
    "print(\"test set score:\")\n",
    "print(model.score(X_test,y_test))\n"
   ]
  },
  {
   "cell_type": "markdown",
   "metadata": {},
   "source": [
    "### Reciever Operating Characteristics\n"
   ]
  },
  {
   "cell_type": "code",
   "execution_count": 49,
   "metadata": {},
   "outputs": [
    {
     "data": {
      "text/plain": [
       "Text(0.5, 0, 'False positive rate')"
      ]
     },
     "execution_count": 49,
     "metadata": {},
     "output_type": "execute_result"
    },
    {
     "data": {
      "image/png": "[encoded data removed]",
      "text/plain": [
       "<Figure size 1008x576 with 1 Axes>"
      ]
     },
     "metadata": {
      "needs_background": "light"
     },
     "output_type": "display_data"
    }
   ],
   "source": [
    "#proba = model.predict_proba(xvl)[:,1]\n",
    "#frp,trp, threshold = roc_curve(yvl,proba)\n",
    "proba = model.predict_proba(X_test)[:,1]\n",
    "frp,trp, threshold = roc_curve(y_test,proba)\n",
    "roc_auc_ = auc(frp,trp)\n",
    "\n",
    "plt.figure(figsize=(14,8))\n",
    "plt.title('Reciever Operating Characteristics')\n",
    "plt.plot(frp,trp,'r',label = 'AUC = %0.2f' % roc_auc_)\n",
    "plt.legend(loc='lower right')\n",
    "plt.plot([0,1],[0,1],'b--')\n",
    "plt.ylabel('True positive rate')\n",
    "plt.xlabel('False positive rate')"
   ]
  },
  {
   "cell_type": "code",
   "execution_count": null,
   "metadata": {},
   "outputs": [],
   "source": []
  }
 ],
 "metadata": {
  "kernelspec": {
   "display_name": "Python 3",
   "language": "python",
   "name": "python3"
  },
  "language_info": {
   "codemirror_mode": {
    "name": "ipython",
    "version": 3
   },
   "file_extension": ".py",
   "mimetype": "text/x-python",
   "name": "python",
   "nbconvert_exporter": "python",
   "pygments_lexer": "ipython3",
   "version": "3.7.1"
  }
 },
 "nbformat": 4,
 "nbformat_minor": 2
}
