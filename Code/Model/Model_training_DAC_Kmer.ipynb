{
 "cells": [
  {
   "cell_type": "code",
   "execution_count": 1,
   "metadata": {},
   "outputs": [],
   "source": [
    "%config IPCompleter.greedy=True\n"
   ]
  },
  {
   "cell_type": "markdown",
   "metadata": {},
   "source": [
    "### Loading packages and libraries "
   ]
  },
  {
   "cell_type": "code",
   "execution_count": 1,
   "metadata": {},
   "outputs": [],
   "source": [
    "import itertools\n",
    "import numpy as np\n",
    "from Bio import Align\n",
    "from Bio import SeqIO\n",
    "from Bio import pairwise2\n",
    "from Bio.SubsMat.MatrixInfo import blosum62\n",
    "import csv\n",
    "import pandas as pd\n",
    "from Bio.SeqRecord import SeqRecord\n",
    "from tqdm import tqdm\n",
    "import random\n",
    "from random import randint\n",
    "from sklearn.model_selection  import train_test_split, StratifiedKFold\n",
    "from sklearn.linear_model import LogisticRegression\n",
    "import features_extraction_utility.kmer as kmer\n",
    "from sklearn.svm import SVC\n",
    "from xgboost import XGBClassifier\n",
    "# import the metrics class\n",
    "from sklearn.metrics import confusion_matrix, roc_auc_score ,roc_curve,auc, classification_report\n",
    "from sklearn import metrics\n",
    "# import required modules for plotig\n",
    "import numpy as np\n",
    "import matplotlib.pyplot as plt\n",
    "import seaborn as sns\n",
    "%matplotlib inline\n",
    "seed =45"
   ]
  },
  {
   "cell_type": "markdown",
   "metadata": {},
   "source": [
    "## Reading np inter v 2 interactions"
   ]
  },
  {
   "cell_type": "code",
   "execution_count": 2,
   "metadata": {},
   "outputs": [
    {
     "data": {
      "text/plain": [
       "(5353, 16)"
      ]
     },
     "execution_count": 2,
     "metadata": {},
     "output_type": "execute_result"
    }
   ],
   "source": [
    "df_NPInter2 = pd.read_csv('../data/NPInter_v2.0 homo_sapiens_type_lncrna.csv')\n",
    "df_NPInter2.shape"
   ]
  },
  {
   "cell_type": "code",
   "execution_count": 3,
   "metadata": {},
   "outputs": [],
   "source": [
    "df_NPInter2.prIdentifier=df_NPInter2.prIdentifier.str.strip()"
   ]
  },
  {
   "cell_type": "code",
   "execution_count": 4,
   "metadata": {},
   "outputs": [
    {
     "data": {
      "text/plain": [
       "array(['Q07955', 'Q01844', 'Q9UL18', 'Q9UKV8', 'Q9H9G7', 'Q9HCK5',\n",
       "       'Q15717', 'B7ZL34', 'Q9NZI8', 'P26599', 'O00425', 'P35637',\n",
       "       'P31483', 'Q9HCE1', 'Q86X94', 'Q49AS9', 'Q13148', 'Q9Y6M1',\n",
       "       'Q96PU8', 'O43251', 'Q8NDV7', 'Q9UPQ9', 'Q9HCJ0', 'Q13285',\n",
       "       'Q6PJX3'], dtype=object)"
      ]
     },
     "execution_count": 4,
     "metadata": {},
     "output_type": "execute_result"
    }
   ],
   "source": [
    "df_NPInter2.prIdentifier.unique()"
   ]
  },
  {
   "cell_type": "code",
   "execution_count": null,
   "metadata": {},
   "outputs": [],
   "source": []
  },
  {
   "cell_type": "markdown",
   "metadata": {},
   "source": [
    "# Reading kmer features from csv"
   ]
  },
  {
   "cell_type": "code",
   "execution_count": 5,
   "metadata": {},
   "outputs": [
    {
     "name": "stdout",
     "output_type": "stream",
     "text": [
      "10706\n",
      "10706\n"
     ]
    }
   ],
   "source": [
    "kmer_features=[]\n",
    "kmer_labels =[]\n",
    "with open('X_Features.csv', 'r') as fk:\n",
    "    reader = csv.reader(fk)\n",
    "    kmer_features = list(reader)\n",
    "    \n",
    "with open('Y_Labels.csv', 'r') as fl:\n",
    "    reader = csv.reader(fl)\n",
    "    kmer_labels = list(reader)    \n",
    "    \n",
    "    \n",
    "print(len(kmer_features))\n",
    "print(len(kmer_labels))"
   ]
  },
  {
   "cell_type": "code",
   "execution_count": 6,
   "metadata": {},
   "outputs": [
    {
     "name": "stdout",
     "output_type": "stream",
     "text": [
      "8064\n"
     ]
    }
   ],
   "source": [
    "print(len(kmer_features[0]))\n",
    "#print(len(kmer_features_DAC[0][0]))"
   ]
  },
  {
   "cell_type": "markdown",
   "metadata": {},
   "source": [
    "## physical-chemical features "
   ]
  },
  {
   "cell_type": "code",
   "execution_count": 7,
   "metadata": {},
   "outputs": [],
   "source": [
    "#lncrna features\n",
    "\n",
    "lnc_dac1 = SeqIO.to_dict(SeqIO.parse(\"../Data/LncRNA DAC/lncRNA_0-300.txt\", \"fasta\"))\n",
    "lnc_dac2 = SeqIO.to_dict(SeqIO.parse(\"../Data/LncRNA DAC/lncRNA_301-600.txt\", \"fasta\"))\n",
    "lnc_dac3 = SeqIO.to_dict(SeqIO.parse(\"../Data/LncRNA DAC/lncRNA_601-900.txt\", \"fasta\"))\n",
    "lnc_dac4 = SeqIO.to_dict(SeqIO.parse(\"../Data/LncRNA DAC/lncRNA_901-1200.txt\", \"fasta\"))\n",
    "\n",
    "lnc_dac5 = SeqIO.to_dict(SeqIO.parse(\"../Data/LncRNA DAC/lncRNA_1201-1500.txt\", \"fasta\"))\n",
    "lnc_dac6 = SeqIO.to_dict(SeqIO.parse(\"../Data/LncRNA DAC/lncRNA_1501-1800.txt\", \"fasta\"))\n",
    "lnc_dac7 = SeqIO.to_dict(SeqIO.parse(\"../Data/LncRNA DAC/lncRNA_1801-1923.txt\", \"fasta\"))\n",
    "\n",
    "lnc_DAC ={**lnc_dac1 , **lnc_dac2 , **lnc_dac3 , **lnc_dac4 , **lnc_dac5 , **lnc_dac6 , **lnc_dac7}"
   ]
  },
  {
   "cell_type": "code",
   "execution_count": 8,
   "metadata": {},
   "outputs": [
    {
     "name": "stdout",
     "output_type": "stream",
     "text": [
      "1923\n"
     ]
    }
   ],
   "source": [
    "print(len(lnc_DAC))\n",
    "#print(lnc_DAC.keys())"
   ]
  },
  {
   "cell_type": "code",
   "execution_count": 9,
   "metadata": {},
   "outputs": [
    {
     "name": "stdout",
     "output_type": "stream",
     "text": [
      "25\n",
      "0.018,0.004,0.036,0.02,0.013,0.063,0.005,0.013,0.014,0.011,0.005,0.013,0.03,0.002,0.077,0.05,0.013,0.03,0.002,0.027,0.062,0.048,0.056,0.054,0.056,0.058,0.056,0.056,0.056,0.054\n"
     ]
    }
   ],
   "source": [
    "#protein features.\n",
    "pro_PseAAC = SeqIO.to_dict(SeqIO.parse(\"../Data/Protein  PC-PseAAC-General/PC-PseAAC-General.txt\", \"fasta\"))\n",
    "print(len(pro_PseAAC))\n",
    "print(str(pro_PseAAC['Q07955'].seq))"
   ]
  },
  {
   "cell_type": "code",
   "execution_count": 10,
   "metadata": {},
   "outputs": [
    {
     "data": {
      "text/plain": [
       "'0.001,-0.665,0.03,-0.544,-0.0,0.008,0.0,-0.011,0.01,-0.063,-0.0,0.001,0.0,0.034,0.008,-0.001,0.0,0.003,0.0,-0.185,0.014,-0.032,0.0,0.003,0.001,0.203,0.005,0.06,0.0,0.003,0.0,0.049,0.0,0.046,0.0,0.002,0.0,0.165,-0.001,0.024,0.0,0.003,0.0,0.001,0.003,-0.01,0.0,0.002,0.0,-0.042,-0.001,-0.03,0.0,0.001,0.0,-0.076,-0.004,-0.022,0.0,0.002'"
      ]
     },
     "execution_count": 10,
     "metadata": {},
     "output_type": "execute_result"
    }
   ],
   "source": [
    "str(lnc_dac1['n344453'].seq)"
   ]
  },
  {
   "cell_type": "code",
   "execution_count": 11,
   "metadata": {},
   "outputs": [
    {
     "data": {
      "text/plain": [
       "Bio.Seq.Seq"
      ]
     },
     "execution_count": 11,
     "metadata": {},
     "output_type": "execute_result"
    }
   ],
   "source": [
    "type(pro_PseAAC['Q07955'].seq)"
   ]
  },
  {
   "cell_type": "markdown",
   "metadata": {},
   "source": [
    "### preparing the features set for NPInterV2 dataset"
   ]
  },
  {
   "cell_type": "code",
   "execution_count": 12,
   "metadata": {},
   "outputs": [],
   "source": [
    "# creating features from npinter v2\n",
    "\n",
    "def prepare_NPinter_feature_DAC(pro_PseAAC, lnc_DAC, df_NPInter2):\n",
    "    # create dict of proteins\n",
    "    pro_dict=pro_PseAAC\n",
    "    # create dict of lncRnas\n",
    "    lnc_dict = lnc_DAC\n",
    "    # positive set\n",
    "    posi_set = set()\n",
    "    pro_set = set()\n",
    "    X_features =[]\n",
    "    Y_labels =[]\n",
    "    df_interact = pd.DataFrame(columns=['ncIdentifier', 'prIdentifier', 'interaction'])\n",
    "    # geting positive class\n",
    "    for index, row in tqdm(df_NPInter2.iterrows()):\n",
    "        ncIdentifier=row['ncIdentifier'].strip()\n",
    "        prIdentifier =row['prIdentifier'].strip()\n",
    "        posi_set.add((ncIdentifier, prIdentifier))\n",
    "        pro_set.add(prIdentifier)\n",
    "        if (ncIdentifier in lnc_dict) and (prIdentifier in pro_dict):\n",
    "            PseAAC=str(pro_dict[prIdentifier].seq)\n",
    "            DAC = str(lnc_dict[ncIdentifier].seq)\n",
    "            df_interact = df_interact.append({'ncIdentifier': ncIdentifier, 'prIdentifier': prIdentifier, 'interaction': 1}, ignore_index=True)\n",
    "            pro_fea = PseAAC.split(\",\")\n",
    "            lnc_fea = DAC.split(\",\")\n",
    "            #X_features.append((sim_lst_pro,sim_lst_lnc))\n",
    "            X_features.append(pro_fea + lnc_fea)\n",
    "            Y_labels.append(1)\n",
    "\n",
    "        else:\n",
    "            print(prIdentifier)\n",
    "    #getting negative data or class\n",
    "    pro_list = list(pro_set)   \n",
    "    total_pro_len = len(pro_list)  \n",
    "    for index, row in tqdm(df_NPInter2.iterrows()):\n",
    "        ncIdentifier=row['ncIdentifier'].strip()\n",
    "        prIdentifier =row['prIdentifier'].strip()\n",
    "        #posi_set.add((ncIdentifier, prIdentifier))\n",
    "        for val in range(50):\n",
    "                    random_choice = randint(0,total_pro_len-1)\n",
    "                    select_pro = pro_list[random_choice]\n",
    "                    selec_nega= (ncIdentifier, select_pro)\n",
    "                    if selec_nega not in posi_set:\n",
    "                        posi_set.add(selec_nega)\n",
    "                        #print selec_nega\n",
    "                        break\n",
    "        if (ncIdentifier in lnc_dict) and (select_pro in pro_dict):\n",
    "            PseAAC=str(pro_dict[prIdentifier].seq)\n",
    "            DAC = str(lnc_dict[ncIdentifier].seq)\n",
    "            df_interact = df_interact.append({'ncIdentifier': ncIdentifier, 'prIdentifier': prIdentifier, 'interaction': 1}, ignore_index=True)\n",
    "            pro_fea = PseAAC.split(\",\")\n",
    "            lnc_fea = DAC.split(\",\")\n",
    "            #X_features.append((sim_lst_pro,sim_lst_lnc))\n",
    "            X_features.append(pro_fea + lnc_fea)\n",
    "            Y_labels.append(0)\n",
    "    return df_interact,np.array(X_features) , Y_labels\n",
    "\n",
    "        \n",
    "    \n"
   ]
  },
  {
   "cell_type": "code",
   "execution_count": 13,
   "metadata": {
    "scrolled": false
   },
   "outputs": [
    {
     "name": "stderr",
     "output_type": "stream",
     "text": [
      "5353it [00:14, 376.54it/s]\n",
      "5353it [00:15, 350.12it/s]\n"
     ]
    },
    {
     "data": {
      "text/plain": [
       "(10706, 3)"
      ]
     },
     "execution_count": 13,
     "metadata": {},
     "output_type": "execute_result"
    }
   ],
   "source": [
    "df_interact_DAC, X_Features_DAC, Y_Labels_DAC=prepare_NPinter_feature_DAC(pro_PseAAC, lnc_DAC, df_NPInter2)\n",
    "df_interact_DAC.shape"
   ]
  },
  {
   "cell_type": "code",
   "execution_count": 14,
   "metadata": {},
   "outputs": [
    {
     "data": {
      "text/plain": [
       "10706"
      ]
     },
     "execution_count": 14,
     "metadata": {},
     "output_type": "execute_result"
    }
   ],
   "source": [
    "#X= X_Features_DAC + kmer_features\n",
    "X_Features_DAC=X_Features_DAC.astype(float)\n",
    "kmer_features= np.asarray(kmer_features)\n",
    "kmer_features = kmer_features.astype(float)\n",
    "X_Features_DAC=X_Features_DAC.tolist()\n",
    "kmer_features=kmer_features.tolist()\n",
    "\n",
    "# Using map() and lambda \n",
    "def listOfTuples(l1, l2): \n",
    "    return list(map(lambda x, y:(x+y), l1, l2)) \n",
    "# for i in range(0,10706):\n",
    "#     #print(X_Features_DAC[i])\n",
    "#     #print(kmer_features[i])\n",
    "#     X_fea.append(X_Features_DAC[i]+kmer_features[i])\n",
    "    \n",
    "# #X = [y for x in [X_Features_DAC, kmer_features] for y in x] \n",
    "X_fea=listOfTuples(X_Features_DAC,kmer_features)\n",
    "len(X_fea)"
   ]
  },
  {
   "cell_type": "code",
   "execution_count": 15,
   "metadata": {},
   "outputs": [
    {
     "data": {
      "text/plain": [
       "list"
      ]
     },
     "execution_count": 15,
     "metadata": {},
     "output_type": "execute_result"
    }
   ],
   "source": [
    "type(kmer_features[0])"
   ]
  },
  {
   "cell_type": "code",
   "execution_count": null,
   "metadata": {},
   "outputs": [],
   "source": []
  },
  {
   "cell_type": "code",
   "execution_count": 61,
   "metadata": {},
   "outputs": [
    {
     "name": "stdout",
     "output_type": "stream",
     "text": [
      "done...\n"
     ]
    }
   ],
   "source": [
    "import csv\n",
    "\n",
    "\n",
    "\n",
    "with open(\"X_Features_DAC.csv\", \"w\", newline=\"\") as f:\n",
    "    writer = csv.writer(f)\n",
    "    writer.writerows(map(lambda x: [x], X_Features_DAC))    \n",
    "    \n",
    "print(\"done...\")    "
   ]
  },
  {
   "cell_type": "code",
   "execution_count": 32,
   "metadata": {},
   "outputs": [],
   "source": [
    "#df_lnc_sim.count()"
   ]
  },
  {
   "cell_type": "code",
   "execution_count": 30,
   "metadata": {},
   "outputs": [],
   "source": [
    "# save pairs to disk\n",
    "df_interact_DAC.to_csv('../data/NpInterV2_Pairs_full_DAC.csv')"
   ]
  },
  {
   "cell_type": "markdown",
   "metadata": {},
   "source": [
    "### Model\n",
    "\n"
   ]
  },
  {
   "cell_type": "markdown",
   "metadata": {},
   "source": [
    "#### train test split"
   ]
  },
  {
   "cell_type": "code",
   "execution_count": 16,
   "metadata": {},
   "outputs": [
    {
     "data": {
      "text/plain": [
       "8029"
      ]
     },
     "execution_count": 16,
     "metadata": {},
     "output_type": "execute_result"
    }
   ],
   "source": [
    "#spliting train test\n",
    "#X_Features_DAC=X_Features_DAC.astype(float)\n",
    "X_fea=np.array(X_fea)\n",
    "X_train,X_test,y_train,y_test=train_test_split(X_fea,Y_Labels_DAC,test_size=0.25,random_state=0)\n",
    "len(X_train)"
   ]
  },
  {
   "cell_type": "markdown",
   "metadata": {},
   "source": [
    "## PCA"
   ]
  },
  {
   "cell_type": "code",
   "execution_count": 29,
   "metadata": {},
   "outputs": [],
   "source": [
    "\n",
    "from sklearn.preprocessing import StandardScaler\n",
    "scaler = StandardScaler()\n",
    "# Fit on training set only.\n",
    "scaler.fit(X_train)\n",
    "# Apply transform to both the training set and the test set.\n",
    "X_train = scaler.transform(X_train)\n",
    "X_test = scaler.transform(X_test)\n",
    "from sklearn.decomposition import PCA\n",
    "# Make an instance of the Model\n",
    "pca = PCA(.80)\n",
    "pca.fit(X_train)\n",
    "X_train = pca.transform(X_train)\n",
    "X_test = pca.transform(X_test)"
   ]
  },
  {
   "cell_type": "code",
   "execution_count": 31,
   "metadata": {},
   "outputs": [
    {
     "name": "stdout",
     "output_type": "stream",
     "text": [
      "Done\n"
     ]
    }
   ],
   "source": [
    "print(\"Done\")"
   ]
  },
  {
   "cell_type": "code",
   "execution_count": 32,
   "metadata": {},
   "outputs": [],
   "source": [
    "X_train=np.array(X_train)\n",
    "X_test=np.array(X_test)"
   ]
  },
  {
   "cell_type": "markdown",
   "metadata": {},
   "source": [
    "### building model"
   ]
  },
  {
   "cell_type": "code",
   "execution_count": 33,
   "metadata": {},
   "outputs": [],
   "source": [
    "def train_model(model,X_train,y_train):\n",
    "        \n",
    "    # fiting kfold model\n",
    "    kf = StratifiedKFold(n_splits=5,shuffle=True,random_state=seed)\n",
    "    pred_test_full =0\n",
    "    cv_score =[]\n",
    "    i=1\n",
    "    y_train1=np.array(y_train)\n",
    "    #y_train1=y_train1.reshape(-1,1)\n",
    "    #print(y_train.shape)\n",
    "    #print(X_train.shape)\n",
    "\n",
    "    for train_index,test_index in kf.split(X_train,y_train1):\n",
    "        print('{} of KFold {}'.format(i,kf.n_splits))\n",
    "        #print(train_index)\n",
    "        #print(test_index)\n",
    "        xtr,xvl = X_train[train_index],X_train[test_index]\n",
    "        ytr,yvl = y_train1[train_index],y_train1[test_index]\n",
    "        #print(xtr[0])\n",
    "        #print(ytr[0])\n",
    "\n",
    "        #model\n",
    "        #medel = LogisticRegression(solver='lbfgs')#LogisticRegression(C=2)\n",
    "        model.fit(xtr,ytr)\n",
    "        score = roc_auc_score(yvl,model.predict(xvl))\n",
    "        print('ROC AUC score:',score)\n",
    "        cv_score.append(score)    \n",
    "        pred_test = model.predict_proba(X_test)[:,1]\n",
    "        pred_test_full +=pred_test\n",
    "        i+=1\n",
    "    return model,xtr,xvl, ytr,yvl,cv_score    "
   ]
  },
  {
   "cell_type": "markdown",
   "metadata": {},
   "source": [
    "### Logistic Regration Model\n"
   ]
  },
  {
   "cell_type": "code",
   "execution_count": 34,
   "metadata": {},
   "outputs": [
    {
     "name": "stdout",
     "output_type": "stream",
     "text": [
      "1 of KFold 5\n",
      "ROC AUC score: 0.47922667100946886\n",
      "2 of KFold 5\n",
      "ROC AUC score: 0.4944706822076945\n",
      "3 of KFold 5\n",
      "ROC AUC score: 0.492174425548085\n",
      "4 of KFold 5\n",
      "ROC AUC score: 0.5020837695523037\n",
      "5 of KFold 5\n",
      "ROC AUC score: 0.5003136967453186\n"
     ]
    }
   ],
   "source": [
    "model = LogisticRegression(solver='lbfgs')#LogisticRegression(C=2)\n",
    "model,xtr,xvl, ytr,yvl,cv_score =train_model(model,X_train,y_train)"
   ]
  },
  {
   "cell_type": "code",
   "execution_count": 35,
   "metadata": {
    "scrolled": false
   },
   "outputs": [
    {
     "name": "stdout",
     "output_type": "stream",
     "text": [
      "Confusion matrix on validation set: \n",
      " [[304 490]\n",
      " [310 501]]\n",
      "Cv [0.47922667100946886, 0.4944706822076945, 0.492174425548085, 0.5020837695523037, 0.5003136967453186] \n",
      "Mean cv Score 0.49365384901257414\n"
     ]
    }
   ],
   "source": [
    "print('Confusion matrix on validation set: \\n',confusion_matrix(yvl,model.predict(xvl)))\n",
    "print('Cv',cv_score,'\\nMean cv Score',np.mean(cv_score))\n"
   ]
  },
  {
   "cell_type": "code",
   "execution_count": 36,
   "metadata": {},
   "outputs": [
    {
     "name": "stdout",
     "output_type": "stream",
     "text": [
      "Results on validation set: \n",
      "Accuracy: 0.5015576323987538\n",
      "Precision: 0.5055499495459133\n",
      "Recall: 0.6177558569667078\n",
      "F1 Score: 0.556048834628191\n"
     ]
    }
   ],
   "source": [
    "print(\"Results on validation set: \")\n",
    "print(\"Accuracy:\",metrics.accuracy_score(yvl, model.predict(xvl)))\n",
    "print(\"Precision:\",metrics.precision_score(yvl, model.predict(xvl)))\n",
    "print(\"Recall:\",metrics.recall_score(yvl, model.predict(xvl)))\n",
    "print(\"F1 Score:\",metrics.f1_score(yvl, model.predict(xvl)))"
   ]
  },
  {
   "cell_type": "code",
   "execution_count": 37,
   "metadata": {},
   "outputs": [
    {
     "name": "stdout",
     "output_type": "stream",
     "text": [
      "Results on test set:\n"
     ]
    },
    {
     "data": {
      "text/plain": [
       "array([[490, 889],\n",
       "       [525, 773]], dtype=int64)"
      ]
     },
     "execution_count": 37,
     "metadata": {},
     "output_type": "execute_result"
    }
   ],
   "source": [
    "print(\"Results on test set:\")\n",
    "y_pred=model.predict(X_test)\n",
    "cnf_matrix = metrics.confusion_matrix(y_test, y_pred)\n",
    "cnf_matrix"
   ]
  },
  {
   "cell_type": "code",
   "execution_count": 38,
   "metadata": {},
   "outputs": [
    {
     "data": {
      "text/plain": [
       "Text(0.5, 257.44, 'Predicted label')"
      ]
     },
     "execution_count": 38,
     "metadata": {},
     "output_type": "execute_result"
    },
    {
     "data": {
      "image/png": "[encoded data removed]",
      "text/plain": [
       "<Figure size 432x288 with 2 Axes>"
      ]
     },
     "metadata": {
      "needs_background": "light"
     },
     "output_type": "display_data"
    }
   ],
   "source": [
    "class_names=[0,1] # name  of classes\n",
    "fig, ax = plt.subplots()\n",
    "tick_marks = np.arange(len(class_names))\n",
    "plt.xticks(tick_marks, class_names)\n",
    "plt.yticks(tick_marks, class_names)\n",
    "# create heatmap\n",
    "sns.heatmap(pd.DataFrame(cnf_matrix), annot=True, cmap=\"YlGnBu\" ,fmt='g')\n",
    "ax.xaxis.set_label_position(\"top\")\n",
    "plt.tight_layout()\n",
    "plt.title('Confusion matrix ', y=1.1)\n",
    "plt.ylabel('Actual label')\n",
    "plt.xlabel('Predicted label')"
   ]
  },
  {
   "cell_type": "code",
   "execution_count": 39,
   "metadata": {},
   "outputs": [
    {
     "name": "stdout",
     "output_type": "stream",
     "text": [
      "Results on test set:\n",
      "Accuracy: 0.4717967874486365\n",
      "Precision: 0.4651022864019254\n",
      "Recall: 0.5955315870570108\n",
      "F1 Score: 0.5222972972972972\n"
     ]
    }
   ],
   "source": [
    "print(\"Results on test set:\")\n",
    "print(\"Accuracy:\",metrics.accuracy_score(y_test, y_pred))\n",
    "print(\"Precision:\",metrics.precision_score(y_test, y_pred))\n",
    "print(\"Recall:\",metrics.recall_score(y_test, y_pred))\n",
    "print(\"F1 Score:\",metrics.f1_score(y_test, y_pred))"
   ]
  },
  {
   "cell_type": "code",
   "execution_count": 40,
   "metadata": {},
   "outputs": [],
   "source": [
    "#lr.coef_\n"
   ]
  },
  {
   "cell_type": "code",
   "execution_count": 41,
   "metadata": {},
   "outputs": [
    {
     "name": "stdout",
     "output_type": "stream",
     "text": [
      "validation set score:\n",
      "0.5015576323987538\n",
      "test set score:\n",
      "0.4717967874486365\n"
     ]
    }
   ],
   "source": [
    "print(\"validation set score:\")\n",
    "print(model.score(xvl,yvl))\n",
    "\n",
    "print(\"test set score:\")\n",
    "print(model.score(X_test,y_test))\n"
   ]
  },
  {
   "cell_type": "markdown",
   "metadata": {},
   "source": [
    "### Reciever Operating Characteristics\n"
   ]
  },
  {
   "cell_type": "code",
   "execution_count": 42,
   "metadata": {},
   "outputs": [
    {
     "data": {
      "text/plain": [
       "Text(0.5, 0, 'False positive rate')"
      ]
     },
     "execution_count": 42,
     "metadata": {},
     "output_type": "execute_result"
    },
    {
     "data": {
      "image/png": "[encoded data removed]",
      "text/plain": [
       "<Figure size 1008x576 with 1 Axes>"
      ]
     },
     "metadata": {
      "needs_background": "light"
     },
     "output_type": "display_data"
    }
   ],
   "source": [
    "# proba = model.predict_proba(xvl)[:,1]\n",
    "# frp,trp, threshold = roc_curve(yvl,proba)\n",
    "proba = model.predict_proba(X_test)[:,1]\n",
    "frp,trp, threshold = roc_curve(y_test,proba)\n",
    "roc_auc_ = auc(frp,trp)\n",
    "\n",
    "plt.figure(figsize=(14,8))\n",
    "plt.title('Reciever Operating Characteristics')\n",
    "plt.plot(frp,trp,'r',label = 'AUC = %0.2f' % roc_auc_)\n",
    "plt.legend(loc='lower right')\n",
    "plt.plot([0,1],[0,1],'b--')\n",
    "plt.ylabel('True positive rate')\n",
    "plt.xlabel('False positive rate')"
   ]
  },
  {
   "cell_type": "code",
   "execution_count": null,
   "metadata": {},
   "outputs": [],
   "source": []
  },
  {
   "cell_type": "markdown",
   "metadata": {},
   "source": [
    "### XGBoost Model\n"
   ]
  },
  {
   "cell_type": "code",
   "execution_count": 43,
   "metadata": {},
   "outputs": [
    {
     "name": "stdout",
     "output_type": "stream",
     "text": [
      "1 of KFold 5\n",
      "ROC AUC score: 0.3925458902356746\n",
      "2 of KFold 5\n",
      "ROC AUC score: 0.3918463888824264\n",
      "3 of KFold 5\n",
      "ROC AUC score: 0.3883419026126608\n",
      "4 of KFold 5\n",
      "ROC AUC score: 0.40355644479600467\n",
      "5 of KFold 5\n",
      "ROC AUC score: 0.40183388359676614\n"
     ]
    }
   ],
   "source": [
    "model = XGBClassifier(learning_rate=0.05, n_estimators=50, max_depth=4,\n",
    " min_child_weight=2, gamma=0, subsample=0.8, colsample_bytree=0.8,\n",
    " objective= 'binary:logistic', nthread=4, scale_pos_weight=1,seed=27)\n",
    "\n",
    "model,xtr,xvl, ytr,yvl,cv_score =train_model(model,X_train,y_train)"
   ]
  },
  {
   "cell_type": "code",
   "execution_count": 44,
   "metadata": {
    "scrolled": false
   },
   "outputs": [
    {
     "name": "stdout",
     "output_type": "stream",
     "text": [
      "Confusion matrix on validation set: \n",
      " [[223 571]\n",
      " [387 424]]\n",
      "Cv [0.3925458902356746, 0.3918463888824264, 0.3883419026126608, 0.40355644479600467, 0.40183388359676614] \n",
      "Mean cv Score 0.39562490202470657\n"
     ]
    }
   ],
   "source": [
    "print('Confusion matrix on validation set: \\n',confusion_matrix(yvl,model.predict(xvl)))\n",
    "print('Cv',cv_score,'\\nMean cv Score',np.mean(cv_score))\n"
   ]
  },
  {
   "cell_type": "code",
   "execution_count": 45,
   "metadata": {},
   "outputs": [
    {
     "name": "stdout",
     "output_type": "stream",
     "text": [
      "Results on validation set: \n",
      "Accuracy: 0.4031152647975078\n",
      "Precision: 0.42613065326633165\n",
      "Recall: 0.5228113440197287\n",
      "F1 Score: 0.46954595791805087\n"
     ]
    }
   ],
   "source": [
    "print(\"Results on validation set: \")\n",
    "print(\"Accuracy:\",metrics.accuracy_score(yvl, model.predict(xvl)))\n",
    "print(\"Precision:\",metrics.precision_score(yvl, model.predict(xvl)))\n",
    "print(\"Recall:\",metrics.recall_score(yvl, model.predict(xvl)))\n",
    "print(\"F1 Score:\",metrics.f1_score(yvl, model.predict(xvl)))"
   ]
  },
  {
   "cell_type": "code",
   "execution_count": 46,
   "metadata": {},
   "outputs": [
    {
     "name": "stdout",
     "output_type": "stream",
     "text": [
      "Results on test set:\n"
     ]
    },
    {
     "data": {
      "text/plain": [
       "array([[ 375, 1004],\n",
       "       [ 624,  674]], dtype=int64)"
      ]
     },
     "execution_count": 46,
     "metadata": {},
     "output_type": "execute_result"
    }
   ],
   "source": [
    "print(\"Results on test set:\")\n",
    "y_pred=model.predict(X_test)\n",
    "cnf_matrix = metrics.confusion_matrix(y_test, y_pred)\n",
    "cnf_matrix"
   ]
  },
  {
   "cell_type": "code",
   "execution_count": 47,
   "metadata": {},
   "outputs": [
    {
     "data": {
      "text/plain": [
       "Text(0.5, 257.44, 'Predicted label')"
      ]
     },
     "execution_count": 47,
     "metadata": {},
     "output_type": "execute_result"
    },
    {
     "data": {
      "image/png": "[encoded data removed]",
      "text/plain": [
       "<Figure size 432x288 with 2 Axes>"
      ]
     },
     "metadata": {
      "needs_background": "light"
     },
     "output_type": "display_data"
    }
   ],
   "source": [
    "class_names=[0,1] # name  of classes\n",
    "fig, ax = plt.subplots()\n",
    "tick_marks = np.arange(len(class_names))\n",
    "plt.xticks(tick_marks, class_names)\n",
    "plt.yticks(tick_marks, class_names)\n",
    "# create heatmap\n",
    "sns.heatmap(pd.DataFrame(cnf_matrix), annot=True, cmap=\"YlGnBu\" ,fmt='g')\n",
    "ax.xaxis.set_label_position(\"top\")\n",
    "plt.tight_layout()\n",
    "plt.title('Confusion matrix ', y=1.1)\n",
    "plt.ylabel('Actual label')\n",
    "plt.xlabel('Predicted label')"
   ]
  },
  {
   "cell_type": "code",
   "execution_count": 48,
   "metadata": {},
   "outputs": [
    {
     "name": "stdout",
     "output_type": "stream",
     "text": [
      "Results on test set: \n",
      "Accuracy: 0.39185655584609635\n",
      "Precision: 0.40166865315852207\n",
      "Recall: 0.5192604006163328\n",
      "F1 Score: 0.4529569892473118\n"
     ]
    }
   ],
   "source": [
    "print(\"Results on test set: \")\n",
    "print(\"Accuracy:\",metrics.accuracy_score(y_test, y_pred))\n",
    "print(\"Precision:\",metrics.precision_score(y_test, y_pred))\n",
    "print(\"Recall:\",metrics.recall_score(y_test, y_pred))\n",
    "print(\"F1 Score:\",metrics.f1_score(y_test, y_pred))"
   ]
  },
  {
   "cell_type": "code",
   "execution_count": 49,
   "metadata": {},
   "outputs": [],
   "source": [
    "#lr.coef_\n"
   ]
  },
  {
   "cell_type": "code",
   "execution_count": 50,
   "metadata": {},
   "outputs": [
    {
     "name": "stdout",
     "output_type": "stream",
     "text": [
      "validation set score:\n",
      "0.4031152647975078\n",
      "test set score:\n",
      "0.39185655584609635\n"
     ]
    }
   ],
   "source": [
    "print(\"validation set score:\")\n",
    "print(model.score(xvl,yvl))\n",
    "\n",
    "print(\"test set score:\")\n",
    "print(model.score(X_test,y_test))\n"
   ]
  },
  {
   "cell_type": "markdown",
   "metadata": {},
   "source": [
    "### Reciever Operating Characteristics\n"
   ]
  },
  {
   "cell_type": "code",
   "execution_count": 51,
   "metadata": {},
   "outputs": [
    {
     "data": {
      "text/plain": [
       "Text(0.5, 0, 'False positive rate')"
      ]
     },
     "execution_count": 51,
     "metadata": {},
     "output_type": "execute_result"
    },
    {
     "data": {
      "image/png": "[encoded data removed]",
      "text/plain": [
       "<Figure size 1008x576 with 1 Axes>"
      ]
     },
     "metadata": {
      "needs_background": "light"
     },
     "output_type": "display_data"
    }
   ],
   "source": [
    "#proba = model.predict_proba(xvl)[:,1]\n",
    "#frp,trp, threshold = roc_curve(yvl,proba)\n",
    "proba = model.predict_proba(X_test)[:,1]\n",
    "frp,trp, threshold = roc_curve(y_test,proba)\n",
    "roc_auc_ = auc(frp,trp)\n",
    "\n",
    "plt.figure(figsize=(14,8))\n",
    "plt.title('Reciever Operating Characteristics')\n",
    "plt.plot(frp,trp,'r',label = 'AUC = %0.2f' % roc_auc_)\n",
    "plt.legend(loc='lower right')\n",
    "plt.plot([0,1],[0,1],'b--')\n",
    "plt.ylabel('True positive rate')\n",
    "plt.xlabel('False positive rate')"
   ]
  },
  {
   "cell_type": "markdown",
   "metadata": {},
   "source": [
    "### SVM"
   ]
  },
  {
   "cell_type": "code",
   "execution_count": null,
   "metadata": {},
   "outputs": [],
   "source": []
  },
  {
   "cell_type": "code",
   "execution_count": 52,
   "metadata": {},
   "outputs": [
    {
     "name": "stdout",
     "output_type": "stream",
     "text": [
      "1 of KFold 5\n",
      "ROC AUC score: 0.4811382794748311\n",
      "2 of KFold 5\n",
      "ROC AUC score: 0.4944706822076945\n",
      "3 of KFold 5\n",
      "ROC AUC score: 0.49089174790033274\n",
      "4 of KFold 5\n",
      "ROC AUC score: 0.4993609876772988\n",
      "5 of KFold 5\n",
      "ROC AUC score: 0.5041409523336242\n"
     ]
    }
   ],
   "source": [
    "model = SVC(kernel='linear',probability=True)\n",
    "\n",
    "model,xtr,xvl, ytr,yvl,cv_score =train_model(model,X_train,y_train)"
   ]
  },
  {
   "cell_type": "code",
   "execution_count": 53,
   "metadata": {
    "scrolled": false
   },
   "outputs": [
    {
     "name": "stdout",
     "output_type": "stream",
     "text": [
      "Confusion matrix on validation set: \n",
      " [[267 527]\n",
      " [266 545]]\n",
      "Cv [0.4811382794748311, 0.4944706822076945, 0.49089174790033274, 0.4993609876772988, 0.5041409523336242] \n",
      "Mean cv Score 0.4940005299187563\n"
     ]
    }
   ],
   "source": [
    "print('Confusion matrix on validation set: \\n',confusion_matrix(yvl,model.predict(xvl)))\n",
    "print('Cv',cv_score,'\\nMean cv Score',np.mean(cv_score))\n"
   ]
  },
  {
   "cell_type": "code",
   "execution_count": 54,
   "metadata": {},
   "outputs": [
    {
     "name": "stdout",
     "output_type": "stream",
     "text": [
      "Results on validation set: \n",
      "Accuracy: 0.5059190031152648\n",
      "Precision: 0.5083955223880597\n",
      "Recall: 0.6720098643649816\n",
      "F1 Score: 0.5788635156664896\n"
     ]
    }
   ],
   "source": [
    "print(\"Results on validation set: \")\n",
    "print(\"Accuracy:\",metrics.accuracy_score(yvl, model.predict(xvl)))\n",
    "print(\"Precision:\",metrics.precision_score(yvl, model.predict(xvl)))\n",
    "print(\"Recall:\",metrics.recall_score(yvl, model.predict(xvl)))\n",
    "print(\"F1 Score:\",metrics.f1_score(yvl, model.predict(xvl)))"
   ]
  },
  {
   "cell_type": "code",
   "execution_count": 55,
   "metadata": {},
   "outputs": [
    {
     "name": "stdout",
     "output_type": "stream",
     "text": [
      "Results on test set:\n"
     ]
    },
    {
     "data": {
      "text/plain": [
       "array([[428, 951],\n",
       "       [462, 836]], dtype=int64)"
      ]
     },
     "execution_count": 55,
     "metadata": {},
     "output_type": "execute_result"
    }
   ],
   "source": [
    "print(\"Results on test set:\")\n",
    "y_pred=model.predict(X_test)\n",
    "cnf_matrix = metrics.confusion_matrix(y_test, y_pred)\n",
    "cnf_matrix"
   ]
  },
  {
   "cell_type": "code",
   "execution_count": 56,
   "metadata": {},
   "outputs": [
    {
     "data": {
      "text/plain": [
       "Text(0.5, 257.44, 'Predicted label')"
      ]
     },
     "execution_count": 56,
     "metadata": {},
     "output_type": "execute_result"
    },
    {
     "data": {
      "image/png": "[encoded data removed]",
      "text/plain": [
       "<Figure size 432x288 with 2 Axes>"
      ]
     },
     "metadata": {
      "needs_background": "light"
     },
     "output_type": "display_data"
    }
   ],
   "source": [
    "class_names=[0,1] # name  of classes\n",
    "fig, ax = plt.subplots()\n",
    "tick_marks = np.arange(len(class_names))\n",
    "plt.xticks(tick_marks, class_names)\n",
    "plt.yticks(tick_marks, class_names)\n",
    "# create heatmap\n",
    "sns.heatmap(pd.DataFrame(cnf_matrix), annot=True, cmap=\"YlGnBu\" ,fmt='g')\n",
    "ax.xaxis.set_label_position(\"top\")\n",
    "plt.tight_layout()\n",
    "plt.title('Confusion matrix ', y=1.1)\n",
    "plt.ylabel('Actual label')\n",
    "plt.xlabel('Predicted label')"
   ]
  },
  {
   "cell_type": "code",
   "execution_count": 57,
   "metadata": {},
   "outputs": [
    {
     "name": "stdout",
     "output_type": "stream",
     "text": [
      "results on test set\n",
      "Accuracy: 0.47217033993276053\n",
      "Precision: 0.46782316731952994\n",
      "Recall: 0.6440677966101694\n",
      "F1 Score: 0.5419773095623986\n"
     ]
    }
   ],
   "source": [
    "print('results on test set')\n",
    "print(\"Accuracy:\",metrics.accuracy_score(y_test, y_pred))\n",
    "print(\"Precision:\",metrics.precision_score(y_test, y_pred))\n",
    "print(\"Recall:\",metrics.recall_score(y_test, y_pred))\n",
    "print(\"F1 Score:\",metrics.f1_score(y_test, y_pred))"
   ]
  },
  {
   "cell_type": "code",
   "execution_count": 25,
   "metadata": {},
   "outputs": [],
   "source": [
    "#lr.coef_\n"
   ]
  },
  {
   "cell_type": "code",
   "execution_count": 58,
   "metadata": {},
   "outputs": [
    {
     "name": "stdout",
     "output_type": "stream",
     "text": [
      "validation set score:\n",
      "0.5059190031152648\n",
      "test set score:\n",
      "0.47217033993276053\n"
     ]
    }
   ],
   "source": [
    "print(\"validation set score:\")\n",
    "print(model.score(xvl,yvl))\n",
    "\n",
    "print(\"test set score:\")\n",
    "print(model.score(X_test,y_test))\n"
   ]
  },
  {
   "cell_type": "markdown",
   "metadata": {},
   "source": [
    "### Reciever Operating Characteristics\n"
   ]
  },
  {
   "cell_type": "code",
   "execution_count": 28,
   "metadata": {},
   "outputs": [
    {
     "data": {
      "text/plain": [
       "Text(0.5, 0, 'False positive rate')"
      ]
     },
     "execution_count": 28,
     "metadata": {},
     "output_type": "execute_result"
    },
    {
     "data": {
      "image/png": "[encoded data removed]",
      "text/plain": [
       "<Figure size 1008x576 with 1 Axes>"
      ]
     },
     "metadata": {
      "needs_background": "light"
     },
     "output_type": "display_data"
    }
   ],
   "source": [
    "#proba = model.predict_proba(xvl)[:,1]\n",
    "#frp,trp, threshold = roc_curve(yvl,proba)\n",
    "proba = model.predict_proba(X_test)[:,1]\n",
    "frp,trp, threshold = roc_curve(y_test,proba)\n",
    "roc_auc_ = auc(frp,trp)\n",
    "\n",
    "plt.figure(figsize=(14,8))\n",
    "plt.title('Reciever Operating Characteristics')\n",
    "plt.plot(frp,trp,'r',label = 'AUC = %0.2f' % roc_auc_)\n",
    "plt.legend(loc='lower right')\n",
    "plt.plot([0,1],[0,1],'b--')\n",
    "plt.ylabel('True positive rate')\n",
    "plt.xlabel('False positive rate')"
   ]
  },
  {
   "cell_type": "code",
   "execution_count": null,
   "metadata": {},
   "outputs": [],
   "source": []
  },
  {
   "cell_type": "code",
   "execution_count": null,
   "metadata": {},
   "outputs": [],
   "source": []
  }
 ],
 "metadata": {
  "kernelspec": {
   "display_name": "Python 3",
   "language": "python",
   "name": "python3"
  },
  "language_info": {
   "codemirror_mode": {
    "name": "ipython",
    "version": 3
   },
   "file_extension": ".py",
   "mimetype": "text/x-python",
   "name": "python",
   "nbconvert_exporter": "python",
   "pygments_lexer": "ipython3",
   "version": "3.7.1"
  }
 },
 "nbformat": 4,
 "nbformat_minor": 2
}
