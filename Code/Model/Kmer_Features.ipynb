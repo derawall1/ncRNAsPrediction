{
 "cells": [
  {
   "cell_type": "code",
   "execution_count": 1,
   "metadata": {},
   "outputs": [],
   "source": [
    "import itertools\n",
    "import numpy as np\n",
    "from Bio import Align\n",
    "from Bio import SeqIO\n",
    "from Bio import pairwise2\n",
    "from Bio.SubsMat.MatrixInfo import blosum62\n",
    "import csv\n",
    "import pandas as pd\n",
    "from Bio.pairwise2 import format_alignment\n",
    "import math\n",
    "import features_extraction_utility.kmer as kmer\n",
    "#from features_extraction_utility.kmer import make_kmer_list_from_seq\n",
    "# from features_extraction_utility.util import frequency\n",
    "# from features_extraction_utility.util import get_data\n",
    "# from features_extraction_utility.data import index_list"
   ]
  },
  {
   "cell_type": "code",
   "execution_count": 2,
   "metadata": {},
   "outputs": [
    {
     "name": "stdout",
     "output_type": "stream",
     "text": [
      "1923\n",
      "1923\n"
     ]
    }
   ],
   "source": [
    "query_seq = list(SeqIO.parse(\"../Data/NpInter2 Interacting LncRNAs/NP_V2_lncRNA_seq_clean2.fasta\", \"fasta\"))\n",
    "target_seq = list(SeqIO.parse(\"../Data/NpInter2 Interacting LncRNAs/NP_V2_lncRNA_seq_clean2.fasta\", \"fasta\"))\n",
    "\n",
    "\n",
    "print(len(target_seq))\n",
    "print(len(target_seq))"
   ]
  },
  {
   "cell_type": "code",
   "execution_count": 4,
   "metadata": {},
   "outputs": [
    {
     "name": "stdout",
     "output_type": "stream",
     "text": [
      "Calculating...\n",
      "Done.\n",
      "Used time: 61.01262092590332s\n"
     ]
    }
   ],
   "source": [
    "wd = '../Data/NpInter2 Interacting LncRNAs/'\n",
    "#!python features_extraction_utility/kmer.py  ../Data/NpInter2 Interacting LncRNAs/lncRNAFeature_kmer.csv RNA -k 3 -f csv\n",
    "!python features_extraction_utility/kmer2.py features_extraction_utility/NpInterV2_Interacting_Protiens_26_1923.fasta features_extraction_utility/proteinFeature_kmer.csv Protein -k 3 -f csv"
   ]
  },
  {
   "cell_type": "code",
   "execution_count": 6,
   "metadata": {},
   "outputs": [
    {
     "data": {
      "text/plain": [
       "(24, 8000)"
      ]
     },
     "execution_count": 6,
     "metadata": {},
     "output_type": "execute_result"
    }
   ],
   "source": [
    "df_lnc_p = pd.read_csv(\"features_extraction_utility/proteinFeature_kmer.csv\")\n",
    "df_lnc_p.shape"
   ]
  },
  {
   "cell_type": "code",
   "execution_count": 7,
   "metadata": {},
   "outputs": [
    {
     "data": {
      "text/plain": [
       "(1922, 64)"
      ]
     },
     "execution_count": 7,
     "metadata": {},
     "output_type": "execute_result"
    }
   ],
   "source": [
    "df_lnc_f = pd.read_csv(\"features_extraction_utility/lncRNAFeature_kmer.csv\")\n",
    "df_lnc_f.shape"
   ]
  },
  {
   "cell_type": "code",
   "execution_count": null,
   "metadata": {},
   "outputs": [],
   "source": [
    "import py_compile\n",
    "py_compile.compile('features_extraction_utility/kmer.py')"
   ]
  },
  {
   "cell_type": "code",
   "execution_count": 8,
   "metadata": {},
   "outputs": [
    {
     "data": {
      "text/plain": [
       "8000"
      ]
     },
     "execution_count": 8,
     "metadata": {},
     "output_type": "execute_result"
    }
   ],
   "source": [
    "len(res[0])"
   ]
  },
  {
   "cell_type": "code",
   "execution_count": null,
   "metadata": {},
   "outputs": [],
   "source": []
  }
 ],
 "metadata": {
  "kernelspec": {
   "display_name": "Python 3",
   "language": "python",
   "name": "python3"
  },
  "language_info": {
   "codemirror_mode": {
    "name": "ipython",
    "version": 3
   },
   "file_extension": ".py",
   "mimetype": "text/x-python",
   "name": "python",
   "nbconvert_exporter": "python",
   "pygments_lexer": "ipython3",
   "version": "3.7.1"
  }
 },
 "nbformat": 4,
 "nbformat_minor": 2
}
