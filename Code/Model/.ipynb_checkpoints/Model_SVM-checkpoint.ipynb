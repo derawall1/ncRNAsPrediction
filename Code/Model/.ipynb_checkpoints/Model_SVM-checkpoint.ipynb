{
 "cells": [
  {
   "cell_type": "code",
   "execution_count": 1,
   "metadata": {},
   "outputs": [],
   "source": [
    "%config IPCompleter.greedy=True\n"
   ]
  },
  {
   "cell_type": "markdown",
   "metadata": {},
   "source": [
    "### Loading packages and libraries "
   ]
  },
  {
   "cell_type": "code",
   "execution_count": 34,
   "metadata": {},
   "outputs": [],
   "source": [
    "import itertools\n",
    "import numpy as np\n",
    "from Bio import Align\n",
    "from Bio import SeqIO\n",
    "from Bio import pairwise2\n",
    "from Bio.SubsMat.MatrixInfo import blosum62\n",
    "import csv\n",
    "import pandas as pd\n",
    "from Bio.SeqRecord import SeqRecord\n",
    "\n",
    "import random\n",
    "from random import randint\n",
    "from sklearn.model_selection  import train_test_split, StratifiedKFold\n",
    "from sklearn.svm import SVC\n",
    "\n",
    "# import the metrics class\n",
    "from sklearn.metrics import confusion_matrix, roc_auc_score ,roc_curve,auc, classification_report\n",
    "\n",
    "from sklearn import metrics\n",
    "# import required modules for plotig\n",
    "import numpy as np\n",
    "import matplotlib.pyplot as plt\n",
    "import seaborn as sns\n",
    "%matplotlib inline\n",
    "seed =45"
   ]
  },
  {
   "cell_type": "markdown",
   "metadata": {},
   "source": [
    "# Reading Interacting lncRNAs"
   ]
  },
  {
   "cell_type": "code",
   "execution_count": 3,
   "metadata": {},
   "outputs": [
    {
     "data": {
      "text/plain": [
       "(1925, 11)"
      ]
     },
     "execution_count": 3,
     "metadata": {},
     "output_type": "execute_result"
    }
   ],
   "source": [
    "df_nc_seq= pd.read_csv('../Data/NpInter2 Interacting LncRNAs/NP_V2_LncRNAsSequences_clean2.csv')\n",
    "df_nc_seq.shape"
   ]
  },
  {
   "cell_type": "code",
   "execution_count": 4,
   "metadata": {},
   "outputs": [
    {
     "data": {
      "text/html": [
       "<div>\n",
       "<style scoped>\n",
       "    .dataframe tbody tr th:only-of-type {\n",
       "        vertical-align: middle;\n",
       "    }\n",
       "\n",
       "    .dataframe tbody tr th {\n",
       "        vertical-align: top;\n",
       "    }\n",
       "\n",
       "    .dataframe thead th {\n",
       "        text-align: right;\n",
       "    }\n",
       "</style>\n",
       "<table border=\"1\" class=\"dataframe\">\n",
       "  <thead>\n",
       "    <tr style=\"text-align: right;\">\n",
       "      <th></th>\n",
       "      <th>nncid</th>\n",
       "      <th>accn</th>\n",
       "      <th>class</th>\n",
       "      <th>organism</th>\n",
       "      <th>name</th>\n",
       "      <th>ref</th>\n",
       "      <th>transcriptID</th>\n",
       "      <th>url</th>\n",
       "      <th>cpcScore</th>\n",
       "      <th>cnci</th>\n",
       "      <th>sequence</th>\n",
       "    </tr>\n",
       "  </thead>\n",
       "  <tbody>\n",
       "    <tr>\n",
       "      <th>0</th>\n",
       "      <td>n344453</td>\n",
       "      <td>NULL</td>\n",
       "      <td>lincRNA</td>\n",
       "      <td>Homo sapiens</td>\n",
       "      <td>Human lincRNA</td>\n",
       "      <td>Scripture Reconstruction LincRNAs By Luo</td>\n",
       "      <td>linc_luo_1</td>\n",
       "      <td>NULL</td>\n",
       "      <td>-1.48162</td>\n",
       "      <td>-0.211334</td>\n",
       "      <td>TCTCGCTCTGTCACCCAGGCTGGAGTGCAGTGGCGTGATCTCGGCT...</td>\n",
       "    </tr>\n",
       "    <tr>\n",
       "      <th>1</th>\n",
       "      <td>n344454</td>\n",
       "      <td>NULL</td>\n",
       "      <td>lincRNA</td>\n",
       "      <td>Homo sapiens</td>\n",
       "      <td>Human lincRNA</td>\n",
       "      <td>Scripture Reconstruction LincRNAs By Luo</td>\n",
       "      <td>linc_luo_2</td>\n",
       "      <td>NULL</td>\n",
       "      <td>-1.29125</td>\n",
       "      <td>-0.390813</td>\n",
       "      <td>ATTGTTAACGGCTGCGGTTCGAAGTGGCTGTGGGTATTGCTGCGGC...</td>\n",
       "    </tr>\n",
       "    <tr>\n",
       "      <th>2</th>\n",
       "      <td>n344455</td>\n",
       "      <td>NULL</td>\n",
       "      <td>lincRNA</td>\n",
       "      <td>Homo sapiens</td>\n",
       "      <td>Human lincRNA</td>\n",
       "      <td>Scripture Reconstruction LincRNAs By Luo</td>\n",
       "      <td>linc_luo_3</td>\n",
       "      <td>NULL</td>\n",
       "      <td>-1.27104</td>\n",
       "      <td>-0.166314</td>\n",
       "      <td>AAATGAGGATGAAGCCAAGTGTTTGGAGTTCTTGCGAAGAAAGATA...</td>\n",
       "    </tr>\n",
       "    <tr>\n",
       "      <th>3</th>\n",
       "      <td>n344457</td>\n",
       "      <td>NULL</td>\n",
       "      <td>lincRNA</td>\n",
       "      <td>Homo sapiens</td>\n",
       "      <td>Human lincRNA</td>\n",
       "      <td>Scripture Reconstruction LincRNAs By Luo</td>\n",
       "      <td>linc_luo_5</td>\n",
       "      <td>NULL</td>\n",
       "      <td>-1.36124</td>\n",
       "      <td>-0.309593</td>\n",
       "      <td>GGCCGGAGAGGCAGCAGCACCCCGAGCTGTCAGGCGTTCCGCCGCG...</td>\n",
       "    </tr>\n",
       "    <tr>\n",
       "      <th>4</th>\n",
       "      <td>n344460</td>\n",
       "      <td>NULL</td>\n",
       "      <td>lincRNA</td>\n",
       "      <td>Homo sapiens</td>\n",
       "      <td>Human lincRNA</td>\n",
       "      <td>Scripture Reconstruction LincRNAs By Luo</td>\n",
       "      <td>linc_luo_8</td>\n",
       "      <td>NULL</td>\n",
       "      <td>-1.30821</td>\n",
       "      <td>-0.336347</td>\n",
       "      <td>AAGGTGGACTAGACAAAGTTGTATCTAGACCCTTATCATATATGTG...</td>\n",
       "    </tr>\n",
       "  </tbody>\n",
       "</table>\n",
       "</div>"
      ],
      "text/plain": [
       "     nncid    accn      class        organism             name  \\\n",
       "0  n344453   NULL    lincRNA    Homo sapiens    Human lincRNA    \n",
       "1  n344454   NULL    lincRNA    Homo sapiens    Human lincRNA    \n",
       "2  n344455   NULL    lincRNA    Homo sapiens    Human lincRNA    \n",
       "3  n344457   NULL    lincRNA    Homo sapiens    Human lincRNA    \n",
       "4  n344460   NULL    lincRNA    Homo sapiens    Human lincRNA    \n",
       "\n",
       "                                          ref  transcriptID     url  cpcScore  \\\n",
       "0   Scripture Reconstruction LincRNAs By Luo    linc_luo_1    NULL   -1.48162   \n",
       "1   Scripture Reconstruction LincRNAs By Luo    linc_luo_2    NULL   -1.29125   \n",
       "2   Scripture Reconstruction LincRNAs By Luo    linc_luo_3    NULL   -1.27104   \n",
       "3   Scripture Reconstruction LincRNAs By Luo    linc_luo_5    NULL   -1.36124   \n",
       "4   Scripture Reconstruction LincRNAs By Luo    linc_luo_8    NULL   -1.30821   \n",
       "\n",
       "       cnci                                           sequence  \n",
       "0 -0.211334  TCTCGCTCTGTCACCCAGGCTGGAGTGCAGTGGCGTGATCTCGGCT...  \n",
       "1 -0.390813  ATTGTTAACGGCTGCGGTTCGAAGTGGCTGTGGGTATTGCTGCGGC...  \n",
       "2 -0.166314  AAATGAGGATGAAGCCAAGTGTTTGGAGTTCTTGCGAAGAAAGATA...  \n",
       "3 -0.309593  GGCCGGAGAGGCAGCAGCACCCCGAGCTGTCAGGCGTTCCGCCGCG...  \n",
       "4 -0.336347  AAGGTGGACTAGACAAAGTTGTATCTAGACCCTTATCATATATGTG...  "
      ]
     },
     "execution_count": 4,
     "metadata": {},
     "output_type": "execute_result"
    }
   ],
   "source": [
    "df_nc_seq.head(5)"
   ]
  },
  {
   "cell_type": "markdown",
   "metadata": {},
   "source": [
    "# Reading interacting proteins"
   ]
  },
  {
   "cell_type": "code",
   "execution_count": 5,
   "metadata": {},
   "outputs": [
    {
     "data": {
      "text/plain": [
       "(25, 4)"
      ]
     },
     "execution_count": 5,
     "metadata": {},
     "output_type": "execute_result"
    }
   ],
   "source": [
    "df_p_seq = pd.read_csv('..\\Data\\\\NpInter2 Interacting Protiens\\\\Np_pSeq_26_1923.csv')\n",
    "df_p_seq.shape"
   ]
  },
  {
   "cell_type": "code",
   "execution_count": 6,
   "metadata": {},
   "outputs": [
    {
     "data": {
      "text/html": [
       "<div>\n",
       "<style scoped>\n",
       "    .dataframe tbody tr th:only-of-type {\n",
       "        vertical-align: middle;\n",
       "    }\n",
       "\n",
       "    .dataframe tbody tr th {\n",
       "        vertical-align: top;\n",
       "    }\n",
       "\n",
       "    .dataframe thead th {\n",
       "        text-align: right;\n",
       "    }\n",
       "</style>\n",
       "<table border=\"1\" class=\"dataframe\">\n",
       "  <thead>\n",
       "    <tr style=\"text-align: right;\">\n",
       "      <th></th>\n",
       "      <th>Entry</th>\n",
       "      <th>Sequence</th>\n",
       "      <th>Cross-reference (PDB)</th>\n",
       "      <th>Entry name</th>\n",
       "    </tr>\n",
       "  </thead>\n",
       "  <tbody>\n",
       "    <tr>\n",
       "      <th>0</th>\n",
       "      <td>Q07955</td>\n",
       "      <td>MSGGGVIRGPAGNNDCRIYVGNLPPDIRTKDIEDVFYKYGAIRDID...</td>\n",
       "      <td>1X4A;2M7S;2M8D;2O3D;3BEG;4C0O;</td>\n",
       "      <td>SRSF1_HUMAN</td>\n",
       "    </tr>\n",
       "    <tr>\n",
       "      <th>1</th>\n",
       "      <td>Q01844</td>\n",
       "      <td>MASTDYSTYSQAAAQQGYSAYTAQPTQGYAQTTQAYGQQSYGTYGQ...</td>\n",
       "      <td>2CPE;</td>\n",
       "      <td>EWS_HUMAN</td>\n",
       "    </tr>\n",
       "    <tr>\n",
       "      <th>2</th>\n",
       "      <td>Q9UL18</td>\n",
       "      <td>MEAGPSGAAAGAYLPPLQQVFQAPRRPGIGTVGKPIKLLANYFEVD...</td>\n",
       "      <td>1SI2;1SI3;4KRE;4KRF;4KXT;5W6V;</td>\n",
       "      <td>AGO1_HUMAN</td>\n",
       "    </tr>\n",
       "    <tr>\n",
       "      <th>3</th>\n",
       "      <td>Q9UKV8</td>\n",
       "      <td>MYSGAGPALAPPAPPPPIQGYAFKPPPRPDFGTSGRTIKLQANFFE...</td>\n",
       "      <td>3LUC;3LUD;3LUG;3LUH;3LUJ;3LUK;3QX8;3QX9;4F3T;4...</td>\n",
       "      <td>AGO2_HUMAN</td>\n",
       "    </tr>\n",
       "    <tr>\n",
       "      <th>4</th>\n",
       "      <td>Q9H9G7</td>\n",
       "      <td>MEIGSAGPAGAQPLLMVPRRPGYGTMGKPIKLLANCFQVEIPKIDV...</td>\n",
       "      <td>5VM9;</td>\n",
       "      <td>AGO3_HUMAN</td>\n",
       "    </tr>\n",
       "  </tbody>\n",
       "</table>\n",
       "</div>"
      ],
      "text/plain": [
       "    Entry                                           Sequence  \\\n",
       "0  Q07955  MSGGGVIRGPAGNNDCRIYVGNLPPDIRTKDIEDVFYKYGAIRDID...   \n",
       "1  Q01844  MASTDYSTYSQAAAQQGYSAYTAQPTQGYAQTTQAYGQQSYGTYGQ...   \n",
       "2  Q9UL18  MEAGPSGAAAGAYLPPLQQVFQAPRRPGIGTVGKPIKLLANYFEVD...   \n",
       "3  Q9UKV8  MYSGAGPALAPPAPPPPIQGYAFKPPPRPDFGTSGRTIKLQANFFE...   \n",
       "4  Q9H9G7  MEIGSAGPAGAQPLLMVPRRPGYGTMGKPIKLLANCFQVEIPKIDV...   \n",
       "\n",
       "                               Cross-reference (PDB)   Entry name  \n",
       "0                     1X4A;2M7S;2M8D;2O3D;3BEG;4C0O;  SRSF1_HUMAN  \n",
       "1                                              2CPE;    EWS_HUMAN  \n",
       "2                     1SI2;1SI3;4KRE;4KRF;4KXT;5W6V;   AGO1_HUMAN  \n",
       "3  3LUC;3LUD;3LUG;3LUH;3LUJ;3LUK;3QX8;3QX9;4F3T;4...   AGO2_HUMAN  \n",
       "4                                              5VM9;   AGO3_HUMAN  "
      ]
     },
     "execution_count": 6,
     "metadata": {},
     "output_type": "execute_result"
    }
   ],
   "source": [
    "df_p_seq.head(5)"
   ]
  },
  {
   "cell_type": "markdown",
   "metadata": {},
   "source": [
    "# Reading np inter v 2 interactions"
   ]
  },
  {
   "cell_type": "code",
   "execution_count": 7,
   "metadata": {},
   "outputs": [
    {
     "data": {
      "text/plain": [
       "(5353, 16)"
      ]
     },
     "execution_count": 7,
     "metadata": {},
     "output_type": "execute_result"
    }
   ],
   "source": [
    "df_NPInter2 = pd.read_csv('../data/NPInter_v2.0 homo_sapiens_type_lncrna.csv')\n",
    "df_NPInter2.shape"
   ]
  },
  {
   "cell_type": "code",
   "execution_count": 8,
   "metadata": {},
   "outputs": [
    {
     "data": {
      "text/html": [
       "<div>\n",
       "<style scoped>\n",
       "    .dataframe tbody tr th:only-of-type {\n",
       "        vertical-align: middle;\n",
       "    }\n",
       "\n",
       "    .dataframe tbody tr th {\n",
       "        vertical-align: top;\n",
       "    }\n",
       "\n",
       "    .dataframe thead th {\n",
       "        text-align: right;\n",
       "    }\n",
       "</style>\n",
       "<table border=\"1\" class=\"dataframe\">\n",
       "  <thead>\n",
       "    <tr style=\"text-align: right;\">\n",
       "      <th></th>\n",
       "      <th>interID</th>\n",
       "      <th>ncID</th>\n",
       "      <th>ncType</th>\n",
       "      <th>ncIdentifier</th>\n",
       "      <th>ncName</th>\n",
       "      <th>PartnerID</th>\n",
       "      <th>prType</th>\n",
       "      <th>prIdentifier</th>\n",
       "      <th>InteractionPartner</th>\n",
       "      <th>interDescription</th>\n",
       "      <th>experiment</th>\n",
       "      <th>pubmed</th>\n",
       "      <th>organism</th>\n",
       "      <th>tag</th>\n",
       "      <th>interClass</th>\n",
       "      <th>interLevel</th>\n",
       "    </tr>\n",
       "  </thead>\n",
       "  <tbody>\n",
       "    <tr>\n",
       "      <th>0</th>\n",
       "      <td>ncRI-199556</td>\n",
       "      <td>16426</td>\n",
       "      <td>NONCODE</td>\n",
       "      <td>n386623</td>\n",
       "      <td>RPI001_920445</td>\n",
       "      <td>18387</td>\n",
       "      <td>UniProt</td>\n",
       "      <td>Q07955</td>\n",
       "      <td>SRSF1</td>\n",
       "      <td>Cross-linking immunoprecipitation and high-thr...</td>\n",
       "      <td>CLIP-seq</td>\n",
       "      <td>19116412</td>\n",
       "      <td>Homo sapiens</td>\n",
       "      <td>ncRNA-protein binding</td>\n",
       "      <td>binding</td>\n",
       "      <td>RNA-Protein</td>\n",
       "    </tr>\n",
       "    <tr>\n",
       "      <th>1</th>\n",
       "      <td>ncRI-192633</td>\n",
       "      <td>12013</td>\n",
       "      <td>NONCODE</td>\n",
       "      <td>n407114</td>\n",
       "      <td>RPI001_182337</td>\n",
       "      <td>3988</td>\n",
       "      <td>UniProt</td>\n",
       "      <td>Q01844</td>\n",
       "      <td>EWSR1</td>\n",
       "      <td>PAR-CLIP defined global RNA targets for all hu...</td>\n",
       "      <td>PAR-CLIP</td>\n",
       "      <td>22081015</td>\n",
       "      <td>Homo sapiens</td>\n",
       "      <td>ncRNA-protein binding</td>\n",
       "      <td>binding</td>\n",
       "      <td>RNA-Protein</td>\n",
       "    </tr>\n",
       "    <tr>\n",
       "      <th>2</th>\n",
       "      <td>ncRI-191389</td>\n",
       "      <td>11713</td>\n",
       "      <td>NONCODE</td>\n",
       "      <td>n408119</td>\n",
       "      <td>RPI001_114723</td>\n",
       "      <td>515</td>\n",
       "      <td>UniProt</td>\n",
       "      <td>Q9UL18</td>\n",
       "      <td>AGO1-4</td>\n",
       "      <td>PAR-CLIP of combined AGO1-4 indicates the nonc...</td>\n",
       "      <td>PAR-CLIP</td>\n",
       "      <td>20371350</td>\n",
       "      <td>Homo sapiens</td>\n",
       "      <td>ncRNA-protein binding</td>\n",
       "      <td>binding</td>\n",
       "      <td>RNA-Protein</td>\n",
       "    </tr>\n",
       "    <tr>\n",
       "      <th>3</th>\n",
       "      <td>ncRI-191389</td>\n",
       "      <td>11713</td>\n",
       "      <td>NONCODE</td>\n",
       "      <td>n408119</td>\n",
       "      <td>RPI001_114723</td>\n",
       "      <td>515</td>\n",
       "      <td>UniProt</td>\n",
       "      <td>Q9UKV8</td>\n",
       "      <td>AGO1-4</td>\n",
       "      <td>PAR-CLIP of combined AGO1-4 indicates the nonc...</td>\n",
       "      <td>PAR-CLIP</td>\n",
       "      <td>20371350</td>\n",
       "      <td>Homo sapiens</td>\n",
       "      <td>ncRNA-protein binding</td>\n",
       "      <td>binding</td>\n",
       "      <td>RNA-Protein</td>\n",
       "    </tr>\n",
       "    <tr>\n",
       "      <th>4</th>\n",
       "      <td>ncRI-191389</td>\n",
       "      <td>11713</td>\n",
       "      <td>NONCODE</td>\n",
       "      <td>n408119</td>\n",
       "      <td>RPI001_114723</td>\n",
       "      <td>515</td>\n",
       "      <td>UniProt</td>\n",
       "      <td>Q9H9G7</td>\n",
       "      <td>AGO1-4</td>\n",
       "      <td>PAR-CLIP of combined AGO1-4 indicates the nonc...</td>\n",
       "      <td>PAR-CLIP</td>\n",
       "      <td>20371350</td>\n",
       "      <td>Homo sapiens</td>\n",
       "      <td>ncRNA-protein binding</td>\n",
       "      <td>binding</td>\n",
       "      <td>RNA-Protein</td>\n",
       "    </tr>\n",
       "  </tbody>\n",
       "</table>\n",
       "</div>"
      ],
      "text/plain": [
       "       interID   ncID   ncType ncIdentifier         ncName  PartnerID  \\\n",
       "0  ncRI-199556  16426  NONCODE      n386623  RPI001_920445      18387   \n",
       "1  ncRI-192633  12013  NONCODE      n407114  RPI001_182337       3988   \n",
       "2  ncRI-191389  11713  NONCODE      n408119  RPI001_114723        515   \n",
       "3  ncRI-191389  11713  NONCODE      n408119  RPI001_114723        515   \n",
       "4  ncRI-191389  11713  NONCODE      n408119  RPI001_114723        515   \n",
       "\n",
       "    prType prIdentifier InteractionPartner  \\\n",
       "0  UniProt       Q07955              SRSF1   \n",
       "1  UniProt       Q01844              EWSR1   \n",
       "2  UniProt       Q9UL18             AGO1-4   \n",
       "3  UniProt       Q9UKV8             AGO1-4   \n",
       "4  UniProt       Q9H9G7             AGO1-4   \n",
       "\n",
       "                                    interDescription experiment    pubmed  \\\n",
       "0  Cross-linking immunoprecipitation and high-thr...   CLIP-seq  19116412   \n",
       "1  PAR-CLIP defined global RNA targets for all hu...   PAR-CLIP  22081015   \n",
       "2  PAR-CLIP of combined AGO1-4 indicates the nonc...   PAR-CLIP  20371350   \n",
       "3  PAR-CLIP of combined AGO1-4 indicates the nonc...   PAR-CLIP  20371350   \n",
       "4  PAR-CLIP of combined AGO1-4 indicates the nonc...   PAR-CLIP  20371350   \n",
       "\n",
       "       organism                    tag interClass   interLevel  \n",
       "0  Homo sapiens  ncRNA-protein binding    binding  RNA-Protein  \n",
       "1  Homo sapiens  ncRNA-protein binding    binding  RNA-Protein  \n",
       "2  Homo sapiens  ncRNA-protein binding    binding  RNA-Protein  \n",
       "3  Homo sapiens  ncRNA-protein binding    binding  RNA-Protein  \n",
       "4  Homo sapiens  ncRNA-protein binding    binding  RNA-Protein  "
      ]
     },
     "execution_count": 8,
     "metadata": {},
     "output_type": "execute_result"
    }
   ],
   "source": [
    "df_NPInter2.head(5)"
   ]
  },
  {
   "cell_type": "markdown",
   "metadata": {},
   "source": [
    "### Reading Protein similarity scores "
   ]
  },
  {
   "cell_type": "code",
   "execution_count": 9,
   "metadata": {},
   "outputs": [
    {
     "data": {
      "text/plain": [
       "Query_Seq_ID        25\n",
       "Target_Seq_ID       25\n",
       "Align_Score        190\n",
       "Normalize_Score     30\n",
       "Identity           283\n",
       "Similarity         289\n",
       "dtype: int64"
      ]
     },
     "execution_count": 9,
     "metadata": {},
     "output_type": "execute_result"
    }
   ],
   "source": [
    "# read protein similarites\n",
    "df_pr_sim = pd.read_csv('../Data/NpInter2 Interacting Protiens/Protein-Protein Sequence Similarity/Protien-Protien_Similarity_26_1923.csv')\n",
    "df_pr_sim.nunique()"
   ]
  },
  {
   "cell_type": "markdown",
   "metadata": {},
   "source": [
    "### Reading LncRNA similarity scores"
   ]
  },
  {
   "cell_type": "code",
   "execution_count": 10,
   "metadata": {},
   "outputs": [
    {
     "data": {
      "text/plain": [
       "(449338, 6)"
      ]
     },
     "execution_count": 10,
     "metadata": {},
     "output_type": "execute_result"
    }
   ],
   "source": [
    "df_lnc_sim = pd.read_csv(\"../Data/NpInter2 Interacting LncRNAs/LncRNA-LncRNA Sequence Similarity/LncRNA-LncRNA_Similarity.csv\")\n",
    "df_lnc_sim.shape"
   ]
  },
  {
   "cell_type": "code",
   "execution_count": 11,
   "metadata": {},
   "outputs": [
    {
     "data": {
      "text/plain": [
       "Query_Seq_ID         344\n",
       "Target_Seq_ID       1309\n",
       "Align_Score        13095\n",
       "Normalize_Score       73\n",
       "Identity            2907\n",
       "Similarity          2907\n",
       "dtype: int64"
      ]
     },
     "execution_count": 11,
     "metadata": {},
     "output_type": "execute_result"
    }
   ],
   "source": [
    "df_lnc_sim.nunique()"
   ]
  },
  {
   "cell_type": "markdown",
   "metadata": {},
   "source": [
    "### adding the nncid with respect to NONCODEID"
   ]
  },
  {
   "cell_type": "code",
   "execution_count": 12,
   "metadata": {},
   "outputs": [
    {
     "data": {
      "text/plain": [
       "(1309, 12)"
      ]
     },
     "execution_count": 12,
     "metadata": {},
     "output_type": "execute_result"
    }
   ],
   "source": [
    "df_nc22= pd.read_csv(\"../Data/NpInter2 Interacting LncRNAs/NP_V2_LncRNAsSequences_clean.csv\")\n",
    "df_nc22.shape"
   ]
  },
  {
   "cell_type": "code",
   "execution_count": 13,
   "metadata": {},
   "outputs": [],
   "source": [
    "noncode_dict=dict(zip(df_nc22.NONCODEID,df_nc22.nncid))\n"
   ]
  },
  {
   "cell_type": "code",
   "execution_count": 14,
   "metadata": {},
   "outputs": [],
   "source": [
    "def label_nonecodeid_to_nncid (row, noncode_dict):\n",
    "    if row['Query_Seq_ID'] in  noncode_dict:\n",
    "        #print( noncode_dict[row['Query_Seq_ID']])\n",
    "        return noncode_dict[row['Query_Seq_ID']]\n",
    "    "
   ]
  },
  {
   "cell_type": "code",
   "execution_count": 15,
   "metadata": {},
   "outputs": [
    {
     "data": {
      "text/plain": [
       "Query_Seq_ID         344\n",
       "Target_Seq_ID       1309\n",
       "Align_Score        13095\n",
       "Normalize_Score       73\n",
       "Identity            2907\n",
       "Similarity          2907\n",
       "nncid                344\n",
       "dtype: int64"
      ]
     },
     "execution_count": 15,
     "metadata": {},
     "output_type": "execute_result"
    }
   ],
   "source": [
    "\n",
    "df_lnc_sim['nncid'] = df_lnc_sim.apply (lambda row: label_nonecodeid_to_nncid(row,noncode_dict), axis=1)\n",
    "df_lnc_sim.nunique()"
   ]
  },
  {
   "cell_type": "code",
   "execution_count": 16,
   "metadata": {},
   "outputs": [],
   "source": [
    "def label_nonecodeid_to_nncid2 (row, noncode_dict):\n",
    "    if row['Target_Seq_ID'] in  noncode_dict:\n",
    "        #print( noncode_dict[row['Query_Seq_ID']])\n",
    "        return noncode_dict[row['Target_Seq_ID']]"
   ]
  },
  {
   "cell_type": "code",
   "execution_count": 17,
   "metadata": {},
   "outputs": [
    {
     "data": {
      "text/plain": [
       "Query_Seq_ID         344\n",
       "Target_Seq_ID       1309\n",
       "Align_Score        13095\n",
       "Normalize_Score       73\n",
       "Identity            2907\n",
       "Similarity          2907\n",
       "nncid                344\n",
       "nncid_target        1309\n",
       "dtype: int64"
      ]
     },
     "execution_count": 17,
     "metadata": {},
     "output_type": "execute_result"
    }
   ],
   "source": [
    "df_lnc_sim['nncid_target'] = df_lnc_sim.apply (lambda row: label_nonecodeid_to_nncid2(row,noncode_dict), axis=1)\n",
    "df_lnc_sim.nunique()"
   ]
  },
  {
   "cell_type": "code",
   "execution_count": 18,
   "metadata": {},
   "outputs": [],
   "source": [
    "df_lnc_sim = df_lnc_sim[df_lnc_sim.nncid != 'n363337']"
   ]
  },
  {
   "cell_type": "code",
   "execution_count": 19,
   "metadata": {},
   "outputs": [
    {
     "data": {
      "text/html": [
       "<div>\n",
       "<style scoped>\n",
       "    .dataframe tbody tr th:only-of-type {\n",
       "        vertical-align: middle;\n",
       "    }\n",
       "\n",
       "    .dataframe tbody tr th {\n",
       "        vertical-align: top;\n",
       "    }\n",
       "\n",
       "    .dataframe thead th {\n",
       "        text-align: right;\n",
       "    }\n",
       "</style>\n",
       "<table border=\"1\" class=\"dataframe\">\n",
       "  <thead>\n",
       "    <tr style=\"text-align: right;\">\n",
       "      <th></th>\n",
       "      <th>Query_Seq_ID</th>\n",
       "      <th>Target_Seq_ID</th>\n",
       "      <th>Align_Score</th>\n",
       "      <th>Normalize_Score</th>\n",
       "      <th>Identity</th>\n",
       "      <th>Similarity</th>\n",
       "      <th>nncid</th>\n",
       "      <th>nncid_target</th>\n",
       "    </tr>\n",
       "  </thead>\n",
       "  <tbody>\n",
       "    <tr>\n",
       "      <th>0</th>\n",
       "      <td>NONHSAT044059.2</td>\n",
       "      <td>NONHSAT140501.2</td>\n",
       "      <td>597.0</td>\n",
       "      <td>0.09</td>\n",
       "      <td>41.41</td>\n",
       "      <td>41.41</td>\n",
       "      <td>n344453</td>\n",
       "      <td>n344454</td>\n",
       "    </tr>\n",
       "    <tr>\n",
       "      <th>1</th>\n",
       "      <td>NONHSAT044059.2</td>\n",
       "      <td>NONHSAT030943.2</td>\n",
       "      <td>2269.5</td>\n",
       "      <td>0.15</td>\n",
       "      <td>40.74</td>\n",
       "      <td>40.74</td>\n",
       "      <td>n344453</td>\n",
       "      <td>n344455</td>\n",
       "    </tr>\n",
       "    <tr>\n",
       "      <th>2</th>\n",
       "      <td>NONHSAT044059.2</td>\n",
       "      <td>NONHSAT049673.2</td>\n",
       "      <td>1165.0</td>\n",
       "      <td>0.11</td>\n",
       "      <td>33.98</td>\n",
       "      <td>33.98</td>\n",
       "      <td>n344453</td>\n",
       "      <td>n344457</td>\n",
       "    </tr>\n",
       "    <tr>\n",
       "      <th>3</th>\n",
       "      <td>NONHSAT044059.2</td>\n",
       "      <td>NONHSAT119864.2</td>\n",
       "      <td>2999.5</td>\n",
       "      <td>0.13</td>\n",
       "      <td>36.53</td>\n",
       "      <td>36.53</td>\n",
       "      <td>n344453</td>\n",
       "      <td>n344460</td>\n",
       "    </tr>\n",
       "    <tr>\n",
       "      <th>4</th>\n",
       "      <td>NONHSAT044059.2</td>\n",
       "      <td>NONHSAT070239.2</td>\n",
       "      <td>1843.0</td>\n",
       "      <td>0.14</td>\n",
       "      <td>37.13</td>\n",
       "      <td>37.13</td>\n",
       "      <td>n344453</td>\n",
       "      <td>n344461</td>\n",
       "    </tr>\n",
       "  </tbody>\n",
       "</table>\n",
       "</div>"
      ],
      "text/plain": [
       "      Query_Seq_ID    Target_Seq_ID  Align_Score  Normalize_Score  Identity  \\\n",
       "0  NONHSAT044059.2  NONHSAT140501.2        597.0             0.09     41.41   \n",
       "1  NONHSAT044059.2  NONHSAT030943.2       2269.5             0.15     40.74   \n",
       "2  NONHSAT044059.2  NONHSAT049673.2       1165.0             0.11     33.98   \n",
       "3  NONHSAT044059.2  NONHSAT119864.2       2999.5             0.13     36.53   \n",
       "4  NONHSAT044059.2  NONHSAT070239.2       1843.0             0.14     37.13   \n",
       "\n",
       "   Similarity    nncid nncid_target  \n",
       "0       41.41  n344453      n344454  \n",
       "1       40.74  n344453      n344455  \n",
       "2       33.98  n344453      n344457  \n",
       "3       36.53  n344453      n344460  \n",
       "4       37.13  n344453      n344461  "
      ]
     },
     "execution_count": 19,
     "metadata": {},
     "output_type": "execute_result"
    }
   ],
   "source": [
    "#print(df_lnc_sim.nunique())\n",
    "df_lnc_sim.head()"
   ]
  },
  {
   "cell_type": "markdown",
   "metadata": {},
   "source": [
    "### filtering the NPInterV2 interactions with respect to lncRNAs similarity items"
   ]
  },
  {
   "cell_type": "code",
   "execution_count": 20,
   "metadata": {},
   "outputs": [
    {
     "data": {
      "text/plain": [
       "interID               958\n",
       "ncID                  343\n",
       "ncType                  1\n",
       "ncIdentifier          343\n",
       "ncName                343\n",
       "PartnerID              20\n",
       "prType                  1\n",
       "prIdentifier           24\n",
       "InteractionPartner     20\n",
       "interDescription       22\n",
       "experiment              5\n",
       "pubmed                 12\n",
       "organism                1\n",
       "tag                     1\n",
       "interClass              1\n",
       "interLevel              1\n",
       "dtype: int64"
      ]
     },
     "execution_count": 20,
     "metadata": {},
     "output_type": "execute_result"
    }
   ],
   "source": [
    "df_np2_344 = df_NPInter2[df_NPInter2['ncIdentifier'].isin(df_lnc_sim.nncid)]\n",
    "df_np2_344.nunique()"
   ]
  },
  {
   "cell_type": "code",
   "execution_count": 21,
   "metadata": {},
   "outputs": [
    {
     "data": {
      "text/plain": [
       "Query_Seq_ID        343\n",
       "Target_Seq_ID       343\n",
       "Align_Score        9932\n",
       "Normalize_Score      33\n",
       "Identity           2136\n",
       "Similarity         2136\n",
       "nncid               343\n",
       "nncid_target        343\n",
       "dtype: int64"
      ]
     },
     "execution_count": 21,
     "metadata": {},
     "output_type": "execute_result"
    }
   ],
   "source": [
    "# filtering the similarities according to target ids\n",
    "df_lnc_sim343 = df_lnc_sim[df_lnc_sim['nncid_target'].isin(df_np2_344.ncIdentifier)]\n",
    "df_lnc_sim343.nunique()"
   ]
  },
  {
   "cell_type": "code",
   "execution_count": 22,
   "metadata": {},
   "outputs": [
    {
     "data": {
      "text/plain": [
       "(117306, 8)"
      ]
     },
     "execution_count": 22,
     "metadata": {},
     "output_type": "execute_result"
    }
   ],
   "source": [
    "df_lnc_sim343.shape"
   ]
  },
  {
   "cell_type": "code",
   "execution_count": 23,
   "metadata": {},
   "outputs": [
    {
     "data": {
      "text/plain": [
       "Index(['Query_Seq_ID', 'Target_Seq_ID', 'Align_Score', 'Normalize_Score',\n",
       "       'Identity', 'Similarity', 'nncid', 'nncid_target'],\n",
       "      dtype='object')"
      ]
     },
     "execution_count": 23,
     "metadata": {},
     "output_type": "execute_result"
    }
   ],
   "source": [
    "df_lnc_sim343.columns"
   ]
  },
  {
   "cell_type": "code",
   "execution_count": 24,
   "metadata": {},
   "outputs": [
    {
     "data": {
      "text/plain": [
       "(117649, 8)"
      ]
     },
     "execution_count": 24,
     "metadata": {},
     "output_type": "execute_result"
    }
   ],
   "source": [
    "# adding self similarity score for each nncid\n",
    "lst_lnc_343 = df_lnc_sim343.nncid.unique()\n",
    "for nc in lst_lnc_343:\n",
    "    df_lnc_sim343=df_lnc_sim343.append({'Query_Seq_ID':nc, 'Target_Seq_ID':nc ,'Align_Score': 100,'Normalize_Score':1.0,\n",
    "                         'Identity':100, 'Similarity':100,'nncid':nc,'nncid_target':nc}, ignore_index=True)\n",
    "df_lnc_sim343.shape    "
   ]
  },
  {
   "cell_type": "code",
   "execution_count": null,
   "metadata": {},
   "outputs": [],
   "source": []
  },
  {
   "cell_type": "code",
   "execution_count": 25,
   "metadata": {},
   "outputs": [
    {
     "data": {
      "text/plain": [
       "(1031, 16)"
      ]
     },
     "execution_count": 25,
     "metadata": {},
     "output_type": "execute_result"
    }
   ],
   "source": [
    "df_np2_344.shape"
   ]
  },
  {
   "cell_type": "code",
   "execution_count": 26,
   "metadata": {},
   "outputs": [
    {
     "data": {
      "text/plain": [
       "Entry                    19\n",
       "Sequence                 19\n",
       "Cross-reference (PDB)    16\n",
       "Entry name               19\n",
       "dtype: int64"
      ]
     },
     "execution_count": 26,
     "metadata": {},
     "output_type": "execute_result"
    }
   ],
   "source": [
    "#balanceing protein seq data\n",
    "df_p_seq=df_p_seq[df_p_seq.Entry.isin(df_np2_344.prIdentifier)]\n",
    "df_p_seq.nunique()"
   ]
  },
  {
   "cell_type": "code",
   "execution_count": 27,
   "metadata": {},
   "outputs": [
    {
     "data": {
      "text/plain": [
       "interID               958\n",
       "ncID                  343\n",
       "ncType                  1\n",
       "ncIdentifier          343\n",
       "ncName                343\n",
       "PartnerID              20\n",
       "prType                  1\n",
       "prIdentifier           19\n",
       "InteractionPartner     20\n",
       "interDescription       22\n",
       "experiment              5\n",
       "pubmed                 12\n",
       "organism                1\n",
       "tag                     1\n",
       "interClass              1\n",
       "interLevel              1\n",
       "dtype: int64"
      ]
     },
     "execution_count": 27,
     "metadata": {},
     "output_type": "execute_result"
    }
   ],
   "source": [
    "df_np2_344=df_np2_344[df_np2_344.prIdentifier.isin(df_p_seq.Entry)]\n",
    "df_np2_344.nunique()"
   ]
  },
  {
   "cell_type": "code",
   "execution_count": 28,
   "metadata": {},
   "outputs": [
    {
     "data": {
      "text/plain": [
       "Query_Seq_ID        19\n",
       "Target_Seq_ID       19\n",
       "Align_Score        141\n",
       "Normalize_Score     22\n",
       "Identity           161\n",
       "Similarity         170\n",
       "dtype: int64"
      ]
     },
     "execution_count": 28,
     "metadata": {},
     "output_type": "execute_result"
    }
   ],
   "source": [
    "df_pr_sim19=df_pr_sim[df_pr_sim['Query_Seq_ID'].isin(df_p_seq.Entry)]\n",
    "df_pr_sim19=df_pr_sim19[df_pr_sim19['Target_Seq_ID'].isin(df_p_seq.Entry)]\n",
    "df_pr_sim19.nunique()"
   ]
  },
  {
   "cell_type": "code",
   "execution_count": null,
   "metadata": {},
   "outputs": [],
   "source": []
  },
  {
   "cell_type": "markdown",
   "metadata": {},
   "source": [
    "### preparing the features set for NPInterV2 dataset"
   ]
  },
  {
   "cell_type": "code",
   "execution_count": 29,
   "metadata": {},
   "outputs": [],
   "source": [
    "# creating features from npinter v2\n",
    "\n",
    "def prepare_NPinter_feature(df_p_seq, df_nc_seq, df_NPInter2, df_pr_sim,df_lnc_sim):\n",
    "    # create dict of proteins\n",
    "    pro_dict=dict(zip(df_p_seq.Entry,df_p_seq.Sequence))\n",
    "    # create dict of lncRnas\n",
    "    lnc_dict = dict(zip(df_nc_seq.nncid,df_nc_seq.sequence))\n",
    "    # positive set\n",
    "    posi_set = set()\n",
    "    pro_set = set()\n",
    "    X_features =[]\n",
    "    Y_labels =[]\n",
    "    df_interact = pd.DataFrame(columns=['ncIdentifier', 'prIdentifier', 'interaction'])\n",
    "    # geting positive class\n",
    "    for index, row in df_NPInter2.iterrows():\n",
    "        ncIdentifier=row['ncIdentifier'].strip()\n",
    "        prIdentifier =row['prIdentifier'].strip()\n",
    "        posi_set.add((ncIdentifier, prIdentifier))\n",
    "        pro_set.add(prIdentifier)\n",
    "        if (ncIdentifier in lnc_dict) and (prIdentifier in pro_dict):\n",
    "            df_interact = df_interact.append({'ncIdentifier': ncIdentifier, 'prIdentifier': prIdentifier, 'interaction': 1}, ignore_index=True)\n",
    "            sim_lst_pro = df_pr_sim[df_pr_sim['Query_Seq_ID']==prIdentifier]['Normalize_Score'].tolist()\n",
    "            sim_lst_lnc = df_lnc_sim[df_lnc_sim['nncid']==ncIdentifier]['Normalize_Score'].tolist()\n",
    "            if len(sim_lst_lnc)< 343:\n",
    "                print(\"pos: \" + ncIdentifier)\n",
    "            #X_features.append((sim_lst_pro,sim_lst_lnc))\n",
    "            X_features.append(sim_lst_pro + sim_lst_lnc)\n",
    "            Y_labels.append(1)\n",
    "\n",
    "        else:\n",
    "            print(prIdentifier)\n",
    "    #getting negative data or class\n",
    "    pro_list = list(pro_set)   \n",
    "    total_pro_len = len(pro_list)  \n",
    "    for index, row in df_NPInter2.iterrows():\n",
    "        ncIdentifier=row['ncIdentifier'].strip()\n",
    "        prIdentifier =row['prIdentifier'].strip()\n",
    "        #posi_set.add((ncIdentifier, prIdentifier))\n",
    "        for val in range(50):\n",
    "                    random_choice = randint(0,total_pro_len-1)\n",
    "                    select_pro = pro_list[random_choice]\n",
    "                    selec_nega= (ncIdentifier, select_pro)\n",
    "                    if selec_nega not in posi_set:\n",
    "                        posi_set.add(selec_nega)\n",
    "                        #print selec_nega\n",
    "                        break\n",
    "        if (ncIdentifier in lnc_dict) and (select_pro in pro_dict):\n",
    "            df_interact = df_interact.append({'ncIdentifier': ncIdentifier, 'prIdentifier': select_pro, 'interaction': 0}, ignore_index=True)\n",
    "            sim_lst_pro = df_pr_sim[df_pr_sim['Query_Seq_ID']==select_pro]['Normalize_Score'].tolist()\n",
    "            sim_lst_lnc = df_lnc_sim[df_lnc_sim['nncid']==ncIdentifier]['Normalize_Score'].tolist()\n",
    "            if len(sim_lst_lnc)< 343:\n",
    "                print(\"neg: \" + ncIdentifier)\n",
    "            #X_features.append((sim_lst_pro,sim_lst_lnc))\n",
    "            X_features.append(sim_lst_pro + sim_lst_lnc)\n",
    "            Y_labels.append(0)\n",
    "    return df_interact,np.array(X_features) , Y_labels\n",
    "\n",
    "        \n",
    "    \n"
   ]
  },
  {
   "cell_type": "code",
   "execution_count": 30,
   "metadata": {},
   "outputs": [
    {
     "data": {
      "text/plain": [
       "(1916, 3)"
      ]
     },
     "execution_count": 30,
     "metadata": {},
     "output_type": "execute_result"
    }
   ],
   "source": [
    "df_interact, X_Features, Y_Labels=prepare_NPinter_feature(df_p_seq, df_nc_seq, df_np2_344, df_pr_sim19,df_lnc_sim343)\n",
    "df_interact.shape"
   ]
  },
  {
   "cell_type": "code",
   "execution_count": 31,
   "metadata": {},
   "outputs": [
    {
     "data": {
      "text/plain": [
       "1916"
      ]
     },
     "execution_count": 31,
     "metadata": {},
     "output_type": "execute_result"
    }
   ],
   "source": [
    "len(X_Features)"
   ]
  },
  {
   "cell_type": "code",
   "execution_count": 32,
   "metadata": {},
   "outputs": [
    {
     "data": {
      "text/plain": [
       "Query_Seq_ID       448644\n",
       "Target_Seq_ID      448644\n",
       "Align_Score        448644\n",
       "Normalize_Score    448644\n",
       "Identity           448644\n",
       "Similarity         448644\n",
       "nncid              448644\n",
       "nncid_target       448644\n",
       "dtype: int64"
      ]
     },
     "execution_count": 32,
     "metadata": {},
     "output_type": "execute_result"
    }
   ],
   "source": [
    "df_lnc_sim.count()"
   ]
  },
  {
   "cell_type": "code",
   "execution_count": 187,
   "metadata": {},
   "outputs": [],
   "source": [
    "# save pairs to disk\n",
    "df_interact.to_csv('../data/NpInterV2_Pairs_19_343.csv')"
   ]
  },
  {
   "cell_type": "markdown",
   "metadata": {},
   "source": [
    "### SVM model with linear kernel\n"
   ]
  },
  {
   "cell_type": "markdown",
   "metadata": {},
   "source": [
    "#### 5 Fold straitafied "
   ]
  },
  {
   "cell_type": "code",
   "execution_count": 33,
   "metadata": {},
   "outputs": [
    {
     "data": {
      "text/plain": [
       "1437"
      ]
     },
     "execution_count": 33,
     "metadata": {},
     "output_type": "execute_result"
    }
   ],
   "source": [
    "#spliting train test\n",
    "X_train,X_test,y_train,y_test=train_test_split(X_Features,Y_Labels,test_size=0.25,random_state=0)\n",
    "len(X_train)"
   ]
  },
  {
   "cell_type": "code",
   "execution_count": 36,
   "metadata": {},
   "outputs": [
    {
     "name": "stdout",
     "output_type": "stream",
     "text": [
      "1 of KFold 5\n",
      "ROC AUC score: 0.7195804195804195\n",
      "2 of KFold 5\n",
      "ROC AUC score: 0.7435736677115988\n",
      "3 of KFold 5\n",
      "ROC AUC score: 0.6831779331779332\n",
      "4 of KFold 5\n",
      "ROC AUC score: 0.7041812354312356\n",
      "5 of KFold 5\n",
      "ROC AUC score: 0.6799242424242425\n"
     ]
    }
   ],
   "source": [
    "# fiting kfold model with svm and kernel = linear\n",
    "kf = StratifiedKFold(n_splits=5,shuffle=True,random_state=seed)\n",
    "pred_test_full =0\n",
    "cv_score =[]\n",
    "i=1\n",
    "y_train1=np.array(y_train)\n",
    "#y_train1=y_train1.reshape(-1,1)\n",
    "#print(y_train.shape)\n",
    "#print(X_train.shape)\n",
    "\n",
    "for train_index,test_index in kf.split(X_train,y_train1):\n",
    "    print('{} of KFold {}'.format(i,kf.n_splits))\n",
    "    #print(train_index)\n",
    "    #print(test_index)\n",
    "    xtr,xvl = X_train[train_index],X_train[test_index]\n",
    "    ytr,yvl = y_train1[train_index],y_train1[test_index]\n",
    "    \n",
    "    #model\n",
    "    svclassifier = SVC(kernel='linear',probability=True)\n",
    "    svclassifier.fit(xtr,ytr)\n",
    "    score = roc_auc_score(yvl,svclassifier.predict(xvl))\n",
    "    print('ROC AUC score:',score)\n",
    "    cv_score.append(score)    \n",
    "    pred_test = svclassifier.predict_proba(X_test)[:,1]\n",
    "    pred_test_full +=pred_test\n",
    "    i+=1"
   ]
  },
  {
   "cell_type": "code",
   "execution_count": 37,
   "metadata": {
    "scrolled": false
   },
   "outputs": [
    {
     "name": "stdout",
     "output_type": "stream",
     "text": [
      "Confusion matrix\n",
      " [[ 78  66]\n",
      " [ 26 117]]\n",
      "Cv [0.7195804195804195, 0.7435736677115988, 0.6831779331779332, 0.7041812354312356, 0.6799242424242425] \n",
      "Mean cv Score 0.706087499665086\n",
      "              precision    recall  f1-score   support\n",
      "\n",
      "           0       0.75      0.54      0.63       144\n",
      "           1       0.64      0.82      0.72       143\n",
      "\n",
      "   micro avg       0.68      0.68      0.68       287\n",
      "   macro avg       0.69      0.68      0.67       287\n",
      "weighted avg       0.69      0.68      0.67       287\n",
      "\n"
     ]
    }
   ],
   "source": [
    "#print confusion matrix\n",
    "print('Confusion matrix\\n',confusion_matrix(yvl,svclassifier.predict(xvl)))\n",
    "print('Cv',cv_score,'\\nMean cv Score',np.mean(cv_score))\n",
    "print(classification_report(yvl,svclassifier.predict(xvl)))\n"
   ]
  },
  {
   "cell_type": "code",
   "execution_count": 38,
   "metadata": {},
   "outputs": [
    {
     "name": "stdout",
     "output_type": "stream",
     "text": [
      "Accuracy: 0.732776617954071\n",
      "Precision: 0.7075812274368231\n",
      "Recall: 0.8065843621399177\n",
      "F1 Score: 0.7538461538461538\n"
     ]
    }
   ],
   "source": [
    "#results on test set\n",
    "print(\"Accuracy:\",metrics.accuracy_score(y_test, svclassifier.predict(X_test)))\n",
    "print(\"Precision:\",metrics.precision_score(y_test, svclassifier.predict(X_test)))\n",
    "print(\"Recall:\",metrics.recall_score(y_test, svclassifier.predict(X_test)))\n",
    "print(\"F1 Score:\",metrics.f1_score(y_test, svclassifier.predict(X_test)))"
   ]
  },
  {
   "cell_type": "code",
   "execution_count": 223,
   "metadata": {},
   "outputs": [],
   "source": [
    "#lr.coef_\n"
   ]
  },
  {
   "cell_type": "code",
   "execution_count": 39,
   "metadata": {},
   "outputs": [
    {
     "data": {
      "text/plain": [
       "0.6794425087108014"
      ]
     },
     "execution_count": 39,
     "metadata": {},
     "output_type": "execute_result"
    }
   ],
   "source": [
    "svclassifier.score(xvl,yvl)\n"
   ]
  },
  {
   "cell_type": "markdown",
   "metadata": {},
   "source": [
    "### Reciever Operating Characteristics\n"
   ]
  },
  {
   "cell_type": "code",
   "execution_count": 40,
   "metadata": {},
   "outputs": [
    {
     "data": {
      "text/plain": [
       "Text(0.5, 0, 'False positive rate')"
      ]
     },
     "execution_count": 40,
     "metadata": {},
     "output_type": "execute_result"
    },
    {
     "data": {
      "image/png": "[encoded data removed]",
      "text/plain": [
       "<Figure size 1008x576 with 1 Axes>"
      ]
     },
     "metadata": {
      "needs_background": "light"
     },
     "output_type": "display_data"
    }
   ],
   "source": [
    "proba = svclassifier.predict_proba(xvl)[:,1]\n",
    "frp,trp, threshold = roc_curve(yvl,proba)\n",
    "roc_auc_ = auc(frp,trp)\n",
    "\n",
    "plt.figure(figsize=(14,8))\n",
    "plt.title('Reciever Operating Characteristics')\n",
    "plt.plot(frp,trp,'r',label = 'AUC = %0.2f' % roc_auc_)\n",
    "plt.legend(loc='lower right')\n",
    "plt.plot([0,1],[0,1],'b--')\n",
    "plt.ylabel('True positive rate')\n",
    "plt.xlabel('False positive rate')"
   ]
  },
  {
   "cell_type": "code",
   "execution_count": null,
   "metadata": {},
   "outputs": [],
   "source": []
  },
  {
   "cell_type": "markdown",
   "metadata": {},
   "source": [
    "### SVM model with rbf kernel\n"
   ]
  },
  {
   "cell_type": "markdown",
   "metadata": {},
   "source": [
    "#### 5 Fold straitafied "
   ]
  },
  {
   "cell_type": "code",
   "execution_count": 33,
   "metadata": {},
   "outputs": [
    {
     "data": {
      "text/plain": [
       "1437"
      ]
     },
     "execution_count": 33,
     "metadata": {},
     "output_type": "execute_result"
    }
   ],
   "source": [
    "#spliting train test\n",
    "X_train,X_test,y_train,y_test=train_test_split(X_Features,Y_Labels,test_size=0.25,random_state=0)\n",
    "len(X_train)"
   ]
  },
  {
   "cell_type": "code",
   "execution_count": 36,
   "metadata": {},
   "outputs": [
    {
     "name": "stdout",
     "output_type": "stream",
     "text": [
      "1 of KFold 5\n",
      "ROC AUC score: 0.7195804195804195\n",
      "2 of KFold 5\n",
      "ROC AUC score: 0.7435736677115988\n",
      "3 of KFold 5\n",
      "ROC AUC score: 0.6831779331779332\n",
      "4 of KFold 5\n",
      "ROC AUC score: 0.7041812354312356\n",
      "5 of KFold 5\n",
      "ROC AUC score: 0.6799242424242425\n"
     ]
    }
   ],
   "source": [
    "# fiting kfold model with svm and kernel = linear\n",
    "kf = StratifiedKFold(n_splits=5,shuffle=True,random_state=seed)\n",
    "pred_test_full =0\n",
    "cv_score =[]\n",
    "i=1\n",
    "y_train1=np.array(y_train)\n",
    "#y_train1=y_train1.reshape(-1,1)\n",
    "#print(y_train.shape)\n",
    "#print(X_train.shape)\n",
    "\n",
    "for train_index,test_index in kf.split(X_train,y_train1):\n",
    "    print('{} of KFold {}'.format(i,kf.n_splits))\n",
    "    #print(train_index)\n",
    "    #print(test_index)\n",
    "    xtr,xvl = X_train[train_index],X_train[test_index]\n",
    "    ytr,yvl = y_train1[train_index],y_train1[test_index]\n",
    "    \n",
    "    #model\n",
    "    svclassifier = SVC(kernel='linear',probability=True)\n",
    "    svclassifier.fit(xtr,ytr)\n",
    "    score = roc_auc_score(yvl,svclassifier.predict(xvl))\n",
    "    print('ROC AUC score:',score)\n",
    "    cv_score.append(score)    \n",
    "    pred_test = svclassifier.predict_proba(X_test)[:,1]\n",
    "    pred_test_full +=pred_test\n",
    "    i+=1"
   ]
  },
  {
   "cell_type": "code",
   "execution_count": 37,
   "metadata": {
    "scrolled": false
   },
   "outputs": [
    {
     "name": "stdout",
     "output_type": "stream",
     "text": [
      "Confusion matrix\n",
      " [[ 78  66]\n",
      " [ 26 117]]\n",
      "Cv [0.7195804195804195, 0.7435736677115988, 0.6831779331779332, 0.7041812354312356, 0.6799242424242425] \n",
      "Mean cv Score 0.706087499665086\n",
      "              precision    recall  f1-score   support\n",
      "\n",
      "           0       0.75      0.54      0.63       144\n",
      "           1       0.64      0.82      0.72       143\n",
      "\n",
      "   micro avg       0.68      0.68      0.68       287\n",
      "   macro avg       0.69      0.68      0.67       287\n",
      "weighted avg       0.69      0.68      0.67       287\n",
      "\n"
     ]
    }
   ],
   "source": [
    "#print confusion matrix\n",
    "print('Confusion matrix\\n',confusion_matrix(yvl,svclassifier.predict(xvl)))\n",
    "print('Cv',cv_score,'\\nMean cv Score',np.mean(cv_score))\n",
    "print(classification_report(yvl,svclassifier.predict(xvl)))\n"
   ]
  },
  {
   "cell_type": "code",
   "execution_count": 38,
   "metadata": {},
   "outputs": [
    {
     "name": "stdout",
     "output_type": "stream",
     "text": [
      "Accuracy: 0.732776617954071\n",
      "Precision: 0.7075812274368231\n",
      "Recall: 0.8065843621399177\n",
      "F1 Score: 0.7538461538461538\n"
     ]
    }
   ],
   "source": [
    "#results on test set\n",
    "print(\"Accuracy:\",metrics.accuracy_score(y_test, svclassifier.predict(X_test)))\n",
    "print(\"Precision:\",metrics.precision_score(y_test, svclassifier.predict(X_test)))\n",
    "print(\"Recall:\",metrics.recall_score(y_test, svclassifier.predict(X_test)))\n",
    "print(\"F1 Score:\",metrics.f1_score(y_test, svclassifier.predict(X_test)))"
   ]
  },
  {
   "cell_type": "code",
   "execution_count": 223,
   "metadata": {},
   "outputs": [],
   "source": [
    "#lr.coef_\n"
   ]
  },
  {
   "cell_type": "code",
   "execution_count": 39,
   "metadata": {},
   "outputs": [
    {
     "data": {
      "text/plain": [
       "0.6794425087108014"
      ]
     },
     "execution_count": 39,
     "metadata": {},
     "output_type": "execute_result"
    }
   ],
   "source": [
    "svclassifier.score(xvl,yvl)\n"
   ]
  },
  {
   "cell_type": "markdown",
   "metadata": {},
   "source": [
    "### Reciever Operating Characteristics\n"
   ]
  },
  {
   "cell_type": "code",
   "execution_count": 40,
   "metadata": {},
   "outputs": [
    {
     "data": {
      "text/plain": [
       "Text(0.5, 0, 'False positive rate')"
      ]
     },
     "execution_count": 40,
     "metadata": {},
     "output_type": "execute_result"
    },
    {
     "data": {
      "image/png": "[encoded data removed]",
      "text/plain": [
       "<Figure size 1008x576 with 1 Axes>"
      ]
     },
     "metadata": {
      "needs_background": "light"
     },
     "output_type": "display_data"
    }
   ],
   "source": [
    "proba = svclassifier.predict_proba(xvl)[:,1]\n",
    "frp,trp, threshold = roc_curve(yvl,proba)\n",
    "roc_auc_ = auc(frp,trp)\n",
    "\n",
    "plt.figure(figsize=(14,8))\n",
    "plt.title('Reciever Operating Characteristics')\n",
    "plt.plot(frp,trp,'r',label = 'AUC = %0.2f' % roc_auc_)\n",
    "plt.legend(loc='lower right')\n",
    "plt.plot([0,1],[0,1],'b--')\n",
    "plt.ylabel('True positive rate')\n",
    "plt.xlabel('False positive rate')"
   ]
  },
  {
   "cell_type": "code",
   "execution_count": null,
   "metadata": {},
   "outputs": [],
   "source": []
  }
 ],
 "metadata": {
  "kernelspec": {
   "display_name": "Python 3",
   "language": "python",
   "name": "python3"
  },
  "language_info": {
   "codemirror_mode": {
    "name": "ipython",
    "version": 3
   },
   "file_extension": ".py",
   "mimetype": "text/x-python",
   "name": "python",
   "nbconvert_exporter": "python",
   "pygments_lexer": "ipython3",
   "version": "3.7.1"
  }
 },
 "nbformat": 4,
 "nbformat_minor": 2
}
