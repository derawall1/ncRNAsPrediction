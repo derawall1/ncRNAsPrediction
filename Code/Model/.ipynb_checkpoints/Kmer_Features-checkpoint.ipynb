{
 "cells": [
  {
   "cell_type": "code",
   "execution_count": 30,
   "metadata": {},
   "outputs": [
    {
     "ename": "ImportError",
     "evalue": "cannot import name 'make_kmer_list_from_seq' from 'features_extraction_utility.kmer' (E:\\Fast\\Maam Zoya\\data and code\\Model\\features_extraction_utility\\kmer.py)",
     "output_type": "error",
     "traceback": [
      "\u001b[1;31m---------------------------------------------------------------------------\u001b[0m",
      "\u001b[1;31mImportError\u001b[0m                               Traceback (most recent call last)",
      "\u001b[1;32m<ipython-input-30-76628b02cb30>\u001b[0m in \u001b[0;36m<module>\u001b[1;34m\u001b[0m\n\u001b[0;32m      9\u001b[0m \u001b[1;32mfrom\u001b[0m \u001b[0mBio\u001b[0m\u001b[1;33m.\u001b[0m\u001b[0mpairwise2\u001b[0m \u001b[1;32mimport\u001b[0m \u001b[0mformat_alignment\u001b[0m\u001b[1;33m\u001b[0m\u001b[1;33m\u001b[0m\u001b[0m\n\u001b[0;32m     10\u001b[0m \u001b[1;32mimport\u001b[0m \u001b[0mmath\u001b[0m\u001b[1;33m\u001b[0m\u001b[1;33m\u001b[0m\u001b[0m\n\u001b[1;32m---> 11\u001b[1;33m \u001b[1;32mfrom\u001b[0m \u001b[0mfeatures_extraction_utility\u001b[0m\u001b[1;33m.\u001b[0m\u001b[0mkmer\u001b[0m \u001b[1;32mimport\u001b[0m \u001b[0mmake_kmer_list_from_seq\u001b[0m\u001b[1;33m\u001b[0m\u001b[1;33m\u001b[0m\u001b[0m\n\u001b[0m\u001b[0;32m     12\u001b[0m \u001b[1;31m# from features_extraction_utility.util import frequency\u001b[0m\u001b[1;33m\u001b[0m\u001b[1;33m\u001b[0m\u001b[1;33m\u001b[0m\u001b[0m\n\u001b[0;32m     13\u001b[0m \u001b[1;31m# from features_extraction_utility.util import get_data\u001b[0m\u001b[1;33m\u001b[0m\u001b[1;33m\u001b[0m\u001b[1;33m\u001b[0m\u001b[0m\n",
      "\u001b[1;31mImportError\u001b[0m: cannot import name 'make_kmer_list_from_seq' from 'features_extraction_utility.kmer' (E:\\Fast\\Maam Zoya\\data and code\\Model\\features_extraction_utility\\kmer.py)"
     ]
    }
   ],
   "source": [
    "import itertools\n",
    "import numpy as np\n",
    "from Bio import Align\n",
    "from Bio import SeqIO\n",
    "from Bio import pairwise2\n",
    "from Bio.SubsMat.MatrixInfo import blosum62\n",
    "import csv\n",
    "import pandas as pd\n",
    "from Bio.pairwise2 import format_alignment\n",
    "import math\n",
    "from features_extraction_utility.kmer import make_kmer_list_from_seq\n",
    "# from features_extraction_utility.util import frequency\n",
    "# from features_extraction_utility.util import get_data\n",
    "# from features_extraction_utility.data import index_list"
   ]
  },
  {
   "cell_type": "code",
   "execution_count": 4,
   "metadata": {},
   "outputs": [
    {
     "name": "stdout",
     "output_type": "stream",
     "text": [
      "1923\n",
      "1923\n"
     ]
    }
   ],
   "source": [
    "query_seq = list(SeqIO.parse(\"../Data/NpInter2 Interacting LncRNAs/NP_V2_lncRNA_seq_clean2.fasta\", \"fasta\"))\n",
    "target_seq = list(SeqIO.parse(\"../Data/NpInter2 Interacting LncRNAs/NP_V2_lncRNA_seq_clean2.fasta\", \"fasta\"))\n",
    "\n",
    "\n",
    "print(len(target_seq))\n",
    "print(len(target_seq))"
   ]
  },
  {
   "cell_type": "code",
   "execution_count": 13,
   "metadata": {},
   "outputs": [
    {
     "name": "stdout",
     "output_type": "stream",
     "text": [
      "Calculating...\n",
      "features_extraction_utility/NP_V2_lncRNA_seq_clean2.fasta\n",
      "Done.\n",
      "Used time: 110.31066417694092s\n"
     ]
    }
   ],
   "source": [
    "wd = '../Data/NpInter2 Interacting LncRNAs/'\n",
    "#!python features_extraction_utility/kmer.py  ../Data/NpInter2 Interacting LncRNAs/lncRNAFeature_kmer.csv RNA -k 3 -f csv\n",
    "!python features_extraction_utility/kmer.py features_extraction_utility/NP_V2_lncRNA_seq_clean2.fasta features_extraction_utility/lncRNAFeature_kmer.csv RNA -k 3 -f csv"
   ]
  },
  {
   "cell_type": "code",
   "execution_count": 24,
   "metadata": {},
   "outputs": [],
   "source": [
    "seq='UCUCGCUCUGUCACCCAGGCUGGAGUGCAGUGGCGUGAUCUCGGCUCAUUGCAACCUCCGCCUCCUGGGUUCAAGCAAUUCUCCUGCCUCAGCCUCCUGAGUAGCUGGGAUUACAGGCGCCCGCCACCACUCCCAGCUAAUUUUUGUAUUUUUAGUAGGGACGAGGUUUCACCAUGUUGGUCAGGCUGGUCUCAAACUCCUGACCUCGUGAUCUGCCCUCCUUGGCCUUCCAAAGUGCUGGGAUUACAGGCGUGAUGGAGAUGAUACUCCCUAAAUCACAAGGGUGUGGUGUGAAGAUGAAAUGGCUGCACGUGACAGAGGAGUUGGAGAACAGGAAGCAAGUGGAUUACUUGGAUGAACUGUGAUGGGCCCAAGAAGAACUAAGCCAAUCACUCCAGGGGGCGUUUUCCCAGGAUCCAGGCAGAGAGCUGAUUCCAGCAUCCACGUUGUAUCCCCCUCCCGCUGUGGCCGGGGUCUCCAAGAGCCGGGCACCCACUGCAGAGCUUCCAAGCCCAGGCCCAUUUGAACACAGGAGGACUUUUGAGGUUCAUUUAACCCCAAAAUCAGUGAUUCUACAUCUCAAGCUCAUAUUUUGAAGUGUUUACGGGGUUGCAGUGAGCCAAGAUUGCGCCAUUGCACUCCAGCCUGGGUGAGAGAGCGAGACUCCAUCUCUGAAUAAAUAAAGUAACAAAAUACAUUUCAGUCUCGAGCUCCAGUUCCCUGCCAGGAAGAGCUGAAGCUGAGCUCUGGCACCCCCUGCUUCUUCUCCCUCAUCCCUAAAACAUGUGGGGUACUGGGUGCCAAAGGAGAUCUGAAGAUGGCCACCACUCAGACCAGCAGUAGAGGCCAAGAAGGUGGUGAGAAAUUUUAAGGUAUUGUAGCAUAUGCUCUCCAGGGUGAGGACACAGGAUGCUGGGACCUAAGGAGGGAGAAGUUAACCCAGAGAGGGCCCAAGUCAGGGAGGACCUGACUGUGGUGACAGAGCCAGUCAUGCUAAUAAUAGGAGCAGUGGUUUUGCAAUCACAAAUAUUGGUCUGGGGGACUGCGGGCCCAAUGUGGUGGGAGUUUUAGAGCAGGGACCCCUCCACUGUACGUGGAUUCUUAUACUUGCUAAGUUGCACUGAAUUCUCAAUCAACCCAUUUGGAGGCUCUCACCAAGACAGGAGUCCCUUUGAAUUGGUAGGAUGUUAAAAGCUUCCUCCAGCCAUUGACCCUGGGUCCCAUUGGUAGAAAUCAGAUAAUAAAUCAGAUUUUCCAGGUAAUCCUCAGUUUAAUGUCCAUUCCCUCAUUCAAUCAAUUAUUCAAUUACAAAUCAUUUUUAAUAUGAUUUUAUGGUUCAGGAAUUCAGGCAGGGCUCAGAUGGGCAGUUCUUCUGCCCCACAUGGCAUUGGCUGAUAACAGGCUACCCCAAGGAAAUCACAGUGUAAUGGGAGAUGGGAAAUAGGUUAACACAAAGUUACUAUACUACAAGAAAAAUCUUCAAAUCUUCAAUCUUCAUUCUUCAUGGGUGUGAGUCUUCUCUGGUGGAGAAGAGAGUUCUUUGCUAAAUUAUAUUCCUGUGUUAGCCAGCCAAGCACACACGGAGUACAGCUGUCCCUUGCUAUUCAUGGCAGAUUGAUCCCAGACACUGCCACCCCCAGCCCUGUGAACACCAAAACCCAUGGAUGCUCAAGUCCUUGAUAUAAAAUGGUAUGGUAUUUGCACAUAACCUACACACAUCUUCCCAUAUACUUUAAAUCAUCACUAGAUUACUUAUAAUACCUAAUGCAAUGUAAAUGCUAUGUAAGUAGUUGCUACGCUGUAUUGCUUAGGGAAUAAUGACAAGAAAAAAAGGCUGUACAACUUCAGUACAAAUGCUAUCAUUCAUUUUUUUAUCUGAAUAUUAUGAUCCAUGAAUACAGAGGGCUGGCUGUAAAAAGAAUGUACAGUUUGGUACUUUACUCCUAGUUUAAGUCAUCUCUUUCGGCCCAUACAGGUUGCCUGGGGCAGGGCGGUGGUGAGUGUGUUGAGUCGGCCCUAUACCCUGUUCCACAAUGCCUGGUGUCCUUGGCACGUAGCUUGCAGGGCUGCUUCCAUGGAUGGCUGCCUCAUCCCCCACCCCUCCUUCAUGGCACCCUCUUUUCUCCAACUCCUUUUCCUCUGCUGAGUCCUACCUUUUCUUGCCAGACCAGGGAUUUGCCAAUUAUUCUGGAUGGGCACAGGGAAGGGGCCCUCAGAUCCUGCAGAGGGAGCAUCUGAAAGACAAUGAGACCCUGUACACAACCAAGCUGAGCCUCCUCCUCUCUACCCCUGCCUGUGGCUCUCCCGUCUCCUGGCAUUCUAACCUGCCACUGAAUUCUUCCCACGCCAAACGCAGGUUAGGAACCUAAGCUCGGAUGAAAUGCUGGCUUAGACCUCAUUGCUACUGAGAAGCAGAAACCACACUUUUUAGUUGGUAGAGGUGGAUGUGGAUUGGGGCCAUAAAGUUUCCUCAAUCAUUGAAUAAGGAUUUCAUUAUUUGGACUAACUAAAUACAUUAGAUUAUUUAUACUAACUAAAUAAAUUAGAUUUAUUUUUCGAAGUUUAAAAUCAUUUUCAAUAGUGACGAAAAAGGCUGUAGAUGAGAUGGGAGAAUCUUUCGACGCCAAAUUCUUCCCAUCUCCUGCCUAGUAUGUAUCACUACACCUUGCCCAGAGAGACGGAGGACGCGCACAGCCCGAGGAGGCAGAGCCCCAGACGGGAAUGGGCUUUUCAGAGGUGGGGUGCGGGCGAGGGGACGAUGCAUUAUUUUUAAUAUUUGAUUUAUUUUUCCAACUGGACUUCUUCCCGGGGCUCUUUCUGGGCCCAGCUGCCUUUGUGAUCCCGCGCCCCGGUCCUCGGCCUCUCACCUCCAGCGCCGGGGCGCCCCCUGCUGUCGGAAGCGGCUGUGACCGGGCAGAGGUGCUAUCUGGGACUCUGGGUUCUCAGCCCGGGGACAGCGAACCGAGGGGCAGAUGAUCCAUCAGAAAAGAGCCGGCACUGCCCAGCCCCGCGCCCCUGCCCCUGCCUUUUUCCGGGAGCGCGCCGCGCCGCACCCGCUACGGCCGCUUGACCCCAUCUUUGAGCCCGGCCCCAAGCUCUGGGACCGUCGUGCCCCUCAUCAAGGAAGAGCCAAGGACCCCAAGGAGAAGGUAGAAAGGAGUUCAUGAAGGCAGAAAUGCCUGGGGCCCACGAACAUCCCAGUGUGGCCCUGGACGGGACAUCAUGCUGGGCAACACAGCUAAAAUGCGGGUGAAGACCAGAUUUCUUGCACAUGGCGGUGACGGGAUGCUCCCUAGAGAGCUUCAAGUGGAUUCUUUGCUUUUUAUUUUCUCUCUUAAUAAAAAUGUAUGAUGUUUACAUUGUCAGA'"
   ]
  },
  {
   "cell_type": "code",
   "execution_count": 29,
   "metadata": {},
   "outputs": [
    {
     "ename": "AttributeError",
     "evalue": "module 'features_extraction_utility.kmer' has no attribute 'make_kmer_list_from_seq'",
     "output_type": "error",
     "traceback": [
      "\u001b[1;31m---------------------------------------------------------------------------\u001b[0m",
      "\u001b[1;31mAttributeError\u001b[0m                            Traceback (most recent call last)",
      "\u001b[1;32m<ipython-input-29-0eb9944c0a0b>\u001b[0m in \u001b[0;36m<module>\u001b[1;34m\u001b[0m\n\u001b[1;32m----> 1\u001b[1;33m \u001b[0mres\u001b[0m \u001b[1;33m=\u001b[0m \u001b[0mkmer\u001b[0m\u001b[1;33m.\u001b[0m\u001b[0mmake_kmer_list_from_seq\u001b[0m\u001b[1;33m(\u001b[0m\u001b[0mk\u001b[0m\u001b[1;33m=\u001b[0m\u001b[1;36m3\u001b[0m\u001b[1;33m,\u001b[0m \u001b[0msequence_type\u001b[0m\u001b[1;33m=\u001b[0m\u001b[1;34m'RNA'\u001b[0m\u001b[1;33m,\u001b[0m \u001b[0mseq\u001b[0m\u001b[1;33m=\u001b[0m\u001b[0mseq\u001b[0m\u001b[1;33m,\u001b[0m\u001b[0mrevcomp\u001b[0m\u001b[1;33m=\u001b[0m\u001b[1;32mFalse\u001b[0m\u001b[1;33m)\u001b[0m\u001b[1;33m\u001b[0m\u001b[1;33m\u001b[0m\u001b[0m\n\u001b[0m\u001b[0;32m      2\u001b[0m \u001b[0mprint\u001b[0m\u001b[1;33m(\u001b[0m\u001b[0mres\u001b[0m\u001b[1;33m)\u001b[0m\u001b[1;33m\u001b[0m\u001b[1;33m\u001b[0m\u001b[0m\n",
      "\u001b[1;31mAttributeError\u001b[0m: module 'features_extraction_utility.kmer' has no attribute 'make_kmer_list_from_seq'"
     ]
    }
   ],
   "source": [
    "res = kmer.make_kmer_list_from_seq(k=3, sequence_type='RNA', seq=seq,revcomp=False)\n",
    "print(res)"
   ]
  },
  {
   "cell_type": "code",
   "execution_count": null,
   "metadata": {},
   "outputs": [],
   "source": []
  }
 ],
 "metadata": {
  "kernelspec": {
   "display_name": "Python 3",
   "language": "python",
   "name": "python3"
  },
  "language_info": {
   "codemirror_mode": {
    "name": "ipython",
    "version": 3
   },
   "file_extension": ".py",
   "mimetype": "text/x-python",
   "name": "python",
   "nbconvert_exporter": "python",
   "pygments_lexer": "ipython3",
   "version": "3.7.1"
  }
 },
 "nbformat": 4,
 "nbformat_minor": 2
}
