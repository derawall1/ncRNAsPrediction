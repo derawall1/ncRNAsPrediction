{
 "cells": [
  {
   "cell_type": "code",
   "execution_count": 1,
   "metadata": {},
   "outputs": [],
   "source": [
    "%config IPCompleter.greedy=True\n"
   ]
  },
  {
   "cell_type": "markdown",
   "metadata": {},
   "source": [
    "### Loading packages and libraries "
   ]
  },
  {
   "cell_type": "code",
   "execution_count": 2,
   "metadata": {},
   "outputs": [],
   "source": [
    "import itertools\n",
    "import numpy as np\n",
    "from Bio import Align\n",
    "from Bio import SeqIO\n",
    "from Bio import pairwise2\n",
    "from Bio.SubsMat.MatrixInfo import blosum62\n",
    "import csv\n",
    "import pandas as pd\n",
    "from Bio.SeqRecord import SeqRecord\n",
    "from tqdm import tqdm\n",
    "import random\n",
    "from random import randint\n",
    "from sklearn.model_selection  import train_test_split, StratifiedKFold\n",
    "from sklearn.linear_model import LogisticRegression\n",
    "import features_extraction_utility.kmer as kmer\n",
    "from sklearn.svm import SVC\n",
    "from xgboost import XGBClassifier\n",
    "# import the metrics class\n",
    "from sklearn.metrics import confusion_matrix, roc_auc_score ,roc_curve,auc, classification_report\n",
    "from sklearn import metrics\n",
    "# import required modules for plotig\n",
    "import numpy as np\n",
    "import matplotlib.pyplot as plt\n",
    "import seaborn as sns\n",
    "%matplotlib inline\n",
    "seed =45"
   ]
  },
  {
   "cell_type": "markdown",
   "metadata": {},
   "source": [
    "# Reading np inter v 2 interactions"
   ]
  },
  {
   "cell_type": "code",
   "execution_count": 3,
   "metadata": {},
   "outputs": [
    {
     "data": {
      "text/plain": [
       "(5353, 16)"
      ]
     },
     "execution_count": 3,
     "metadata": {},
     "output_type": "execute_result"
    }
   ],
   "source": [
    "df_NPInter2 = pd.read_csv('../data/NPInter_v2.0 homo_sapiens_type_lncrna.csv')\n",
    "df_NPInter2.shape\n"
   ]
  },
  {
   "cell_type": "code",
   "execution_count": 4,
   "metadata": {},
   "outputs": [],
   "source": [
    "df_NPInter2.prIdentifier=df_NPInter2.prIdentifier.str.strip()"
   ]
  },
  {
   "cell_type": "code",
   "execution_count": 22,
   "metadata": {},
   "outputs": [
    {
     "data": {
      "text/plain": [
       "array(['Q07955', 'Q01844', 'Q9UL18', 'Q9UKV8', 'Q9H9G7', 'Q9HCK5',\n",
       "       'Q15717', 'B7ZL34', 'Q9NZI8', 'P26599', 'O00425', 'P35637',\n",
       "       'P31483', 'Q9HCE1', 'Q86X94', 'Q49AS9', 'Q13148', 'Q9Y6M1',\n",
       "       'Q96PU8', 'O43251', 'Q8NDV7', 'Q9UPQ9', 'Q9HCJ0', 'Q13285',\n",
       "       'Q6PJX3'], dtype=object)"
      ]
     },
     "execution_count": 22,
     "metadata": {},
     "output_type": "execute_result"
    }
   ],
   "source": [
    "df_NPInter2.prIdentifier.unique()"
   ]
  },
  {
   "cell_type": "code",
   "execution_count": 23,
   "metadata": {},
   "outputs": [
    {
     "data": {
      "text/plain": [
       "dict_keys(['Q07955', 'Q01844', 'Q9UL18', 'Q9UKV8', 'Q9H9G7', 'Q9HCK5', 'Q15717', 'B7ZL34', 'Q9NZI82', 'P26599', 'O00425', 'P35637', 'P31483', 'Q9HCE1', 'Q86X94', 'Q49AS9', 'Q13148', 'Q9Y6M1', 'Q96PU8', 'O43251', 'Q8NDV7', 'Q9UPQ9', 'Q9HCJ0', 'Q13285', 'Q6PJX3'])"
      ]
     },
     "execution_count": 23,
     "metadata": {},
     "output_type": "execute_result"
    }
   ],
   "source": [
    "pro_PseAAC.keys()"
   ]
  },
  {
   "cell_type": "markdown",
   "metadata": {},
   "source": [
    "## physical-chemical features "
   ]
  },
  {
   "cell_type": "code",
   "execution_count": 16,
   "metadata": {},
   "outputs": [],
   "source": [
    "#lncrna features\n",
    "\n",
    "lnc_dac1 = SeqIO.to_dict(SeqIO.parse(\"../Data/LncRNA DAC/lncRNA_0-300.txt\", \"fasta\"))\n",
    "lnc_dac2 = SeqIO.to_dict(SeqIO.parse(\"../Data/LncRNA DAC/lncRNA_301-600.txt\", \"fasta\"))\n",
    "lnc_dac3 = SeqIO.to_dict(SeqIO.parse(\"../Data/LncRNA DAC/lncRNA_601-900.txt\", \"fasta\"))\n",
    "lnc_dac4 = SeqIO.to_dict(SeqIO.parse(\"../Data/LncRNA DAC/lncRNA_901-1200.txt\", \"fasta\"))\n",
    "\n",
    "lnc_dac5 = SeqIO.to_dict(SeqIO.parse(\"../Data/LncRNA DAC/lncRNA_1201-1500.txt\", \"fasta\"))\n",
    "lnc_dac6 = SeqIO.to_dict(SeqIO.parse(\"../Data/LncRNA DAC/lncRNA_1501-1800.txt\", \"fasta\"))\n",
    "lnc_dac7 = SeqIO.to_dict(SeqIO.parse(\"../Data/LncRNA DAC/lncRNA_1801-1923.txt\", \"fasta\"))\n",
    "\n",
    "lnc_DAC ={**lnc_dac1 , **lnc_dac2 , **lnc_dac3 , **lnc_dac4 , **lnc_dac5 , **lnc_dac6 , **lnc_dac7}"
   ]
  },
  {
   "cell_type": "code",
   "execution_count": 18,
   "metadata": {},
   "outputs": [
    {
     "name": "stdout",
     "output_type": "stream",
     "text": [
      "1923\n"
     ]
    }
   ],
   "source": [
    "print(len(lnc_DAC))\n",
    "#print(lnc_DAC.keys())"
   ]
  },
  {
   "cell_type": "code",
   "execution_count": 55,
   "metadata": {},
   "outputs": [
    {
     "name": "stdout",
     "output_type": "stream",
     "text": [
      "25\n",
      "0.018,0.004,0.036,0.02,0.013,0.063,0.005,0.013,0.014,0.011,0.005,0.013,0.03,0.002,0.077,0.05,0.013,0.03,0.002,0.027,0.062,0.048,0.056,0.054,0.056,0.058,0.056,0.056,0.056,0.054\n"
     ]
    }
   ],
   "source": [
    "#protein features.\n",
    "pro_PseAAC = SeqIO.to_dict(SeqIO.parse(\"../Data/Protein  PC-PseAAC-General/PC-PseAAC-General.txt\", \"fasta\"))\n",
    "print(len(pro_PseAAC))\n",
    "print(str(pro_PseAAC['Q07955'].seq))"
   ]
  },
  {
   "cell_type": "code",
   "execution_count": 53,
   "metadata": {},
   "outputs": [
    {
     "data": {
      "text/plain": [
       "'0.001,-0.665,0.03,-0.544,-0.0,0.008,0.0,-0.011,0.01,-0.063,-0.0,0.001,0.0,0.034,0.008,-0.001,0.0,0.003,0.0,-0.185,0.014,-0.032,0.0,0.003,0.001,0.203,0.005,0.06,0.0,0.003,0.0,0.049,0.0,0.046,0.0,0.002,0.0,0.165,-0.001,0.024,0.0,0.003,0.0,0.001,0.003,-0.01,0.0,0.002,0.0,-0.042,-0.001,-0.03,0.0,0.001,0.0,-0.076,-0.004,-0.022,0.0,0.002'"
      ]
     },
     "execution_count": 53,
     "metadata": {},
     "output_type": "execute_result"
    }
   ],
   "source": [
    "str(lnc_dac1['n344453'].seq)"
   ]
  },
  {
   "cell_type": "code",
   "execution_count": 50,
   "metadata": {},
   "outputs": [
    {
     "data": {
      "text/plain": [
       "Bio.Seq.Seq"
      ]
     },
     "execution_count": 50,
     "metadata": {},
     "output_type": "execute_result"
    }
   ],
   "source": [
    "type(pro_PseAAC['Q07955'].seq)"
   ]
  },
  {
   "cell_type": "markdown",
   "metadata": {},
   "source": [
    "### preparing the features set for NPInterV2 dataset"
   ]
  },
  {
   "cell_type": "code",
   "execution_count": 56,
   "metadata": {},
   "outputs": [],
   "source": [
    "# creating features from npinter v2\n",
    "\n",
    "def prepare_NPinter_feature_DAC(pro_PseAAC, lnc_DAC, df_NPInter2):\n",
    "    # create dict of proteins\n",
    "    pro_dict=pro_PseAAC\n",
    "    # create dict of lncRnas\n",
    "    lnc_dict = lnc_DAC\n",
    "    # positive set\n",
    "    posi_set = set()\n",
    "    pro_set = set()\n",
    "    X_features =[]\n",
    "    Y_labels =[]\n",
    "    df_interact = pd.DataFrame(columns=['ncIdentifier', 'prIdentifier', 'interaction'])\n",
    "    # geting positive class\n",
    "    for index, row in tqdm(df_NPInter2.iterrows()):\n",
    "        ncIdentifier=row['ncIdentifier'].strip()\n",
    "        prIdentifier =row['prIdentifier'].strip()\n",
    "        posi_set.add((ncIdentifier, prIdentifier))\n",
    "        pro_set.add(prIdentifier)\n",
    "        if (ncIdentifier in lnc_dict) and (prIdentifier in pro_dict):\n",
    "            PseAAC=str(pro_dict[prIdentifier].seq)\n",
    "            DAC = str(lnc_dict[ncIdentifier].seq)\n",
    "            df_interact = df_interact.append({'ncIdentifier': ncIdentifier, 'prIdentifier': prIdentifier, 'interaction': 1}, ignore_index=True)\n",
    "            pro_fea = PseAAC.split(\",\")\n",
    "            lnc_fea = DAC.split(\",\")\n",
    "            #X_features.append((sim_lst_pro,sim_lst_lnc))\n",
    "            X_features.append(pro_fea + lnc_fea)\n",
    "            Y_labels.append(1)\n",
    "\n",
    "        else:\n",
    "            print(prIdentifier)\n",
    "    #getting negative data or class\n",
    "    pro_list = list(pro_set)   \n",
    "    total_pro_len = len(pro_list)  \n",
    "    for index, row in tqdm(df_NPInter2.iterrows()):\n",
    "        ncIdentifier=row['ncIdentifier'].strip()\n",
    "        prIdentifier =row['prIdentifier'].strip()\n",
    "        #posi_set.add((ncIdentifier, prIdentifier))\n",
    "        for val in range(50):\n",
    "                    random_choice = randint(0,total_pro_len-1)\n",
    "                    select_pro = pro_list[random_choice]\n",
    "                    selec_nega= (ncIdentifier, select_pro)\n",
    "                    if selec_nega not in posi_set:\n",
    "                        posi_set.add(selec_nega)\n",
    "                        #print selec_nega\n",
    "                        break\n",
    "        if (ncIdentifier in lnc_dict) and (select_pro in pro_dict):\n",
    "            PseAAC=str(pro_dict[prIdentifier].seq)\n",
    "            DAC = str(lnc_dict[ncIdentifier].seq)\n",
    "            df_interact = df_interact.append({'ncIdentifier': ncIdentifier, 'prIdentifier': prIdentifier, 'interaction': 1}, ignore_index=True)\n",
    "            pro_fea = PseAAC.split(\",\")\n",
    "            lnc_fea = DAC.split(\",\")\n",
    "            #X_features.append((sim_lst_pro,sim_lst_lnc))\n",
    "            X_features.append(pro_fea + lnc_fea)\n",
    "            Y_labels.append(0)\n",
    "    return df_interact,np.array(X_features) , Y_labels\n",
    "\n",
    "        \n",
    "    \n"
   ]
  },
  {
   "cell_type": "code",
   "execution_count": 57,
   "metadata": {
    "scrolled": false
   },
   "outputs": [
    {
     "name": "stderr",
     "output_type": "stream",
     "text": [
      "\n",
      "0it [00:00, ?it/s]\n",
      "27it [00:00, 267.48it/s]\n",
      "55it [00:00, 268.82it/s]\n",
      "86it [00:00, 279.26it/s]\n",
      "117it [00:00, 286.28it/s]\n",
      "149it [00:00, 294.04it/s]\n",
      "180it [00:00, 297.84it/s]\n",
      "207it [00:00, 286.20it/s]\n",
      "239it [00:00, 293.99it/s]\n",
      "268it [00:00, 289.32it/s]\n",
      "299it [00:01, 292.77it/s]\n",
      "328it [00:01, 291.11it/s]\n",
      "358it [00:01, 292.05it/s]\n",
      "387it [00:01, 281.31it/s]\n",
      "418it [00:01, 288.58it/s]\n",
      "449it [00:01, 293.90it/s]\n",
      "479it [00:01, 290.60it/s]\n",
      "509it [00:01, 285.86it/s]\n",
      "538it [00:01, 281.29it/s]\n",
      "568it [00:01, 284.26it/s]\n",
      "597it [00:02, 282.66it/s]\n",
      "626it [00:02, 283.20it/s]\n",
      "655it [00:02, 281.93it/s]\n",
      "684it [00:02, 278.62it/s]\n",
      "712it [00:02, 278.25it/s]\n",
      "742it [00:02, 282.07it/s]\n",
      "772it [00:02, 285.63it/s]\n",
      "802it [00:02, 288.17it/s]\n",
      "831it [00:02, 287.91it/s]\n",
      "861it [00:02, 290.63it/s]\n",
      "891it [00:03, 289.19it/s]\n",
      "922it [00:03, 293.51it/s]\n",
      "953it [00:03, 296.60it/s]\n",
      "983it [00:03, 293.30it/s]\n",
      "1013it [00:03, 291.03it/s]\n",
      "1043it [00:03, 292.86it/s]\n",
      "1073it [00:03, 289.05it/s]\n",
      "1102it [00:03, 285.12it/s]\n",
      "1131it [00:03, 281.61it/s]\n",
      "1162it [00:04, 287.99it/s]\n",
      "1191it [00:04, 283.57it/s]\n",
      "1223it [00:04, 292.03it/s]\n",
      "1253it [00:04, 289.32it/s]\n",
      "1284it [00:04, 293.60it/s]\n",
      "1314it [00:04, 294.67it/s]\n",
      "1344it [00:04, 288.61it/s]\n",
      "1373it [00:04, 288.21it/s]\n",
      "1402it [00:04, 269.48it/s]\n",
      "1430it [00:04, 258.99it/s]\n",
      "1457it [00:05, 253.39it/s]\n",
      "1483it [00:05, 252.41it/s]\n",
      "1514it [00:05, 265.29it/s]\n",
      "1541it [00:05, 262.07it/s]\n",
      "1568it [00:05, 246.36it/s]\n",
      "1597it [00:05, 255.32it/s]\n",
      "1626it [00:05, 264.14it/s]\n",
      "1654it [00:05, 267.98it/s]\n",
      "1683it [00:05, 273.50it/s]\n",
      "1713it [00:06, 280.20it/s]\n",
      "1744it [00:06, 286.96it/s]\n",
      "1775it [00:06, 291.90it/s]\n",
      "1805it [00:06, 291.76it/s]\n",
      "1835it [00:06, 278.66it/s]\n",
      "1866it [00:06, 286.62it/s]\n",
      "1895it [00:06, 280.18it/s]\n",
      "1924it [00:06, 279.83it/s]\n",
      "1953it [00:06, 275.60it/s]\n",
      "1981it [00:07, 273.70it/s]\n",
      "2009it [00:07, 270.81it/s]\n",
      "2037it [00:07, 268.83it/s]\n",
      "2065it [00:07, 271.34it/s]\n",
      "2093it [00:07, 272.33it/s]\n",
      "2122it [00:07, 276.65it/s]\n",
      "2151it [00:07, 278.95it/s]\n",
      "2182it [00:07, 285.26it/s]\n",
      "2211it [00:07, 281.70it/s]\n",
      "2240it [00:07, 283.36it/s]\n",
      "2270it [00:08, 287.37it/s]\n",
      "2299it [00:08, 287.35it/s]\n",
      "2328it [00:08, 279.85it/s]\n",
      "2357it [00:08, 267.24it/s]\n",
      "2384it [00:08, 253.04it/s]\n",
      "2413it [00:08, 262.43it/s]\n",
      "2440it [00:08, 260.86it/s]\n",
      "2467it [00:08, 259.78it/s]\n",
      "2498it [00:08, 272.37it/s]\n",
      "2526it [00:09, 269.12it/s]\n",
      "2554it [00:09, 269.20it/s]\n",
      "2585it [00:09, 278.80it/s]\n",
      "2614it [00:09, 279.67it/s]\n",
      "2643it [00:09, 260.64it/s]\n",
      "2673it [00:09, 269.17it/s]\n",
      "2701it [00:09, 269.23it/s]\n",
      "2729it [00:09, 264.70it/s]\n",
      "2756it [00:09, 265.53it/s]\n",
      "2783it [00:09, 264.55it/s]\n",
      "2811it [00:10, 267.50it/s]\n",
      "2839it [00:10, 269.61it/s]\n",
      "2867it [00:10, 271.11it/s]\n",
      "2896it [00:10, 275.77it/s]\n",
      "2924it [00:10, 271.44it/s]\n",
      "2952it [00:10, 267.71it/s]\n",
      "2979it [00:10, 265.28it/s]\n",
      "3006it [00:10, 265.93it/s]\n",
      "3035it [00:10, 268.97it/s]\n",
      "3062it [00:11, 242.49it/s]\n",
      "3088it [00:11, 246.83it/s]\n",
      "3118it [00:11, 260.05it/s]\n",
      "3147it [00:11, 266.19it/s]\n",
      "3175it [00:11, 267.14it/s]\n",
      "3205it [00:11, 274.74it/s]\n",
      "3233it [00:11, 269.96it/s]\n",
      "3261it [00:11, 272.14it/s]\n",
      "3291it [00:11, 279.20it/s]\n",
      "3320it [00:11, 275.96it/s]\n",
      "3348it [00:12, 275.57it/s]\n",
      "3376it [00:12, 275.30it/s]\n",
      "3407it [00:12, 284.13it/s]\n",
      "3436it [00:12, 283.40it/s]\n",
      "3465it [00:12, 278.01it/s]\n",
      "3493it [00:12, 275.37it/s]\n",
      "3521it [00:12, 275.16it/s]\n",
      "3549it [00:12, 271.81it/s]\n",
      "3577it [00:12, 262.69it/s]\n",
      "3604it [00:13, 255.85it/s]\n",
      "3630it [00:13, 245.48it/s]\n",
      "3655it [00:13, 241.15it/s]\n",
      "3680it [00:13, 235.52it/s]\n",
      "3707it [00:13, 244.27it/s]\n",
      "3735it [00:13, 252.66it/s]\n",
      "3761it [00:13, 251.90it/s]\n",
      "3787it [00:13, 238.25it/s]\n",
      "3812it [00:13, 230.98it/s]\n",
      "3836it [00:14, 223.23it/s]\n",
      "3859it [00:14, 216.36it/s]\n",
      "3881it [00:14, 213.68it/s]\n",
      "3903it [00:14, 213.07it/s]\n",
      "3925it [00:14, 209.61it/s]\n",
      "3947it [00:14, 210.82it/s]\n",
      "3973it [00:14, 221.82it/s]\n",
      "4000it [00:14, 233.79it/s]\n",
      "4028it [00:14, 244.72it/s]\n",
      "4053it [00:14, 233.89it/s]\n",
      "4080it [00:15, 241.09it/s]\n",
      "4110it [00:15, 253.62it/s]\n",
      "4136it [00:15, 248.23it/s]\n",
      "4164it [00:15, 256.31it/s]\n",
      "4190it [00:15, 242.34it/s]\n",
      "4215it [00:15, 229.17it/s]\n",
      "4241it [00:15, 236.36it/s]\n",
      "4270it [00:15, 249.00it/s]\n",
      "4297it [00:15, 254.27it/s]\n",
      "4323it [00:16, 251.55it/s]\n",
      "4349it [00:16, 237.38it/s]\n",
      "4374it [00:16, 228.51it/s]\n",
      "4399it [00:16, 233.94it/s]\n",
      "4427it [00:16, 244.83it/s]\n",
      "4453it [00:16, 248.52it/s]\n",
      "4482it [00:16, 259.01it/s]\n",
      "4511it [00:16, 266.89it/s]\n",
      "4538it [00:16, 265.49it/s]\n",
      "4567it [00:17, 270.16it/s]\n",
      "4595it [00:17, 270.71it/s]\n",
      "4623it [00:17, 271.88it/s]\n",
      "4651it [00:17, 266.49it/s]\n",
      "4681it [00:17, 275.01it/s]\n",
      "4709it [00:17, 272.50it/s]\n",
      "4737it [00:17, 267.67it/s]\n",
      "4765it [00:17, 268.18it/s]\n",
      "4795it [00:17, 276.27it/s]\n",
      "4823it [00:17, 270.20it/s]\n",
      "4851it [00:18, 269.18it/s]\n",
      "4878it [00:18, 268.67it/s]\n",
      "4905it [00:18, 265.93it/s]\n",
      "4932it [00:18, 259.49it/s]\n",
      "4959it [00:18, 255.16it/s]\n",
      "4987it [00:18, 260.71it/s]\n",
      "5014it [00:18, 261.18it/s]\n",
      "5046it [00:18, 275.75it/s]\n",
      "5074it [00:18, 276.24it/s]\n",
      "5106it [00:18, 286.55it/s]\n",
      "5135it [00:19, 282.59it/s]\n",
      "5164it [00:19, 279.07it/s]\n",
      "5193it [00:19, 266.74it/s]\n",
      "5220it [00:19, 257.79it/s]\n",
      "5247it [00:19, 259.87it/s]\n",
      "5274it [00:19, 259.84it/s]\n",
      "5301it [00:19, 251.12it/s]\n",
      "5328it [00:19, 255.09it/s]\n",
      "5353it [00:19, 268.34it/s]\n",
      "0it [00:00, ?it/s]\n",
      "24it [00:00, 237.75it/s]\n",
      "50it [00:00, 243.37it/s]\n",
      "76it [00:00, 246.06it/s]\n",
      "103it [00:00, 251.41it/s]\n",
      "129it [00:00, 252.49it/s]\n",
      "159it [00:00, 263.04it/s]\n",
      "184it [00:00, 258.23it/s]\n",
      "211it [00:00, 260.18it/s]\n",
      "239it [00:00, 265.12it/s]\n",
      "265it [00:01, 262.01it/s]\n",
      "292it [00:01, 262.86it/s]\n",
      "318it [00:01, 260.47it/s]\n",
      "345it [00:01, 261.77it/s]\n",
      "373it [00:01, 265.51it/s]\n",
      "400it [00:01, 258.46it/s]\n",
      "426it [00:01, 257.43it/s]\n",
      "452it [00:01, 254.45it/s]\n",
      "480it [00:01, 260.20it/s]\n",
      "507it [00:01, 259.32it/s]\n",
      "533it [00:02, 254.24it/s]\n",
      "559it [00:02, 253.00it/s]\n",
      "588it [00:02, 261.68it/s]\n",
      "615it [00:02, 262.63it/s]\n",
      "643it [00:02, 264.62it/s]\n",
      "670it [00:02, 255.67it/s]\n",
      "696it [00:02, 253.25it/s]\n",
      "722it [00:02, 253.78it/s]\n",
      "748it [00:02, 254.16it/s]\n",
      "774it [00:03, 245.77it/s]\n",
      "801it [00:03, 251.20it/s]\n",
      "830it [00:03, 261.04it/s]\n",
      "857it [00:03, 255.48it/s]\n",
      "883it [00:03, 249.47it/s]\n",
      "909it [00:03, 246.83it/s]\n",
      "939it [00:03, 259.38it/s]\n",
      "966it [00:03, 256.54it/s]\n",
      "992it [00:03, 253.84it/s]\n",
      "1018it [00:03, 253.46it/s]\n",
      "1044it [00:04, 252.45it/s]\n",
      "1073it [00:04, 260.57it/s]\n",
      "1100it [00:04, 255.89it/s]\n",
      "1127it [00:04, 258.52it/s]\n",
      "1153it [00:04, 249.32it/s]\n",
      "1179it [00:04, 244.64it/s]\n",
      "1204it [00:04, 244.10it/s]\n",
      "1231it [00:04, 249.98it/s]\n",
      "1258it [00:04, 253.55it/s]\n",
      "1286it [00:05, 258.82it/s]\n",
      "1312it [00:05, 256.15it/s]\n",
      "1338it [00:05, 246.37it/s]\n",
      "1366it [00:05, 253.54it/s]\n",
      "1392it [00:05, 251.05it/s]\n",
      "1418it [00:05, 248.62it/s]\n",
      "1444it [00:05, 251.24it/s]\n",
      "1470it [00:05, 243.17it/s]\n",
      "1496it [00:05, 246.61it/s]\n",
      "1523it [00:05, 251.82it/s]\n",
      "1549it [00:06, 249.86it/s]\n",
      "1576it [00:06, 254.90it/s]\n",
      "1602it [00:06, 251.98it/s]\n",
      "1628it [00:06, 253.63it/s]\n",
      "1654it [00:06, 248.24it/s]\n",
      "1682it [00:06, 255.62it/s]\n",
      "1708it [00:06, 251.01it/s]\n",
      "1734it [00:06, 250.75it/s]\n",
      "1762it [00:06, 258.19it/s]\n",
      "1788it [00:07, 249.11it/s]\n",
      "1814it [00:07, 238.44it/s]\n",
      "1842it [00:07, 246.30it/s]\n",
      "1867it [00:07, 234.89it/s]\n",
      "1894it [00:07, 243.15it/s]\n",
      "1919it [00:07, 244.49it/s]\n",
      "1945it [00:07, 247.56it/s]\n",
      "1971it [00:07, 249.04it/s]\n",
      "1998it [00:07, 252.87it/s]\n",
      "2024it [00:07, 251.32it/s]\n",
      "2051it [00:08, 255.96it/s]\n",
      "2077it [00:08, 254.18it/s]\n",
      "2103it [00:08, 254.44it/s]\n",
      "2130it [00:08, 257.48it/s]\n",
      "2156it [00:08, 251.53it/s]\n",
      "2185it [00:08, 260.59it/s]\n",
      "2212it [00:08, 253.02it/s]\n",
      "2238it [00:08, 249.25it/s]\n",
      "2264it [00:08, 248.80it/s]\n",
      "2289it [00:09, 248.46it/s]\n",
      "2314it [00:09, 247.49it/s]\n",
      "2339it [00:09, 247.54it/s]\n",
      "2364it [00:09, 238.38it/s]\n",
      "2391it [00:09, 245.08it/s]\n",
      "2416it [00:09, 244.41it/s]\n",
      "2441it [00:09, 221.28it/s]\n",
      "2464it [00:09, 215.08it/s]\n",
      "2486it [00:09, 206.80it/s]\n",
      "2508it [00:10, 198.11it/s]\n",
      "2529it [00:10, 192.70it/s]\n",
      "2551it [00:10, 199.09it/s]\n",
      "2579it [00:10, 217.01it/s]\n",
      "2606it [00:10, 228.86it/s]\n",
      "2630it [00:10, 228.16it/s]\n",
      "2656it [00:10, 234.97it/s]\n",
      "2681it [00:10, 238.64it/s]\n",
      "2706it [00:10, 234.49it/s]\n",
      "2732it [00:10, 240.30it/s]\n",
      "2757it [00:11, 242.47it/s]\n",
      "2782it [00:11, 241.88it/s]\n",
      "2807it [00:11, 234.67it/s]\n",
      "2831it [00:11, 218.25it/s]\n",
      "2854it [00:11, 211.89it/s]\n",
      "2876it [00:11, 209.40it/s]\n",
      "2898it [00:11, 200.32it/s]\n",
      "2919it [00:11, 189.94it/s]\n",
      "2939it [00:12, 182.34it/s]\n",
      "2958it [00:12, 182.48it/s]\n",
      "2978it [00:12, 185.35it/s]\n"
     ]
    },
    {
     "name": "stderr",
     "output_type": "stream",
     "text": [
      "2998it [00:12, 187.41it/s]\n",
      "3017it [00:12, 187.10it/s]\n",
      "3036it [00:12, 185.79it/s]\n",
      "3055it [00:12, 183.81it/s]\n",
      "3075it [00:12, 187.88it/s]\n",
      "3096it [00:12, 193.51it/s]\n",
      "3116it [00:12, 188.27it/s]\n",
      "3135it [00:13, 183.36it/s]\n",
      "3154it [00:13, 182.66it/s]\n",
      "3176it [00:13, 191.98it/s]\n",
      "3197it [00:13, 195.44it/s]\n",
      "3218it [00:13, 197.37it/s]\n",
      "3238it [00:13, 191.36it/s]\n",
      "3259it [00:13, 196.08it/s]\n",
      "3279it [00:13, 194.97it/s]\n",
      "3299it [00:13, 190.32it/s]\n",
      "3319it [00:14, 182.58it/s]\n",
      "3338it [00:14, 178.53it/s]\n",
      "3356it [00:14, 174.32it/s]\n",
      "3374it [00:14, 171.98it/s]\n",
      "3392it [00:14, 173.84it/s]\n",
      "3413it [00:14, 181.43it/s]\n",
      "3432it [00:14, 183.42it/s]\n",
      "3452it [00:14, 186.55it/s]\n",
      "3471it [00:14, 185.41it/s]\n",
      "3490it [00:14, 182.49it/s]\n",
      "3509it [00:15, 179.99it/s]\n",
      "3528it [00:15, 176.29it/s]\n",
      "3546it [00:15, 176.38it/s]\n",
      "3564it [00:15, 173.88it/s]\n",
      "3582it [00:15, 172.67it/s]\n",
      "3610it [00:15, 193.91it/s]\n",
      "3638it [00:15, 213.16it/s]\n",
      "3664it [00:15, 223.63it/s]\n",
      "3688it [00:15, 227.04it/s]\n",
      "3713it [00:16, 231.57it/s]\n",
      "3737it [00:16, 233.39it/s]\n",
      "3761it [00:16, 234.00it/s]\n",
      "3785it [00:16, 235.11it/s]\n",
      "3811it [00:16, 240.09it/s]\n",
      "3836it [00:16, 236.81it/s]\n",
      "3860it [00:16, 237.09it/s]\n",
      "3885it [00:16, 238.79it/s]\n",
      "3910it [00:16, 241.39it/s]\n",
      "3937it [00:16, 247.30it/s]\n",
      "3962it [00:17, 244.51it/s]\n",
      "3988it [00:17, 246.17it/s]\n",
      "4013it [00:17, 243.74it/s]\n",
      "4038it [00:17, 242.76it/s]\n",
      "4063it [00:17, 239.99it/s]\n",
      "4088it [00:17, 240.85it/s]\n",
      "4113it [00:17, 238.00it/s]\n",
      "4137it [00:17, 237.93it/s]\n",
      "4165it [00:17, 247.87it/s]\n",
      "4190it [00:17, 242.06it/s]\n",
      "4215it [00:18, 240.90it/s]\n",
      "4240it [00:18, 241.48it/s]\n",
      "4265it [00:18, 239.12it/s]\n",
      "4289it [00:18, 236.59it/s]\n",
      "4313it [00:18, 236.24it/s]\n",
      "4340it [00:18, 244.16it/s]\n",
      "4365it [00:18, 243.76it/s]\n",
      "4391it [00:18, 247.04it/s]\n",
      "4416it [00:18, 244.33it/s]\n",
      "4441it [00:19, 235.62it/s]\n",
      "4465it [00:19, 236.26it/s]\n",
      "4491it [00:19, 240.93it/s]\n",
      "4517it [00:19, 245.69it/s]\n",
      "4543it [00:19, 249.14it/s]\n",
      "4568it [00:19, 245.04it/s]\n",
      "4593it [00:19, 245.10it/s]\n",
      "4618it [00:19, 242.29it/s]\n",
      "4645it [00:19, 249.33it/s]\n",
      "4671it [00:19, 243.96it/s]\n",
      "4696it [00:20, 244.34it/s]\n",
      "4721it [00:20, 241.77it/s]\n",
      "4746it [00:20, 242.10it/s]\n",
      "4771it [00:20, 238.86it/s]\n",
      "4796it [00:20, 241.43it/s]\n",
      "4821it [00:20, 240.46it/s]\n",
      "4846it [00:20, 239.10it/s]\n",
      "4870it [00:20, 237.99it/s]\n",
      "4897it [00:20, 244.79it/s]\n",
      "4922it [00:21, 241.38it/s]\n",
      "4947it [00:21, 237.01it/s]\n",
      "4971it [00:21, 233.77it/s]\n",
      "4995it [00:21, 232.90it/s]\n",
      "5019it [00:21, 234.34it/s]\n",
      "5043it [00:21, 234.66it/s]\n",
      "5067it [00:21, 234.89it/s]\n",
      "5091it [00:21, 232.32it/s]\n",
      "5116it [00:21, 235.39it/s]\n",
      "5141it [00:21, 236.90it/s]\n",
      "5165it [00:22, 231.00it/s]\n",
      "5191it [00:22, 238.38it/s]\n",
      "5215it [00:22, 231.31it/s]\n",
      "5239it [00:22, 229.86it/s]\n",
      "5263it [00:22, 229.51it/s]\n",
      "5287it [00:22, 230.59it/s]\n",
      "5311it [00:22, 232.69it/s]\n",
      "5336it [00:22, 234.99it/s]\n",
      "5353it [00:22, 233.80it/s]"
     ]
    },
    {
     "data": {
      "text/plain": [
       "(10706, 3)"
      ]
     },
     "execution_count": 57,
     "metadata": {},
     "output_type": "execute_result"
    }
   ],
   "source": [
    "df_interact_DAC, X_Features_DAC, Y_Labels_DAC=prepare_NPinter_feature_DAC(pro_PseAAC, lnc_DAC, df_NPInter2)\n",
    "df_interact_DAC.shape"
   ]
  },
  {
   "cell_type": "code",
   "execution_count": 166,
   "metadata": {},
   "outputs": [
    {
     "name": "stdout",
     "output_type": "stream",
     "text": [
      "[ 0.018  0.004  0.036  0.02   0.013  0.063  0.005  0.013  0.014  0.011\n",
      "  0.005  0.013  0.03   0.002  0.077  0.05   0.013  0.03   0.002  0.027\n",
      "  0.062  0.048  0.056  0.054  0.056  0.058  0.056  0.056  0.056  0.054\n",
      "  0.001 -0.994  0.067 -0.282 -0.     0.005 -0.001  0.129 -0.005 -0.053\n",
      "  0.     0.001 -0.     0.019  0.001 -0.007 -0.     0.     0.    -0.09\n",
      "  0.026  0.025  0.     0.     0.     0.019  0.017  0.021  0.     0.001\n",
      "  0.     0.095  0.034  0.014  0.     0.001 -0.    -0.035  0.003 -0.008\n",
      "  0.     0.001  0.    -0.133  0.01   0.023  0.     0.    -0.     0.241\n",
      "  0.007  0.005  0.     0.001  0.     0.011  0.006  0.029 -0.     0.001]\n"
     ]
    }
   ],
   "source": [
    "print(X_Features_DAC[0])"
   ]
  },
  {
   "cell_type": "code",
   "execution_count": 61,
   "metadata": {},
   "outputs": [
    {
     "name": "stdout",
     "output_type": "stream",
     "text": [
      "done...\n"
     ]
    }
   ],
   "source": [
    "import csv\n",
    "\n",
    "\n",
    "\n",
    "with open(\"X_Features_DAC.csv\", \"w\", newline=\"\") as f:\n",
    "    writer = csv.writer(f)\n",
    "    writer.writerows(map(lambda x: [x], X_Features_DAC))    \n",
    "    \n",
    "print(\"done...\")    "
   ]
  },
  {
   "cell_type": "code",
   "execution_count": 32,
   "metadata": {},
   "outputs": [],
   "source": [
    "#df_lnc_sim.count()"
   ]
  },
  {
   "cell_type": "code",
   "execution_count": 30,
   "metadata": {},
   "outputs": [],
   "source": [
    "# save pairs to disk\n",
    "df_interact_DAC.to_csv('../data/NpInterV2_Pairs_full_DAC.csv')"
   ]
  },
  {
   "cell_type": "markdown",
   "metadata": {},
   "source": [
    "### Model\n",
    "\n"
   ]
  },
  {
   "cell_type": "markdown",
   "metadata": {},
   "source": [
    "#### train test split"
   ]
  },
  {
   "cell_type": "code",
   "execution_count": 141,
   "metadata": {},
   "outputs": [
    {
     "data": {
      "text/plain": [
       "8029"
      ]
     },
     "execution_count": 141,
     "metadata": {},
     "output_type": "execute_result"
    }
   ],
   "source": [
    "#spliting train test\n",
    "X_Features_DAC=X_Features_DAC.astype(float)\n",
    "X_train,X_test,y_train,y_test=train_test_split(X_Features_DAC,Y_Labels_DAC,test_size=0.25,random_state=0)\n",
    "len(X_train)"
   ]
  },
  {
   "cell_type": "markdown",
   "metadata": {},
   "source": [
    "## PCA"
   ]
  },
  {
   "cell_type": "code",
   "execution_count": 105,
   "metadata": {},
   "outputs": [],
   "source": [
    "\n",
    "from sklearn.preprocessing import StandardScaler\n",
    "scaler = StandardScaler()\n",
    "# Fit on training set only.\n",
    "scaler.fit(X_train)\n",
    "# Apply transform to both the training set and the test set.\n",
    "X_train = scaler.transform(X_train)\n",
    "X_test = scaler.transform(X_test)\n",
    "from sklearn.decomposition import PCA\n",
    "# Make an instance of the Model\n",
    "pca = PCA(.80)\n",
    "pca.fit(X_train)\n",
    "X_train = pca.transform(X_train)\n",
    "X_test = pca.transform(X_test)"
   ]
  },
  {
   "cell_type": "code",
   "execution_count": 106,
   "metadata": {},
   "outputs": [
    {
     "data": {
      "text/plain": [
       "42"
      ]
     },
     "execution_count": 106,
     "metadata": {},
     "output_type": "execute_result"
    }
   ],
   "source": [
    "len(X_train[0])"
   ]
  },
  {
   "cell_type": "markdown",
   "metadata": {},
   "source": [
    "### building model"
   ]
  },
  {
   "cell_type": "code",
   "execution_count": 113,
   "metadata": {},
   "outputs": [],
   "source": [
    "def train_model(model,X_train,y_train):\n",
    "        \n",
    "    # fiting kfold model\n",
    "    kf = StratifiedKFold(n_splits=5,shuffle=True,random_state=seed)\n",
    "    pred_test_full =0\n",
    "    cv_score =[]\n",
    "    i=1\n",
    "    y_train1=np.array(y_train)\n",
    "    #y_train1=y_train1.reshape(-1,1)\n",
    "    #print(y_train.shape)\n",
    "    #print(X_train.shape)\n",
    "\n",
    "    for train_index,test_index in kf.split(X_train,y_train1):\n",
    "        print('{} of KFold {}'.format(i,kf.n_splits))\n",
    "        #print(train_index)\n",
    "        #print(test_index)\n",
    "        xtr,xvl = X_train[train_index],X_train[test_index]\n",
    "        ytr,yvl = y_train1[train_index],y_train1[test_index]\n",
    "        #print(xtr[0])\n",
    "        #print(ytr[0])\n",
    "\n",
    "        #model\n",
    "        #medel = LogisticRegression(solver='lbfgs')#LogisticRegression(C=2)\n",
    "        model.fit(xtr,ytr)\n",
    "        score = roc_auc_score(yvl,model.predict(xvl))\n",
    "        print('ROC AUC score:',score)\n",
    "        cv_score.append(score)    \n",
    "        pred_test = model.predict_proba(X_test)[:,1]\n",
    "        pred_test_full +=pred_test\n",
    "        i+=1\n",
    "    return model,xtr,xvl, ytr,yvl,cv_score    "
   ]
  },
  {
   "cell_type": "markdown",
   "metadata": {},
   "source": [
    "### Logistic Regration Model\n"
   ]
  },
  {
   "cell_type": "code",
   "execution_count": 142,
   "metadata": {},
   "outputs": [
    {
     "name": "stdout",
     "output_type": "stream",
     "text": [
      "1 of KFold 5\n",
      "ROC AUC score: 0.46056192758377346\n",
      "2 of KFold 5\n",
      "ROC AUC score: 0.48281025831918045\n",
      "3 of KFold 5\n",
      "ROC AUC score: 0.47184545828195645\n",
      "4 of KFold 5\n",
      "ROC AUC score: 0.4795624626790437\n",
      "5 of KFold 5\n",
      "ROC AUC score: 0.47907860122310675\n"
     ]
    }
   ],
   "source": [
    "model = LogisticRegression(solver='lbfgs')#LogisticRegression(C=2)\n",
    "model,xtr,xvl, ytr,yvl,cv_score =train_model(model,X_train,y_train)"
   ]
  },
  {
   "cell_type": "code",
   "execution_count": 143,
   "metadata": {
    "scrolled": false
   },
   "outputs": [
    {
     "name": "stdout",
     "output_type": "stream",
     "text": [
      "Confusion matrix on validation set: \n",
      " [[330 464]\n",
      " [371 440]]\n",
      "Cv [0.46056192758377346, 0.48281025831918045, 0.47184545828195645, 0.4795624626790437, 0.47907860122310675] \n",
      "Mean cv Score 0.47477174161741215\n"
     ]
    }
   ],
   "source": [
    "print('Confusion matrix on validation set: \\n',confusion_matrix(yvl,model.predict(xvl)))\n",
    "print('Cv',cv_score,'\\nMean cv Score',np.mean(cv_score))\n"
   ]
  },
  {
   "cell_type": "code",
   "execution_count": 144,
   "metadata": {},
   "outputs": [
    {
     "name": "stdout",
     "output_type": "stream",
     "text": [
      "Results on validation set: \n",
      "Accuracy: 0.4797507788161994\n",
      "Precision: 0.48672566371681414\n",
      "Recall: 0.5425400739827374\n",
      "F1 Score: 0.5131195335276968\n"
     ]
    }
   ],
   "source": [
    "print(\"Results on validation set: \")\n",
    "print(\"Accuracy:\",metrics.accuracy_score(yvl, model.predict(xvl)))\n",
    "print(\"Precision:\",metrics.precision_score(yvl, model.predict(xvl)))\n",
    "print(\"Recall:\",metrics.recall_score(yvl, model.predict(xvl)))\n",
    "print(\"F1 Score:\",metrics.f1_score(yvl, model.predict(xvl)))"
   ]
  },
  {
   "cell_type": "code",
   "execution_count": 145,
   "metadata": {},
   "outputs": [
    {
     "name": "stdout",
     "output_type": "stream",
     "text": [
      "Results on test set:\n"
     ]
    },
    {
     "data": {
      "text/plain": [
       "array([[559, 820],\n",
       "       [573, 725]], dtype=int64)"
      ]
     },
     "execution_count": 145,
     "metadata": {},
     "output_type": "execute_result"
    }
   ],
   "source": [
    "print(\"Results on test set:\")\n",
    "y_pred=model.predict(X_test)\n",
    "cnf_matrix = metrics.confusion_matrix(y_test, y_pred)\n",
    "cnf_matrix"
   ]
  },
  {
   "cell_type": "code",
   "execution_count": 146,
   "metadata": {},
   "outputs": [
    {
     "data": {
      "text/plain": [
       "Text(0.5, 257.44, 'Predicted label')"
      ]
     },
     "execution_count": 146,
     "metadata": {},
     "output_type": "execute_result"
    },
    {
     "data": {
      "image/png": "[encoded data removed]",
      "text/plain": [
       "<Figure size 432x288 with 2 Axes>"
      ]
     },
     "metadata": {
      "needs_background": "light"
     },
     "output_type": "display_data"
    }
   ],
   "source": [
    "class_names=[0,1] # name  of classes\n",
    "fig, ax = plt.subplots()\n",
    "tick_marks = np.arange(len(class_names))\n",
    "plt.xticks(tick_marks, class_names)\n",
    "plt.yticks(tick_marks, class_names)\n",
    "# create heatmap\n",
    "sns.heatmap(pd.DataFrame(cnf_matrix), annot=True, cmap=\"YlGnBu\" ,fmt='g')\n",
    "ax.xaxis.set_label_position(\"top\")\n",
    "plt.tight_layout()\n",
    "plt.title('Confusion matrix ', y=1.1)\n",
    "plt.ylabel('Actual label')\n",
    "plt.xlabel('Predicted label')"
   ]
  },
  {
   "cell_type": "code",
   "execution_count": 148,
   "metadata": {},
   "outputs": [
    {
     "name": "stdout",
     "output_type": "stream",
     "text": [
      "Accuracy: 0.47964138961524094\n",
      "Precision: 0.4692556634304207\n",
      "Recall: 0.5585516178736518\n",
      "F1 Score: 0.5100246218782976\n"
     ]
    }
   ],
   "source": [
    "print(\"Accuracy:\",metrics.accuracy_score(y_test, y_pred))\n",
    "print(\"Precision:\",metrics.precision_score(y_test, y_pred))\n",
    "print(\"Recall:\",metrics.recall_score(y_test, y_pred))\n",
    "print(\"F1 Score:\",metrics.f1_score(y_test, y_pred))"
   ]
  },
  {
   "cell_type": "code",
   "execution_count": 120,
   "metadata": {},
   "outputs": [],
   "source": [
    "#lr.coef_\n"
   ]
  },
  {
   "cell_type": "code",
   "execution_count": 149,
   "metadata": {},
   "outputs": [
    {
     "name": "stdout",
     "output_type": "stream",
     "text": [
      "validation set score:\n",
      "0.4797507788161994\n",
      "test set score:\n",
      "0.47964138961524094\n"
     ]
    }
   ],
   "source": [
    "print(\"validation set score:\")\n",
    "print(model.score(xvl,yvl))\n",
    "\n",
    "print(\"test set score:\")\n",
    "print(model.score(X_test,y_test))\n"
   ]
  },
  {
   "cell_type": "markdown",
   "metadata": {},
   "source": [
    "### Reciever Operating Characteristics\n"
   ]
  },
  {
   "cell_type": "code",
   "execution_count": 150,
   "metadata": {},
   "outputs": [
    {
     "data": {
      "text/plain": [
       "Text(0.5, 0, 'False positive rate')"
      ]
     },
     "execution_count": 150,
     "metadata": {},
     "output_type": "execute_result"
    },
    {
     "data": {
      "image/png": "[encoded data removed]",
      "text/plain": [
       "<Figure size 1008x576 with 1 Axes>"
      ]
     },
     "metadata": {
      "needs_background": "light"
     },
     "output_type": "display_data"
    }
   ],
   "source": [
    "# proba = model.predict_proba(xvl)[:,1]\n",
    "# frp,trp, threshold = roc_curve(yvl,proba)\n",
    "proba = model.predict_proba(X_test)[:,1]\n",
    "frp,trp, threshold = roc_curve(y_test,proba)\n",
    "roc_auc_ = auc(frp,trp)\n",
    "\n",
    "plt.figure(figsize=(14,8))\n",
    "plt.title('Reciever Operating Characteristics')\n",
    "plt.plot(frp,trp,'r',label = 'AUC = %0.2f' % roc_auc_)\n",
    "plt.legend(loc='lower right')\n",
    "plt.plot([0,1],[0,1],'b--')\n",
    "plt.ylabel('True positive rate')\n",
    "plt.xlabel('False positive rate')"
   ]
  },
  {
   "cell_type": "code",
   "execution_count": null,
   "metadata": {},
   "outputs": [],
   "source": []
  },
  {
   "cell_type": "markdown",
   "metadata": {},
   "source": [
    "### XGBoost Model\n"
   ]
  },
  {
   "cell_type": "code",
   "execution_count": 151,
   "metadata": {},
   "outputs": [
    {
     "name": "stdout",
     "output_type": "stream",
     "text": [
      "1 of KFold 5\n",
      "ROC AUC score: 0.3493892934415932\n",
      "2 of KFold 5\n",
      "ROC AUC score: 0.34261607302111685\n",
      "3 of KFold 5\n",
      "ROC AUC score: 0.3761107104359088\n",
      "4 of KFold 5\n",
      "ROC AUC score: 0.3677608977192534\n",
      "5 of KFold 5\n",
      "ROC AUC score: 0.3659078414868605\n"
     ]
    }
   ],
   "source": [
    "model = XGBClassifier(learning_rate=0.05, n_estimators=50, max_depth=4,\n",
    " min_child_weight=2, gamma=0, subsample=0.8, colsample_bytree=0.8,\n",
    " objective= 'binary:logistic', nthread=4, scale_pos_weight=1,seed=27)\n",
    "\n",
    "model,xtr,xvl, ytr,yvl,cv_score =train_model(model,X_train,y_train)"
   ]
  },
  {
   "cell_type": "code",
   "execution_count": 152,
   "metadata": {
    "scrolled": false
   },
   "outputs": [
    {
     "name": "stdout",
     "output_type": "stream",
     "text": [
      "Confusion matrix on validation set: \n",
      " [[257 537]\n",
      " [480 331]]\n",
      "Cv [0.3493892934415932, 0.34261607302111685, 0.3761107104359088, 0.3677608977192534, 0.3659078414868605] \n",
      "Mean cv Score 0.36035696322094657\n"
     ]
    }
   ],
   "source": [
    "print('Confusion matrix on validation set: \\n',confusion_matrix(yvl,model.predict(xvl)))\n",
    "print('Cv',cv_score,'\\nMean cv Score',np.mean(cv_score))\n"
   ]
  },
  {
   "cell_type": "code",
   "execution_count": 153,
   "metadata": {},
   "outputs": [
    {
     "name": "stdout",
     "output_type": "stream",
     "text": [
      "Results on validation set: \n",
      "Accuracy: 0.3663551401869159\n",
      "Precision: 0.3813364055299539\n",
      "Recall: 0.4081381011097411\n",
      "F1 Score: 0.39428231089934485\n"
     ]
    }
   ],
   "source": [
    "print(\"Results on validation set: \")\n",
    "print(\"Accuracy:\",metrics.accuracy_score(yvl, model.predict(xvl)))\n",
    "print(\"Precision:\",metrics.precision_score(yvl, model.predict(xvl)))\n",
    "print(\"Recall:\",metrics.recall_score(yvl, model.predict(xvl)))\n",
    "print(\"F1 Score:\",metrics.f1_score(yvl, model.predict(xvl)))"
   ]
  },
  {
   "cell_type": "code",
   "execution_count": 154,
   "metadata": {},
   "outputs": [
    {
     "name": "stdout",
     "output_type": "stream",
     "text": [
      "Results on test set:\n"
     ]
    },
    {
     "data": {
      "text/plain": [
       "array([[464, 915],\n",
       "       [782, 516]], dtype=int64)"
      ]
     },
     "execution_count": 154,
     "metadata": {},
     "output_type": "execute_result"
    }
   ],
   "source": [
    "print(\"Results on test set:\")\n",
    "y_pred=model.predict(X_test)\n",
    "cnf_matrix = metrics.confusion_matrix(y_test, y_pred)\n",
    "cnf_matrix"
   ]
  },
  {
   "cell_type": "code",
   "execution_count": 127,
   "metadata": {},
   "outputs": [
    {
     "data": {
      "text/plain": [
       "Text(0.5, 257.44, 'Predicted label')"
      ]
     },
     "execution_count": 127,
     "metadata": {},
     "output_type": "execute_result"
    },
    {
     "data": {
      "image/png": "[encoded data removed]",
      "text/plain": [
       "<Figure size 432x288 with 2 Axes>"
      ]
     },
     "metadata": {
      "needs_background": "light"
     },
     "output_type": "display_data"
    }
   ],
   "source": [
    "class_names=[0,1] # name  of classes\n",
    "fig, ax = plt.subplots()\n",
    "tick_marks = np.arange(len(class_names))\n",
    "plt.xticks(tick_marks, class_names)\n",
    "plt.yticks(tick_marks, class_names)\n",
    "# create heatmap\n",
    "sns.heatmap(pd.DataFrame(cnf_matrix), annot=True, cmap=\"YlGnBu\" ,fmt='g')\n",
    "ax.xaxis.set_label_position(\"top\")\n",
    "plt.tight_layout()\n",
    "plt.title('Confusion matrix ', y=1.1)\n",
    "plt.ylabel('Actual label')\n",
    "plt.xlabel('Predicted label')"
   ]
  },
  {
   "cell_type": "code",
   "execution_count": 155,
   "metadata": {},
   "outputs": [
    {
     "name": "stdout",
     "output_type": "stream",
     "text": [
      "Results on test set: \n",
      "Accuracy: 0.366081434441539\n",
      "Precision: 0.36058700209643607\n",
      "Recall: 0.3975346687211094\n",
      "F1 Score: 0.3781604983510443\n"
     ]
    }
   ],
   "source": [
    "print(\"Results on test set: \")\n",
    "print(\"Accuracy:\",metrics.accuracy_score(y_test, y_pred))\n",
    "print(\"Precision:\",metrics.precision_score(y_test, y_pred))\n",
    "print(\"Recall:\",metrics.recall_score(y_test, y_pred))\n",
    "print(\"F1 Score:\",metrics.f1_score(y_test, y_pred))"
   ]
  },
  {
   "cell_type": "code",
   "execution_count": 129,
   "metadata": {},
   "outputs": [],
   "source": [
    "#lr.coef_\n"
   ]
  },
  {
   "cell_type": "code",
   "execution_count": 156,
   "metadata": {},
   "outputs": [
    {
     "name": "stdout",
     "output_type": "stream",
     "text": [
      "validation set score:\n",
      "0.3663551401869159\n",
      "test set score:\n",
      "0.366081434441539\n"
     ]
    }
   ],
   "source": [
    "print(\"validation set score:\")\n",
    "print(model.score(xvl,yvl))\n",
    "\n",
    "print(\"test set score:\")\n",
    "print(model.score(X_test,y_test))\n"
   ]
  },
  {
   "cell_type": "markdown",
   "metadata": {},
   "source": [
    "### Reciever Operating Characteristics\n"
   ]
  },
  {
   "cell_type": "code",
   "execution_count": 157,
   "metadata": {},
   "outputs": [
    {
     "data": {
      "text/plain": [
       "Text(0.5, 0, 'False positive rate')"
      ]
     },
     "execution_count": 157,
     "metadata": {},
     "output_type": "execute_result"
    },
    {
     "data": {
      "image/png": "[encoded data removed]",
      "text/plain": [
       "<Figure size 1008x576 with 1 Axes>"
      ]
     },
     "metadata": {
      "needs_background": "light"
     },
     "output_type": "display_data"
    }
   ],
   "source": [
    "#proba = model.predict_proba(xvl)[:,1]\n",
    "#frp,trp, threshold = roc_curve(yvl,proba)\n",
    "proba = model.predict_proba(X_test)[:,1]\n",
    "frp,trp, threshold = roc_curve(y_test,proba)\n",
    "roc_auc_ = auc(frp,trp)\n",
    "\n",
    "plt.figure(figsize=(14,8))\n",
    "plt.title('Reciever Operating Characteristics')\n",
    "plt.plot(frp,trp,'r',label = 'AUC = %0.2f' % roc_auc_)\n",
    "plt.legend(loc='lower right')\n",
    "plt.plot([0,1],[0,1],'b--')\n",
    "plt.ylabel('True positive rate')\n",
    "plt.xlabel('False positive rate')"
   ]
  },
  {
   "cell_type": "markdown",
   "metadata": {},
   "source": [
    "### SVM"
   ]
  },
  {
   "cell_type": "code",
   "execution_count": null,
   "metadata": {},
   "outputs": [],
   "source": []
  },
  {
   "cell_type": "code",
   "execution_count": 158,
   "metadata": {},
   "outputs": [
    {
     "name": "stdout",
     "output_type": "stream",
     "text": [
      "1 of KFold 5\n",
      "ROC AUC score: 0.5\n",
      "2 of KFold 5\n",
      "ROC AUC score: 0.4970042419871422\n",
      "3 of KFold 5\n",
      "ROC AUC score: 0.49351604122560083\n",
      "4 of KFold 5\n",
      "ROC AUC score: 0.5\n",
      "5 of KFold 5\n",
      "ROC AUC score: 0.499383477188656\n"
     ]
    }
   ],
   "source": [
    "model = SVC(kernel='linear',probability=True)\n",
    "\n",
    "model,xtr,xvl, ytr,yvl,cv_score =train_model(model,X_train,y_train)"
   ]
  },
  {
   "cell_type": "code",
   "execution_count": 159,
   "metadata": {
    "scrolled": false
   },
   "outputs": [
    {
     "name": "stdout",
     "output_type": "stream",
     "text": [
      "Confusion matrix on validation set: \n",
      " [[  0 794]\n",
      " [  1 810]]\n",
      "Cv [0.5, 0.4970042419871422, 0.49351604122560083, 0.5, 0.499383477188656] \n",
      "Mean cv Score 0.4979807520802798\n"
     ]
    }
   ],
   "source": [
    "print('Confusion matrix on validation set: \\n',confusion_matrix(yvl,model.predict(xvl)))\n",
    "print('Cv',cv_score,'\\nMean cv Score',np.mean(cv_score))\n"
   ]
  },
  {
   "cell_type": "code",
   "execution_count": 160,
   "metadata": {},
   "outputs": [
    {
     "name": "stdout",
     "output_type": "stream",
     "text": [
      "Results on validation set: \n",
      "Accuracy: 0.5046728971962616\n",
      "Precision: 0.5049875311720698\n",
      "Recall: 0.998766954377312\n",
      "F1 Score: 0.6708074534161491\n"
     ]
    }
   ],
   "source": [
    "print(\"Results on validation set: \")\n",
    "print(\"Accuracy:\",metrics.accuracy_score(yvl, model.predict(xvl)))\n",
    "print(\"Precision:\",metrics.precision_score(yvl, model.predict(xvl)))\n",
    "print(\"Recall:\",metrics.recall_score(yvl, model.predict(xvl)))\n",
    "print(\"F1 Score:\",metrics.f1_score(yvl, model.predict(xvl)))"
   ]
  },
  {
   "cell_type": "code",
   "execution_count": 161,
   "metadata": {},
   "outputs": [
    {
     "name": "stdout",
     "output_type": "stream",
     "text": [
      "Results on test set:\n"
     ]
    },
    {
     "data": {
      "text/plain": [
       "array([[   0, 1379],\n",
       "       [   0, 1298]], dtype=int64)"
      ]
     },
     "execution_count": 161,
     "metadata": {},
     "output_type": "execute_result"
    }
   ],
   "source": [
    "print(\"Results on test set:\")\n",
    "y_pred=model.predict(X_test)\n",
    "cnf_matrix = metrics.confusion_matrix(y_test, y_pred)\n",
    "cnf_matrix"
   ]
  },
  {
   "cell_type": "code",
   "execution_count": 136,
   "metadata": {},
   "outputs": [
    {
     "data": {
      "text/plain": [
       "Text(0.5, 257.44, 'Predicted label')"
      ]
     },
     "execution_count": 136,
     "metadata": {},
     "output_type": "execute_result"
    },
    {
     "data": {
      "image/png": "[encoded data removed]",
      "text/plain": [
       "<Figure size 432x288 with 2 Axes>"
      ]
     },
     "metadata": {
      "needs_background": "light"
     },
     "output_type": "display_data"
    }
   ],
   "source": [
    "class_names=[0,1] # name  of classes\n",
    "fig, ax = plt.subplots()\n",
    "tick_marks = np.arange(len(class_names))\n",
    "plt.xticks(tick_marks, class_names)\n",
    "plt.yticks(tick_marks, class_names)\n",
    "# create heatmap\n",
    "sns.heatmap(pd.DataFrame(cnf_matrix), annot=True, cmap=\"YlGnBu\" ,fmt='g')\n",
    "ax.xaxis.set_label_position(\"top\")\n",
    "plt.tight_layout()\n",
    "plt.title('Confusion matrix ', y=1.1)\n",
    "plt.ylabel('Actual label')\n",
    "plt.xlabel('Predicted label')"
   ]
  },
  {
   "cell_type": "code",
   "execution_count": 162,
   "metadata": {},
   "outputs": [
    {
     "name": "stdout",
     "output_type": "stream",
     "text": [
      "results on test set\n",
      "Accuracy: 0.4848711243929772\n",
      "Precision: 0.4848711243929772\n",
      "Recall: 1.0\n",
      "F1 Score: 0.6530817610062892\n"
     ]
    }
   ],
   "source": [
    "print('results on test set')\n",
    "print(\"Accuracy:\",metrics.accuracy_score(y_test, y_pred))\n",
    "print(\"Precision:\",metrics.precision_score(y_test, y_pred))\n",
    "print(\"Recall:\",metrics.recall_score(y_test, y_pred))\n",
    "print(\"F1 Score:\",metrics.f1_score(y_test, y_pred))"
   ]
  },
  {
   "cell_type": "code",
   "execution_count": 138,
   "metadata": {},
   "outputs": [],
   "source": [
    "#lr.coef_\n"
   ]
  },
  {
   "cell_type": "code",
   "execution_count": 163,
   "metadata": {},
   "outputs": [
    {
     "name": "stdout",
     "output_type": "stream",
     "text": [
      "validation set score:\n",
      "0.5046728971962616\n",
      "test set score:\n",
      "0.4848711243929772\n"
     ]
    }
   ],
   "source": [
    "print(\"validation set score:\")\n",
    "print(model.score(xvl,yvl))\n",
    "\n",
    "print(\"test set score:\")\n",
    "print(model.score(X_test,y_test))\n"
   ]
  },
  {
   "cell_type": "markdown",
   "metadata": {},
   "source": [
    "### Reciever Operating Characteristics\n"
   ]
  },
  {
   "cell_type": "code",
   "execution_count": 164,
   "metadata": {},
   "outputs": [
    {
     "data": {
      "text/plain": [
       "Text(0.5, 0, 'False positive rate')"
      ]
     },
     "execution_count": 164,
     "metadata": {},
     "output_type": "execute_result"
    },
    {
     "data": {
      "image/png": "[encoded data removed]",
      "text/plain": [
       "<Figure size 1008x576 with 1 Axes>"
      ]
     },
     "metadata": {
      "needs_background": "light"
     },
     "output_type": "display_data"
    }
   ],
   "source": [
    "#proba = model.predict_proba(xvl)[:,1]\n",
    "#frp,trp, threshold = roc_curve(yvl,proba)\n",
    "proba = model.predict_proba(X_test)[:,1]\n",
    "frp,trp, threshold = roc_curve(y_test,proba)\n",
    "roc_auc_ = auc(frp,trp)\n",
    "\n",
    "plt.figure(figsize=(14,8))\n",
    "plt.title('Reciever Operating Characteristics')\n",
    "plt.plot(frp,trp,'r',label = 'AUC = %0.2f' % roc_auc_)\n",
    "plt.legend(loc='lower right')\n",
    "plt.plot([0,1],[0,1],'b--')\n",
    "plt.ylabel('True positive rate')\n",
    "plt.xlabel('False positive rate')"
   ]
  },
  {
   "cell_type": "code",
   "execution_count": null,
   "metadata": {},
   "outputs": [],
   "source": []
  }
 ],
 "metadata": {
  "kernelspec": {
   "display_name": "Python 3",
   "language": "python",
   "name": "python3"
  },
  "language_info": {
   "codemirror_mode": {
    "name": "ipython",
    "version": 3
   },
   "file_extension": ".py",
   "mimetype": "text/x-python",
   "name": "python",
   "nbconvert_exporter": "python",
   "pygments_lexer": "ipython3",
   "version": "3.7.1"
  }
 },
 "nbformat": 4,
 "nbformat_minor": 2
}
