{
 "cells": [
  {
   "cell_type": "code",
   "execution_count": 1,
   "metadata": {},
   "outputs": [],
   "source": [
    "import itertools\n",
    "import numpy as np\n",
    "from Bio import Align\n",
    "from Bio import SeqIO\n",
    "from Bio import pairwise2\n",
    "from Bio.SubsMat.MatrixInfo import blosum62\n",
    "import csv\n",
    "import pandas as pd\n",
    "from Bio.SeqRecord import SeqRecord\n",
    "from tqdm import tqdm\n",
    "import random\n",
    "from random import randint\n",
    "from sklearn.model_selection  import train_test_split, StratifiedKFold\n",
    "from sklearn.linear_model import LogisticRegression\n",
    "import features_extraction_utility.kmer as kmer\n",
    "from sklearn.svm import SVC\n",
    "from xgboost import XGBClassifier\n",
    "# import the metrics class\n",
    "from sklearn.metrics import confusion_matrix, roc_auc_score ,roc_curve,auc, classification_report\n",
    "from sklearn import metrics\n",
    "# import required modules for plotig\n",
    "import numpy as np\n",
    "import matplotlib.pyplot as plt\n",
    "import seaborn as sns\n",
    "%matplotlib inline\n",
    "seed =45"
   ]
  },
  {
   "cell_type": "code",
   "execution_count": 23,
   "metadata": {},
   "outputs": [],
   "source": [
    "# df_nc_seq= pd.read_csv('../Data/NpInter2 Interacting LncRNAs/NP_V2_LncRNAsSequences_clean2.csv')\n",
    "# df_nc_seq['sequence']=df_nc_seq['sequence'].str.replace('T','U')\n",
    "# df_nc_seq.head()"
   ]
  },
  {
   "cell_type": "code",
   "execution_count": 24,
   "metadata": {},
   "outputs": [],
   "source": [
    "# df_nc_seq=df_nc_seq.dropna(how='all') \n",
    "# df_nc_seq.isnull().sum()"
   ]
  },
  {
   "cell_type": "code",
   "execution_count": 25,
   "metadata": {},
   "outputs": [],
   "source": [
    "# df_dict = {n: df_nc_seq.iloc[n:n+300, :] \n",
    "#            for n in range(0, len(df_nc_seq), 300)}\n",
    "\n",
    "# df_dict.keys()"
   ]
  },
  {
   "cell_type": "code",
   "execution_count": 21,
   "metadata": {},
   "outputs": [],
   "source": [
    "#df_dict[300].head()"
   ]
  },
  {
   "cell_type": "code",
   "execution_count": 26,
   "metadata": {},
   "outputs": [],
   "source": [
    "# file_out='../Data/NpInter2 Interacting LncRNAs/NP_V2_lncRNA_seq_clean300_'\n",
    "\n",
    "# for key, df in df_dict.items():\n",
    "#     #frame.to_csv(\"%s.csv\" % frameno)\n",
    "#     print(df.shape)\n",
    "\n",
    "#     with open(file_out+str(key)+'.fasta', 'w') as f_out:\n",
    "#         for index, row in df.iterrows():\n",
    "#             #print(row['nncid'])\n",
    "#             f_out.write(\">\" + str(row['nncid']) + \"\\n\" +row['sequence'] + \"\\n\")\n",
    "#         print(\"DONE...\")\n",
    "    \n",
    "# print(\"DONE DONE...\")"
   ]
  },
  {
   "cell_type": "code",
   "execution_count": 31,
   "metadata": {},
   "outputs": [],
   "source": [
    "lnc_dac1 = list(SeqIO.parse(\"../Data/LncRNA DAC/lncRNA_0-300.txt\", \"fasta\"))\n",
    "lnc_dac2 = list(SeqIO.parse(\"../Data/LncRNA DAC/lncRNA_301-600.txt\", \"fasta\"))\n",
    "lnc_dac3 = list(SeqIO.parse(\"../Data/LncRNA DAC/lncRNA_601-900.txt\", \"fasta\"))\n",
    "lnc_dac4 = list(SeqIO.parse(\"../Data/LncRNA DAC/lncRNA_901-1200.txt\", \"fasta\"))\n",
    "\n",
    "lnc_dac5 = list(SeqIO.parse(\"../Data/LncRNA DAC/lncRNA_1201-1500.txt\", \"fasta\"))\n",
    "lnc_dac6 = list(SeqIO.parse(\"../Data/LncRNA DAC/lncRNA_1501-1800.txt\", \"fasta\"))\n",
    "lnc_dac7 = list(SeqIO.parse(\"../Data/LncRNA DAC/lncRNA_1801-1923.txt\", \"fasta\"))\n",
    "lnc_DAC=[]\n",
    "lnc_DAC =lnc_dac1 + lnc_dac2 + lnc_dac3 + lnc_dac4 + lnc_dac5 + lnc_dac6 + lnc_dac7"
   ]
  },
  {
   "cell_type": "code",
   "execution_count": 32,
   "metadata": {},
   "outputs": [
    {
     "name": "stdout",
     "output_type": "stream",
     "text": [
      "1923\n",
      "ID: n344453\n",
      "Name: n344453\n",
      "Description: n344453\n",
      "Number of features: 0\n",
      "Seq('0.001,-0.665,0.03,-0.544,-0.0,0.008,0.0,-0.011,0.01,-0...002', SingleLetterAlphabet())\n"
     ]
    }
   ],
   "source": [
    "print(len(lnc_DAC))\n",
    "print(lnc_DAC[0])"
   ]
  },
  {
   "cell_type": "code",
   "execution_count": null,
   "metadata": {},
   "outputs": [],
   "source": []
  }
 ],
 "metadata": {
  "kernelspec": {
   "display_name": "Python 3",
   "language": "python",
   "name": "python3"
  },
  "language_info": {
   "codemirror_mode": {
    "name": "ipython",
    "version": 3
   },
   "file_extension": ".py",
   "mimetype": "text/x-python",
   "name": "python",
   "nbconvert_exporter": "python",
   "pygments_lexer": "ipython3",
   "version": "3.7.1"
  }
 },
 "nbformat": 4,
 "nbformat_minor": 2
}
