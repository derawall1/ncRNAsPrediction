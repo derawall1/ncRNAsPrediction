{
 "cells": [
  {
   "cell_type": "code",
   "execution_count": 71,
   "metadata": {},
   "outputs": [],
   "source": [
    "import pandas as pd\n",
    "from pandasql import sqldf"
   ]
  },
  {
   "cell_type": "markdown",
   "metadata": {},
   "source": [
    "### Loading NPInter_v2.0 homo_sapiens data"
   ]
  },
  {
   "cell_type": "code",
   "execution_count": 69,
   "metadata": {},
   "outputs": [
    {
     "data": {
      "text/html": [
       "<div>\n",
       "<style scoped>\n",
       "    .dataframe tbody tr th:only-of-type {\n",
       "        vertical-align: middle;\n",
       "    }\n",
       "\n",
       "    .dataframe tbody tr th {\n",
       "        vertical-align: top;\n",
       "    }\n",
       "\n",
       "    .dataframe thead th {\n",
       "        text-align: right;\n",
       "    }\n",
       "</style>\n",
       "<table border=\"1\" class=\"dataframe\">\n",
       "  <thead>\n",
       "    <tr style=\"text-align: right;\">\n",
       "      <th></th>\n",
       "      <th>interID</th>\n",
       "      <th>ncID</th>\n",
       "      <th>ncType</th>\n",
       "      <th>ncIdentifier</th>\n",
       "      <th>ncName</th>\n",
       "      <th>PartnerID</th>\n",
       "      <th>prType</th>\n",
       "      <th>prIdentifier</th>\n",
       "      <th>InteractionPartner</th>\n",
       "      <th>interDescription</th>\n",
       "      <th>experiment</th>\n",
       "      <th>pubmed</th>\n",
       "      <th>organism</th>\n",
       "      <th>tag</th>\n",
       "      <th>interClass</th>\n",
       "      <th>interLevel</th>\n",
       "      <th>NONCODETranscriptID</th>\n",
       "    </tr>\n",
       "  </thead>\n",
       "  <tbody>\n",
       "    <tr>\n",
       "      <th>0</th>\n",
       "      <td>ncRI-199556</td>\n",
       "      <td>16426</td>\n",
       "      <td>NONCODE</td>\n",
       "      <td>n386623</td>\n",
       "      <td>RPI001_920445</td>\n",
       "      <td>18387</td>\n",
       "      <td>UniProt</td>\n",
       "      <td>Q07955</td>\n",
       "      <td>SRSF1</td>\n",
       "      <td>Cross-linking immunoprecipitation and high-thr...</td>\n",
       "      <td>CLIP-seq</td>\n",
       "      <td>19116412</td>\n",
       "      <td>Homo sapiens</td>\n",
       "      <td>ncRNA-protein binding</td>\n",
       "      <td>binding</td>\n",
       "      <td>RNA-Protein</td>\n",
       "      <td>NONHSAT012864.2</td>\n",
       "    </tr>\n",
       "    <tr>\n",
       "      <th>1</th>\n",
       "      <td>ncRI-188304</td>\n",
       "      <td>11160</td>\n",
       "      <td>NONCODE</td>\n",
       "      <td>n343050</td>\n",
       "      <td>RPI001_100097</td>\n",
       "      <td>8360</td>\n",
       "      <td>UniProt</td>\n",
       "      <td>Q9HCE1</td>\n",
       "      <td>MOV10</td>\n",
       "      <td>A modified PAR-CLIP method applied to the nucl...</td>\n",
       "      <td>modified PAR-CLIP</td>\n",
       "      <td>22844102</td>\n",
       "      <td>Homo sapiens</td>\n",
       "      <td>ncRNA-protein binding</td>\n",
       "      <td>binding</td>\n",
       "      <td>RNA-Protein</td>\n",
       "      <td>NONHSAT084827.2</td>\n",
       "    </tr>\n",
       "    <tr>\n",
       "      <th>2</th>\n",
       "      <td>ncRI-192633</td>\n",
       "      <td>12013</td>\n",
       "      <td>NONCODE</td>\n",
       "      <td>n407114</td>\n",
       "      <td>RPI001_182337</td>\n",
       "      <td>3988</td>\n",
       "      <td>UniProt</td>\n",
       "      <td>Q01844</td>\n",
       "      <td>EWSR1</td>\n",
       "      <td>PAR-CLIP defined global RNA targets for all hu...</td>\n",
       "      <td>PAR-CLIP</td>\n",
       "      <td>22081015</td>\n",
       "      <td>Homo sapiens</td>\n",
       "      <td>ncRNA-protein binding</td>\n",
       "      <td>binding</td>\n",
       "      <td>RNA-Protein</td>\n",
       "      <td>NONHSAT091509.2</td>\n",
       "    </tr>\n",
       "    <tr>\n",
       "      <th>3</th>\n",
       "      <td>ncRI-191389</td>\n",
       "      <td>11713</td>\n",
       "      <td>NONCODE</td>\n",
       "      <td>n408119</td>\n",
       "      <td>RPI001_114723</td>\n",
       "      <td>515</td>\n",
       "      <td>UniProt</td>\n",
       "      <td>Q9UL18; Q9UKV8; Q9H9G7; Q9HCK5</td>\n",
       "      <td>AGO1-4</td>\n",
       "      <td>PAR-CLIP of combined AGO1-4 indicates the nonc...</td>\n",
       "      <td>PAR-CLIP</td>\n",
       "      <td>20371350</td>\n",
       "      <td>Homo sapiens</td>\n",
       "      <td>ncRNA-protein binding</td>\n",
       "      <td>binding</td>\n",
       "      <td>RNA-Protein</td>\n",
       "      <td>NaN</td>\n",
       "    </tr>\n",
       "    <tr>\n",
       "      <th>4</th>\n",
       "      <td>ncRI-189844</td>\n",
       "      <td>11397</td>\n",
       "      <td>NONCODE</td>\n",
       "      <td>n379442</td>\n",
       "      <td>RPI001_1019725</td>\n",
       "      <td>3564</td>\n",
       "      <td>UniProt</td>\n",
       "      <td>Q15717</td>\n",
       "      <td>ELAVL1</td>\n",
       "      <td>HuR  regulates the stability and translation o...</td>\n",
       "      <td>Integration of RIP-chip, PAR-CLIP and RNAi</td>\n",
       "      <td>21723170</td>\n",
       "      <td>Homo sapiens</td>\n",
       "      <td>ncRNA-protein binding</td>\n",
       "      <td>binding</td>\n",
       "      <td>RNA-Protein</td>\n",
       "      <td>NONHSAT066046.2</td>\n",
       "    </tr>\n",
       "  </tbody>\n",
       "</table>\n",
       "</div>"
      ],
      "text/plain": [
       "       interID   ncID   ncType ncIdentifier          ncName  PartnerID  \\\n",
       "0  ncRI-199556  16426  NONCODE      n386623   RPI001_920445      18387   \n",
       "1  ncRI-188304  11160  NONCODE      n343050   RPI001_100097       8360   \n",
       "2  ncRI-192633  12013  NONCODE      n407114   RPI001_182337       3988   \n",
       "3  ncRI-191389  11713  NONCODE      n408119   RPI001_114723        515   \n",
       "4  ncRI-189844  11397  NONCODE      n379442  RPI001_1019725       3564   \n",
       "\n",
       "    prType                    prIdentifier InteractionPartner  \\\n",
       "0  UniProt                          Q07955              SRSF1   \n",
       "1  UniProt                          Q9HCE1              MOV10   \n",
       "2  UniProt                          Q01844              EWSR1   \n",
       "3  UniProt  Q9UL18; Q9UKV8; Q9H9G7; Q9HCK5             AGO1-4   \n",
       "4  UniProt                          Q15717             ELAVL1   \n",
       "\n",
       "                                    interDescription  \\\n",
       "0  Cross-linking immunoprecipitation and high-thr...   \n",
       "1  A modified PAR-CLIP method applied to the nucl...   \n",
       "2  PAR-CLIP defined global RNA targets for all hu...   \n",
       "3  PAR-CLIP of combined AGO1-4 indicates the nonc...   \n",
       "4  HuR  regulates the stability and translation o...   \n",
       "\n",
       "                                   experiment    pubmed      organism  \\\n",
       "0                                    CLIP-seq  19116412  Homo sapiens   \n",
       "1                           modified PAR-CLIP  22844102  Homo sapiens   \n",
       "2                                    PAR-CLIP  22081015  Homo sapiens   \n",
       "3                                    PAR-CLIP  20371350  Homo sapiens   \n",
       "4  Integration of RIP-chip, PAR-CLIP and RNAi  21723170  Homo sapiens   \n",
       "\n",
       "                     tag interClass   interLevel NONCODETranscriptID  \n",
       "0  ncRNA-protein binding    binding  RNA-Protein     NONHSAT012864.2  \n",
       "1  ncRNA-protein binding    binding  RNA-Protein     NONHSAT084827.2  \n",
       "2  ncRNA-protein binding    binding  RNA-Protein     NONHSAT091509.2  \n",
       "3  ncRNA-protein binding    binding  RNA-Protein                 NaN  \n",
       "4  ncRNA-protein binding    binding  RNA-Protein     NONHSAT066046.2  "
      ]
     },
     "execution_count": 69,
     "metadata": {},
     "output_type": "execute_result"
    }
   ],
   "source": [
    "df_NPInter2 = pd.read_csv('Data\\\\NPInter_v2.0 homo_sapiens.csv')\n",
    "df_NPInter2.head()"
   ]
  },
  {
   "cell_type": "markdown",
   "metadata": {},
   "source": [
    "### Checking Null and  Unique values in NpInter v2 dataset\n"
   ]
  },
  {
   "cell_type": "code",
   "execution_count": 70,
   "metadata": {},
   "outputs": [
    {
     "name": "stdout",
     "output_type": "stream",
     "text": [
      "............ Shape of data ..........\n",
      "(8162, 17)\n",
      ".......... NULL Values .................\n",
      "interID                   0\n",
      "ncID                      0\n",
      "ncType                    0\n",
      "ncIdentifier             28\n",
      "ncName                    0\n",
      "PartnerID                 0\n",
      "prType                    0\n",
      "prIdentifier              1\n",
      "InteractionPartner        0\n",
      "interDescription          0\n",
      "experiment              114\n",
      "pubmed                    0\n",
      "organism                  0\n",
      "tag                       0\n",
      "interClass                0\n",
      "interLevel                0\n",
      "NONCODETranscriptID    2637\n",
      "dtype: int64\n",
      "............... unique values..................   \n",
      "interID                8162\n",
      "ncID                   3064\n",
      "ncType                    3\n",
      "ncIdentifier           3042\n",
      "ncName                 3065\n",
      "PartnerID               161\n",
      "prType                    1\n",
      "prIdentifier            142\n",
      "InteractionPartner      164\n",
      "interDescription        219\n",
      "experiment               36\n",
      "pubmed                  154\n",
      "organism                  1\n",
      "tag                       1\n",
      "interClass                1\n",
      "interLevel                1\n",
      "NONCODETranscriptID    2086\n",
      "dtype: int64\n"
     ]
    }
   ],
   "source": [
    "print(\"............ Shape of data ..........\")\n",
    "print(df_NPInter2.shape)\n",
    "print('.......... NULL Values .................')\n",
    "print(df_NPInter2.isnull().sum())\n",
    "print('............... unique values..................   ')\n",
    "print(df_NPInter2.nunique())"
   ]
  },
  {
   "cell_type": "markdown",
   "metadata": {},
   "source": [
    "### Loading NPInter_v3.0"
   ]
  },
  {
   "cell_type": "code",
   "execution_count": 85,
   "metadata": {},
   "outputs": [
    {
     "data": {
      "text/html": [
       "<div>\n",
       "<style scoped>\n",
       "    .dataframe tbody tr th:only-of-type {\n",
       "        vertical-align: middle;\n",
       "    }\n",
       "\n",
       "    .dataframe tbody tr th {\n",
       "        vertical-align: top;\n",
       "    }\n",
       "\n",
       "    .dataframe thead th {\n",
       "        text-align: right;\n",
       "    }\n",
       "</style>\n",
       "<table border=\"1\" class=\"dataframe\">\n",
       "  <thead>\n",
       "    <tr style=\"text-align: right;\">\n",
       "      <th></th>\n",
       "      <th>interID</th>\n",
       "      <th>ncID</th>\n",
       "      <th>ncType</th>\n",
       "      <th>ncIdentifier</th>\n",
       "      <th>ncName</th>\n",
       "      <th>PartnerID</th>\n",
       "      <th>prType</th>\n",
       "      <th>prIdentifier</th>\n",
       "      <th>InteractionPartner</th>\n",
       "      <th>interDescription</th>\n",
       "      <th>experiment</th>\n",
       "      <th>PubMedID</th>\n",
       "      <th>organism</th>\n",
       "      <th>tag</th>\n",
       "      <th>interClass</th>\n",
       "      <th>interLevel</th>\n",
       "    </tr>\n",
       "  </thead>\n",
       "  <tbody>\n",
       "    <tr>\n",
       "      <th>0</th>\n",
       "      <td>ncRI-3000001</td>\n",
       "      <td>127667</td>\n",
       "      <td>NONCODE</td>\n",
       "      <td>NONOTHNOBEDT000074</td>\n",
       "      <td>4.5S</td>\n",
       "      <td>135149</td>\n",
       "      <td>UniProt</td>\n",
       "      <td>P0A6M8</td>\n",
       "      <td>fusA</td>\n",
       "      <td>Following translocation, 4.5S RNA replaces 23S...</td>\n",
       "      <td>EMSA</td>\n",
       "      <td>8662727</td>\n",
       "      <td>Escherichia coli</td>\n",
       "      <td>ncRNA-protein binding</td>\n",
       "      <td>binding</td>\n",
       "      <td>RNA-Protein</td>\n",
       "    </tr>\n",
       "    <tr>\n",
       "      <th>1</th>\n",
       "      <td>ncRI-3000002</td>\n",
       "      <td>127667</td>\n",
       "      <td>NONCODE</td>\n",
       "      <td>NONOTHNOBEDT000074</td>\n",
       "      <td>4.5S</td>\n",
       "      <td>135166</td>\n",
       "      <td>UniProt</td>\n",
       "      <td>P0AGD7</td>\n",
       "      <td>ffh</td>\n",
       "      <td>The 4.5S RNA is associated in vivo with P48. 4...</td>\n",
       "      <td>Immunoprecipitation experiments</td>\n",
       "      <td>1281314</td>\n",
       "      <td>Escherichia coli</td>\n",
       "      <td>ncRNA-protein binding</td>\n",
       "      <td>binding</td>\n",
       "      <td>RNA-Protein</td>\n",
       "    </tr>\n",
       "    <tr>\n",
       "      <th>2</th>\n",
       "      <td>ncRI-3000003</td>\n",
       "      <td>127670</td>\n",
       "      <td>NONCODE</td>\n",
       "      <td>NONOTHNOBEDT000078</td>\n",
       "      <td>6S</td>\n",
       "      <td>134921</td>\n",
       "      <td>UniProt</td>\n",
       "      <td>M1FYN7</td>\n",
       "      <td>rpoB</td>\n",
       "      <td>UV crosslinking experiments revealed that 6S R...</td>\n",
       "      <td>cross-linking</td>\n",
       "      <td>10892648</td>\n",
       "      <td>Escherichia coli</td>\n",
       "      <td>ncRNA-protein binding</td>\n",
       "      <td>binding</td>\n",
       "      <td>RNA-Protein</td>\n",
       "    </tr>\n",
       "    <tr>\n",
       "      <th>3</th>\n",
       "      <td>ncRI-3000004</td>\n",
       "      <td>127670</td>\n",
       "      <td>NONCODE</td>\n",
       "      <td>NONOTHNOBEDT000078</td>\n",
       "      <td>6S</td>\n",
       "      <td>135092</td>\n",
       "      <td>UniProt</td>\n",
       "      <td>P00579</td>\n",
       "      <td>rpoD</td>\n",
       "      <td>The stable association of sigma70 with core en...</td>\n",
       "      <td>cross-linking</td>\n",
       "      <td>10892648</td>\n",
       "      <td>Escherichia coli</td>\n",
       "      <td>ncRNA-protein binding</td>\n",
       "      <td>binding</td>\n",
       "      <td>RNA-Protein</td>\n",
       "    </tr>\n",
       "    <tr>\n",
       "      <th>4</th>\n",
       "      <td>ncRI-3000005</td>\n",
       "      <td>127670</td>\n",
       "      <td>NONCODE</td>\n",
       "      <td>NONOTHNOBEDT000078</td>\n",
       "      <td>6S</td>\n",
       "      <td>135154</td>\n",
       "      <td>UniProt</td>\n",
       "      <td>P0A8T7</td>\n",
       "      <td>rpoC</td>\n",
       "      <td>UV crosslinking experiments revealed that 6S R...</td>\n",
       "      <td>cross-linking</td>\n",
       "      <td>10892648</td>\n",
       "      <td>Escherichia coli</td>\n",
       "      <td>ncRNA-protein binding</td>\n",
       "      <td>binding</td>\n",
       "      <td>RNA-Protein</td>\n",
       "    </tr>\n",
       "  </tbody>\n",
       "</table>\n",
       "</div>"
      ],
      "text/plain": [
       "        interID    ncID   ncType        ncIdentifier ncName  PartnerID  \\\n",
       "0  ncRI-3000001  127667  NONCODE  NONOTHNOBEDT000074   4.5S     135149   \n",
       "1  ncRI-3000002  127667  NONCODE  NONOTHNOBEDT000074   4.5S     135166   \n",
       "2  ncRI-3000003  127670  NONCODE  NONOTHNOBEDT000078     6S     134921   \n",
       "3  ncRI-3000004  127670  NONCODE  NONOTHNOBEDT000078     6S     135092   \n",
       "4  ncRI-3000005  127670  NONCODE  NONOTHNOBEDT000078     6S     135154   \n",
       "\n",
       "    prType prIdentifier InteractionPartner  \\\n",
       "0  UniProt       P0A6M8               fusA   \n",
       "1  UniProt       P0AGD7                ffh   \n",
       "2  UniProt       M1FYN7               rpoB   \n",
       "3  UniProt       P00579               rpoD   \n",
       "4  UniProt       P0A8T7               rpoC   \n",
       "\n",
       "                                    interDescription  \\\n",
       "0  Following translocation, 4.5S RNA replaces 23S...   \n",
       "1  The 4.5S RNA is associated in vivo with P48. 4...   \n",
       "2  UV crosslinking experiments revealed that 6S R...   \n",
       "3  The stable association of sigma70 with core en...   \n",
       "4  UV crosslinking experiments revealed that 6S R...   \n",
       "\n",
       "                        experiment  PubMedID          organism  \\\n",
       "0                             EMSA   8662727  Escherichia coli   \n",
       "1  Immunoprecipitation experiments   1281314  Escherichia coli   \n",
       "2                    cross-linking  10892648  Escherichia coli   \n",
       "3                    cross-linking  10892648  Escherichia coli   \n",
       "4                    cross-linking  10892648  Escherichia coli   \n",
       "\n",
       "                     tag interClass   interLevel  \n",
       "0  ncRNA-protein binding    binding  RNA-Protein  \n",
       "1  ncRNA-protein binding    binding  RNA-Protein  \n",
       "2  ncRNA-protein binding    binding  RNA-Protein  \n",
       "3  ncRNA-protein binding    binding  RNA-Protein  \n",
       "4  ncRNA-protein binding    binding  RNA-Protein  "
      ]
     },
     "execution_count": 85,
     "metadata": {},
     "output_type": "execute_result"
    }
   ],
   "source": [
    "df_NpInter3 = pd.read_csv(\"Data\\interaction_NPInterv3\\interaction_NPInterv3.csv\", engine='python')\n",
    "df_NpInter3.head()"
   ]
  },
  {
   "cell_type": "code",
   "execution_count": 86,
   "metadata": {},
   "outputs": [
    {
     "data": {
      "text/plain": [
       "(491416, 16)"
      ]
     },
     "execution_count": 86,
     "metadata": {},
     "output_type": "execute_result"
    }
   ],
   "source": [
    "df_NpInter3.shape"
   ]
  },
  {
   "cell_type": "markdown",
   "metadata": {},
   "source": [
    "# filter homo Sapiens data"
   ]
  },
  {
   "cell_type": "code",
   "execution_count": 87,
   "metadata": {},
   "outputs": [],
   "source": [
    "df_NpInter3_hs=df_NpInter3[df_NpInter3[\"organism\"] ==\"Homo sapiens\"]\n"
   ]
  },
  {
   "cell_type": "code",
   "execution_count": 88,
   "metadata": {},
   "outputs": [
    {
     "data": {
      "text/plain": [
       "(346644, 16)"
      ]
     },
     "execution_count": 88,
     "metadata": {},
     "output_type": "execute_result"
    }
   ],
   "source": [
    "df_NpInter3_hs.shape\n"
   ]
  },
  {
   "cell_type": "markdown",
   "metadata": {},
   "source": [
    "# filter interClass = binding"
   ]
  },
  {
   "cell_type": "code",
   "execution_count": 89,
   "metadata": {},
   "outputs": [
    {
     "name": "stderr",
     "output_type": "stream",
     "text": [
      "C:\\ProgramData\\Anaconda3\\lib\\site-packages\\ipykernel_launcher.py:1: UserWarning: Boolean Series key will be reindexed to match DataFrame index.\n",
      "  \"\"\"Entry point for launching an IPython kernel.\n"
     ]
    },
    {
     "data": {
      "text/plain": [
       "(222696, 16)"
      ]
     },
     "execution_count": 89,
     "metadata": {},
     "output_type": "execute_result"
    }
   ],
   "source": [
    "df_NpInter3_hs=df_NpInter3_hs[df_NpInter3[\"interClass\"] ==\"binding\"]\n",
    "#df_NpInter3_hs=df_NpInter3_hs[df_NpInter3[\"interClass\"] ==\"binding\"]\n",
    "df_NpInter3_hs.shape"
   ]
  },
  {
   "cell_type": "code",
   "execution_count": 29,
   "metadata": {},
   "outputs": [
    {
     "data": {
      "text/plain": [
       "(222696, 16)"
      ]
     },
     "execution_count": 29,
     "metadata": {},
     "output_type": "execute_result"
    }
   ],
   "source": [
    "df_NpInter3_hs.shape"
   ]
  },
  {
   "cell_type": "markdown",
   "metadata": {},
   "source": [
    "# Checking the null values and unique values in V3"
   ]
  },
  {
   "cell_type": "code",
   "execution_count": 90,
   "metadata": {},
   "outputs": [
    {
     "name": "stdout",
     "output_type": "stream",
     "text": [
      "............ Shape of data ..........\n",
      "(222696, 16)\n",
      ".......... NULL Values .................\n",
      "interID                   0\n",
      "ncID                      0\n",
      "ncType                    0\n",
      "ncIdentifier           2387\n",
      "ncName                    0\n",
      "PartnerID                 0\n",
      "prType                    0\n",
      "prIdentifier           3737\n",
      "InteractionPartner        0\n",
      "interDescription          0\n",
      "experiment              154\n",
      "PubMedID              32167\n",
      "organism                  0\n",
      "tag                       0\n",
      "interClass                0\n",
      "interLevel                0\n",
      "dtype: int64\n",
      "............... unique values..................   \n",
      "interID               222696\n",
      "ncID                   76794\n",
      "ncType                     2\n",
      "ncIdentifier           44344\n",
      "ncName                 50953\n",
      "PartnerID               3436\n",
      "prType                     5\n",
      "prIdentifier            2790\n",
      "InteractionPartner      3344\n",
      "interDescription         500\n",
      "experiment               105\n",
      "PubMedID                 393\n",
      "organism                   1\n",
      "tag                       42\n",
      "interClass                 1\n",
      "interLevel                 3\n",
      "dtype: int64\n"
     ]
    }
   ],
   "source": [
    "print(\"............ Shape of data ..........\")\n",
    "print(df_NpInter3_hs.shape)\n",
    "print('.......... NULL Values .................')\n",
    "print(df_NpInter3_hs.isnull().sum())\n",
    "print('............... unique values..................   ')\n",
    "print(df_NpInter3_hs.nunique())"
   ]
  },
  {
   "cell_type": "markdown",
   "metadata": {},
   "source": [
    "# Loading NpInter v4 Experimental data\n"
   ]
  },
  {
   "cell_type": "code",
   "execution_count": 31,
   "metadata": {},
   "outputs": [
    {
     "data": {
      "text/html": [
       "<div>\n",
       "<style scoped>\n",
       "    .dataframe tbody tr th:only-of-type {\n",
       "        vertical-align: middle;\n",
       "    }\n",
       "\n",
       "    .dataframe tbody tr th {\n",
       "        vertical-align: top;\n",
       "    }\n",
       "\n",
       "    .dataframe thead th {\n",
       "        text-align: right;\n",
       "    }\n",
       "</style>\n",
       "<table border=\"1\" class=\"dataframe\">\n",
       "  <thead>\n",
       "    <tr style=\"text-align: right;\">\n",
       "      <th></th>\n",
       "      <th>interID</th>\n",
       "      <th>ncName</th>\n",
       "      <th>ncID</th>\n",
       "      <th>ncType</th>\n",
       "      <th>tarName</th>\n",
       "      <th>tarID</th>\n",
       "      <th>tarType</th>\n",
       "      <th>interDescription</th>\n",
       "      <th>experiment</th>\n",
       "      <th>reference</th>\n",
       "      <th>organism</th>\n",
       "      <th>tissueOrCell</th>\n",
       "      <th>tag</th>\n",
       "      <th>class</th>\n",
       "      <th>level</th>\n",
       "      <th>datasource</th>\n",
       "    </tr>\n",
       "  </thead>\n",
       "  <tbody>\n",
       "    <tr>\n",
       "      <th>0</th>\n",
       "      <td>ncRI-40000001</td>\n",
       "      <td>4.5S</td>\n",
       "      <td>NONOTHNOBEDT000074</td>\n",
       "      <td>lncRNA</td>\n",
       "      <td>rpoD</td>\n",
       "      <td>P0A6M8</td>\n",
       "      <td>protein</td>\n",
       "      <td>Following translocation, 4.5S RNA replaces 23S...</td>\n",
       "      <td>Immunoprecipitation experiments;EMSA;SDS-polya...</td>\n",
       "      <td>8662727;8107852;1281314</td>\n",
       "      <td>Escherichia coli</td>\n",
       "      <td>-</td>\n",
       "      <td>ncRNA-protein binding</td>\n",
       "      <td>binding</td>\n",
       "      <td>RNA-Protein</td>\n",
       "      <td>Literature mining</td>\n",
       "    </tr>\n",
       "    <tr>\n",
       "      <th>1</th>\n",
       "      <td>ncRI-40000004</td>\n",
       "      <td>7SK</td>\n",
       "      <td>NONHSAG040596</td>\n",
       "      <td>lncRNA</td>\n",
       "      <td>MYC</td>\n",
       "      <td>NM_002467</td>\n",
       "      <td>protein</td>\n",
       "      <td>Electrophoretic mobility shift experiment indi...</td>\n",
       "      <td>EMSA</td>\n",
       "      <td>9018369</td>\n",
       "      <td>Homo sapiens</td>\n",
       "      <td>-</td>\n",
       "      <td>regulatory;promoter as action site</td>\n",
       "      <td>regulatory</td>\n",
       "      <td>RNA-RNA</td>\n",
       "      <td>Literature mining</td>\n",
       "    </tr>\n",
       "    <tr>\n",
       "      <th>2</th>\n",
       "      <td>ncRI-40000006</td>\n",
       "      <td>7SK</td>\n",
       "      <td>NONHSAG040596</td>\n",
       "      <td>lncRNA</td>\n",
       "      <td>HEXIM1</td>\n",
       "      <td>O94992</td>\n",
       "      <td>protein</td>\n",
       "      <td>Binding of the 7SK snRNA turns the HEXIM1 prot...</td>\n",
       "      <td>Yeast two-hybrid analysis;Immunofluorescence;M...</td>\n",
       "      <td>15201869;15994294;17671421;20675720;20926576;1...</td>\n",
       "      <td>Homo sapiens</td>\n",
       "      <td>-</td>\n",
       "      <td>ncRNA-protein binding</td>\n",
       "      <td>binding</td>\n",
       "      <td>RNA-Protein</td>\n",
       "      <td>Literature mining</td>\n",
       "    </tr>\n",
       "    <tr>\n",
       "      <th>3</th>\n",
       "      <td>ncRI-40000009</td>\n",
       "      <td>7SK</td>\n",
       "      <td>NONHSAG040596</td>\n",
       "      <td>lncRNA</td>\n",
       "      <td>CDK9</td>\n",
       "      <td>P50750</td>\n",
       "      <td>protein</td>\n",
       "      <td>Northern hybridization was performed to confir...</td>\n",
       "      <td>Northern Blot</td>\n",
       "      <td>21098020;11713532</td>\n",
       "      <td>Homo sapiens</td>\n",
       "      <td>-</td>\n",
       "      <td>ncRNA-protein binding</td>\n",
       "      <td>binding</td>\n",
       "      <td>RNA-Protein</td>\n",
       "      <td>Literature mining</td>\n",
       "    </tr>\n",
       "    <tr>\n",
       "      <th>4</th>\n",
       "      <td>ncRI-40000013</td>\n",
       "      <td>7SK</td>\n",
       "      <td>NONHSAG040596</td>\n",
       "      <td>lncRNA</td>\n",
       "      <td>HMGA1</td>\n",
       "      <td>P17096</td>\n",
       "      <td>protein</td>\n",
       "      <td>We provide evidence for 7SK RNA complexes cont...</td>\n",
       "      <td>Immunoprecipitation experiments;Mass spectrome...</td>\n",
       "      <td>21957495;21282977;21087998</td>\n",
       "      <td>Homo sapiens</td>\n",
       "      <td>-</td>\n",
       "      <td>ncRNA-protein binding</td>\n",
       "      <td>binding</td>\n",
       "      <td>RNA-Protein</td>\n",
       "      <td>Literature mining</td>\n",
       "    </tr>\n",
       "  </tbody>\n",
       "</table>\n",
       "</div>"
      ],
      "text/plain": [
       "         interID ncName                ncID  ncType tarName      tarID  \\\n",
       "0  ncRI-40000001   4.5S  NONOTHNOBEDT000074  lncRNA    rpoD     P0A6M8   \n",
       "1  ncRI-40000004    7SK       NONHSAG040596  lncRNA     MYC  NM_002467   \n",
       "2  ncRI-40000006    7SK       NONHSAG040596  lncRNA  HEXIM1     O94992   \n",
       "3  ncRI-40000009    7SK       NONHSAG040596  lncRNA    CDK9     P50750   \n",
       "4  ncRI-40000013    7SK       NONHSAG040596  lncRNA   HMGA1     P17096   \n",
       "\n",
       "   tarType                                   interDescription  \\\n",
       "0  protein  Following translocation, 4.5S RNA replaces 23S...   \n",
       "1  protein  Electrophoretic mobility shift experiment indi...   \n",
       "2  protein  Binding of the 7SK snRNA turns the HEXIM1 prot...   \n",
       "3  protein  Northern hybridization was performed to confir...   \n",
       "4  protein  We provide evidence for 7SK RNA complexes cont...   \n",
       "\n",
       "                                          experiment  \\\n",
       "0  Immunoprecipitation experiments;EMSA;SDS-polya...   \n",
       "1                                               EMSA   \n",
       "2  Yeast two-hybrid analysis;Immunofluorescence;M...   \n",
       "3                                      Northern Blot   \n",
       "4  Immunoprecipitation experiments;Mass spectrome...   \n",
       "\n",
       "                                           reference          organism  \\\n",
       "0                            8662727;8107852;1281314  Escherichia coli   \n",
       "1                                            9018369      Homo sapiens   \n",
       "2  15201869;15994294;17671421;20675720;20926576;1...      Homo sapiens   \n",
       "3                                  21098020;11713532      Homo sapiens   \n",
       "4                         21957495;21282977;21087998      Homo sapiens   \n",
       "\n",
       "  tissueOrCell                                 tag       class        level  \\\n",
       "0            -               ncRNA-protein binding     binding  RNA-Protein   \n",
       "1            -  regulatory;promoter as action site  regulatory      RNA-RNA   \n",
       "2            -               ncRNA-protein binding     binding  RNA-Protein   \n",
       "3            -               ncRNA-protein binding     binding  RNA-Protein   \n",
       "4            -               ncRNA-protein binding     binding  RNA-Protein   \n",
       "\n",
       "          datasource  \n",
       "0  Literature mining  \n",
       "1  Literature mining  \n",
       "2  Literature mining  \n",
       "3  Literature mining  \n",
       "4  Literature mining  "
      ]
     },
     "execution_count": 31,
     "metadata": {},
     "output_type": "execute_result"
    }
   ],
   "source": [
    "df_NpInter4 = pd.read_csv(\"Data\\interaction_NPInterv4.expr\\interaction_NPInterv4.expr.csv\", engine='python')\n",
    "df_NpInter4.head()"
   ]
  },
  {
   "cell_type": "code",
   "execution_count": 32,
   "metadata": {},
   "outputs": [
    {
     "data": {
      "text/plain": [
       "(3026, 16)"
      ]
     },
     "execution_count": 32,
     "metadata": {},
     "output_type": "execute_result"
    }
   ],
   "source": [
    "df_NpInter4.shape"
   ]
  },
  {
   "cell_type": "markdown",
   "metadata": {},
   "source": [
    "# filter homo sapiens from v4 expr"
   ]
  },
  {
   "cell_type": "code",
   "execution_count": 33,
   "metadata": {},
   "outputs": [
    {
     "name": "stdout",
     "output_type": "stream",
     "text": [
      "(2394, 16)\n"
     ]
    }
   ],
   "source": [
    "df_NpInter4_hs=df_NpInter4[df_NpInter4[\"organism\"] ==\"Homo sapiens\"]\n",
    "#df_NpInter4_hs.head()\n",
    "print(df_NpInter4_hs.shape)"
   ]
  },
  {
   "cell_type": "markdown",
   "metadata": {},
   "source": [
    "# filter interClass = binding from v4 expr"
   ]
  },
  {
   "cell_type": "code",
   "execution_count": 35,
   "metadata": {},
   "outputs": [
    {
     "name": "stdout",
     "output_type": "stream",
     "text": [
      "(2144, 16)\n"
     ]
    }
   ],
   "source": [
    "df_NpInter4_hs=df_NpInter4[df_NpInter4[\"class\"] ==\"binding\"]\n",
    "#df_NpInter4_hs.head()\n",
    "print(df_NpInter4_hs.shape)"
   ]
  },
  {
   "cell_type": "markdown",
   "metadata": {},
   "source": [
    "# Checking null and unique values v 4 expr"
   ]
  },
  {
   "cell_type": "code",
   "execution_count": 36,
   "metadata": {},
   "outputs": [
    {
     "name": "stdout",
     "output_type": "stream",
     "text": [
      "............ Shape of data ..........\n",
      "(2144, 16)\n",
      ".......... NULL Values .................\n",
      "interID             0\n",
      "ncName              0\n",
      "ncID                0\n",
      "ncType              0\n",
      "tarName             0\n",
      "tarID               0\n",
      "tarType             0\n",
      "interDescription    0\n",
      "experiment          0\n",
      "reference           0\n",
      "organism            0\n",
      "tissueOrCell        0\n",
      "tag                 0\n",
      "class               0\n",
      "level               0\n",
      "datasource          0\n",
      "dtype: int64\n",
      "............... unique values..................   \n",
      "interID             2144\n",
      "ncName              1495\n",
      "ncID                1377\n",
      "ncType                 7\n",
      "tarName              807\n",
      "tarID                700\n",
      "tarType                7\n",
      "interDescription     924\n",
      "experiment           567\n",
      "reference            841\n",
      "organism              19\n",
      "tissueOrCell         481\n",
      "tag                   61\n",
      "class                  1\n",
      "level                  5\n",
      "datasource            14\n",
      "dtype: int64\n"
     ]
    }
   ],
   "source": [
    "print(\"............ Shape of data ..........\")\n",
    "print(df_NpInter4_hs.shape)\n",
    "print('.......... NULL Values .................')\n",
    "print(df_NpInter4_hs.isnull().sum())\n",
    "print('............... unique values..................   ')\n",
    "print(df_NpInter4_hs.nunique())"
   ]
  },
  {
   "cell_type": "markdown",
   "metadata": {},
   "source": [
    "# Loading NpInter v4 all data\n"
   ]
  },
  {
   "cell_type": "code",
   "execution_count": 73,
   "metadata": {},
   "outputs": [
    {
     "data": {
      "text/html": [
       "<div>\n",
       "<style scoped>\n",
       "    .dataframe tbody tr th:only-of-type {\n",
       "        vertical-align: middle;\n",
       "    }\n",
       "\n",
       "    .dataframe tbody tr th {\n",
       "        vertical-align: top;\n",
       "    }\n",
       "\n",
       "    .dataframe thead th {\n",
       "        text-align: right;\n",
       "    }\n",
       "</style>\n",
       "<table border=\"1\" class=\"dataframe\">\n",
       "  <thead>\n",
       "    <tr style=\"text-align: right;\">\n",
       "      <th></th>\n",
       "      <th>interID</th>\n",
       "      <th>ncName</th>\n",
       "      <th>ncID</th>\n",
       "      <th>ncType</th>\n",
       "      <th>tarName</th>\n",
       "      <th>tarID</th>\n",
       "      <th>tarType</th>\n",
       "      <th>interDescription</th>\n",
       "      <th>experiment</th>\n",
       "      <th>reference</th>\n",
       "      <th>organism</th>\n",
       "      <th>tissueOrCell</th>\n",
       "      <th>tag</th>\n",
       "      <th>class</th>\n",
       "      <th>level</th>\n",
       "      <th>datasource</th>\n",
       "    </tr>\n",
       "  </thead>\n",
       "  <tbody>\n",
       "    <tr>\n",
       "      <th>0</th>\n",
       "      <td>ncRI-40000001</td>\n",
       "      <td>4.5S</td>\n",
       "      <td>NONOTHNOBEDT000074</td>\n",
       "      <td>lncRNA</td>\n",
       "      <td>rpoD</td>\n",
       "      <td>P0A6M8</td>\n",
       "      <td>protein</td>\n",
       "      <td>Following translocation, 4.5S RNA replaces 23S...</td>\n",
       "      <td>Immunoprecipitation experiments;EMSA;SDS-polya...</td>\n",
       "      <td>8662727;8107852;1281314</td>\n",
       "      <td>Escherichia coli</td>\n",
       "      <td>-</td>\n",
       "      <td>ncRNA-protein binding</td>\n",
       "      <td>binding</td>\n",
       "      <td>RNA-Protein</td>\n",
       "      <td>Literature mining</td>\n",
       "    </tr>\n",
       "    <tr>\n",
       "      <th>1</th>\n",
       "      <td>ncRI-40000002</td>\n",
       "      <td>6S</td>\n",
       "      <td>NONOTHNOBEDT000078</td>\n",
       "      <td>lncRNA</td>\n",
       "      <td>rpoB</td>\n",
       "      <td>M1FYN7</td>\n",
       "      <td>protein</td>\n",
       "      <td>UV crosslinking experiments revealed that 6S R...</td>\n",
       "      <td>cross-linking</td>\n",
       "      <td>10892648</td>\n",
       "      <td>Escherichia coli</td>\n",
       "      <td>-</td>\n",
       "      <td>ncRNA-protein binding</td>\n",
       "      <td>binding</td>\n",
       "      <td>RNA-Protein</td>\n",
       "      <td>Literature mining</td>\n",
       "    </tr>\n",
       "    <tr>\n",
       "      <th>2</th>\n",
       "      <td>ncRI-40000003</td>\n",
       "      <td>6S</td>\n",
       "      <td>NONOTHNOBEDT000078</td>\n",
       "      <td>lncRNA</td>\n",
       "      <td>rpoD</td>\n",
       "      <td>P00579</td>\n",
       "      <td>protein</td>\n",
       "      <td>The stable association of sigma70 with core en...</td>\n",
       "      <td>cross-linking</td>\n",
       "      <td>10892648</td>\n",
       "      <td>Escherichia coli</td>\n",
       "      <td>-</td>\n",
       "      <td>ncRNA-protein binding</td>\n",
       "      <td>binding</td>\n",
       "      <td>RNA-Protein</td>\n",
       "      <td>Literature mining</td>\n",
       "    </tr>\n",
       "    <tr>\n",
       "      <th>3</th>\n",
       "      <td>ncRI-40000004</td>\n",
       "      <td>7SK</td>\n",
       "      <td>NONHSAG040596</td>\n",
       "      <td>lncRNA</td>\n",
       "      <td>MYC</td>\n",
       "      <td>NM_002467</td>\n",
       "      <td>protein</td>\n",
       "      <td>Electrophoretic mobility shift experiment indi...</td>\n",
       "      <td>EMSA</td>\n",
       "      <td>9018369</td>\n",
       "      <td>Homo sapiens</td>\n",
       "      <td>-</td>\n",
       "      <td>regulatory;promoter as action site</td>\n",
       "      <td>regulatory</td>\n",
       "      <td>RNA-RNA</td>\n",
       "      <td>Literature mining</td>\n",
       "    </tr>\n",
       "    <tr>\n",
       "      <th>4</th>\n",
       "      <td>ncRI-40000005</td>\n",
       "      <td>7SK</td>\n",
       "      <td>NONHSAG040596</td>\n",
       "      <td>lncRNA</td>\n",
       "      <td>ABO</td>\n",
       "      <td>NM_020469</td>\n",
       "      <td>protein</td>\n",
       "      <td>Promoters pU6 and p7SK proved to express high ...</td>\n",
       "      <td>-</td>\n",
       "      <td>22522162</td>\n",
       "      <td>Homo sapiens</td>\n",
       "      <td>-</td>\n",
       "      <td>regulatory</td>\n",
       "      <td>regulatory</td>\n",
       "      <td>RNA-RNA</td>\n",
       "      <td>Literature mining</td>\n",
       "    </tr>\n",
       "  </tbody>\n",
       "</table>\n",
       "</div>"
      ],
      "text/plain": [
       "         interID ncName                ncID  ncType tarName      tarID  \\\n",
       "0  ncRI-40000001   4.5S  NONOTHNOBEDT000074  lncRNA    rpoD     P0A6M8   \n",
       "1  ncRI-40000002     6S  NONOTHNOBEDT000078  lncRNA    rpoB     M1FYN7   \n",
       "2  ncRI-40000003     6S  NONOTHNOBEDT000078  lncRNA    rpoD     P00579   \n",
       "3  ncRI-40000004    7SK       NONHSAG040596  lncRNA     MYC  NM_002467   \n",
       "4  ncRI-40000005    7SK       NONHSAG040596  lncRNA     ABO  NM_020469   \n",
       "\n",
       "   tarType                                   interDescription  \\\n",
       "0  protein  Following translocation, 4.5S RNA replaces 23S...   \n",
       "1  protein  UV crosslinking experiments revealed that 6S R...   \n",
       "2  protein  The stable association of sigma70 with core en...   \n",
       "3  protein  Electrophoretic mobility shift experiment indi...   \n",
       "4  protein  Promoters pU6 and p7SK proved to express high ...   \n",
       "\n",
       "                                          experiment                reference  \\\n",
       "0  Immunoprecipitation experiments;EMSA;SDS-polya...  8662727;8107852;1281314   \n",
       "1                                      cross-linking                 10892648   \n",
       "2                                      cross-linking                 10892648   \n",
       "3                                               EMSA                  9018369   \n",
       "4                                                  -                 22522162   \n",
       "\n",
       "           organism tissueOrCell                                 tag  \\\n",
       "0  Escherichia coli            -               ncRNA-protein binding   \n",
       "1  Escherichia coli            -               ncRNA-protein binding   \n",
       "2  Escherichia coli            -               ncRNA-protein binding   \n",
       "3      Homo sapiens            -  regulatory;promoter as action site   \n",
       "4      Homo sapiens            -                          regulatory   \n",
       "\n",
       "        class        level         datasource  \n",
       "0     binding  RNA-Protein  Literature mining  \n",
       "1     binding  RNA-Protein  Literature mining  \n",
       "2     binding  RNA-Protein  Literature mining  \n",
       "3  regulatory      RNA-RNA  Literature mining  \n",
       "4  regulatory      RNA-RNA  Literature mining  "
      ]
     },
     "execution_count": 73,
     "metadata": {},
     "output_type": "execute_result"
    }
   ],
   "source": [
    "df_NpInter4_all = pd.read_csv(\"Data\\interaction_NPInterv4.all\\interaction_NPInterv4.csv\", engine='python')\n",
    "df_NpInter4_all.head()"
   ]
  },
  {
   "cell_type": "code",
   "execution_count": 74,
   "metadata": {},
   "outputs": [
    {
     "data": {
      "text/plain": [
       "(1048575, 16)"
      ]
     },
     "execution_count": 74,
     "metadata": {},
     "output_type": "execute_result"
    }
   ],
   "source": [
    "df_NpInter4_all.shape"
   ]
  },
  {
   "cell_type": "markdown",
   "metadata": {},
   "source": [
    "# Filter homo sapiens from v 4 all dataset"
   ]
  },
  {
   "cell_type": "code",
   "execution_count": 75,
   "metadata": {},
   "outputs": [
    {
     "name": "stdout",
     "output_type": "stream",
     "text": [
      "(876536, 16)\n"
     ]
    }
   ],
   "source": [
    "df_NpInter4_all_hs=df_NpInter4_all[df_NpInter4_all[\"organism\"] ==\"Homo sapiens\"]\n",
    "#df_NpInter4_hs.head()\n",
    "print(df_NpInter4_all_hs.shape)"
   ]
  },
  {
   "cell_type": "markdown",
   "metadata": {},
   "source": [
    "# Filter interClass = binding"
   ]
  },
  {
   "cell_type": "code",
   "execution_count": 76,
   "metadata": {},
   "outputs": [
    {
     "name": "stdout",
     "output_type": "stream",
     "text": [
      "(753904, 16)\n"
     ]
    }
   ],
   "source": [
    "df_NpInter4_all_hs=df_NpInter4_all_hs[df_NpInter4_all_hs[\"class\"] ==\"binding\"]\n",
    "#df_NpInter4_hs.head()\n",
    "print(df_NpInter4_all_hs.shape)"
   ]
  },
  {
   "cell_type": "markdown",
   "metadata": {},
   "source": [
    "# Checking null and unique values v 4 all\n"
   ]
  },
  {
   "cell_type": "code",
   "execution_count": 77,
   "metadata": {},
   "outputs": [
    {
     "name": "stdout",
     "output_type": "stream",
     "text": [
      "............ Shape of data ..........\n",
      "(753904, 16)\n",
      ".......... NULL Values .................\n",
      "interID             0\n",
      "ncName              0\n",
      "ncID                0\n",
      "ncType              0\n",
      "tarName             0\n",
      "tarID               1\n",
      "tarType             0\n",
      "interDescription    0\n",
      "experiment          0\n",
      "reference           0\n",
      "organism            0\n",
      "tissueOrCell        0\n",
      "tag                 0\n",
      "class               0\n",
      "level               0\n",
      "datasource          0\n",
      "dtype: int64\n",
      "............... unique values..................   \n",
      "interID             753904\n",
      "ncName               50124\n",
      "ncID                 58959\n",
      "ncType                  10\n",
      "tarName              21699\n",
      "tarID                23980\n",
      "tarType                 11\n",
      "interDescription      1285\n",
      "experiment             640\n",
      "reference             1171\n",
      "organism                 1\n",
      "tissueOrCell           847\n",
      "tag                     68\n",
      "class                    1\n",
      "level                    4\n",
      "datasource             351\n",
      "dtype: int64\n"
     ]
    }
   ],
   "source": [
    "print(\"............ Shape of data ..........\")\n",
    "print(df_NpInter4_all_hs.shape)\n",
    "print('.......... NULL Values .................')\n",
    "print(df_NpInter4_all_hs.isnull().sum())\n",
    "print('............... unique values..................   ')\n",
    "print(df_NpInter4_all_hs.nunique())"
   ]
  },
  {
   "cell_type": "code",
   "execution_count": 78,
   "metadata": {},
   "outputs": [
    {
     "data": {
      "text/plain": [
       "(405238, 16)"
      ]
     },
     "execution_count": 78,
     "metadata": {},
     "output_type": "execute_result"
    }
   ],
   "source": [
    "df_NpInter4_all_hs[df_NpInter4_all_hs[\"ncType\"] ==\"lncRNA\"].shape"
   ]
  },
  {
   "cell_type": "code",
   "execution_count": 79,
   "metadata": {},
   "outputs": [
    {
     "data": {
      "text/plain": [
       "(395400, 16)"
      ]
     },
     "execution_count": 79,
     "metadata": {},
     "output_type": "execute_result"
    }
   ],
   "source": [
    "df_NpInter4_all_hs[df_NpInter4_all_hs[\"tarType\"] ==\"protein\"].shape"
   ]
  },
  {
   "cell_type": "code",
   "execution_count": 81,
   "metadata": {},
   "outputs": [
    {
     "data": {
      "text/plain": [
       "(733621, 16)"
      ]
     },
     "execution_count": 81,
     "metadata": {},
     "output_type": "execute_result"
    }
   ],
   "source": [
    "df_NpInter4_all_hs_clean=df_NpInter4_all_hs[df_NpInter4_all_hs[\"ncID\"].str.strip() !=\"-\"]\n",
    "df_NpInter4_all_hs_clean.shape"
   ]
  },
  {
   "cell_type": "code",
   "execution_count": 82,
   "metadata": {},
   "outputs": [
    {
     "name": "stdout",
     "output_type": "stream",
     "text": [
      "............ Shape of data ..........\n",
      "(733621, 16)\n",
      ".......... NULL Values .................\n",
      "interID             0\n",
      "ncName              0\n",
      "ncID                0\n",
      "ncType              0\n",
      "tarName             0\n",
      "tarID               0\n",
      "tarType             0\n",
      "interDescription    0\n",
      "experiment          0\n",
      "reference           0\n",
      "organism            0\n",
      "tissueOrCell        0\n",
      "tag                 0\n",
      "class               0\n",
      "level               0\n",
      "datasource          0\n",
      "dtype: int64\n",
      "............... unique values..................   \n",
      "interID             733621\n",
      "ncName               48039\n",
      "ncID                 58958\n",
      "ncType                  10\n",
      "tarName              21507\n",
      "tarID                23694\n",
      "tarType                 11\n",
      "interDescription      1146\n",
      "experiment             582\n",
      "reference             1053\n",
      "organism                 1\n",
      "tissueOrCell           797\n",
      "tag                     54\n",
      "class                    1\n",
      "level                    4\n",
      "datasource             351\n",
      "dtype: int64\n"
     ]
    }
   ],
   "source": [
    "#checking null and unique values\n",
    "print(\"............ Shape of data ..........\")\n",
    "print(df_NpInter4_all_hs_clean.shape)\n",
    "print('.......... NULL Values .................')\n",
    "print(df_NpInter4_all_hs_clean.isnull().sum())\n",
    "print('............... unique values..................   ')\n",
    "print(df_NpInter4_all_hs_clean.nunique())"
   ]
  },
  {
   "cell_type": "code",
   "execution_count": 84,
   "metadata": {},
   "outputs": [
    {
     "data": {
      "text/plain": [
       "(375707, 16)"
      ]
     },
     "execution_count": 84,
     "metadata": {},
     "output_type": "execute_result"
    }
   ],
   "source": [
    "df_NpInter4_all_hs_clean=df_NpInter4_all_hs_clean[df_NpInter4_all_hs_clean[\"ncType\"] ==\"lncRNA\"]\n",
    "df_NpInter4_all_hs_clean=df_NpInter4_all_hs_clean[df_NpInter4_all_hs_clean[\"tarType\"] ==\"protein\"]\n",
    "df_NpInter4_all_hs_clean.shape"
   ]
  },
  {
   "cell_type": "code",
   "execution_count": null,
   "metadata": {},
   "outputs": [],
   "source": []
  }
 ],
 "metadata": {
  "kernelspec": {
   "display_name": "Python 3",
   "language": "python",
   "name": "python3"
  },
  "language_info": {
   "codemirror_mode": {
    "name": "ipython",
    "version": 3
   },
   "file_extension": ".py",
   "mimetype": "text/x-python",
   "name": "python",
   "nbconvert_exporter": "python",
   "pygments_lexer": "ipython3",
   "version": "3.7.1"
  }
 },
 "nbformat": 4,
 "nbformat_minor": 2
}
