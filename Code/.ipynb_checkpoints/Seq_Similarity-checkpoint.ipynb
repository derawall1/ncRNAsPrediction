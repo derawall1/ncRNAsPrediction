{
 "cells": [
  {
   "cell_type": "markdown",
   "metadata": {},
   "source": [
    "### Importing Packages"
   ]
  },
  {
   "cell_type": "code",
   "execution_count": 4,
   "metadata": {},
   "outputs": [],
   "source": [
    "import itertools\n",
    "import numpy as np\n",
    "from Bio import Align\n",
    "from Bio import SeqIO\n",
    "from Bio.SubsMat.MatrixInfo import blosum62\n",
    "#aligner = Align.PairwiseAligner()\n"
   ]
  },
  {
   "cell_type": "code",
   "execution_count": 5,
   "metadata": {},
   "outputs": [
    {
     "name": "stdout",
     "output_type": "stream",
     "text": [
      "2741116\n",
      "6.112625852998168e+160\n"
     ]
    }
   ],
   "source": [
    "aligner = Align.PairwiseAligner()\n",
    "aligner.substitution_matrix = blosum62\n",
    "\n",
    "seq1 =\">sp|P17735|ATTY_HUMAN Tyrosine aminotransferase OS=Homo sapiens OX=9606 GN=TAT PE=1 SV=1 \\\n",
    "MDPYMIQMSSKGNLPSILDVHVNVGGRSSVPGKMKGRKARWSVRPSDMAKKTFNPIRAIV \\\n",
    "DNMKVKPNPNKTMISLSIGDPTVFGNLPTDPEVTQAMKDALDSGKYNGYAPSIGFLSSRE \\\n",
    "EIASYYHCPEAPLEAKDVILTSGCSQAIDLCLAVLANPGQNILVPRPGFSLYKTLAESMG \\\n",
    "IEVKLYNLLPEKSWEIDLKQLEYLIDEKTACLIVNNPSNPCGSVFSKRHLQKILAVAARQ \\\n",
    "CVPILADEIYGDMVFSDCKYEPLATLSTDVPILSCGGLAKRWLVPGWRLGWILIHDRRDI \\\n",
    "FGNEIRDGLVKLSQRILGPCTIVQGALKSILCRTPGEFYHNTLSFLKSNADLCYGALAAI \\\n",
    "PGLRPVRPSGAMYLMVGIEMEHFPEFENDVEFTERLVAEQSVHCLPATCFEYPNFIRVVI \\\n",
    "TVPEVMMLEACSRIQEFCEQHYHCAEGSQEECDK\"\n",
    "seq2=\">sp|A0PJZ0|A20A5_HUMAN Putative ankyrin repeat domain-containing protein 20A5 \\\n",
    "OS=Homo sapiens OX=9606 GN=ANKRD20A5P PE=5 SV=1 \\\n",
    "MKLFGFRSRRGQTVLGSIDHLYTGSGYRIRYSELQKIHKAAVKGDAAEMERCLARRSGDL \\\n",
    "DALDKQHRTALHLACASGHVKVVTLLVNRKCQIDIYDKENRTPLIQAVHCQEEACAVILL \\\n",
    "EHGANPNLKDIYGNTALHYAVYSESTSLAEKLLFHGENIEALDKV\"\n",
    "aligner.mode = 'local'\n",
    "alignments = aligner.align(seq1, seq2)\n",
    "print(len(alignments))\n",
    "\n",
    "print(alignments[0].score)\n",
    "\n"
   ]
  },
  {
   "cell_type": "code",
   "execution_count": null,
   "metadata": {},
   "outputs": [],
   "source": []
  },
  {
   "cell_type": "code",
   "execution_count": null,
   "metadata": {},
   "outputs": [],
   "source": []
  },
  {
   "cell_type": "code",
   "execution_count": null,
   "metadata": {},
   "outputs": [],
   "source": []
  },
  {
   "cell_type": "code",
   "execution_count": null,
   "metadata": {},
   "outputs": [],
   "source": []
  }
 ],
 "metadata": {
  "kernelspec": {
   "display_name": "Python 3",
   "language": "python",
   "name": "python3"
  },
  "language_info": {
   "codemirror_mode": {
    "name": "ipython",
    "version": 3
   },
   "file_extension": ".py",
   "mimetype": "text/x-python",
   "name": "python",
   "nbconvert_exporter": "python",
   "pygments_lexer": "ipython3",
   "version": "3.7.1"
  }
 },
 "nbformat": 4,
 "nbformat_minor": 2
}
