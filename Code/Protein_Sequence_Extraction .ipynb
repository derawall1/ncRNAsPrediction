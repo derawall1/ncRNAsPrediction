{
 "cells": [
  {
   "cell_type": "markdown",
   "metadata": {},
   "source": [
    "### Importing packages "
   ]
  },
  {
   "cell_type": "code",
   "execution_count": 43,
   "metadata": {},
   "outputs": [],
   "source": [
    "import pandas as pd\n",
    "from pandasql import sqldf"
   ]
  },
  {
   "cell_type": "markdown",
   "metadata": {},
   "source": [
    "### Loading NPInter_v2.0 homo_sapiens data"
   ]
  },
  {
   "cell_type": "code",
   "execution_count": 79,
   "metadata": {},
   "outputs": [
    {
     "data": {
      "text/html": [
       "<div>\n",
       "<style scoped>\n",
       "    .dataframe tbody tr th:only-of-type {\n",
       "        vertical-align: middle;\n",
       "    }\n",
       "\n",
       "    .dataframe tbody tr th {\n",
       "        vertical-align: top;\n",
       "    }\n",
       "\n",
       "    .dataframe thead th {\n",
       "        text-align: right;\n",
       "    }\n",
       "</style>\n",
       "<table border=\"1\" class=\"dataframe\">\n",
       "  <thead>\n",
       "    <tr style=\"text-align: right;\">\n",
       "      <th></th>\n",
       "      <th>interID</th>\n",
       "      <th>ncID</th>\n",
       "      <th>ncType</th>\n",
       "      <th>ncIdentifier</th>\n",
       "      <th>ncName</th>\n",
       "      <th>PartnerID</th>\n",
       "      <th>prType</th>\n",
       "      <th>prIdentifier</th>\n",
       "      <th>InteractionPartner</th>\n",
       "      <th>interDescription</th>\n",
       "      <th>experiment</th>\n",
       "      <th>pubmed</th>\n",
       "      <th>organism</th>\n",
       "      <th>tag</th>\n",
       "      <th>interClass</th>\n",
       "      <th>interLevel</th>\n",
       "      <th>NONCODETranscriptID</th>\n",
       "    </tr>\n",
       "  </thead>\n",
       "  <tbody>\n",
       "    <tr>\n",
       "      <th>0</th>\n",
       "      <td>ncRI-199556</td>\n",
       "      <td>16426</td>\n",
       "      <td>NONCODE</td>\n",
       "      <td>n386623</td>\n",
       "      <td>RPI001_920445</td>\n",
       "      <td>18387</td>\n",
       "      <td>UniProt</td>\n",
       "      <td>Q07955</td>\n",
       "      <td>SRSF1</td>\n",
       "      <td>Cross-linking immunoprecipitation and high-thr...</td>\n",
       "      <td>CLIP-seq</td>\n",
       "      <td>19116412</td>\n",
       "      <td>Homo sapiens</td>\n",
       "      <td>ncRNA-protein binding</td>\n",
       "      <td>binding</td>\n",
       "      <td>RNA-Protein</td>\n",
       "      <td>NONHSAT012864.2</td>\n",
       "    </tr>\n",
       "    <tr>\n",
       "      <th>1</th>\n",
       "      <td>ncRI-188304</td>\n",
       "      <td>11160</td>\n",
       "      <td>NONCODE</td>\n",
       "      <td>n343050</td>\n",
       "      <td>RPI001_100097</td>\n",
       "      <td>8360</td>\n",
       "      <td>UniProt</td>\n",
       "      <td>Q9HCE1</td>\n",
       "      <td>MOV10</td>\n",
       "      <td>A modified PAR-CLIP method applied to the nucl...</td>\n",
       "      <td>modified PAR-CLIP</td>\n",
       "      <td>22844102</td>\n",
       "      <td>Homo sapiens</td>\n",
       "      <td>ncRNA-protein binding</td>\n",
       "      <td>binding</td>\n",
       "      <td>RNA-Protein</td>\n",
       "      <td>NONHSAT084827.2</td>\n",
       "    </tr>\n",
       "    <tr>\n",
       "      <th>2</th>\n",
       "      <td>ncRI-192633</td>\n",
       "      <td>12013</td>\n",
       "      <td>NONCODE</td>\n",
       "      <td>n407114</td>\n",
       "      <td>RPI001_182337</td>\n",
       "      <td>3988</td>\n",
       "      <td>UniProt</td>\n",
       "      <td>Q01844</td>\n",
       "      <td>EWSR1</td>\n",
       "      <td>PAR-CLIP defined global RNA targets for all hu...</td>\n",
       "      <td>PAR-CLIP</td>\n",
       "      <td>22081015</td>\n",
       "      <td>Homo sapiens</td>\n",
       "      <td>ncRNA-protein binding</td>\n",
       "      <td>binding</td>\n",
       "      <td>RNA-Protein</td>\n",
       "      <td>NONHSAT091509.2</td>\n",
       "    </tr>\n",
       "    <tr>\n",
       "      <th>3</th>\n",
       "      <td>ncRI-191389</td>\n",
       "      <td>11713</td>\n",
       "      <td>NONCODE</td>\n",
       "      <td>n408119</td>\n",
       "      <td>RPI001_114723</td>\n",
       "      <td>515</td>\n",
       "      <td>UniProt</td>\n",
       "      <td>Q9UL18</td>\n",
       "      <td>AGO1-4</td>\n",
       "      <td>PAR-CLIP of combined AGO1-4 indicates the nonc...</td>\n",
       "      <td>PAR-CLIP</td>\n",
       "      <td>20371350</td>\n",
       "      <td>Homo sapiens</td>\n",
       "      <td>ncRNA-protein binding</td>\n",
       "      <td>binding</td>\n",
       "      <td>RNA-Protein</td>\n",
       "      <td>NaN</td>\n",
       "    </tr>\n",
       "    <tr>\n",
       "      <th>4</th>\n",
       "      <td>ncRI-191389</td>\n",
       "      <td>11713</td>\n",
       "      <td>NONCODE</td>\n",
       "      <td>n408119</td>\n",
       "      <td>RPI001_114723</td>\n",
       "      <td>515</td>\n",
       "      <td>UniProt</td>\n",
       "      <td>Q9UKV8</td>\n",
       "      <td>AGO1-4</td>\n",
       "      <td>PAR-CLIP of combined AGO1-4 indicates the nonc...</td>\n",
       "      <td>PAR-CLIP</td>\n",
       "      <td>20371350</td>\n",
       "      <td>Homo sapiens</td>\n",
       "      <td>ncRNA-protein binding</td>\n",
       "      <td>binding</td>\n",
       "      <td>RNA-Protein</td>\n",
       "      <td>NaN</td>\n",
       "    </tr>\n",
       "  </tbody>\n",
       "</table>\n",
       "</div>"
      ],
      "text/plain": [
       "       interID   ncID   ncType ncIdentifier         ncName  PartnerID  \\\n",
       "0  ncRI-199556  16426  NONCODE      n386623  RPI001_920445      18387   \n",
       "1  ncRI-188304  11160  NONCODE      n343050  RPI001_100097       8360   \n",
       "2  ncRI-192633  12013  NONCODE      n407114  RPI001_182337       3988   \n",
       "3  ncRI-191389  11713  NONCODE      n408119  RPI001_114723        515   \n",
       "4  ncRI-191389  11713  NONCODE      n408119  RPI001_114723        515   \n",
       "\n",
       "    prType prIdentifier InteractionPartner  \\\n",
       "0  UniProt       Q07955              SRSF1   \n",
       "1  UniProt       Q9HCE1              MOV10   \n",
       "2  UniProt       Q01844              EWSR1   \n",
       "3  UniProt       Q9UL18             AGO1-4   \n",
       "4  UniProt       Q9UKV8             AGO1-4   \n",
       "\n",
       "                                    interDescription         experiment  \\\n",
       "0  Cross-linking immunoprecipitation and high-thr...           CLIP-seq   \n",
       "1  A modified PAR-CLIP method applied to the nucl...  modified PAR-CLIP   \n",
       "2  PAR-CLIP defined global RNA targets for all hu...           PAR-CLIP   \n",
       "3  PAR-CLIP of combined AGO1-4 indicates the nonc...           PAR-CLIP   \n",
       "4  PAR-CLIP of combined AGO1-4 indicates the nonc...           PAR-CLIP   \n",
       "\n",
       "     pubmed      organism                    tag interClass   interLevel  \\\n",
       "0  19116412  Homo sapiens  ncRNA-protein binding    binding  RNA-Protein   \n",
       "1  22844102  Homo sapiens  ncRNA-protein binding    binding  RNA-Protein   \n",
       "2  22081015  Homo sapiens  ncRNA-protein binding    binding  RNA-Protein   \n",
       "3  20371350  Homo sapiens  ncRNA-protein binding    binding  RNA-Protein   \n",
       "4  20371350  Homo sapiens  ncRNA-protein binding    binding  RNA-Protein   \n",
       "\n",
       "  NONCODETranscriptID  \n",
       "0     NONHSAT012864.2  \n",
       "1     NONHSAT084827.2  \n",
       "2     NONHSAT091509.2  \n",
       "3                 NaN  \n",
       "4                 NaN  "
      ]
     },
     "execution_count": 79,
     "metadata": {},
     "output_type": "execute_result"
    }
   ],
   "source": [
    "df_NPInter = pd.read_csv('data/NPInter_v2.0 homo_sapiens.csv')\n",
    "df_NPInter.head()"
   ]
  },
  {
   "cell_type": "markdown",
   "metadata": {},
   "source": [
    "### Checking Null and  Unique values in NpInter v2 dataset"
   ]
  },
  {
   "cell_type": "code",
   "execution_count": 80,
   "metadata": {},
   "outputs": [
    {
     "name": "stdout",
     "output_type": "stream",
     "text": [
      "............ Shape of data ..........\n",
      "(8947, 17)\n",
      ".......... NULL Values .................\n",
      "interID                   0\n",
      "ncID                      0\n",
      "ncType                    0\n",
      "ncIdentifier              0\n",
      "ncName                    0\n",
      "PartnerID                 0\n",
      "prType                    0\n",
      "prIdentifier              0\n",
      "InteractionPartner        0\n",
      "interDescription          0\n",
      "experiment               99\n",
      "pubmed                    0\n",
      "organism                  0\n",
      "tag                       0\n",
      "interClass                0\n",
      "interLevel                0\n",
      "NONCODETranscriptID    2939\n",
      "dtype: int64\n",
      "............... unique values..................   \n",
      "interID                8128\n",
      "ncID                   3051\n",
      "ncType                    1\n",
      "ncIdentifier           3053\n",
      "ncName                 3052\n",
      "PartnerID               151\n",
      "prType                    1\n",
      "prIdentifier            139\n",
      "InteractionPartner      153\n",
      "interDescription        192\n",
      "experiment               33\n",
      "pubmed                  140\n",
      "organism                  1\n",
      "tag                       1\n",
      "interClass                1\n",
      "interLevel                1\n",
      "NONCODETranscriptID    2086\n",
      "dtype: int64\n"
     ]
    }
   ],
   "source": [
    "print(\"............ Shape of data ..........\")\n",
    "print(df_NPInter.shape)\n",
    "print('.......... NULL Values .................')\n",
    "print(df_NPInter.isnull().sum())\n",
    "print('............... unique values..................   ')\n",
    "print(df_NPInter.nunique())"
   ]
  },
  {
   "cell_type": "markdown",
   "metadata": {},
   "source": [
    "### Creating PandaSql object"
   ]
  },
  {
   "cell_type": "code",
   "execution_count": 51,
   "metadata": {},
   "outputs": [],
   "source": [
    "df_NPInter = df_NPInter.dropna(axis=0, subset=['ncIdentifier'])\n",
    "df_NPInter = df_NPInter.dropna(axis=0, subset=['prIdentifier'])"
   ]
  },
  {
   "cell_type": "code",
   "execution_count": 52,
   "metadata": {},
   "outputs": [
    {
     "name": "stdout",
     "output_type": "stream",
     "text": [
      "............ Shape of data ..........\n",
      "(8133, 17)\n",
      ".......... NULL Values .................\n",
      "interID                   0\n",
      "ncID                      0\n",
      "ncType                    0\n",
      "ncIdentifier              0\n",
      "ncName                    0\n",
      "PartnerID                 0\n",
      "prType                    0\n",
      "prIdentifier              0\n",
      "InteractionPartner        0\n",
      "interDescription          0\n",
      "experiment               91\n",
      "pubmed                    0\n",
      "organism                  0\n",
      "tag                       0\n",
      "interClass                0\n",
      "interLevel                0\n",
      "NONCODETranscriptID    2608\n",
      "dtype: int64\n",
      "............... unique values..................   \n",
      "interID                8133\n",
      "ncID                   3053\n",
      "ncType                    3\n",
      "ncIdentifier           3042\n",
      "ncName                 3054\n",
      "PartnerID               156\n",
      "prType                    1\n",
      "prIdentifier            139\n",
      "InteractionPartner      158\n",
      "interDescription        195\n",
      "experiment               34\n",
      "pubmed                  142\n",
      "organism                  1\n",
      "tag                       1\n",
      "interClass                1\n",
      "interLevel                1\n",
      "NONCODETranscriptID    2086\n",
      "dtype: int64\n"
     ]
    }
   ],
   "source": [
    "print(\"............ Shape of data ..........\")\n",
    "print(df_NPInter.shape)\n",
    "print('.......... NULL Values .................')\n",
    "print(df_NPInter.isnull().sum())\n",
    "print('............... unique values..................   ')\n",
    "print(df_NPInter.nunique())"
   ]
  },
  {
   "cell_type": "code",
   "execution_count": 53,
   "metadata": {},
   "outputs": [],
   "source": [
    "df_NPInter.to_csv(\"data/NPInter_v2.0 homo_sapiens.csv\")"
   ]
  },
  {
   "cell_type": "code",
   "execution_count": 9,
   "metadata": {},
   "outputs": [],
   "source": [
    "pysqldf = lambda q: sqldf(q, globals())"
   ]
  },
  {
   "cell_type": "markdown",
   "metadata": {},
   "source": [
    "### Filtering and removing single interaction of porteins or LncRNAs"
   ]
  },
  {
   "cell_type": "code",
   "execution_count": 6,
   "metadata": {},
   "outputs": [],
   "source": [
    "#df_single_pr=pysqldf(\"SELECT interID, prIdentifier,count(prIdentifier) as PrId_count  FROM df_NPInter np group by  prIdentifier  having count(prIdentifier) = 1\")\n",
    "#print(df_single_pr)"
   ]
  },
  {
   "cell_type": "code",
   "execution_count": 7,
   "metadata": {},
   "outputs": [],
   "source": [
    "#df_single_pr[df_single_pr['prIdentifier'].str.contains(\";\")==True]\n"
   ]
  },
  {
   "cell_type": "markdown",
   "metadata": {},
   "source": [
    "### Removing those enteries which proteins are interacting with single LncRNAs."
   ]
  },
  {
   "cell_type": "code",
   "execution_count": 8,
   "metadata": {},
   "outputs": [],
   "source": [
    "#df_NPInter_Clean = pysqldf(\"SELECT np.* FROM df_NPInter np where np.interID not in (select interID from df_single_pr)\")\n",
    "#print(df_NPInter_Clean.shape)"
   ]
  },
  {
   "cell_type": "code",
   "execution_count": 9,
   "metadata": {},
   "outputs": [],
   "source": [
    "#print(\"............ Shape of data ..........\")\n",
    "#print(df_NPInter_Clean.shape)\n",
    "#print('.......... NULL Values .................')\n",
    "#print(df_NPInter_Clean.isnull().sum())\n",
    "#print('............... unique values..................   ')\n",
    "#print(df_NPInter_Clean.nunique())"
   ]
  },
  {
   "cell_type": "markdown",
   "metadata": {},
   "source": [
    "### Filtering and removing single interaction of porteins or LncRNAs"
   ]
  },
  {
   "cell_type": "code",
   "execution_count": 10,
   "metadata": {},
   "outputs": [],
   "source": [
    "#df_single_np=pysqldf(\"SELECT interID, ncIdentifier,count(ncIdentifier) as count FROM df_NPInter np group by ncIdentifier having count(ncIdentifier)=1\")\n",
    "#print(df_single_np.shape)"
   ]
  },
  {
   "cell_type": "code",
   "execution_count": 12,
   "metadata": {},
   "outputs": [
    {
     "data": {
      "text/html": [
       "<div>\n",
       "<style scoped>\n",
       "    .dataframe tbody tr th:only-of-type {\n",
       "        vertical-align: middle;\n",
       "    }\n",
       "\n",
       "    .dataframe tbody tr th {\n",
       "        vertical-align: top;\n",
       "    }\n",
       "\n",
       "    .dataframe thead th {\n",
       "        text-align: right;\n",
       "    }\n",
       "</style>\n",
       "<table border=\"1\" class=\"dataframe\">\n",
       "  <thead>\n",
       "    <tr style=\"text-align: right;\">\n",
       "      <th></th>\n",
       "      <th>interID</th>\n",
       "      <th>ncIdentifier</th>\n",
       "      <th>count</th>\n",
       "    </tr>\n",
       "  </thead>\n",
       "  <tbody>\n",
       "  </tbody>\n",
       "</table>\n",
       "</div>"
      ],
      "text/plain": [
       "Empty DataFrame\n",
       "Columns: [interID, ncIdentifier, count]\n",
       "Index: []"
      ]
     },
     "execution_count": 12,
     "metadata": {},
     "output_type": "execute_result"
    }
   ],
   "source": [
    "#df_single_np[df_single_np['ncIdentifier'].str.contains(\";\")==True]\n"
   ]
  },
  {
   "cell_type": "markdown",
   "metadata": {},
   "source": [
    "### Removing those enteries which LncRNAs are interacting with single protein.\n"
   ]
  },
  {
   "cell_type": "code",
   "execution_count": 11,
   "metadata": {},
   "outputs": [],
   "source": [
    "#df_NPInter_Clean2 = pysqldf(\"SELECT np.* FROM df_NPInter_Clean np where np.interID not in (select interID from df_single_np)\")\n",
    "#print(df_NPInter_Clean2.shape)"
   ]
  },
  {
   "cell_type": "code",
   "execution_count": 12,
   "metadata": {},
   "outputs": [],
   "source": [
    "#print(\"............ Shape of data ..........\")\n",
    "#print(df_NPInter_Clean2.shape)\n",
    "#print('.......... NULL Values .................')\n",
    "#print(df_NPInter_Clean2.isnull().sum())\n",
    "#print('............... unique values..................   ')\n",
    "#print(df_NPInter_Clean2.nunique())"
   ]
  },
  {
   "cell_type": "code",
   "execution_count": 25,
   "metadata": {},
   "outputs": [],
   "source": [
    "#df_NPInter_Clean2.to_csv(\"NPInter_v2.0 homo_sapiens_clean.csv\")"
   ]
  },
  {
   "cell_type": "markdown",
   "metadata": {},
   "source": [
    "### Getting the protien Identifier from NpInter v2 into a list"
   ]
  },
  {
   "cell_type": "code",
   "execution_count": 81,
   "metadata": {},
   "outputs": [],
   "source": [
    "\n",
    "prIdentifier=df_NPInter['prIdentifier'].values.tolist()\n",
    "#prIdentifier"
   ]
  },
  {
   "cell_type": "markdown",
   "metadata": {},
   "source": [
    "### Joining all protein ids into semicolen separated string."
   ]
  },
  {
   "cell_type": "code",
   "execution_count": 82,
   "metadata": {},
   "outputs": [],
   "source": [
    "prIdentifier=';'.join(map(str, prIdentifier))\n",
    "#prIdentifier\n"
   ]
  },
  {
   "cell_type": "markdown",
   "metadata": {},
   "source": [
    "### Converting semicolen separated string to list and then datafame."
   ]
  },
  {
   "cell_type": "code",
   "execution_count": 83,
   "metadata": {},
   "outputs": [],
   "source": [
    "prIdentifier=prIdentifier.strip().split(\";\")\n",
    "\n"
   ]
  },
  {
   "cell_type": "code",
   "execution_count": 84,
   "metadata": {},
   "outputs": [
    {
     "data": {
      "text/html": [
       "<div>\n",
       "<style scoped>\n",
       "    .dataframe tbody tr th:only-of-type {\n",
       "        vertical-align: middle;\n",
       "    }\n",
       "\n",
       "    .dataframe tbody tr th {\n",
       "        vertical-align: top;\n",
       "    }\n",
       "\n",
       "    .dataframe thead th {\n",
       "        text-align: right;\n",
       "    }\n",
       "</style>\n",
       "<table border=\"1\" class=\"dataframe\">\n",
       "  <thead>\n",
       "    <tr style=\"text-align: right;\">\n",
       "      <th></th>\n",
       "      <th>Entry</th>\n",
       "    </tr>\n",
       "  </thead>\n",
       "  <tbody>\n",
       "    <tr>\n",
       "      <th>0</th>\n",
       "      <td>Q07955</td>\n",
       "    </tr>\n",
       "    <tr>\n",
       "      <th>1</th>\n",
       "      <td>Q9HCE1</td>\n",
       "    </tr>\n",
       "    <tr>\n",
       "      <th>2</th>\n",
       "      <td>Q01844</td>\n",
       "    </tr>\n",
       "    <tr>\n",
       "      <th>3</th>\n",
       "      <td>Q9UL18</td>\n",
       "    </tr>\n",
       "    <tr>\n",
       "      <th>4</th>\n",
       "      <td>Q9UKV8</td>\n",
       "    </tr>\n",
       "  </tbody>\n",
       "</table>\n",
       "</div>"
      ],
      "text/plain": [
       "     Entry\n",
       "0   Q07955\n",
       "1   Q9HCE1\n",
       "2   Q01844\n",
       "3   Q9UL18\n",
       "4   Q9UKV8"
      ]
     },
     "execution_count": 84,
     "metadata": {},
     "output_type": "execute_result"
    }
   ],
   "source": [
    "df_prId=pd.DataFrame(prIdentifier,columns =[\"Entry\"])\n",
    "df_prId.head()\n",
    "#print(df_prId.count())"
   ]
  },
  {
   "cell_type": "code",
   "execution_count": 85,
   "metadata": {},
   "outputs": [
    {
     "name": "stdout",
     "output_type": "stream",
     "text": [
      "Entry    139\n",
      "dtype: int64\n",
      "(8947, 1)\n"
     ]
    }
   ],
   "source": [
    "print(df_prId.nunique())\n",
    "print(df_prId.shape)\n",
    "df_prId.to_csv(\"E:\\\\Fast\\\\Maam Zoya\\\\data and code\\\\Data\\\\NpInter2 Interacting Protiens\\\\interacting_proteins_ids.csv\")"
   ]
  },
  {
   "cell_type": "markdown",
   "metadata": {},
   "source": [
    "### Loading All reviewed homo sapiens proteins from Uniport Swiss"
   ]
  },
  {
   "cell_type": "code",
   "execution_count": 15,
   "metadata": {},
   "outputs": [
    {
     "data": {
      "text/html": [
       "<div>\n",
       "<style scoped>\n",
       "    .dataframe tbody tr th:only-of-type {\n",
       "        vertical-align: middle;\n",
       "    }\n",
       "\n",
       "    .dataframe tbody tr th {\n",
       "        vertical-align: top;\n",
       "    }\n",
       "\n",
       "    .dataframe thead th {\n",
       "        text-align: right;\n",
       "    }\n",
       "</style>\n",
       "<table border=\"1\" class=\"dataframe\">\n",
       "  <thead>\n",
       "    <tr style=\"text-align: right;\">\n",
       "      <th></th>\n",
       "      <th>Entry</th>\n",
       "      <th>Entry name</th>\n",
       "      <th>Status</th>\n",
       "      <th>Protein names</th>\n",
       "      <th>Gene names</th>\n",
       "      <th>Organism</th>\n",
       "      <th>Length</th>\n",
       "      <th>Sequence</th>\n",
       "      <th>Organism ID</th>\n",
       "      <th>Cross-reference (PDB)</th>\n",
       "    </tr>\n",
       "  </thead>\n",
       "  <tbody>\n",
       "    <tr>\n",
       "      <th>0</th>\n",
       "      <td>P46777</td>\n",
       "      <td>RL5_HUMAN</td>\n",
       "      <td>reviewed</td>\n",
       "      <td>60S ribosomal protein L5 (Large ribosomal subu...</td>\n",
       "      <td>RPL5 MSTP030</td>\n",
       "      <td>Homo sapiens (Human)</td>\n",
       "      <td>297</td>\n",
       "      <td>MGFVKVVKNKAYFKRYQVKFRRRREGKTDYYARKRLVIQDKNKYNT...</td>\n",
       "      <td>9606</td>\n",
       "      <td>4UG0;4V6X;5AJ0;5LKS;5T2C;6EK0;6QZP;</td>\n",
       "    </tr>\n",
       "    <tr>\n",
       "      <th>1</th>\n",
       "      <td>P05386</td>\n",
       "      <td>RLA1_HUMAN</td>\n",
       "      <td>reviewed</td>\n",
       "      <td>60S acidic ribosomal protein P1 (Large ribosom...</td>\n",
       "      <td>RPLP1 RRP1</td>\n",
       "      <td>Homo sapiens (Human)</td>\n",
       "      <td>114</td>\n",
       "      <td>MASVSELACIYSALILHDDEVTVTEDKINALIKAAGVNVEPFWPGL...</td>\n",
       "      <td>9606</td>\n",
       "      <td>2LBF;4BEH;4V6X;</td>\n",
       "    </tr>\n",
       "    <tr>\n",
       "      <th>2</th>\n",
       "      <td>O75575</td>\n",
       "      <td>RPC9_HUMAN</td>\n",
       "      <td>reviewed</td>\n",
       "      <td>DNA-directed RNA polymerase III subunit RPC9 (...</td>\n",
       "      <td>CRCP</td>\n",
       "      <td>Homo sapiens (Human)</td>\n",
       "      <td>148</td>\n",
       "      <td>MEVKDANSALLSNYEVFQLLTDLKEQRKESGKNKHSSGQQNLNTIT...</td>\n",
       "      <td>9606</td>\n",
       "      <td>NaN</td>\n",
       "    </tr>\n",
       "    <tr>\n",
       "      <th>3</th>\n",
       "      <td>Q96AT9</td>\n",
       "      <td>RPE_HUMAN</td>\n",
       "      <td>reviewed</td>\n",
       "      <td>Ribulose-phosphate 3-epimerase (EC 5.1.3.1) (R...</td>\n",
       "      <td>RPE HUSSY-17</td>\n",
       "      <td>Homo sapiens (Human)</td>\n",
       "      <td>228</td>\n",
       "      <td>MASGCKIGPSILNSDLANLGAECLRMLDSGADYLHLDVMDGHFVPN...</td>\n",
       "      <td>9606</td>\n",
       "      <td>3OVP;3OVQ;3OVR;3QC3;</td>\n",
       "    </tr>\n",
       "    <tr>\n",
       "      <th>4</th>\n",
       "      <td>P18077</td>\n",
       "      <td>RL35A_HUMAN</td>\n",
       "      <td>reviewed</td>\n",
       "      <td>60S ribosomal protein L35a (Cell growth-inhibi...</td>\n",
       "      <td>RPL35A GIG33</td>\n",
       "      <td>Homo sapiens (Human)</td>\n",
       "      <td>110</td>\n",
       "      <td>MSGRLWSKAIFAGYKRGLRNQREHTALLKIEGVYARDETEFYLGKR...</td>\n",
       "      <td>9606</td>\n",
       "      <td>4UG0;4V6X;5AJ0;5LKS;5T2C;6EK0;6QZP;</td>\n",
       "    </tr>\n",
       "  </tbody>\n",
       "</table>\n",
       "</div>"
      ],
      "text/plain": [
       "    Entry   Entry name    Status  \\\n",
       "0  P46777    RL5_HUMAN  reviewed   \n",
       "1  P05386   RLA1_HUMAN  reviewed   \n",
       "2  O75575   RPC9_HUMAN  reviewed   \n",
       "3  Q96AT9    RPE_HUMAN  reviewed   \n",
       "4  P18077  RL35A_HUMAN  reviewed   \n",
       "\n",
       "                                       Protein names    Gene names  \\\n",
       "0  60S ribosomal protein L5 (Large ribosomal subu...  RPL5 MSTP030   \n",
       "1  60S acidic ribosomal protein P1 (Large ribosom...    RPLP1 RRP1   \n",
       "2  DNA-directed RNA polymerase III subunit RPC9 (...          CRCP   \n",
       "3  Ribulose-phosphate 3-epimerase (EC 5.1.3.1) (R...  RPE HUSSY-17   \n",
       "4  60S ribosomal protein L35a (Cell growth-inhibi...  RPL35A GIG33   \n",
       "\n",
       "               Organism  Length  \\\n",
       "0  Homo sapiens (Human)     297   \n",
       "1  Homo sapiens (Human)     114   \n",
       "2  Homo sapiens (Human)     148   \n",
       "3  Homo sapiens (Human)     228   \n",
       "4  Homo sapiens (Human)     110   \n",
       "\n",
       "                                            Sequence  Organism ID  \\\n",
       "0  MGFVKVVKNKAYFKRYQVKFRRRREGKTDYYARKRLVIQDKNKYNT...         9606   \n",
       "1  MASVSELACIYSALILHDDEVTVTEDKINALIKAAGVNVEPFWPGL...         9606   \n",
       "2  MEVKDANSALLSNYEVFQLLTDLKEQRKESGKNKHSSGQQNLNTIT...         9606   \n",
       "3  MASGCKIGPSILNSDLANLGAECLRMLDSGADYLHLDVMDGHFVPN...         9606   \n",
       "4  MSGRLWSKAIFAGYKRGLRNQREHTALLKIEGVYARDETEFYLGKR...         9606   \n",
       "\n",
       "                 Cross-reference (PDB)  \n",
       "0  4UG0;4V6X;5AJ0;5LKS;5T2C;6EK0;6QZP;  \n",
       "1                      2LBF;4BEH;4V6X;  \n",
       "2                                  NaN  \n",
       "3                 3OVP;3OVQ;3OVR;3QC3;  \n",
       "4  4UG0;4V6X;5AJ0;5LKS;5T2C;6EK0;6QZP;  "
      ]
     },
     "execution_count": 15,
     "metadata": {},
     "output_type": "execute_result"
    }
   ],
   "source": [
    "df_Pseq= pd.read_csv('uniprot-filtered-organism__Homo+sapiens+(Human)+[9606]_+AND+review--.tab',sep='\\t',  lineterminator='\\n')\n",
    "df_Pseq.head()\n"
   ]
  },
  {
   "cell_type": "code",
   "execution_count": null,
   "metadata": {},
   "outputs": [],
   "source": [
    "#df_Pseq[df_Pseq['Entry']=='Q92804'].to_csv('Q86X94.csv')"
   ]
  },
  {
   "cell_type": "code",
   "execution_count": null,
   "metadata": {},
   "outputs": [],
   "source": []
  },
  {
   "cell_type": "markdown",
   "metadata": {},
   "source": [
    "### Filtering all matching/Interacting proteins with NpInter v2 (LncRNAs) from Uniprot Swiss dataset"
   ]
  },
  {
   "cell_type": "code",
   "execution_count": 18,
   "metadata": {},
   "outputs": [],
   "source": [
    "df_np_pr=pysqldf(\"SELECT DISTINCT p.* FROM df_Pseq p INNER JOIN df_prId np on trim(p.Entry)=trim(np.Entry)\")"
   ]
  },
  {
   "cell_type": "code",
   "execution_count": 19,
   "metadata": {},
   "outputs": [
    {
     "data": {
      "text/plain": [
       "Entry                    132\n",
       "Entry name               132\n",
       "Status                   132\n",
       "Protein names            132\n",
       "Gene names               132\n",
       "Organism                 132\n",
       "Length                   132\n",
       "Sequence                 132\n",
       "Organism ID              132\n",
       "Cross-reference (PDB)    109\n",
       "dtype: int64"
      ]
     },
     "execution_count": 19,
     "metadata": {},
     "output_type": "execute_result"
    }
   ],
   "source": [
    "df_np_pr.count()"
   ]
  },
  {
   "cell_type": "code",
   "execution_count": 86,
   "metadata": {},
   "outputs": [
    {
     "data": {
      "text/plain": [
       "(123, 10)"
      ]
     },
     "execution_count": 86,
     "metadata": {},
     "output_type": "execute_result"
    }
   ],
   "source": [
    "\n",
    "fltr = df_Pseq[\"Entry\"].isin(df_prId[\"Entry\"]) \n",
    "df_np_pr=df_Pseq[fltr]\n",
    "df_np_pr.shape"
   ]
  },
  {
   "cell_type": "markdown",
   "metadata": {},
   "source": [
    "### Loading all unreviewed homo sapiens porteins from uniprot TrEMBL"
   ]
  },
  {
   "cell_type": "code",
   "execution_count": 20,
   "metadata": {},
   "outputs": [
    {
     "data": {
      "text/html": [
       "<div>\n",
       "<style scoped>\n",
       "    .dataframe tbody tr th:only-of-type {\n",
       "        vertical-align: middle;\n",
       "    }\n",
       "\n",
       "    .dataframe tbody tr th {\n",
       "        vertical-align: top;\n",
       "    }\n",
       "\n",
       "    .dataframe thead th {\n",
       "        text-align: right;\n",
       "    }\n",
       "</style>\n",
       "<table border=\"1\" class=\"dataframe\">\n",
       "  <thead>\n",
       "    <tr style=\"text-align: right;\">\n",
       "      <th></th>\n",
       "      <th>Entry</th>\n",
       "      <th>Entry name</th>\n",
       "      <th>Status</th>\n",
       "      <th>Protein names</th>\n",
       "      <th>Gene names</th>\n",
       "      <th>Organism</th>\n",
       "      <th>Length</th>\n",
       "      <th>Sequence</th>\n",
       "      <th>Organism ID</th>\n",
       "      <th>Cross-reference (PDB)</th>\n",
       "    </tr>\n",
       "  </thead>\n",
       "  <tbody>\n",
       "    <tr>\n",
       "      <th>0</th>\n",
       "      <td>K7ESN1</td>\n",
       "      <td>K7ESN1_HUMAN</td>\n",
       "      <td>unreviewed</td>\n",
       "      <td>PDZ domain-containing protein GIPC1 (Fragment)</td>\n",
       "      <td>GIPC1</td>\n",
       "      <td>Homo sapiens (Human)</td>\n",
       "      <td>159</td>\n",
       "      <td>MFCTLNTHKVDMDKLLGGQIGLEDFIFAHVKGQRKEVEVFKSEDAL...</td>\n",
       "      <td>9606</td>\n",
       "      <td>NaN</td>\n",
       "    </tr>\n",
       "    <tr>\n",
       "      <th>1</th>\n",
       "      <td>B4DWX9</td>\n",
       "      <td>B4DWX9_HUMAN</td>\n",
       "      <td>unreviewed</td>\n",
       "      <td>cDNA FLJ58293, highly similar to Monocarboxyla...</td>\n",
       "      <td>NaN</td>\n",
       "      <td>Homo sapiens (Human)</td>\n",
       "      <td>379</td>\n",
       "      <td>MVLASFSSSVVQLYLTMGFITGLGLAFNLQPALTIIGKYFYRKRPM...</td>\n",
       "      <td>9606</td>\n",
       "      <td>NaN</td>\n",
       "    </tr>\n",
       "    <tr>\n",
       "      <th>2</th>\n",
       "      <td>L7SRW4</td>\n",
       "      <td>L7SRW4_HUMAN</td>\n",
       "      <td>unreviewed</td>\n",
       "      <td>ATP synthase subunit a</td>\n",
       "      <td>ATP6</td>\n",
       "      <td>Homo sapiens (Human)</td>\n",
       "      <td>226</td>\n",
       "      <td>MNENLFASFIAPTILGLPAAVLIILFPPLLIPTSKYLINNRLITTQ...</td>\n",
       "      <td>9606</td>\n",
       "      <td>NaN</td>\n",
       "    </tr>\n",
       "    <tr>\n",
       "      <th>3</th>\n",
       "      <td>S4R3I2</td>\n",
       "      <td>S4R3I2_HUMAN</td>\n",
       "      <td>unreviewed</td>\n",
       "      <td>Protein Aster-A</td>\n",
       "      <td>GRAMD1A</td>\n",
       "      <td>Homo sapiens (Human)</td>\n",
       "      <td>205</td>\n",
       "      <td>MFDTTPHSGRSTPSSSPSLRKRLQLLPPSRPPPEPEPGTMVEKGSD...</td>\n",
       "      <td>9606</td>\n",
       "      <td>NaN</td>\n",
       "    </tr>\n",
       "    <tr>\n",
       "      <th>4</th>\n",
       "      <td>H0Y919</td>\n",
       "      <td>H0Y919_HUMAN</td>\n",
       "      <td>unreviewed</td>\n",
       "      <td>Serine/threonine-protein kinase RIO2 (Fragment)</td>\n",
       "      <td>RIOK2</td>\n",
       "      <td>Homo sapiens (Human)</td>\n",
       "      <td>140</td>\n",
       "      <td>XEESADARSFEMTEFNQALEEIKGQVVENNSVTEFSEEKNRTENYN...</td>\n",
       "      <td>9606</td>\n",
       "      <td>NaN</td>\n",
       "    </tr>\n",
       "  </tbody>\n",
       "</table>\n",
       "</div>"
      ],
      "text/plain": [
       "    Entry    Entry name      Status  \\\n",
       "0  K7ESN1  K7ESN1_HUMAN  unreviewed   \n",
       "1  B4DWX9  B4DWX9_HUMAN  unreviewed   \n",
       "2  L7SRW4  L7SRW4_HUMAN  unreviewed   \n",
       "3  S4R3I2  S4R3I2_HUMAN  unreviewed   \n",
       "4  H0Y919  H0Y919_HUMAN  unreviewed   \n",
       "\n",
       "                                       Protein names Gene names  \\\n",
       "0     PDZ domain-containing protein GIPC1 (Fragment)      GIPC1   \n",
       "1  cDNA FLJ58293, highly similar to Monocarboxyla...        NaN   \n",
       "2                             ATP synthase subunit a       ATP6   \n",
       "3                                    Protein Aster-A    GRAMD1A   \n",
       "4    Serine/threonine-protein kinase RIO2 (Fragment)      RIOK2   \n",
       "\n",
       "               Organism  Length  \\\n",
       "0  Homo sapiens (Human)     159   \n",
       "1  Homo sapiens (Human)     379   \n",
       "2  Homo sapiens (Human)     226   \n",
       "3  Homo sapiens (Human)     205   \n",
       "4  Homo sapiens (Human)     140   \n",
       "\n",
       "                                            Sequence  Organism ID  \\\n",
       "0  MFCTLNTHKVDMDKLLGGQIGLEDFIFAHVKGQRKEVEVFKSEDAL...         9606   \n",
       "1  MVLASFSSSVVQLYLTMGFITGLGLAFNLQPALTIIGKYFYRKRPM...         9606   \n",
       "2  MNENLFASFIAPTILGLPAAVLIILFPPLLIPTSKYLINNRLITTQ...         9606   \n",
       "3  MFDTTPHSGRSTPSSSPSLRKRLQLLPPSRPPPEPEPGTMVEKGSD...         9606   \n",
       "4  XEESADARSFEMTEFNQALEEIKGQVVENNSVTEFSEEKNRTENYN...         9606   \n",
       "\n",
       "  Cross-reference (PDB)  \n",
       "0                   NaN  \n",
       "1                   NaN  \n",
       "2                   NaN  \n",
       "3                   NaN  \n",
       "4                   NaN  "
      ]
     },
     "execution_count": 20,
     "metadata": {},
     "output_type": "execute_result"
    }
   ],
   "source": [
    "df_Pseq_TrEMBL= pd.read_csv('uniprot-filtered-reviewed_no+AND+organism__Homo+sapiens+(Human)+[960--.tab',sep='\\t',  lineterminator='\\n')\n",
    "df_Pseq_TrEMBL.head()\n"
   ]
  },
  {
   "cell_type": "markdown",
   "metadata": {},
   "source": [
    "### Filtering all matching/Interacting proteins with NpInter v2 (LncRNAs) from Uniport TrEMBL dataset"
   ]
  },
  {
   "cell_type": "code",
   "execution_count": 21,
   "metadata": {},
   "outputs": [
    {
     "data": {
      "text/plain": [
       "Entry                    10\n",
       "Entry name               10\n",
       "Status                   10\n",
       "Protein names            10\n",
       "Gene names               10\n",
       "Organism                 10\n",
       "Length                   10\n",
       "Sequence                 10\n",
       "Organism ID              10\n",
       "Cross-reference (PDB)     0\n",
       "dtype: int64"
      ]
     },
     "execution_count": 21,
     "metadata": {},
     "output_type": "execute_result"
    }
   ],
   "source": [
    "df_np_pr2=pysqldf(\"SELECT DISTINCT p.* FROM df_Pseq_TrEMBL p INNER JOIN df_prId np on trim(p.Entry)=trim(np.Entry)\")\n",
    "df_np_pr2.count()"
   ]
  },
  {
   "cell_type": "code",
   "execution_count": 87,
   "metadata": {},
   "outputs": [
    {
     "data": {
      "text/plain": [
       "(10, 10)"
      ]
     },
     "execution_count": 87,
     "metadata": {},
     "output_type": "execute_result"
    }
   ],
   "source": [
    "\n",
    "fltr2 = df_Pseq_TrEMBL[\"Entry\"].isin(df_prId[\"Entry\"]) \n",
    "df_np_pr2=df_Pseq_TrEMBL[fltr2]\n",
    "df_np_pr2.shape"
   ]
  },
  {
   "cell_type": "code",
   "execution_count": null,
   "metadata": {},
   "outputs": [],
   "source": []
  },
  {
   "cell_type": "markdown",
   "metadata": {},
   "source": [
    "### Concatinating both Reviewed and Unreviewed protiens filter datasets and writing into csv"
   ]
  },
  {
   "cell_type": "code",
   "execution_count": 88,
   "metadata": {},
   "outputs": [
    {
     "data": {
      "text/html": [
       "<div>\n",
       "<style scoped>\n",
       "    .dataframe tbody tr th:only-of-type {\n",
       "        vertical-align: middle;\n",
       "    }\n",
       "\n",
       "    .dataframe tbody tr th {\n",
       "        vertical-align: top;\n",
       "    }\n",
       "\n",
       "    .dataframe thead th {\n",
       "        text-align: right;\n",
       "    }\n",
       "</style>\n",
       "<table border=\"1\" class=\"dataframe\">\n",
       "  <thead>\n",
       "    <tr style=\"text-align: right;\">\n",
       "      <th></th>\n",
       "      <th>Entry</th>\n",
       "      <th>Entry name</th>\n",
       "      <th>Status</th>\n",
       "      <th>Protein names</th>\n",
       "      <th>Gene names</th>\n",
       "      <th>Organism</th>\n",
       "      <th>Length</th>\n",
       "      <th>Sequence</th>\n",
       "      <th>Organism ID</th>\n",
       "      <th>Cross-reference (PDB)</th>\n",
       "    </tr>\n",
       "  </thead>\n",
       "  <tbody>\n",
       "    <tr>\n",
       "      <th>0</th>\n",
       "      <td>Q13148</td>\n",
       "      <td>TADBP_HUMAN</td>\n",
       "      <td>reviewed</td>\n",
       "      <td>TAR DNA-binding protein 43 (TDP-43)</td>\n",
       "      <td>TARDBP TDP43</td>\n",
       "      <td>Homo sapiens (Human)</td>\n",
       "      <td>414</td>\n",
       "      <td>MSEYIRVTEDENDEPIEIPSEDDGTVLLSTVTAQFPGACGLRYRNP...</td>\n",
       "      <td>9606</td>\n",
       "      <td>1WF0;2CQG;2N2C;2N3X;2N4G;2N4H;2N4P;4BS2;4IUF;4...</td>\n",
       "    </tr>\n",
       "    <tr>\n",
       "      <th>1</th>\n",
       "      <td>P08579</td>\n",
       "      <td>RU2B_HUMAN</td>\n",
       "      <td>reviewed</td>\n",
       "      <td>U2 small nuclear ribonucleoprotein B'' (U2 snR...</td>\n",
       "      <td>SNRPB2</td>\n",
       "      <td>Homo sapiens (Human)</td>\n",
       "      <td>225</td>\n",
       "      <td>MDIRPNHTIYINNMNDKIKKEELKRSLYALFSQFGHVVDIVALKTM...</td>\n",
       "      <td>9606</td>\n",
       "      <td>1A9N;5MQF;5O9Z;5XJC;5YZG;5Z56;5Z57;5Z58;6AH0;6...</td>\n",
       "    </tr>\n",
       "    <tr>\n",
       "      <th>2</th>\n",
       "      <td>O14746</td>\n",
       "      <td>TERT_HUMAN</td>\n",
       "      <td>reviewed</td>\n",
       "      <td>Telomerase reverse transcriptase (EC 2.7.7.49)...</td>\n",
       "      <td>TERT EST2 TCS1 TRT</td>\n",
       "      <td>Homo sapiens (Human)</td>\n",
       "      <td>1132</td>\n",
       "      <td>MPRAPRCRAVRSLLRSHYREVLPLATFVRRLGPQGWRLVQRGDPAA...</td>\n",
       "      <td>9606</td>\n",
       "      <td>2BCK;4B18;4MNQ;5MEN;5MEO;5MEP;5MEQ;5MER;5UGW;</td>\n",
       "    </tr>\n",
       "    <tr>\n",
       "      <th>3</th>\n",
       "      <td>Q9UHB9</td>\n",
       "      <td>SRP68_HUMAN</td>\n",
       "      <td>reviewed</td>\n",
       "      <td>Signal recognition particle subunit SRP68 (SRP...</td>\n",
       "      <td>SRP68</td>\n",
       "      <td>Homo sapiens (Human)</td>\n",
       "      <td>627</td>\n",
       "      <td>MAAEKQVPGGGGGGGSGGGGGSGGGGSGGGRGAGGEENKENERPSA...</td>\n",
       "      <td>9606</td>\n",
       "      <td>4P3E;4P3F;5M72;5M73;5WRV;</td>\n",
       "    </tr>\n",
       "    <tr>\n",
       "      <th>4</th>\n",
       "      <td>O75940</td>\n",
       "      <td>SPF30_HUMAN</td>\n",
       "      <td>reviewed</td>\n",
       "      <td>Survival of motor neuron-related-splicing fact...</td>\n",
       "      <td>SMNDC1 SMNR SPF30</td>\n",
       "      <td>Homo sapiens (Human)</td>\n",
       "      <td>238</td>\n",
       "      <td>MSEDLAKQLASYKAQLQQVEAALSGNGENEDLLKLKKDLQEVIELT...</td>\n",
       "      <td>9606</td>\n",
       "      <td>4A4F;4A4H;</td>\n",
       "    </tr>\n",
       "  </tbody>\n",
       "</table>\n",
       "</div>"
      ],
      "text/plain": [
       "    Entry   Entry name    Status  \\\n",
       "0  Q13148  TADBP_HUMAN  reviewed   \n",
       "1  P08579   RU2B_HUMAN  reviewed   \n",
       "2  O14746   TERT_HUMAN  reviewed   \n",
       "3  Q9UHB9  SRP68_HUMAN  reviewed   \n",
       "4  O75940  SPF30_HUMAN  reviewed   \n",
       "\n",
       "                                       Protein names          Gene names  \\\n",
       "0                TAR DNA-binding protein 43 (TDP-43)        TARDBP TDP43   \n",
       "1  U2 small nuclear ribonucleoprotein B'' (U2 snR...              SNRPB2   \n",
       "2  Telomerase reverse transcriptase (EC 2.7.7.49)...  TERT EST2 TCS1 TRT   \n",
       "3  Signal recognition particle subunit SRP68 (SRP...               SRP68   \n",
       "4  Survival of motor neuron-related-splicing fact...   SMNDC1 SMNR SPF30   \n",
       "\n",
       "               Organism  Length  \\\n",
       "0  Homo sapiens (Human)     414   \n",
       "1  Homo sapiens (Human)     225   \n",
       "2  Homo sapiens (Human)    1132   \n",
       "3  Homo sapiens (Human)     627   \n",
       "4  Homo sapiens (Human)     238   \n",
       "\n",
       "                                            Sequence  Organism ID  \\\n",
       "0  MSEYIRVTEDENDEPIEIPSEDDGTVLLSTVTAQFPGACGLRYRNP...         9606   \n",
       "1  MDIRPNHTIYINNMNDKIKKEELKRSLYALFSQFGHVVDIVALKTM...         9606   \n",
       "2  MPRAPRCRAVRSLLRSHYREVLPLATFVRRLGPQGWRLVQRGDPAA...         9606   \n",
       "3  MAAEKQVPGGGGGGGSGGGGGSGGGGSGGGRGAGGEENKENERPSA...         9606   \n",
       "4  MSEDLAKQLASYKAQLQQVEAALSGNGENEDLLKLKKDLQEVIELT...         9606   \n",
       "\n",
       "                               Cross-reference (PDB)  \n",
       "0  1WF0;2CQG;2N2C;2N3X;2N4G;2N4H;2N4P;4BS2;4IUF;4...  \n",
       "1  1A9N;5MQF;5O9Z;5XJC;5YZG;5Z56;5Z57;5Z58;6AH0;6...  \n",
       "2      2BCK;4B18;4MNQ;5MEN;5MEO;5MEP;5MEQ;5MER;5UGW;  \n",
       "3                          4P3E;4P3F;5M72;5M73;5WRV;  \n",
       "4                                         4A4F;4A4H;  "
      ]
     },
     "execution_count": 88,
     "metadata": {},
     "output_type": "execute_result"
    }
   ],
   "source": [
    "df_Protein_Seq = pd.concat([df_np_pr,df_np_pr2],ignore_index=True)\n",
    "df_Protein_Seq.head()"
   ]
  },
  {
   "cell_type": "code",
   "execution_count": 89,
   "metadata": {},
   "outputs": [
    {
     "data": {
      "text/plain": [
       "(133, 10)"
      ]
     },
     "execution_count": 89,
     "metadata": {},
     "output_type": "execute_result"
    }
   ],
   "source": [
    "df_Protein_Seq.shape"
   ]
  },
  {
   "cell_type": "code",
   "execution_count": 90,
   "metadata": {},
   "outputs": [],
   "source": [
    "df_Protein_Seq.to_csv('Data\\\\NpInter2 Interacting Protiens\\\\NP_pSeq_Interactions_All2.csv')"
   ]
  },
  {
   "cell_type": "code",
   "execution_count": 91,
   "metadata": {},
   "outputs": [
    {
     "name": "stdout",
     "output_type": "stream",
     "text": [
      "Entry    133\n",
      "dtype: int64\n",
      "(7993, 1)\n"
     ]
    }
   ],
   "source": [
    "fltr=df_prId.Entry.isin(df_Protein_Seq.Entry)\n",
    "df_prId = df_prId[fltr]\n",
    "print(df_prId.nunique())\n",
    "print(df_prId.shape)\n",
    "df_prId.to_csv(\"Data/NpInter2 Interacting Protiens/interacting_proteins_ids.csv\")"
   ]
  },
  {
   "cell_type": "markdown",
   "metadata": {},
   "source": [
    "### finding those proteins in NpInter v2 dataset which not filtered by above method"
   ]
  },
  {
   "cell_type": "code",
   "execution_count": 28,
   "metadata": {},
   "outputs": [
    {
     "data": {
      "text/html": [
       "<div>\n",
       "<style scoped>\n",
       "    .dataframe tbody tr th:only-of-type {\n",
       "        vertical-align: middle;\n",
       "    }\n",
       "\n",
       "    .dataframe tbody tr th {\n",
       "        vertical-align: top;\n",
       "    }\n",
       "\n",
       "    .dataframe thead th {\n",
       "        text-align: right;\n",
       "    }\n",
       "</style>\n",
       "<table border=\"1\" class=\"dataframe\">\n",
       "  <thead>\n",
       "    <tr style=\"text-align: right;\">\n",
       "      <th></th>\n",
       "      <th>Entry</th>\n",
       "    </tr>\n",
       "  </thead>\n",
       "  <tbody>\n",
       "    <tr>\n",
       "      <th>0</th>\n",
       "      <td>Q86X94</td>\n",
       "    </tr>\n",
       "  </tbody>\n",
       "</table>\n",
       "</div>"
      ],
      "text/plain": [
       "    Entry\n",
       "0  Q86X94"
      ]
     },
     "execution_count": 28,
     "metadata": {},
     "output_type": "execute_result"
    }
   ],
   "source": [
    "df_np=pysqldf(\"SELECT DISTINCT np.* FROM df_prId np WHERE trim(np.Entry) NOT IN(select trim(p.Entry) from df_Protein_Seq p)\")\n",
    "\n",
    "df_np"
   ]
  },
  {
   "cell_type": "code",
   "execution_count": null,
   "metadata": {},
   "outputs": [],
   "source": [
    "#pysqldf(\"SELECT DISTINCT p.* FROM df_Pseq p WHERE p.Entry ='Q86X94'\")"
   ]
  },
  {
   "cell_type": "code",
   "execution_count": null,
   "metadata": {},
   "outputs": [],
   "source": [
    "\n"
   ]
  },
  {
   "cell_type": "code",
   "execution_count": null,
   "metadata": {},
   "outputs": [],
   "source": [
    "#df_NPInter[df_NPInter['prIdentifier'] == 'Q86X94']\n"
   ]
  },
  {
   "cell_type": "code",
   "execution_count": null,
   "metadata": {},
   "outputs": [],
   "source": []
  },
  {
   "cell_type": "code",
   "execution_count": null,
   "metadata": {},
   "outputs": [],
   "source": [
    "#df_NPInter[df_NPInter['ncID'] == 30764]\n"
   ]
  },
  {
   "cell_type": "code",
   "execution_count": null,
   "metadata": {},
   "outputs": [],
   "source": [
    "#df_NPInter[df_NPInter['ncID'] == 185].sort_values('prIdentifier')\n"
   ]
  },
  {
   "cell_type": "code",
   "execution_count": 30,
   "metadata": {},
   "outputs": [
    {
     "data": {
      "text/html": [
       "<div>\n",
       "<style scoped>\n",
       "    .dataframe tbody tr th:only-of-type {\n",
       "        vertical-align: middle;\n",
       "    }\n",
       "\n",
       "    .dataframe tbody tr th {\n",
       "        vertical-align: top;\n",
       "    }\n",
       "\n",
       "    .dataframe thead th {\n",
       "        text-align: right;\n",
       "    }\n",
       "</style>\n",
       "<table border=\"1\" class=\"dataframe\">\n",
       "  <thead>\n",
       "    <tr style=\"text-align: right;\">\n",
       "      <th></th>\n",
       "      <th>Entry</th>\n",
       "      <th>Entry name</th>\n",
       "      <th>Status</th>\n",
       "      <th>Protein names</th>\n",
       "      <th>Gene names</th>\n",
       "      <th>Organism</th>\n",
       "      <th>Length</th>\n",
       "      <th>Sequence</th>\n",
       "      <th>Organism ID</th>\n",
       "      <th>Cross-reference (PDB)</th>\n",
       "    </tr>\n",
       "  </thead>\n",
       "  <tbody>\n",
       "    <tr>\n",
       "      <th>0</th>\n",
       "      <td>Q9UPQ9</td>\n",
       "      <td>TNR6B_HUMAN</td>\n",
       "      <td>reviewed</td>\n",
       "      <td>Trinucleotide repeat-containing gene 6B protein</td>\n",
       "      <td>TNRC6B KIAA1093</td>\n",
       "      <td>Homo sapiens (Human)</td>\n",
       "      <td>1833</td>\n",
       "      <td>MREKEQEREEQLMEDKKRKKEDKKKKEATQKVTEQKTKVPEVTKPS...</td>\n",
       "      <td>9606</td>\n",
       "      <td>NaN</td>\n",
       "    </tr>\n",
       "    <tr>\n",
       "      <th>1</th>\n",
       "      <td>Q13148</td>\n",
       "      <td>TADBP_HUMAN</td>\n",
       "      <td>reviewed</td>\n",
       "      <td>TAR DNA-binding protein 43 (TDP-43)</td>\n",
       "      <td>TARDBP TDP43</td>\n",
       "      <td>Homo sapiens (Human)</td>\n",
       "      <td>414</td>\n",
       "      <td>MSEYIRVTEDENDEPIEIPSEDDGTVLLSTVTAQFPGACGLRYRNP...</td>\n",
       "      <td>9606</td>\n",
       "      <td>1WF0;2CQG;2N2C;2N3X;2N4G;2N4H;2N4P;4BS2;4IUF;4...</td>\n",
       "    </tr>\n",
       "    <tr>\n",
       "      <th>2</th>\n",
       "      <td>P08579</td>\n",
       "      <td>RU2B_HUMAN</td>\n",
       "      <td>reviewed</td>\n",
       "      <td>U2 small nuclear ribonucleoprotein B'' (U2 snR...</td>\n",
       "      <td>SNRPB2</td>\n",
       "      <td>Homo sapiens (Human)</td>\n",
       "      <td>225</td>\n",
       "      <td>MDIRPNHTIYINNMNDKIKKEELKRSLYALFSQFGHVVDIVALKTM...</td>\n",
       "      <td>9606</td>\n",
       "      <td>1A9N;5MQF;5O9Z;5XJC;5YZG;5Z56;5Z57;5Z58;6AH0;6...</td>\n",
       "    </tr>\n",
       "    <tr>\n",
       "      <th>3</th>\n",
       "      <td>O14746</td>\n",
       "      <td>TERT_HUMAN</td>\n",
       "      <td>reviewed</td>\n",
       "      <td>Telomerase reverse transcriptase (EC 2.7.7.49)...</td>\n",
       "      <td>TERT EST2 TCS1 TRT</td>\n",
       "      <td>Homo sapiens (Human)</td>\n",
       "      <td>1132</td>\n",
       "      <td>MPRAPRCRAVRSLLRSHYREVLPLATFVRRLGPQGWRLVQRGDPAA...</td>\n",
       "      <td>9606</td>\n",
       "      <td>2BCK;4B18;4MNQ;5MEN;5MEO;5MEP;5MEQ;5MER;5UGW;</td>\n",
       "    </tr>\n",
       "    <tr>\n",
       "      <th>4</th>\n",
       "      <td>Q9UHB9</td>\n",
       "      <td>SRP68_HUMAN</td>\n",
       "      <td>reviewed</td>\n",
       "      <td>Signal recognition particle subunit SRP68 (SRP...</td>\n",
       "      <td>SRP68</td>\n",
       "      <td>Homo sapiens (Human)</td>\n",
       "      <td>627</td>\n",
       "      <td>MAAEKQVPGGGGGGGSGGGGGSGGGGSGGGRGAGGEENKENERPSA...</td>\n",
       "      <td>9606</td>\n",
       "      <td>4P3E;4P3F;5M72;5M73;5WRV;</td>\n",
       "    </tr>\n",
       "  </tbody>\n",
       "</table>\n",
       "</div>"
      ],
      "text/plain": [
       "    Entry   Entry name    Status  \\\n",
       "0  Q9UPQ9  TNR6B_HUMAN  reviewed   \n",
       "1  Q13148  TADBP_HUMAN  reviewed   \n",
       "2  P08579   RU2B_HUMAN  reviewed   \n",
       "3  O14746   TERT_HUMAN  reviewed   \n",
       "4  Q9UHB9  SRP68_HUMAN  reviewed   \n",
       "\n",
       "                                       Protein names          Gene names  \\\n",
       "0    Trinucleotide repeat-containing gene 6B protein     TNRC6B KIAA1093   \n",
       "1                TAR DNA-binding protein 43 (TDP-43)        TARDBP TDP43   \n",
       "2  U2 small nuclear ribonucleoprotein B'' (U2 snR...              SNRPB2   \n",
       "3  Telomerase reverse transcriptase (EC 2.7.7.49)...  TERT EST2 TCS1 TRT   \n",
       "4  Signal recognition particle subunit SRP68 (SRP...               SRP68   \n",
       "\n",
       "               Organism  Length  \\\n",
       "0  Homo sapiens (Human)    1833   \n",
       "1  Homo sapiens (Human)     414   \n",
       "2  Homo sapiens (Human)     225   \n",
       "3  Homo sapiens (Human)    1132   \n",
       "4  Homo sapiens (Human)     627   \n",
       "\n",
       "                                            Sequence  Organism ID  \\\n",
       "0  MREKEQEREEQLMEDKKRKKEDKKKKEATQKVTEQKTKVPEVTKPS...         9606   \n",
       "1  MSEYIRVTEDENDEPIEIPSEDDGTVLLSTVTAQFPGACGLRYRNP...         9606   \n",
       "2  MDIRPNHTIYINNMNDKIKKEELKRSLYALFSQFGHVVDIVALKTM...         9606   \n",
       "3  MPRAPRCRAVRSLLRSHYREVLPLATFVRRLGPQGWRLVQRGDPAA...         9606   \n",
       "4  MAAEKQVPGGGGGGGSGGGGGSGGGGSGGGRGAGGEENKENERPSA...         9606   \n",
       "\n",
       "                               Cross-reference (PDB)  \n",
       "0                                                NaN  \n",
       "1  1WF0;2CQG;2N2C;2N3X;2N4G;2N4H;2N4P;4BS2;4IUF;4...  \n",
       "2  1A9N;5MQF;5O9Z;5XJC;5YZG;5Z56;5Z57;5Z58;6AH0;6...  \n",
       "3      2BCK;4B18;4MNQ;5MEN;5MEO;5MEP;5MEQ;5MER;5UGW;  \n",
       "4                          4P3E;4P3F;5M72;5M73;5WRV;  "
      ]
     },
     "execution_count": 30,
     "metadata": {},
     "output_type": "execute_result"
    }
   ],
   "source": [
    "df_pseq=pd.read_csv(\"data/NpInter2 Interacting Protiens/NP_pSeq_interactions_All.csv\")\n",
    "df_pseq.head()"
   ]
  },
  {
   "cell_type": "code",
   "execution_count": 92,
   "metadata": {},
   "outputs": [
    {
     "data": {
      "text/html": [
       "<div>\n",
       "<style scoped>\n",
       "    .dataframe tbody tr th:only-of-type {\n",
       "        vertical-align: middle;\n",
       "    }\n",
       "\n",
       "    .dataframe tbody tr th {\n",
       "        vertical-align: top;\n",
       "    }\n",
       "\n",
       "    .dataframe thead th {\n",
       "        text-align: right;\n",
       "    }\n",
       "</style>\n",
       "<table border=\"1\" class=\"dataframe\">\n",
       "  <thead>\n",
       "    <tr style=\"text-align: right;\">\n",
       "      <th></th>\n",
       "      <th>Unnamed: 0</th>\n",
       "      <th>Entry</th>\n",
       "      <th>Entry name</th>\n",
       "      <th>Status</th>\n",
       "      <th>Protein names</th>\n",
       "      <th>Gene names</th>\n",
       "      <th>Organism</th>\n",
       "      <th>Length</th>\n",
       "      <th>Sequence</th>\n",
       "      <th>Organism ID</th>\n",
       "      <th>Cross-reference (PDB)</th>\n",
       "    </tr>\n",
       "  </thead>\n",
       "  <tbody>\n",
       "    <tr>\n",
       "      <th>0</th>\n",
       "      <td>0</td>\n",
       "      <td>Q13148</td>\n",
       "      <td>TADBP_HUMAN</td>\n",
       "      <td>reviewed</td>\n",
       "      <td>TAR DNA-binding protein 43 (TDP-43)</td>\n",
       "      <td>TARDBP TDP43</td>\n",
       "      <td>Homo sapiens (Human)</td>\n",
       "      <td>414</td>\n",
       "      <td>MSEYIRVTEDENDEPIEIPSEDDGTVLLSTVTAQFPGACGLRYRNP...</td>\n",
       "      <td>9606</td>\n",
       "      <td>1WF0;2CQG;2N2C;2N3X;2N4G;2N4H;2N4P;4BS2;4IUF;4...</td>\n",
       "    </tr>\n",
       "    <tr>\n",
       "      <th>1</th>\n",
       "      <td>1</td>\n",
       "      <td>P08579</td>\n",
       "      <td>RU2B_HUMAN</td>\n",
       "      <td>reviewed</td>\n",
       "      <td>U2 small nuclear ribonucleoprotein B'' (U2 snR...</td>\n",
       "      <td>SNRPB2</td>\n",
       "      <td>Homo sapiens (Human)</td>\n",
       "      <td>225</td>\n",
       "      <td>MDIRPNHTIYINNMNDKIKKEELKRSLYALFSQFGHVVDIVALKTM...</td>\n",
       "      <td>9606</td>\n",
       "      <td>1A9N;5MQF;5O9Z;5XJC;5YZG;5Z56;5Z57;5Z58;6AH0;6...</td>\n",
       "    </tr>\n",
       "    <tr>\n",
       "      <th>2</th>\n",
       "      <td>2</td>\n",
       "      <td>O14746</td>\n",
       "      <td>TERT_HUMAN</td>\n",
       "      <td>reviewed</td>\n",
       "      <td>Telomerase reverse transcriptase (EC 2.7.7.49)...</td>\n",
       "      <td>TERT EST2 TCS1 TRT</td>\n",
       "      <td>Homo sapiens (Human)</td>\n",
       "      <td>1132</td>\n",
       "      <td>MPRAPRCRAVRSLLRSHYREVLPLATFVRRLGPQGWRLVQRGDPAA...</td>\n",
       "      <td>9606</td>\n",
       "      <td>2BCK;4B18;4MNQ;5MEN;5MEO;5MEP;5MEQ;5MER;5UGW;</td>\n",
       "    </tr>\n",
       "    <tr>\n",
       "      <th>3</th>\n",
       "      <td>3</td>\n",
       "      <td>Q9UHB9</td>\n",
       "      <td>SRP68_HUMAN</td>\n",
       "      <td>reviewed</td>\n",
       "      <td>Signal recognition particle subunit SRP68 (SRP...</td>\n",
       "      <td>SRP68</td>\n",
       "      <td>Homo sapiens (Human)</td>\n",
       "      <td>627</td>\n",
       "      <td>MAAEKQVPGGGGGGGSGGGGGSGGGGSGGGRGAGGEENKENERPSA...</td>\n",
       "      <td>9606</td>\n",
       "      <td>4P3E;4P3F;5M72;5M73;5WRV;</td>\n",
       "    </tr>\n",
       "    <tr>\n",
       "      <th>4</th>\n",
       "      <td>4</td>\n",
       "      <td>O75940</td>\n",
       "      <td>SPF30_HUMAN</td>\n",
       "      <td>reviewed</td>\n",
       "      <td>Survival of motor neuron-related-splicing fact...</td>\n",
       "      <td>SMNDC1 SMNR SPF30</td>\n",
       "      <td>Homo sapiens (Human)</td>\n",
       "      <td>238</td>\n",
       "      <td>MSEDLAKQLASYKAQLQQVEAALSGNGENEDLLKLKKDLQEVIELT...</td>\n",
       "      <td>9606</td>\n",
       "      <td>4A4F;4A4H;</td>\n",
       "    </tr>\n",
       "  </tbody>\n",
       "</table>\n",
       "</div>"
      ],
      "text/plain": [
       "   Unnamed: 0   Entry   Entry name    Status  \\\n",
       "0           0  Q13148  TADBP_HUMAN  reviewed   \n",
       "1           1  P08579   RU2B_HUMAN  reviewed   \n",
       "2           2  O14746   TERT_HUMAN  reviewed   \n",
       "3           3  Q9UHB9  SRP68_HUMAN  reviewed   \n",
       "4           4  O75940  SPF30_HUMAN  reviewed   \n",
       "\n",
       "                                       Protein names          Gene names  \\\n",
       "0                TAR DNA-binding protein 43 (TDP-43)        TARDBP TDP43   \n",
       "1  U2 small nuclear ribonucleoprotein B'' (U2 snR...              SNRPB2   \n",
       "2  Telomerase reverse transcriptase (EC 2.7.7.49)...  TERT EST2 TCS1 TRT   \n",
       "3  Signal recognition particle subunit SRP68 (SRP...               SRP68   \n",
       "4  Survival of motor neuron-related-splicing fact...   SMNDC1 SMNR SPF30   \n",
       "\n",
       "               Organism  Length  \\\n",
       "0  Homo sapiens (Human)     414   \n",
       "1  Homo sapiens (Human)     225   \n",
       "2  Homo sapiens (Human)    1132   \n",
       "3  Homo sapiens (Human)     627   \n",
       "4  Homo sapiens (Human)     238   \n",
       "\n",
       "                                            Sequence  Organism ID  \\\n",
       "0  MSEYIRVTEDENDEPIEIPSEDDGTVLLSTVTAQFPGACGLRYRNP...         9606   \n",
       "1  MDIRPNHTIYINNMNDKIKKEELKRSLYALFSQFGHVVDIVALKTM...         9606   \n",
       "2  MPRAPRCRAVRSLLRSHYREVLPLATFVRRLGPQGWRLVQRGDPAA...         9606   \n",
       "3  MAAEKQVPGGGGGGGSGGGGGSGGGGSGGGRGAGGEENKENERPSA...         9606   \n",
       "4  MSEDLAKQLASYKAQLQQVEAALSGNGENEDLLKLKKDLQEVIELT...         9606   \n",
       "\n",
       "                               Cross-reference (PDB)  \n",
       "0  1WF0;2CQG;2N2C;2N3X;2N4G;2N4H;2N4P;4BS2;4IUF;4...  \n",
       "1  1A9N;5MQF;5O9Z;5XJC;5YZG;5Z56;5Z57;5Z58;6AH0;6...  \n",
       "2      2BCK;4B18;4MNQ;5MEN;5MEO;5MEP;5MEQ;5MER;5UGW;  \n",
       "3                          4P3E;4P3F;5M72;5M73;5WRV;  \n",
       "4                                         4A4F;4A4H;  "
      ]
     },
     "execution_count": 92,
     "metadata": {},
     "output_type": "execute_result"
    }
   ],
   "source": [
    "df_pseq=pd.read_csv(\"data/NpInter2 Interacting Protiens/NP_pSeq_interactions_All2.csv\")\n",
    "df_pseq.head()"
   ]
  },
  {
   "cell_type": "code",
   "execution_count": 93,
   "metadata": {},
   "outputs": [
    {
     "name": "stdout",
     "output_type": "stream",
     "text": [
      "........ Total Protein Seq .......\n",
      "Unnamed: 0               133\n",
      "Entry                    133\n",
      "Entry name               133\n",
      "Status                   133\n",
      "Protein names            133\n",
      "Gene names               133\n",
      "Organism                 133\n",
      "Length                   133\n",
      "Sequence                 133\n",
      "Organism ID              133\n",
      "Cross-reference (PDB)    103\n",
      "dtype: int64\n",
      ".......... NULL Values .................\n",
      "Unnamed: 0                0\n",
      "Entry                     0\n",
      "Entry name                0\n",
      "Status                    0\n",
      "Protein names             0\n",
      "Gene names                0\n",
      "Organism                  0\n",
      "Length                    0\n",
      "Sequence                  0\n",
      "Organism ID               0\n",
      "Cross-reference (PDB)    30\n",
      "dtype: int64\n"
     ]
    }
   ],
   "source": [
    "print(\"........ Total Protein Seq .......\")\n",
    "print(df_pseq.count())\n",
    "print('.......... NULL Values .................')\n",
    "print(df_pseq.isnull().sum())"
   ]
  },
  {
   "cell_type": "code",
   "execution_count": null,
   "metadata": {},
   "outputs": [],
   "source": [
    "#str_genes = \"TNRC6B, KIAA1093,TARDBP, TDP43,SNRPB2,TERT, EST2, TCS1, TRT, SRP68, SMNDC1, SMNR, SPF30, SRP9, SRP14, SRP54, TGS1, HCA137, NCOA6IP, PIMT, STAT1, RRP9, RNU3IP2, U355K, RO60, SSA2, TROVE2, RPP21, C6orf135, CAT60, TRIM21, RNF81, RO52, SSA1, POP4, RPP29, RPP38, PPARG, NR1C3, RBFOX2, FOX2, HRNBP2, RBM9, RTA, RPL22, TAT, F29, F22, F42, CBX7, ASF1B, DDX23, DDX17, DDX5, G17P1, HELR, HLR1, APOBEC3F, AGO4, EIF2C4, KIAA1567, AGO1, EIF2C1, AGO3, EIF2C3, ERCC3, XPB, XPBC, FUS, TLS, EZH2, KMT6, ELAVL1, HUR, EWSR1, EWS, E2F7, CTCF, COIL, CLN80, CRIP2, CRP2, AGO2, EIF2C2, DDX46, KIAA0801, FMR1, CDK9, CDC2L4, TAK, FCGRT, FCRN, LARP7, HDCMA18P, SSB, EIF4A1, DDX2A, EIF4A, NXF1, TAP, IVNS1ABP, ARA3, FLARA3, KIAA0850, KLHL39, NS1, NS1BP, HSPC068, PINX1, LPTL, LPTS, PABPC5, PABP5, NOP58, NOL5, NOP5, HSPC120, HLA-G, HLA-6.0, HLAG, GAR1, NOLA1, GEMIN5, NRNPU, C1orf199, HNRPU, SAFA, U21.1, HOXA9, HOX1G, IMP3, C15orf12, MRPS4, IMP4, BXDC4, HNRNPC, HNRPC, HNRNPK, HNRPK, KDM1A, AOF2, KDM1, KIAA0601, LSD1, SNU13, NHP2L1, LSM4, LSM5, NONO, NRB54, NCOA1, BHLHE74, SRC1, POP7, RPP20, POP1, KIAA0061, TP53, P53,\"\n",
    "#str_genes = str_genes + \"PSMC3, TBP1, PARP1, ADPRT, PPOL, PRPF6, C20orf14, PRPF8, PRPC8, PSPC1, PSP1, PRPF4B, KIAA0536, PRP4, PRP4H, PRP4K, PRPF4, PRP4, PPIH, CYP20, CYPH, PTEN, MMAC1, TEP1, PRC1, PABPC1, PAB1, PABP1, PABPC2, NCL, PTBP1, PTB, WDR5, BIG3, TNRC6C, KIAA1582, SNRNP200, ASCC3L1, HELIC2, KIAA0788, TNRC6A, CAGH26, KIAA1460, TNRC6, QKI, HKQ, RCOR1, KIAA0071, RCOR, REST, NRSF, XBR, U2SURP, KIAA0332, SR140, TIA1, TRIM28, KAP1, RNF96, TIF1B, TRA2A, RPP25, RPP30, RNASEP2, SNRPC, SNRNP70, RNPU1Z, RPU1, SNRP70, U1AP1, SNRPA1, SRP19, SRP72, SRSF2, SFRS2, STAG2, SA2, SRSF1, ASF, SF2, SF2P33, SFRS1, OK/SW-cl.3, STAU1, STAU, NR5A1, AD4BP, FTZF1, SF1, SUZ12, CHET9, JJAZ1, KIAA0160, YBX3, CSDA, DBPA, TXNL4A, DIM1, TXNL4, SNRPA, SNRNP40, PRP8BP, SFP38, WDR57, SFPQ, PSF, SF3B6, SAP14, SF3B14, SF3B14A, CGI-110, HSPC175, HT006, LSM6, LRRK2, PARK8, LSM8, LSM7,\"\n",
    "#str_genes = str_genes + \"LSM10, LSM11, MOV10, KIAA1631, MPHOSPH10, MPP10, IGF2BP1, CRDBP, VICKZ1, ZBP1, IGF2BP2, IMP2, VICKZ2, IGF2BP3, IMP3, KOC1,  VICKZ3, KANSL1, CENP-36, KIAA1267, MSL1V1, NSL1, HEXIM1, CLP1, EDG1, HIS1, MAQ1, LSM2, C6orf28, G7B, LSM3, MDS017, LSM1, CASM, NR3C1, GRL, H1FX, FBXL2, FBL2, FBL3, DKC1, NOLA4, MYOD1, BHLHC1, MYF3, MYOD, MVP, LRP, U5-116KD, HLA-DRB1, HLA-DQB1,\"\n",
    "#str_genes = str_genes + \"NOP56, TIAL1, STAU1, PUM2, hCG_32092, HNRPA1, HMGA1, BRCA1, TAF15, RBP56, TAF2N\"\n"
   ]
  },
  {
   "cell_type": "code",
   "execution_count": null,
   "metadata": {},
   "outputs": [],
   "source": [
    "#genes = str_genes.split (\",\")"
   ]
  },
  {
   "cell_type": "code",
   "execution_count": null,
   "metadata": {},
   "outputs": [],
   "source": [
    "#len(genes)"
   ]
  },
  {
   "cell_type": "code",
   "execution_count": null,
   "metadata": {},
   "outputs": [],
   "source": [
    "#l1=genes[279:326]"
   ]
  },
  {
   "cell_type": "code",
   "execution_count": null,
   "metadata": {},
   "outputs": [],
   "source": [
    "#len(l1)"
   ]
  },
  {
   "cell_type": "code",
   "execution_count": null,
   "metadata": {},
   "outputs": [],
   "source": [
    "#print(l1)"
   ]
  },
  {
   "cell_type": "code",
   "execution_count": 94,
   "metadata": {},
   "outputs": [
    {
     "data": {
      "text/html": [
       "<div>\n",
       "<style scoped>\n",
       "    .dataframe tbody tr th:only-of-type {\n",
       "        vertical-align: middle;\n",
       "    }\n",
       "\n",
       "    .dataframe tbody tr th {\n",
       "        vertical-align: top;\n",
       "    }\n",
       "\n",
       "    .dataframe thead th {\n",
       "        text-align: right;\n",
       "    }\n",
       "</style>\n",
       "<table border=\"1\" class=\"dataframe\">\n",
       "  <thead>\n",
       "    <tr style=\"text-align: right;\">\n",
       "      <th></th>\n",
       "      <th>PrId</th>\n",
       "      <th>nncid</th>\n",
       "      <th>interaction</th>\n",
       "    </tr>\n",
       "  </thead>\n",
       "  <tbody>\n",
       "    <tr>\n",
       "      <th>0</th>\n",
       "      <td>Q13148</td>\n",
       "      <td>n121</td>\n",
       "      <td>1</td>\n",
       "    </tr>\n",
       "    <tr>\n",
       "      <th>1</th>\n",
       "      <td>Q9HCE1</td>\n",
       "      <td>n127</td>\n",
       "      <td>1</td>\n",
       "    </tr>\n",
       "    <tr>\n",
       "      <th>2</th>\n",
       "      <td>P35637</td>\n",
       "      <td>n1315</td>\n",
       "      <td>1</td>\n",
       "    </tr>\n",
       "    <tr>\n",
       "      <th>3</th>\n",
       "      <td>Q01844</td>\n",
       "      <td>n1315</td>\n",
       "      <td>1</td>\n",
       "    </tr>\n",
       "    <tr>\n",
       "      <th>4</th>\n",
       "      <td>Q13148</td>\n",
       "      <td>n1315</td>\n",
       "      <td>1</td>\n",
       "    </tr>\n",
       "  </tbody>\n",
       "</table>\n",
       "</div>"
      ],
      "text/plain": [
       "     PrId  nncid  interaction\n",
       "0  Q13148   n121            1\n",
       "1  Q9HCE1   n127            1\n",
       "2  P35637  n1315            1\n",
       "3  Q01844  n1315            1\n",
       "4  Q13148  n1315            1"
      ]
     },
     "execution_count": 94,
     "metadata": {},
     "output_type": "execute_result"
    }
   ],
   "source": [
    "dfp=pd.read_csv('E:\\\\Fast\\\\Maam Zoya\\\\papers\\\\RPITER-master\\\\RPITER-master\\\\data\\\\NPInter_pairs.csv')\n",
    "dfp.head()\n"
   ]
  },
  {
   "cell_type": "code",
   "execution_count": 95,
   "metadata": {},
   "outputs": [],
   "source": [
    "new = dfp[\"PrId\"].isin(df_pseq[\"Entry\"]) \n",
    "dfpr=dfp[new]"
   ]
  },
  {
   "cell_type": "code",
   "execution_count": 96,
   "metadata": {},
   "outputs": [
    {
     "data": {
      "text/plain": [
       "PrId            125\n",
       "nncid          3296\n",
       "interaction       2\n",
       "dtype: int64"
      ]
     },
     "execution_count": 96,
     "metadata": {},
     "output_type": "execute_result"
    }
   ],
   "source": [
    "dfpr.nunique()"
   ]
  },
  {
   "cell_type": "code",
   "execution_count": 74,
   "metadata": {},
   "outputs": [],
   "source": [
    "dfpr.to_csv(\"data/NpInter2 Interacting Protiens/NPInter_pairs.csv\")"
   ]
  },
  {
   "cell_type": "code",
   "execution_count": 40,
   "metadata": {},
   "outputs": [
    {
     "data": {
      "text/plain": [
       "PrId            129\n",
       "nncid          1897\n",
       "interaction       1\n",
       "dtype: int64"
      ]
     },
     "execution_count": 40,
     "metadata": {},
     "output_type": "execute_result"
    }
   ],
   "source": [
    "dfpr[dfpr['interaction']==0].nunique()"
   ]
  },
  {
   "cell_type": "code",
   "execution_count": 20,
   "metadata": {},
   "outputs": [
    {
     "data": {
      "text/html": [
       "<div>\n",
       "<style scoped>\n",
       "    .dataframe tbody tr th:only-of-type {\n",
       "        vertical-align: middle;\n",
       "    }\n",
       "\n",
       "    .dataframe tbody tr th {\n",
       "        vertical-align: top;\n",
       "    }\n",
       "\n",
       "    .dataframe thead th {\n",
       "        text-align: right;\n",
       "    }\n",
       "</style>\n",
       "<table border=\"1\" class=\"dataframe\">\n",
       "  <thead>\n",
       "    <tr style=\"text-align: right;\">\n",
       "      <th></th>\n",
       "      <th>NONCODEID</th>\n",
       "      <th>nncid</th>\n",
       "      <th>accn</th>\n",
       "      <th>class</th>\n",
       "      <th>organism</th>\n",
       "      <th>name</th>\n",
       "      <th>ref</th>\n",
       "      <th>transcriptID</th>\n",
       "      <th>url</th>\n",
       "      <th>cpcScore</th>\n",
       "      <th>cnci</th>\n",
       "      <th>sequence</th>\n",
       "    </tr>\n",
       "  </thead>\n",
       "  <tbody>\n",
       "    <tr>\n",
       "      <th>0</th>\n",
       "      <td>NONHSAT044059.2</td>\n",
       "      <td>n344453</td>\n",
       "      <td>NULL</td>\n",
       "      <td>lincRNA</td>\n",
       "      <td>Homo sapiens</td>\n",
       "      <td>Human lincRNA</td>\n",
       "      <td>Scripture Reconstruction LincRNAs By Luo</td>\n",
       "      <td>linc_luo_1</td>\n",
       "      <td>NULL</td>\n",
       "      <td>-1.48162</td>\n",
       "      <td>-0.211334</td>\n",
       "      <td>TCTCGCTCTGTCACCCAGGCTGGAGTGCAGTGGCGTGATCTCGGCT...</td>\n",
       "    </tr>\n",
       "    <tr>\n",
       "      <th>1</th>\n",
       "      <td>NONHSAT140501.2</td>\n",
       "      <td>n344454</td>\n",
       "      <td>NULL</td>\n",
       "      <td>lincRNA</td>\n",
       "      <td>Homo sapiens</td>\n",
       "      <td>Human lincRNA</td>\n",
       "      <td>Scripture Reconstruction LincRNAs By Luo</td>\n",
       "      <td>linc_luo_2</td>\n",
       "      <td>NULL</td>\n",
       "      <td>-1.29125</td>\n",
       "      <td>-0.390813</td>\n",
       "      <td>ATTGTTAACGGCTGCGGTTCGAAGTGGCTGTGGGTATTGCTGCGGC...</td>\n",
       "    </tr>\n",
       "    <tr>\n",
       "      <th>2</th>\n",
       "      <td>NONHSAT030943.2</td>\n",
       "      <td>n344455</td>\n",
       "      <td>NULL</td>\n",
       "      <td>lincRNA</td>\n",
       "      <td>Homo sapiens</td>\n",
       "      <td>Human lincRNA</td>\n",
       "      <td>Scripture Reconstruction LincRNAs By Luo</td>\n",
       "      <td>linc_luo_3</td>\n",
       "      <td>NULL</td>\n",
       "      <td>-1.27104</td>\n",
       "      <td>-0.166314</td>\n",
       "      <td>AAATGAGGATGAAGCCAAGTGTTTGGAGTTCTTGCGAAGAAAGATA...</td>\n",
       "    </tr>\n",
       "    <tr>\n",
       "      <th>3</th>\n",
       "      <td>NONHSAT049673.2</td>\n",
       "      <td>n344457</td>\n",
       "      <td>NULL</td>\n",
       "      <td>lincRNA</td>\n",
       "      <td>Homo sapiens</td>\n",
       "      <td>Human lincRNA</td>\n",
       "      <td>Scripture Reconstruction LincRNAs By Luo</td>\n",
       "      <td>linc_luo_5</td>\n",
       "      <td>NULL</td>\n",
       "      <td>-1.36124</td>\n",
       "      <td>-0.309593</td>\n",
       "      <td>GGCCGGAGAGGCAGCAGCACCCCGAGCTGTCAGGCGTTCCGCCGCG...</td>\n",
       "    </tr>\n",
       "    <tr>\n",
       "      <th>4</th>\n",
       "      <td>NONHSAT119864.2</td>\n",
       "      <td>n344460</td>\n",
       "      <td>NULL</td>\n",
       "      <td>lincRNA</td>\n",
       "      <td>Homo sapiens</td>\n",
       "      <td>Human lincRNA</td>\n",
       "      <td>Scripture Reconstruction LincRNAs By Luo</td>\n",
       "      <td>linc_luo_8</td>\n",
       "      <td>NULL</td>\n",
       "      <td>-1.30821</td>\n",
       "      <td>-0.336347</td>\n",
       "      <td>AAGGTGGACTAGACAAAGTTGTATCTAGACCCTTATCATATATGTG...</td>\n",
       "    </tr>\n",
       "  </tbody>\n",
       "</table>\n",
       "</div>"
      ],
      "text/plain": [
       "         NONCODEID    nncid    accn      class        organism  \\\n",
       "0  NONHSAT044059.2  n344453   NULL    lincRNA    Homo sapiens    \n",
       "1  NONHSAT140501.2  n344454   NULL    lincRNA    Homo sapiens    \n",
       "2  NONHSAT030943.2  n344455   NULL    lincRNA    Homo sapiens    \n",
       "3  NONHSAT049673.2  n344457   NULL    lincRNA    Homo sapiens    \n",
       "4  NONHSAT119864.2  n344460   NULL    lincRNA    Homo sapiens    \n",
       "\n",
       "              name                                         ref  transcriptID  \\\n",
       "0   Human lincRNA    Scripture Reconstruction LincRNAs By Luo    linc_luo_1    \n",
       "1   Human lincRNA    Scripture Reconstruction LincRNAs By Luo    linc_luo_2    \n",
       "2   Human lincRNA    Scripture Reconstruction LincRNAs By Luo    linc_luo_3    \n",
       "3   Human lincRNA    Scripture Reconstruction LincRNAs By Luo    linc_luo_5    \n",
       "4   Human lincRNA    Scripture Reconstruction LincRNAs By Luo    linc_luo_8    \n",
       "\n",
       "      url  cpcScore      cnci  \\\n",
       "0   NULL   -1.48162 -0.211334   \n",
       "1   NULL   -1.29125 -0.390813   \n",
       "2   NULL   -1.27104 -0.166314   \n",
       "3   NULL   -1.36124 -0.309593   \n",
       "4   NULL   -1.30821 -0.336347   \n",
       "\n",
       "                                            sequence  \n",
       "0  TCTCGCTCTGTCACCCAGGCTGGAGTGCAGTGGCGTGATCTCGGCT...  \n",
       "1  ATTGTTAACGGCTGCGGTTCGAAGTGGCTGTGGGTATTGCTGCGGC...  \n",
       "2  AAATGAGGATGAAGCCAAGTGTTTGGAGTTCTTGCGAAGAAAGATA...  \n",
       "3  GGCCGGAGAGGCAGCAGCACCCCGAGCTGTCAGGCGTTCCGCCGCG...  \n",
       "4  AAGGTGGACTAGACAAAGTTGTATCTAGACCCTTATCATATATGTG...  "
      ]
     },
     "execution_count": 20,
     "metadata": {},
     "output_type": "execute_result"
    }
   ],
   "source": [
    "df = pd.read_csv('Data/NpInter2 Interacting LncRNAs/NP_V2_LncRNAsSequences_clean.csv')\n",
    "df.head()"
   ]
  },
  {
   "cell_type": "code",
   "execution_count": 41,
   "metadata": {},
   "outputs": [],
   "source": [
    "new = dfp[\"nncid\"].isin(dfp[\"nncid\"]) \n",
    "dfnc=dfp[new]"
   ]
  },
  {
   "cell_type": "code",
   "execution_count": 42,
   "metadata": {},
   "outputs": [
    {
     "data": {
      "text/plain": [
       "PrId            449\n",
       "nncid          4636\n",
       "interaction       2\n",
       "dtype: int64"
      ]
     },
     "execution_count": 42,
     "metadata": {},
     "output_type": "execute_result"
    }
   ],
   "source": [
    "dfnc.nunique()"
   ]
  },
  {
   "cell_type": "code",
   "execution_count": 60,
   "metadata": {},
   "outputs": [
    {
     "data": {
      "text/html": [
       "<div>\n",
       "<style scoped>\n",
       "    .dataframe tbody tr th:only-of-type {\n",
       "        vertical-align: middle;\n",
       "    }\n",
       "\n",
       "    .dataframe tbody tr th {\n",
       "        vertical-align: top;\n",
       "    }\n",
       "\n",
       "    .dataframe thead th {\n",
       "        text-align: right;\n",
       "    }\n",
       "</style>\n",
       "<table border=\"1\" class=\"dataframe\">\n",
       "  <thead>\n",
       "    <tr style=\"text-align: right;\">\n",
       "      <th></th>\n",
       "      <th>interID</th>\n",
       "      <th>ncID</th>\n",
       "      <th>ncType</th>\n",
       "      <th>ncIdentifier</th>\n",
       "      <th>ncName</th>\n",
       "      <th>PartnerID</th>\n",
       "      <th>prType</th>\n",
       "      <th>prIdentifier</th>\n",
       "      <th>InteractionPartner</th>\n",
       "      <th>interDescription</th>\n",
       "      <th>experiment</th>\n",
       "      <th>pubmed</th>\n",
       "      <th>organism</th>\n",
       "      <th>tag</th>\n",
       "      <th>interClass</th>\n",
       "      <th>interLevel</th>\n",
       "      <th>NONCODETranscriptID</th>\n",
       "    </tr>\n",
       "  </thead>\n",
       "  <tbody>\n",
       "  </tbody>\n",
       "</table>\n",
       "</div>"
      ],
      "text/plain": [
       "Empty DataFrame\n",
       "Columns: [interID, ncID, ncType, ncIdentifier, ncName, PartnerID, prType, prIdentifier, InteractionPartner, interDescription, experiment, pubmed, organism, tag, interClass, interLevel, NONCODETranscriptID]\n",
       "Index: []"
      ]
     },
     "execution_count": 60,
     "metadata": {},
     "output_type": "execute_result"
    }
   ],
   "source": [
    "df_NPInter[df_NPInter.prIdentifier == 'Q8TBX2']"
   ]
  },
  {
   "cell_type": "code",
   "execution_count": 62,
   "metadata": {},
   "outputs": [
    {
     "data": {
      "text/html": [
       "<div>\n",
       "<style scoped>\n",
       "    .dataframe tbody tr th:only-of-type {\n",
       "        vertical-align: middle;\n",
       "    }\n",
       "\n",
       "    .dataframe tbody tr th {\n",
       "        vertical-align: top;\n",
       "    }\n",
       "\n",
       "    .dataframe thead th {\n",
       "        text-align: right;\n",
       "    }\n",
       "</style>\n",
       "<table border=\"1\" class=\"dataframe\">\n",
       "  <thead>\n",
       "    <tr style=\"text-align: right;\">\n",
       "      <th></th>\n",
       "      <th>Entry</th>\n",
       "      <th>Entry name</th>\n",
       "      <th>Status</th>\n",
       "      <th>Protein names</th>\n",
       "      <th>Gene names</th>\n",
       "      <th>Organism</th>\n",
       "      <th>Length</th>\n",
       "      <th>Sequence</th>\n",
       "      <th>Organism ID</th>\n",
       "      <th>Cross-reference (PDB)</th>\n",
       "    </tr>\n",
       "  </thead>\n",
       "  <tbody>\n",
       "    <tr>\n",
       "      <th>0</th>\n",
       "      <td>Q9UPQ9</td>\n",
       "      <td>TNR6B_HUMAN</td>\n",
       "      <td>reviewed</td>\n",
       "      <td>Trinucleotide repeat-containing gene 6B protein</td>\n",
       "      <td>TNRC6B KIAA1093</td>\n",
       "      <td>Homo sapiens (Human)</td>\n",
       "      <td>1833</td>\n",
       "      <td>MREKEQEREEQLMEDKKRKKEDKKKKEATQKVTEQKTKVPEVTKPS...</td>\n",
       "      <td>9606</td>\n",
       "      <td>None</td>\n",
       "    </tr>\n",
       "  </tbody>\n",
       "</table>\n",
       "</div>"
      ],
      "text/plain": [
       "    Entry   Entry name    Status  \\\n",
       "0  Q9UPQ9  TNR6B_HUMAN  reviewed   \n",
       "\n",
       "                                     Protein names       Gene names  \\\n",
       "0  Trinucleotide repeat-containing gene 6B protein  TNRC6B KIAA1093   \n",
       "\n",
       "               Organism  Length  \\\n",
       "0  Homo sapiens (Human)    1833   \n",
       "\n",
       "                                            Sequence  Organism ID  \\\n",
       "0  MREKEQEREEQLMEDKKRKKEDKKKKEATQKVTEQKTKVPEVTKPS...         9606   \n",
       "\n",
       "  Cross-reference (PDB)  \n",
       "0                  None  "
      ]
     },
     "execution_count": 62,
     "metadata": {},
     "output_type": "execute_result"
    }
   ],
   "source": [
    "df_np_pr[df_np_pr.Entry =='Q9UPQ9']"
   ]
  },
  {
   "cell_type": "code",
   "execution_count": null,
   "metadata": {},
   "outputs": [],
   "source": []
  }
 ],
 "metadata": {
  "kernelspec": {
   "display_name": "Python 3",
   "language": "python",
   "name": "python3"
  },
  "language_info": {
   "codemirror_mode": {
    "name": "ipython",
    "version": 3
   },
   "file_extension": ".py",
   "mimetype": "text/x-python",
   "name": "python",
   "nbconvert_exporter": "python",
   "pygments_lexer": "ipython3",
   "version": "3.7.1"
  }
 },
 "nbformat": 4,
 "nbformat_minor": 2
}
