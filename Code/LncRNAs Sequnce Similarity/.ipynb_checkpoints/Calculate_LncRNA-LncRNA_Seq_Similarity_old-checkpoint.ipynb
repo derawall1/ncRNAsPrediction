{
 "cells": [
  {
   "cell_type": "markdown",
   "metadata": {},
   "source": [
    "### Importing Packages"
   ]
  },
  {
   "cell_type": "code",
   "execution_count": 1,
   "metadata": {},
   "outputs": [],
   "source": [
    "import itertools\n",
    "import numpy as np\n",
    "from Bio import Align\n",
    "from Bio import SeqIO\n",
    "from Bio import pairwise2\n",
    "from Bio.SubsMat.MatrixInfo import blosum62\n",
    "import csv\n",
    "import pandas as pd\n",
    "from tqdm import tqdm"
   ]
  },
  {
   "cell_type": "markdown",
   "metadata": {},
   "source": [
    "### Profiling and meaurment of execution time"
   ]
  },
  {
   "cell_type": "markdown",
   "metadata": {},
   "source": [
    "### Reading fast files of protein sequence"
   ]
  },
  {
   "cell_type": "code",
   "execution_count": 2,
   "metadata": {},
   "outputs": [],
   "source": [
    "\n",
    "query_seq = list(SeqIO.parse(\"lncRNA_seq_clean.fa\", \"fasta\"))\n",
    "target_seq = list(SeqIO.parse(\"NONCODEv5_human.fa\", \"fasta\"))\n",
    "\n"
   ]
  },
  {
   "cell_type": "code",
   "execution_count": 3,
   "metadata": {},
   "outputs": [
    {
     "name": "stdout",
     "output_type": "stream",
     "text": [
      "172216\n",
      "598\n"
     ]
    }
   ],
   "source": [
    "print(len(target_seq))\n",
    "print(len(query_seq))"
   ]
  },
  {
   "cell_type": "markdown",
   "metadata": {},
   "source": [
    "### Creating Empty CSV file to store the similarity results"
   ]
  },
  {
   "cell_type": "markdown",
   "metadata": {},
   "source": [
    "#### Calculating similarity score and saving in csv"
   ]
  },
  {
   "cell_type": "code",
   "execution_count": 6,
   "metadata": {},
   "outputs": [],
   "source": [
    "\n",
    "def calculate_similarity(query_seq,target_seq):\n",
    "    print(\"task started...\")\n",
    "    with open(\"Output.txt\", \"w\") as txt_file:\n",
    "        \n",
    "    \n",
    "        txt_file.writelines(\"Task Started...\\n\")\n",
    "\n",
    "        for seq_q in tqdm(query_seq):\n",
    "\n",
    "            with open(\"LncRNA_Similarity/\"+seq_q.id + \".csv\", \"w\") as csvFile:\n",
    "\n",
    "                fieldnames = ['Query_Seq_ID','Query_Seq_Name', 'Query_Seq_Description', 'Query_Seq_Number_of_features', \\\n",
    "                          'Query_Seq','target_Seq_ID', 'target_Seq_Name', 'target_Seq_Description', 'target_Seq_Number_of_features',\\\n",
    "                          'target_Seq', 'Align_Score']\n",
    "\n",
    "                writer = csv.DictWriter(csvFile, fieldnames=fieldnames)\n",
    "                writer.writeheader()\n",
    "                for seq_t in (target_seq):\n",
    "\n",
    "                    try:\n",
    "                        align_score = pairwise2.align.localms(seq_q.seq, seq_t.seq, 5, -4, -10, -0.5,score_only=True,one_alignment_only=True)\n",
    "\n",
    "                        writer.writerow({'Query_Seq_ID': seq_q.id, 'Query_Seq_Name':seq_q.name, \\\n",
    "                                         'Query_Seq_Description':seq_q.description, 'Query_Seq_Number_of_features':len(seq_q.features),\\\n",
    "                                         'Query_Seq':seq_q.seq,\\\n",
    "                                         'target_Seq_ID': seq_t.id, 'target_Seq_Name':seq_t.name, \\\n",
    "                                         'target_Seq_Description':seq_t.description, 'target_Seq_Number_of_features':len(seq_t.features),\\\n",
    "                                         'target_Seq':seq_t.seq, 'Align_Score': align_score})\n",
    "\n",
    "                        #break\n",
    "                    except Exception as e:\n",
    "                        txt_file.writelines(e+\"\\n\")\n",
    "                        continue # doing nothing on exception\n",
    "\n",
    "            txt_file.writelines(seq_q.id + \" Completed ...\\n\")\n",
    "            \n",
    "            txt_file.writelines(\"Task Completed .....\\n\")\n",
    "            #break\n",
    "\n",
    "    print(\"task completed.\")\n",
    "\n",
    "\n",
    "\n",
    "\n"
   ]
  },
  {
   "cell_type": "code",
   "execution_count": 8,
   "metadata": {},
   "outputs": [],
   "source": [
    "def calculate_similarity(query_seq,target_seq):\n",
    "    with open(\"Output.txt\", \"w\") as text_file:\n",
    "        print(\"Task started....\")\n",
    "        \n",
    "    \n",
    "        text_file.writelines(\"Task Started...\")\n",
    "\n",
    "        for seq_q in query_seq:\n",
    "\n",
    "            with open(\"LncRNA_Similarity/\"+seq_q.id + \".csv\", \"w\") as csvFile:\n",
    "\n",
    "                fieldnames = ['Query_Seq_ID','Query_Seq_Name', 'Query_Seq_Description', 'Query_Seq_Number_of_features', \\\n",
    "                          'Query_Seq','target_Seq_ID', 'target_Seq_Name', 'target_Seq_Description', 'target_Seq_Number_of_features',\\\n",
    "                          'target_Seq', 'Align_Score']\n",
    "\n",
    "                writer = csv.DictWriter(csvFile, fieldnames=fieldnames)\n",
    "                writer.writeheader()\n",
    "                for seq_t in target_seq:\n",
    "\n",
    "                    try:\n",
    "                        align_score = pairwise2.align.localms(seq_q.seq, seq_t.seq, 5, -4, -10, -0.5,score_only=True,one_alignment_only=True)\n",
    "\n",
    "                        writer.writerow({'Query_Seq_ID': seq_q.id, 'Query_Seq_Name':seq_q.name, \\\n",
    "                                         'Query_Seq_Description':seq_q.description, 'Query_Seq_Number_of_features':len(seq_q.features),\\\n",
    "                                         'Query_Seq':seq_q.seq,\\\n",
    "                                         'target_Seq_ID': seq_t.id, 'target_Seq_Name':seq_t.name, \\\n",
    "                                         'target_Seq_Description':seq_t.description, 'target_Seq_Number_of_features':len(seq_t.features),\\\n",
    "                                         'target_Seq':seq_t.seq, 'Align_Score': align_score})\n",
    "\n",
    "                        break\n",
    "                    except Exception as e:\n",
    "                        text_file.writelines(e)\n",
    "                        continue # doing nothing on exception\n",
    "\n",
    "            text_file.writelines(seq_q.id + \" Completed ...\")\n",
    "            break\n",
    "\n",
    "        text_file.writelines(\"Task Completed.....\")\n",
    "    print(\"Task completed....\")"
   ]
  },
  {
   "cell_type": "code",
   "execution_count": 7,
   "metadata": {},
   "outputs": [
    {
     "name": "stdout",
     "output_type": "stream",
     "text": [
      "started....\n",
      "task started...\n"
     ]
    },
    {
     "name": "stderr",
     "output_type": "stream",
     "text": [
      "  0%|                                                                                          | 0/598 [00:00<?, ?it/s]\n"
     ]
    },
    {
     "name": "stdout",
     "output_type": "stream",
     "text": [
      "task completed.\n",
      "completed.....\n"
     ]
    }
   ],
   "source": [
    "print(\"started....\")\n",
    "calculate_similarity(query_seq,target_seq)\n",
    "print(\"completed.....\")\n",
    "#print_prof_data()"
   ]
  },
  {
   "cell_type": "code",
   "execution_count": null,
   "metadata": {},
   "outputs": [],
   "source": [
    "6\n",
    "\n",
    "\n",
    "\n",
    "\n",
    "#aligner = Align.PairwiseAligner()\n",
    "#aligner.substitution_matrix = blosum62\n",
    "#aligner.mode = 'local'\n",
    "#aligner.open_gap_score = -10\n",
    "#aligner.extend_gap_score = -0.5\n",
    "#alignments = alignelr.align(query_seq[0].seq, target_seq[0].seq)\n",
    "\n",
    "#print(alignments[0].score)\n",
    "#print(aligner)"
   ]
  },
  {
   "cell_type": "code",
   "execution_count": 2,
   "metadata": {},
   "outputs": [
    {
     "data": {
      "text/plain": [
       "(166837, 11)"
      ]
     },
     "execution_count": 2,
     "metadata": {},
     "output_type": "execute_result"
    }
   ],
   "source": [
    "df=pd.read_csv('similar_LncRNAs.csv')\n",
    "df.shape"
   ]
  },
  {
   "cell_type": "code",
   "execution_count": 4,
   "metadata": {},
   "outputs": [
    {
     "data": {
      "text/plain": [
       "0.0"
      ]
     },
     "execution_count": 4,
     "metadata": {},
     "output_type": "execute_result"
    }
   ],
   "source": [
    "df['Align_Score'].min()"
   ]
  },
  {
   "cell_type": "code",
   "execution_count": 3,
   "metadata": {},
   "outputs": [
    {
     "data": {
      "text/plain": [
       "Query_Seq_ID                          1\n",
       "Query_Seq_Name                        1\n",
       "Query_Seq_Description                 1\n",
       "Query_Seq_Number_of_features          1\n",
       "Query_Seq                             1\n",
       "target_Seq_ID                    166837\n",
       "target_Seq_Name                  166837\n",
       "target_Seq_Description           166837\n",
       "target_Seq_Number_of_features         1\n",
       "target_Seq                       165472\n",
       "Align_Score                        1409\n",
       "dtype: int64"
      ]
     },
     "execution_count": 3,
     "metadata": {},
     "output_type": "execute_result"
    }
   ],
   "source": [
    "df.nunique()"
   ]
  },
  {
   "cell_type": "code",
   "execution_count": null,
   "metadata": {},
   "outputs": [],
   "source": [
    "df=df[df['Align_Score']>=30]\n",
    "\n",
    "df.shape"
   ]
  },
  {
   "cell_type": "code",
   "execution_count": null,
   "metadata": {},
   "outputs": [],
   "source": [
    "df.head()"
   ]
  },
  {
   "cell_type": "code",
   "execution_count": null,
   "metadata": {},
   "outputs": [],
   "source": []
  }
 ],
 "metadata": {
  "kernelspec": {
   "display_name": "Python 3",
   "language": "python",
   "name": "python3"
  },
  "language_info": {
   "codemirror_mode": {
    "name": "ipython",
    "version": 3
   },
   "file_extension": ".py",
   "mimetype": "text/x-python",
   "name": "python",
   "nbconvert_exporter": "python",
   "pygments_lexer": "ipython3",
   "version": "3.7.1"
  }
 },
 "nbformat": 4,
 "nbformat_minor": 2
}
