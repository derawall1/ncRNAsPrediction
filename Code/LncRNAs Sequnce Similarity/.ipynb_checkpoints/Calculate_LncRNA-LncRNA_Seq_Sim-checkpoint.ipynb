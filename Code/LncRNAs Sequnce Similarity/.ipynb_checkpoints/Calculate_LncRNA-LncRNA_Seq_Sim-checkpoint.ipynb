{
 "cells": [
  {
   "cell_type": "markdown",
   "metadata": {},
   "source": [
    "### Importing Packages"
   ]
  },
  {
   "cell_type": "code",
   "execution_count": 1,
   "metadata": {},
   "outputs": [],
   "source": [
    "import itertools\n",
    "import numpy as np\n",
    "from Bio import Align\n",
    "from Bio import SeqIO\n",
    "from Bio import pairwise2\n",
    "from Bio.SubsMat.MatrixInfo import blosum62\n",
    "import csv\n",
    "import pandas as pd\n",
    "from Bio.pairwise2 import format_alignment\n",
    "import math\n"
   ]
  },
  {
   "cell_type": "markdown",
   "metadata": {},
   "source": [
    "### Reading fast files of protein sequence"
   ]
  },
  {
   "cell_type": "code",
   "execution_count": 14,
   "metadata": {},
   "outputs": [],
   "source": [
    "\n",
    "#query_seq = list(SeqIO.parse(\"../Data/NpInter2 Interacting LncRNAs/NP_V2_lncRNA_seq_clean.fasta\", \"fasta\"))\n",
    "#target_seq = list(SeqIO.parse(\"../Data/NpInter2 Interacting LncRNAs/NP_V2_lncRNA_seq_clean.fasta\", \"fasta\"))\n",
    "query_seq = list(SeqIO.parse(\"../Data/NpInter2 Interacting LncRNAs/query_sample.fa\", \"fasta\"))\n",
    "target_seq = list(SeqIO.parse(\"../Data/NpInter2 Interacting LncRNAs/query_sample.fa\", \"fasta\"))\n"
   ]
  },
  {
   "cell_type": "code",
   "execution_count": null,
   "metadata": {},
   "outputs": [],
   "source": [
    "\n",
    "query_seq = list(SeqIO.parse(\"E:\\\\Fast\\Maam Zoya\\\\papers\\\\RPITER-master\\\\RPITER-master\\\\data\\\\sequence\\\\query_sample.fa\", \"fasta\"))    \n",
    "print(len(query_seq))"
   ]
  },
  {
   "cell_type": "code",
   "execution_count": 15,
   "metadata": {},
   "outputs": [
    {
     "name": "stdout",
     "output_type": "stream",
     "text": [
      "2\n",
      "2\n"
     ]
    }
   ],
   "source": [
    "print(len(target_seq))\n",
    "print(len(target_seq))"
   ]
  },
  {
   "cell_type": "markdown",
   "metadata": {},
   "source": [
    "### custom format_alignment to get the match, mismatch, gaps and score"
   ]
  },
  {
   "cell_type": "code",
   "execution_count": 16,
   "metadata": {},
   "outputs": [],
   "source": [
    "def fn_format_alignment(align1, align2, score, begin, end): \n",
    "    #s = [] \n",
    "    #s.append(\"%s\\n\" % align1) \n",
    "    #s.append(\" \" * begin) \n",
    "    #matrix=blosum62\n",
    "    gap=0\n",
    "    mismatch=0\n",
    "    match=0\n",
    "    seq_len=0\n",
    "    mismatch_positive=0\n",
    "    #print(align1[begin:end])\n",
    "    #print(align2[begin:end])\n",
    "    for a, b in zip(align1[begin:end], align2[begin:end]): \n",
    "        if a == b: \n",
    "            #s.append(\"|\")  # match \n",
    "            match+=1\n",
    "        elif a == \"-\" or b == \"-\":\n",
    "            \n",
    "            #s.append(\" \")  # gap\n",
    "            gap+=1\n",
    "        elif a != b:\n",
    "#             if (a,b) in blosum62:\n",
    "#                 if blosum62[(a,b)] >0:\n",
    "#                     mismatch_positive+=1\n",
    "#             else:\n",
    "#                 if blosum62[(b,a)] >0:\n",
    "#                     mismatch_positive+=1\n",
    "            \n",
    "                                                     \n",
    "            #s.append(\".\")  # mismatch \n",
    "            mismatch+=1\n",
    "        seq_len = min(len(align1[begin:end]), len(align2[begin:end]))\n",
    "    #s.append(\"\\n\") \n",
    "    #s.append(\"%s\\n\" % align2) \n",
    "    #s.append(\"  Score=%g\\n\" % score)\n",
    "    #s.append(\"  Gap=%g\\n\" % gap)\n",
    "    #s.append(\"  Mismatch=%g\\n\" % mismatch)\n",
    "    return score,match,mismatch,gap,seq_len,mismatch_positive"
   ]
  },
  {
   "cell_type": "code",
   "execution_count": 17,
   "metadata": {},
   "outputs": [],
   "source": [
    "# round decimal number\n",
    "\n",
    "import decimal\n",
    "\n",
    "def round_down(value, decimals):\n",
    "    with decimal.localcontext() as ctx:\n",
    "        d = decimal.Decimal(value)\n",
    "        ctx.rounding = decimal.ROUND_DOWN\n",
    "        return round(d, decimals)"
   ]
  },
  {
   "cell_type": "markdown",
   "metadata": {},
   "source": [
    "### Creating Empty CSV file to store the similarity results"
   ]
  },
  {
   "cell_type": "markdown",
   "metadata": {},
   "source": [
    "#### Calculating similarity score and saving in csv"
   ]
  },
  {
   "cell_type": "code",
   "execution_count": 18,
   "metadata": {},
   "outputs": [],
   "source": [
    "\n",
    "def calculate_similarity(query_seq,target_seq):\n",
    "    print(\"started task...\")\n",
    "    with open(\"../Data/NpInter2 Interacting LncRNAs/LncRNA-LncRNA Sequence Similarity/LncRNA-LncRNA_Similarity.csv\", \"w\", newline='') as csvFile:\n",
    "        # csv file header\n",
    "        fieldnames = ['Query_Seq_ID','Target_Seq_ID', 'Align_Score','Normalize_Score', 'Identity', 'Similarity']\n",
    "        writer = csv.DictWriter(csvFile, fieldnames=fieldnames)\n",
    "        writer.writeheader()\n",
    "        # loop on query seq\n",
    "        count=0\n",
    "        for seq_q in query_seq:\n",
    "            try:\n",
    "                # self alignment with query seq\n",
    "                seq_q_align = pairwise2.align.localms(seq_q.seq, seq_q.seq, 5, -4, -10, -0.5, one_alignment_only=True)\n",
    "                #print(seq_q_align)\n",
    "                # loop on target seq\n",
    "                for seq_t in target_seq:\n",
    "                    if seq_q.seq != seq_t.seq:\n",
    "                        \n",
    "                        try:\n",
    "                            # self alignment with traget seq\n",
    "                            seq_t_align = pairwise2.align.localms(seq_t.seq, seq_t.seq, 5, -4, -10, -0.5, one_alignment_only=True)\n",
    "                            # getting the score of query seq self align\n",
    "                            #print(seq_t_align)\n",
    "                            #print(fn_format_alignment(*seq_q_align[0]))\n",
    "                            seq_q_align_score=fn_format_alignment(*seq_q_align[0])[0]\n",
    "                            #print(seq_q_align_score)\n",
    "                            # getting the score of target seq self align\n",
    "                            seq_t_align_score=fn_format_alignment(*seq_t_align[0])[0]\n",
    "                            #print(seq_t_align_score)\n",
    "                            \n",
    "\n",
    "                            # the alignment b/w qry and trg seq\n",
    "                            align = pairwise2.align.localms(seq_q.seq, seq_t.seq, 5, -4, -10, -0.5, one_alignment_only=True)\n",
    "                            # getting the score of query and target seq\n",
    "                            score =fn_format_alignment(*align[0])[0]\n",
    "                            #print(score)\n",
    "                            # normalizing the score\n",
    "                            Normalize_Score = round_down(score/(math.sqrt(seq_q_align_score)*math.sqrt(seq_t_align_score)),2)\n",
    "                            #print(Normalize_Score)\n",
    "                            # get the no of matches in query and target seq\n",
    "                            matches = fn_format_alignment(*align[0])[1]\n",
    "                            #print(matches)\n",
    "                            # getting the no of mismatches in qry and trg seq\n",
    "                            mismatches = fn_format_alignment(*align[0])[2]\n",
    "                            #print(mismatches)\n",
    "                            mismatch_positive=fn_format_alignment(*align[0])[5]\n",
    "                            #print(mismatch_positive)\n",
    "                            # calcualting the percent identity %.\n",
    "                            seq_len = fn_format_alignment(*align[0])[4]\n",
    "                            #print(seq_len)\n",
    "                            Identity = str(round_down(matches/seq_len * 100,2)) +'%' \n",
    "                            #print(Identity)\n",
    "\n",
    "                            #Identity =str(round_down(matches/(matches + mismatches) * 100,2)) +'%' \n",
    "                            # calculating the similarity in %\n",
    "                            #Similarity=str(round_down((matches + mismatches)/seq_len * 100,2)) + '%'\n",
    "                            Similarity=str(round_down((matches + mismatch_positive)/seq_len * 100,2)) + '%'\n",
    "                            #print(Similarity)\n",
    "                            writer.writerow({'Query_Seq_ID': seq_q.id,                                      \n",
    "                                             'Target_Seq_ID': seq_t.id,\n",
    "                                             'Align_Score': score, 'Normalize_Score':Normalize_Score,\n",
    "                                             'Identity':Identity, 'Similarity':Similarity })\n",
    "                            count +=1\n",
    "                            print(count)\n",
    "                            \n",
    "                            print(seq_q.id)\n",
    "                            print('.............................')\n",
    "                            \n",
    "                            print(seq_t.id)\n",
    "                            print('length: ' + str(min(len(seq_q.seq), len(seq_t.seq))))\n",
    "                            print('length2: ' + str(fn_format_alignment(*align[0])[4]))\n",
    "                            print('Score: ' + str(fn_format_alignment(*align[0])[0]))\n",
    "                            print('matches: ' + str(fn_format_alignment(*align[0])[1]))\n",
    "                            print('mismatches: ' + str(fn_format_alignment(*align[0])[2]))\n",
    "                            print('mismatches+ : '+ str(mismatch_positive))\n",
    "                            print('gaps: ' + str(fn_format_alignment(*align[0])[3]))\n",
    "\n",
    "                            print('Identity: ' + str(Identity))\n",
    "                           \n",
    "                            print('Normalize_Score: ' + str(Normalize_Score))\n",
    "                            print('Similarity: ' + str(Similarity))\n",
    "                            \n",
    "\n",
    "\n",
    "                            print('.............................')\n",
    "                            \n",
    "                            #print(align[0])\n",
    "                            #print('---------------------------------------')\n",
    "                            #print(align_score)\n",
    "                            #print(align_score[1])\n",
    "                            #print(align_score[2])\n",
    "                            #print(align_score[3])\n",
    "                            #print(type(align_score))  \n",
    "                            \n",
    "                        except Exception as e:\n",
    "                            print(e)\n",
    "                            #break\n",
    "                            continue # doing nothing on exception\n",
    "            #count+=1\n",
    "            #print(count)\n",
    "            #print(seq_q.id.split('|')[1] + '  Completed')\n",
    "            except Exception as e:\n",
    "                    print(e)\n",
    "                    continue # doing nothing on exception\n",
    "\n",
    "    print(\"Task Completed.....\")\n",
    "\n",
    "\n",
    "\n",
    "\n"
   ]
  },
  {
   "cell_type": "code",
   "execution_count": 19,
   "metadata": {},
   "outputs": [
    {
     "name": "stdout",
     "output_type": "stream",
     "text": [
      "started....\n",
      "started task...\n",
      "1\n",
      "NONHSAT044059.2\n",
      ".............................\n",
      "NONHSAT140501.2\n",
      "length: 573\n",
      "length2: 908\n",
      "Score: 597.0\n",
      "matches: 376\n",
      "mismatches: 106\n",
      "mismatches+ : 0\n",
      "gaps: 426\n",
      "Identity: 41.40%\n",
      "Normalize_Score: 0.08\n",
      "Similarity: 41.40%\n",
      ".............................\n",
      "2\n",
      "NONHSAT140501.2\n",
      ".............................\n",
      "NONHSAT044059.2\n",
      "length: 573\n",
      "length2: 908\n",
      "Score: 597.0\n",
      "matches: 376\n",
      "mismatches: 106\n",
      "mismatches+ : 0\n",
      "gaps: 426\n",
      "Identity: 41.40%\n",
      "Normalize_Score: 0.08\n",
      "Similarity: 41.40%\n",
      ".............................\n",
      "Task Completed.....\n",
      "completed.....\n"
     ]
    }
   ],
   "source": [
    "print(\"started....\")\n",
    "calculate_similarity(query_seq,target_seq)\n",
    "print(\"completed.....\")\n"
   ]
  },
  {
   "cell_type": "code",
   "execution_count": null,
   "metadata": {},
   "outputs": [],
   "source": [
    "\n",
    "#blosum62.update(((b,a),val) for (a,b),val in blosum62.items())\n",
    "#blosum62\n"
   ]
  },
  {
   "cell_type": "code",
   "execution_count": null,
   "metadata": {},
   "outputs": [],
   "source": [
    "#aligner = Align.PairwiseAligner()\n",
    "#aligner.substitution_matrix = blosum62\n",
    "#aligner.mode = 'local'\n",
    "#aligner.open_gap_score = -10\n",
    "#aligner.extend_gap_score = -0.5\n",
    "#alignments = alignelr.align(query_seq[0].seq, target_seq[0].seq)\n",
    "\n",
    "#print(alignments[0].score)\n",
    "#print(aligner)"
   ]
  },
  {
   "cell_type": "code",
   "execution_count": 37,
   "metadata": {},
   "outputs": [],
   "source": [
    "#df=pd.read_csv('../Data/NpInter2 Interacting LncRNAs/LncRNA-LncRNA Sequence Similarity/LncRNA-LncRNA_Similarity.csv')\n",
    "#df.shape"
   ]
  },
  {
   "cell_type": "code",
   "execution_count": 38,
   "metadata": {},
   "outputs": [],
   "source": [
    "#df.nunique()"
   ]
  },
  {
   "cell_type": "code",
   "execution_count": 42,
   "metadata": {},
   "outputs": [],
   "source": [
    "# df_pro=df[df['Align_Score']>=30]\n",
    "\n",
    "# df_pro.shape"
   ]
  },
  {
   "cell_type": "code",
   "execution_count": 44,
   "metadata": {},
   "outputs": [],
   "source": [
    "# df_pro.nunique()"
   ]
  },
  {
   "cell_type": "code",
   "execution_count": 45,
   "metadata": {},
   "outputs": [],
   "source": [
    "# df_pro['Align_Score'].max()"
   ]
  },
  {
   "cell_type": "code",
   "execution_count": 46,
   "metadata": {},
   "outputs": [],
   "source": [
    "# df_pro.head()"
   ]
  },
  {
   "cell_type": "code",
   "execution_count": 47,
   "metadata": {},
   "outputs": [],
   "source": [
    "# help(pairwise2.align.localds) "
   ]
  },
  {
   "cell_type": "code",
   "execution_count": 20,
   "metadata": {},
   "outputs": [
    {
     "name": "stdout",
     "output_type": "stream",
     "text": [
      "started....\n",
      "started task...\n",
      "1\n",
      "NONHSAT044059.2\n",
      ".............................\n",
      "NONHSAT140501.2\n",
      "length: 573\n",
      "length2: 908\n",
      "Score: 597.0\n",
      "matches: 376\n",
      "mismatches: 106\n",
      "mismatches+ : 0\n",
      "gaps: 426\n",
      "Identity: 41.40%\n",
      "Normalize_Score: 0.08\n",
      "Similarity: 41.40%\n",
      ".............................\n",
      "2\n",
      "NONHSAT140501.2\n",
      ".............................\n",
      "NONHSAT044059.2\n",
      "length: 573\n",
      "length2: 908\n",
      "Score: 597.0\n",
      "matches: 376\n",
      "mismatches: 106\n",
      "mismatches+ : 0\n",
      "gaps: 426\n",
      "Identity: 41.40%\n",
      "Normalize_Score: 0.08\n",
      "Similarity: 41.40%\n",
      ".............................\n",
      "Task Completed.....\n",
      "completed.....\n"
     ]
    }
   ],
   "source": [
    "def calculate_similarity2(query_seq,target_seq):\n",
    "    print(\"started task...\")\n",
    "    with open(\"../Data/NpInter2 Interacting LncRNAs/LncRNA-LncRNA Sequence Similarity/LncRNA-LncRNA_Similarity.csv\", \"w\") as csvFile:\n",
    "        # csv file header\n",
    "        fieldnames = ['Query_Seq_ID','Target_Seq_ID', 'Align_Score','Normalize_Score', 'Identity', 'Similarity']\n",
    "        writer = csv.DictWriter(csvFile, fieldnames=fieldnames)\n",
    "        writer.writeheader()\n",
    "        # loop on query seq\n",
    "        count=0\n",
    "        for seq_q in query_seq:\n",
    "            try:\n",
    "                # self alignment with query seq\n",
    "                seq_q_align = pairwise2.align.localms(seq_q.seq, seq_q.seq, 5, -4, -10, -0.5, one_alignment_only=True)\n",
    "                #print(seq_q_align)\n",
    "                # loop on target seq\n",
    "                for seq_t in target_seq:\n",
    "                    if seq_q.seq != seq_t.seq:\n",
    "                        \n",
    "                        try:\n",
    "                            # self alignment with traget seq\n",
    "                            seq_t_align = pairwise2.align.localms(seq_t.seq, seq_t.seq, 5, -4, -10, -0.5, one_alignment_only=True)\n",
    "                            # getting the score of query seq self align\n",
    "                            #print(seq_t_align)\n",
    "                            #print(fn_format_alignment(*seq_q_align[0]))\n",
    "                            seq_q_align_score=fn_format_alignment(*seq_q_align[0])[0]\n",
    "                            #print(seq_q_align_score)\n",
    "                            # getting the score of target seq self align\n",
    "                            seq_t_align_score=fn_format_alignment(*seq_t_align[0])[0]\n",
    "                            #print(seq_t_align_score)\n",
    "                            \n",
    "\n",
    "                            # the alignment b/w qry and trg seq\n",
    "                            align = pairwise2.align.localms(seq_q.seq, seq_t.seq, 5, -4, -10, -0.5, one_alignment_only=True)\n",
    "                            # getting the score of query and target seq\n",
    "                            score =fn_format_alignment(*align[0])[0]\n",
    "                            #print(score)\n",
    "                            # normalizing the score\n",
    "                            Normalize_Score = round_down(score/(math.sqrt(seq_q_align_score)*math.sqrt(seq_t_align_score)),2)\n",
    "                            #print(Normalize_Score)\n",
    "                            # get the no of matches in query and target seq\n",
    "                            matches = fn_format_alignment(*align[0])[1]\n",
    "                            #print(matches)\n",
    "                            # getting the no of mismatches in qry and trg seq\n",
    "                            mismatches = fn_format_alignment(*align[0])[2]\n",
    "                            #print(mismatches)\n",
    "                            mismatch_positive=fn_format_alignment(*align[0])[5]\n",
    "                            #print(mismatch_positive)\n",
    "                            # calcualting the percent identity %.\n",
    "                            seq_len = fn_format_alignment(*align[0])[4]\n",
    "                            #print(seq_len)\n",
    "                            Identity = str(round_down(matches/seq_len * 100,2)) +'%' \n",
    "                            #print(Identity)\n",
    "\n",
    "                            #Identity =str(round_down(matches/(matches + mismatches) * 100,2)) +'%' \n",
    "                            # calculating the similarity in %\n",
    "                            #Similarity=str(round_down((matches + mismatches)/seq_len * 100,2)) + '%'\n",
    "                            Similarity=str(round_down((matches + mismatch_positive)/seq_len * 100,2)) + '%'\n",
    "                            #print(Similarity)\n",
    "                            writer.writerow({'Query_Seq_ID': seq_q.id,                                      \n",
    "                                             'Target_Seq_ID': seq_t.id,\n",
    "                                             'Align_Score': score, 'Normalize_Score':Normalize_Score,\n",
    "                                             'Identity':Identity, 'Similarity':Similarity })\n",
    "                            count +=1\n",
    "                            print(count)\n",
    "                            \n",
    "                            print(seq_q.id)\n",
    "                            print('.............................')\n",
    "                            \n",
    "                            print(seq_t.id)\n",
    "                            print('length: ' + str(min(len(seq_q.seq), len(seq_t.seq))))\n",
    "                            print('length2: ' + str(fn_format_alignment(*align[0])[4]))\n",
    "                            print('Score: ' + str(fn_format_alignment(*align[0])[0]))\n",
    "                            print('matches: ' + str(fn_format_alignment(*align[0])[1]))\n",
    "                            print('mismatches: ' + str(fn_format_alignment(*align[0])[2]))\n",
    "                            print('mismatches+ : '+ str(mismatch_positive))\n",
    "                            print('gaps: ' + str(fn_format_alignment(*align[0])[3]))\n",
    "\n",
    "                            print('Identity: ' + str(Identity))\n",
    "                           \n",
    "                            print('Normalize_Score: ' + str(Normalize_Score))\n",
    "                            print('Similarity: ' + str(Similarity))\n",
    "                            \n",
    "\n",
    "\n",
    "                            print('.............................')\n",
    "                            \n",
    "                            #print(align[0])\n",
    "                            #print('---------------------------------------')\n",
    "                            #print(align_score)\n",
    "                            #print(align_score[1])\n",
    "                            #print(align_score[2])\n",
    "                            #print(align_score[3])\n",
    "                            #print(type(align_score))  \n",
    "                            \n",
    "                        except Exception as e:\n",
    "                            print(e)\n",
    "                            #break\n",
    "                            continue # doing nothing on exception\n",
    "            #count+=1\n",
    "            #print(count)\n",
    "            #print(seq_q.id.split('|')[1] + '  Completed')\n",
    "            except Exception as e:\n",
    "                    print(e)\n",
    "                    continue # doing nothing on exception\n",
    "\n",
    "    print(\"Task Completed.....\")\n",
    "\n",
    "\n",
    "\n",
    "\n",
    "\n",
    "\n",
    "\n",
    "print(\"started....\")\n",
    "calculate_similarity2(query_seq,target_seq)\n",
    "print(\"completed.....\")"
   ]
  },
  {
   "cell_type": "code",
   "execution_count": null,
   "metadata": {},
   "outputs": [],
   "source": []
  }
 ],
 "metadata": {
  "kernelspec": {
   "display_name": "Python 3",
   "language": "python",
   "name": "python3"
  },
  "language_info": {
   "codemirror_mode": {
    "name": "ipython",
    "version": 3
   },
   "file_extension": ".py",
   "mimetype": "text/x-python",
   "name": "python",
   "nbconvert_exporter": "python",
   "pygments_lexer": "ipython3",
   "version": "3.7.1"
  }
 },
 "nbformat": 4,
 "nbformat_minor": 2
}
