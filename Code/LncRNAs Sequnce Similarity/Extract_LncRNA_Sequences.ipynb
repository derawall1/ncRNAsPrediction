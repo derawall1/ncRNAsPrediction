{
 "cells": [
  {
   "cell_type": "code",
   "execution_count": 2,
   "metadata": {},
   "outputs": [],
   "source": [
    "import itertools\n",
    "import numpy as np\n",
    "from Bio import Align\n",
    "from Bio import SeqIO\n",
    "from Bio import pairwise2\n",
    "from Bio.SubsMat.MatrixInfo import blosum62\n",
    "import csv\n",
    "import pandas as pd\n",
    "from Bio.SeqRecord import SeqRecord"
   ]
  },
  {
   "cell_type": "code",
   "execution_count": 3,
   "metadata": {},
   "outputs": [
    {
     "data": {
      "text/plain": [
       "(3036, 12)"
      ]
     },
     "execution_count": 3,
     "metadata": {},
     "output_type": "execute_result"
    }
   ],
   "source": [
    "df=pd.read_csv('../Data/np_v2_NonCode_Seq_Homo.csv')\n",
    "df.shape"
   ]
  },
  {
   "cell_type": "code",
   "execution_count": 4,
   "metadata": {},
   "outputs": [
    {
     "data": {
      "text/plain": [
       "Unnamed: 0      0\n",
       "nncid           0\n",
       "accn            0\n",
       "class           0\n",
       "organism        0\n",
       "name            0\n",
       "ref             0\n",
       "transcriptID    0\n",
       "url             0\n",
       "cpcScore        0\n",
       "cnci            0\n",
       "sequence        0\n",
       "dtype: int64"
      ]
     },
     "execution_count": 4,
     "metadata": {},
     "output_type": "execute_result"
    }
   ],
   "source": [
    " df.isnull().sum(axis = 0)"
   ]
  },
  {
   "cell_type": "code",
   "execution_count": 5,
   "metadata": {},
   "outputs": [
    {
     "data": {
      "text/plain": [
       "Unnamed: 0      3036\n",
       "nncid           3036\n",
       "accn            1383\n",
       "class             21\n",
       "organism           1\n",
       "name              75\n",
       "ref               13\n",
       "transcriptID    2997\n",
       "url              183\n",
       "cpcScore        2986\n",
       "cnci            3019\n",
       "sequence        3036\n",
       "dtype: int64"
      ]
     },
     "execution_count": 5,
     "metadata": {},
     "output_type": "execute_result"
    }
   ],
   "source": [
    "df.nunique()"
   ]
  },
  {
   "cell_type": "code",
   "execution_count": 7,
   "metadata": {},
   "outputs": [
    {
     "data": {
      "text/plain": [
       "(1923, 12)"
      ]
     },
     "execution_count": 7,
     "metadata": {},
     "output_type": "execute_result"
    }
   ],
   "source": [
    "df_nc=df[(df['class'].str.strip()=='lincRNA')|(df['class'].str.strip()=='lncRNA')]\n",
    "df_nc.shape"
   ]
  },
  {
   "cell_type": "code",
   "execution_count": 8,
   "metadata": {},
   "outputs": [
    {
     "data": {
      "text/plain": [
       "Unnamed: 0      0\n",
       "nncid           0\n",
       "accn            0\n",
       "class           0\n",
       "organism        0\n",
       "name            0\n",
       "ref             0\n",
       "transcriptID    0\n",
       "url             0\n",
       "cpcScore        0\n",
       "cnci            0\n",
       "sequence        0\n",
       "dtype: int64"
      ]
     },
     "execution_count": 8,
     "metadata": {},
     "output_type": "execute_result"
    }
   ],
   "source": [
    "#df_nc.rename(columns={'NONCODE ID':'NONCODEID'}, inplace=True)\n",
    "df_nc.isnull().sum()\n"
   ]
  },
  {
   "cell_type": "code",
   "execution_count": 9,
   "metadata": {},
   "outputs": [
    {
     "data": {
      "text/plain": [
       "Unnamed: 0      1923\n",
       "nncid           1923\n",
       "accn             365\n",
       "class              2\n",
       "organism           1\n",
       "name               2\n",
       "ref                6\n",
       "transcriptID    1923\n",
       "url                2\n",
       "cpcScore        1912\n",
       "cnci            1917\n",
       "sequence        1923\n",
       "dtype: int64"
      ]
     },
     "execution_count": 9,
     "metadata": {},
     "output_type": "execute_result"
    }
   ],
   "source": [
    "df_nc.nunique()"
   ]
  },
  {
   "cell_type": "code",
   "execution_count": 10,
   "metadata": {},
   "outputs": [],
   "source": [
    "df_nc.to_csv('../Data/Np_V2_LncRNAsSequences2.csv')"
   ]
  },
  {
   "cell_type": "code",
   "execution_count": 11,
   "metadata": {},
   "outputs": [
    {
     "data": {
      "text/plain": [
       "37027"
      ]
     },
     "execution_count": 11,
     "metadata": {},
     "output_type": "execute_result"
    }
   ],
   "source": [
    "df_nc['sequence'].str.len().max()"
   ]
  },
  {
   "cell_type": "code",
   "execution_count": 58,
   "metadata": {},
   "outputs": [],
   "source": [
    "#df_ids=pd.read_csv('../data/NONCODEv5_source/NONCODEv5_source.txt', sep='\\t', names=['NONCODEID','IdOld1','nncid'])\n",
    "#df_ids.head()"
   ]
  },
  {
   "cell_type": "code",
   "execution_count": 59,
   "metadata": {},
   "outputs": [],
   "source": [
    "#df_ids.shape"
   ]
  },
  {
   "cell_type": "code",
   "execution_count": 60,
   "metadata": {},
   "outputs": [],
   "source": [
    "#df_ids.isnull().sum()"
   ]
  },
  {
   "cell_type": "code",
   "execution_count": 62,
   "metadata": {},
   "outputs": [],
   "source": [
    "#nncid = df_ids.IdOld1.isnin(df.nncid)\n",
    "#df_ids_np2 = df_ids[nncid]\n",
    "#df_ids_v2=df[['nncid']]\n",
    "#df_ids_v2.head()\n",
    "#df_ids_np2 = df_ids.merge(df_ids_v2, on='nncid', how='inner')\n",
    "#df_ids_np2.shape\n"
   ]
  },
  {
   "cell_type": "code",
   "execution_count": 61,
   "metadata": {},
   "outputs": [],
   "source": [
    "#df_nc['NONCODEID']=df_ids['NONCODEID'].values\n",
    "# df_ids_np2.isna().sum()"
   ]
  },
  {
   "cell_type": "code",
   "execution_count": 63,
   "metadata": {},
   "outputs": [],
   "source": [
    "# nncid = df_ids_np2.nncid.isin(df.nncid)\n",
    "# nncid.head()"
   ]
  },
  {
   "cell_type": "code",
   "execution_count": 64,
   "metadata": {},
   "outputs": [],
   "source": [
    "# df[nncid].isna().sum()"
   ]
  },
  {
   "cell_type": "code",
   "execution_count": 12,
   "metadata": {},
   "outputs": [
    {
     "data": {
      "text/plain": [
       "(1923, 13)"
      ]
     },
     "execution_count": 12,
     "metadata": {},
     "output_type": "execute_result"
    }
   ],
   "source": [
    "df_nc_seq=pd.read_csv('../Data/Np_V2_LncRNAsSequences2.csv')\n",
    "df_nc_seq.shape"
   ]
  },
  {
   "cell_type": "code",
   "execution_count": 13,
   "metadata": {},
   "outputs": [
    {
     "data": {
      "text/plain": [
       "Unnamed: 0      0\n",
       "Unnamed: 0.1    0\n",
       "nncid           0\n",
       "accn            0\n",
       "class           0\n",
       "organism        0\n",
       "name            0\n",
       "ref             0\n",
       "transcriptID    0\n",
       "url             0\n",
       "cpcScore        0\n",
       "cnci            0\n",
       "sequence        0\n",
       "dtype: int64"
      ]
     },
     "execution_count": 13,
     "metadata": {},
     "output_type": "execute_result"
    }
   ],
   "source": [
    "df_nc_seq.isna().sum()"
   ]
  },
  {
   "cell_type": "code",
   "execution_count": 43,
   "metadata": {},
   "outputs": [],
   "source": [
    "#df_nc.to_csv('LncRNAsSequences.csv')"
   ]
  },
  {
   "cell_type": "code",
   "execution_count": 71,
   "metadata": {},
   "outputs": [
    {
     "data": {
      "text/plain": [
       "NONCODEID       0\n",
       "nncid           0\n",
       "accn            0\n",
       "class           0\n",
       "organism        0\n",
       "name            0\n",
       "ref             0\n",
       "transcriptID    0\n",
       "url             0\n",
       "cpcScore        0\n",
       "cnci            0\n",
       "sequence        0\n",
       "dtype: int64"
      ]
     },
     "execution_count": 71,
     "metadata": {},
     "output_type": "execute_result"
    }
   ],
   "source": [
    "df_nc_seq1 = df_nc_seq.dropna(how='any',axis=0)\n",
    "df_nc_seq1.isna().sum()"
   ]
  },
  {
   "cell_type": "code",
   "execution_count": 72,
   "metadata": {},
   "outputs": [
    {
     "data": {
      "text/plain": [
       "(1313, 12)"
      ]
     },
     "execution_count": 72,
     "metadata": {},
     "output_type": "execute_result"
    }
   ],
   "source": [
    "df_nc_seq1.shape"
   ]
  },
  {
   "cell_type": "code",
   "execution_count": 75,
   "metadata": {},
   "outputs": [
    {
     "data": {
      "text/plain": [
       "NONCODEID       1311\n",
       "nncid           1313\n",
       "accn             126\n",
       "class              2\n",
       "organism           1\n",
       "name               2\n",
       "ref                5\n",
       "transcriptID    1313\n",
       "url                2\n",
       "cpcScore        1307\n",
       "cnci            1308\n",
       "sequence        1313\n",
       "dtype: int64"
      ]
     },
     "execution_count": 75,
     "metadata": {},
     "output_type": "execute_result"
    }
   ],
   "source": [
    "df_nc_seq1.nunique()"
   ]
  },
  {
   "cell_type": "code",
   "execution_count": 14,
   "metadata": {},
   "outputs": [
    {
     "data": {
      "text/html": [
       "<div>\n",
       "<style scoped>\n",
       "    .dataframe tbody tr th:only-of-type {\n",
       "        vertical-align: middle;\n",
       "    }\n",
       "\n",
       "    .dataframe tbody tr th {\n",
       "        vertical-align: top;\n",
       "    }\n",
       "\n",
       "    .dataframe thead th {\n",
       "        text-align: right;\n",
       "    }\n",
       "</style>\n",
       "<table border=\"1\" class=\"dataframe\">\n",
       "  <thead>\n",
       "    <tr style=\"text-align: right;\">\n",
       "      <th></th>\n",
       "      <th>Unnamed: 0</th>\n",
       "      <th>Unnamed: 0.1</th>\n",
       "      <th>nncid</th>\n",
       "      <th>accn</th>\n",
       "      <th>class</th>\n",
       "      <th>organism</th>\n",
       "      <th>name</th>\n",
       "      <th>ref</th>\n",
       "      <th>transcriptID</th>\n",
       "      <th>url</th>\n",
       "      <th>cpcScore</th>\n",
       "      <th>cnci</th>\n",
       "      <th>sequence</th>\n",
       "    </tr>\n",
       "  </thead>\n",
       "  <tbody>\n",
       "  </tbody>\n",
       "</table>\n",
       "</div>"
      ],
      "text/plain": [
       "Empty DataFrame\n",
       "Columns: [Unnamed: 0, Unnamed: 0.1, nncid, accn, class, organism, name, ref, transcriptID, url, cpcScore, cnci, sequence]\n",
       "Index: []"
      ]
     },
     "execution_count": 14,
     "metadata": {},
     "output_type": "execute_result"
    }
   ],
   "source": [
    "df_nc_seq[df_nc_seq.duplicated(['nncid'])]"
   ]
  },
  {
   "cell_type": "code",
   "execution_count": 79,
   "metadata": {},
   "outputs": [
    {
     "data": {
      "text/html": [
       "<div>\n",
       "<style scoped>\n",
       "    .dataframe tbody tr th:only-of-type {\n",
       "        vertical-align: middle;\n",
       "    }\n",
       "\n",
       "    .dataframe tbody tr th {\n",
       "        vertical-align: top;\n",
       "    }\n",
       "\n",
       "    .dataframe thead th {\n",
       "        text-align: right;\n",
       "    }\n",
       "</style>\n",
       "<table border=\"1\" class=\"dataframe\">\n",
       "  <thead>\n",
       "    <tr style=\"text-align: right;\">\n",
       "      <th></th>\n",
       "      <th>NONCODEID</th>\n",
       "      <th>nncid</th>\n",
       "      <th>accn</th>\n",
       "      <th>class</th>\n",
       "      <th>organism</th>\n",
       "      <th>name</th>\n",
       "      <th>ref</th>\n",
       "      <th>transcriptID</th>\n",
       "      <th>url</th>\n",
       "      <th>cpcScore</th>\n",
       "      <th>cnci</th>\n",
       "      <th>sequence</th>\n",
       "    </tr>\n",
       "  </thead>\n",
       "  <tbody>\n",
       "    <tr>\n",
       "      <th>475</th>\n",
       "      <td>NONHSAT075169.2</td>\n",
       "      <td>n364548</td>\n",
       "      <td>NULL</td>\n",
       "      <td>lncRNA</td>\n",
       "      <td>Homo sapiens</td>\n",
       "      <td>Human lincRNA</td>\n",
       "      <td>BodyMapLinc</td>\n",
       "      <td>TCONS_00002724</td>\n",
       "      <td></td>\n",
       "      <td>-0.927397</td>\n",
       "      <td>-0.322157</td>\n",
       "      <td>AGAGTGCCCCGGCGTCTTTCTAGCCTCCGCCTCCAGGCGGGTGAGG...</td>\n",
       "    </tr>\n",
       "    <tr>\n",
       "      <th>913</th>\n",
       "      <td>NONHSAT075169.2</td>\n",
       "      <td>n378572</td>\n",
       "      <td>NULL</td>\n",
       "      <td>lncRNA</td>\n",
       "      <td>Homo sapiens</td>\n",
       "      <td></td>\n",
       "      <td>EnsemblNoncode</td>\n",
       "      <td>ENST00000439050</td>\n",
       "      <td></td>\n",
       "      <td>-0.944813</td>\n",
       "      <td>-0.331151</td>\n",
       "      <td>AGAGTGCCCCGGCGTCTTTCTAGCCTCCGCCTCCAGGCGGGTGAGG...</td>\n",
       "    </tr>\n",
       "    <tr>\n",
       "      <th>1152</th>\n",
       "      <td>NONHSAT041381.2</td>\n",
       "      <td>n382464</td>\n",
       "      <td>NULL</td>\n",
       "      <td>lncRNA</td>\n",
       "      <td>Homo sapiens</td>\n",
       "      <td></td>\n",
       "      <td>UCSCGeneNoncode</td>\n",
       "      <td>uc001zev.2</td>\n",
       "      <td></td>\n",
       "      <td>0.689975</td>\n",
       "      <td>-0.331027</td>\n",
       "      <td>CACACCTCCAGAATCAGGTGTCTGAAAAGTGGCAGTGACGAAAGAA...</td>\n",
       "    </tr>\n",
       "    <tr>\n",
       "      <th>1896</th>\n",
       "      <td>NONHSAT041381.2</td>\n",
       "      <td>n410799</td>\n",
       "      <td>NR_038253</td>\n",
       "      <td>lncRNA</td>\n",
       "      <td>Homo sapiens</td>\n",
       "      <td></td>\n",
       "      <td>RefGeneNoncode</td>\n",
       "      <td>NR_038253</td>\n",
       "      <td></td>\n",
       "      <td>0.656562</td>\n",
       "      <td>-0.267560</td>\n",
       "      <td>GGATAAGTTATAATTTCTGAAAGACCAAGATTGGAATGACTTTTTG...</td>\n",
       "    </tr>\n",
       "  </tbody>\n",
       "</table>\n",
       "</div>"
      ],
      "text/plain": [
       "            NONCODEID    nncid         accn     class        organism  \\\n",
       "475   NONHSAT075169.2  n364548        NULL    lncRNA    Homo sapiens    \n",
       "913   NONHSAT075169.2  n378572        NULL    lncRNA    Homo sapiens    \n",
       "1152  NONHSAT041381.2  n382464        NULL    lncRNA    Homo sapiens    \n",
       "1896  NONHSAT041381.2  n410799   NR_038253    lncRNA    Homo sapiens    \n",
       "\n",
       "                 name                ref       transcriptID url  cpcScore  \\\n",
       "475    Human lincRNA        BodyMapLinc     TCONS_00002724      -0.927397   \n",
       "913                      EnsemblNoncode    ENST00000439050      -0.944813   \n",
       "1152                    UCSCGeneNoncode         uc001zev.2       0.689975   \n",
       "1896                     RefGeneNoncode          NR_038253       0.656562   \n",
       "\n",
       "          cnci                                           sequence  \n",
       "475  -0.322157  AGAGTGCCCCGGCGTCTTTCTAGCCTCCGCCTCCAGGCGGGTGAGG...  \n",
       "913  -0.331151  AGAGTGCCCCGGCGTCTTTCTAGCCTCCGCCTCCAGGCGGGTGAGG...  \n",
       "1152 -0.331027  CACACCTCCAGAATCAGGTGTCTGAAAAGTGGCAGTGACGAAAGAA...  \n",
       "1896 -0.267560  GGATAAGTTATAATTTCTGAAAGACCAAGATTGGAATGACTTTTTG...  "
      ]
     },
     "execution_count": 79,
     "metadata": {},
     "output_type": "execute_result"
    }
   ],
   "source": [
    "df_nc_seq1[df_nc_seq1['NONCODEID'].isin(['NONHSAT075169.2','NONHSAT041381.2'])]"
   ]
  },
  {
   "cell_type": "code",
   "execution_count": 82,
   "metadata": {},
   "outputs": [
    {
     "data": {
      "text/plain": [
       "(1309, 12)"
      ]
     },
     "execution_count": 82,
     "metadata": {},
     "output_type": "execute_result"
    }
   ],
   "source": [
    "df_nc_seq1=df_nc_seq1[~df_nc_seq1['NONCODEID'].isin(['NONHSAT075169.2','NONHSAT041381.2'])]\n",
    "df_nc_seq1.shape"
   ]
  },
  {
   "cell_type": "code",
   "execution_count": 15,
   "metadata": {},
   "outputs": [],
   "source": [
    "df_nc_seq.to_csv('../Data/NpInter2 Interacting LncRNAs/NP_V2_LncRNAsSequences_clean2.csv')"
   ]
  },
  {
   "cell_type": "code",
   "execution_count": 18,
   "metadata": {},
   "outputs": [
    {
     "name": "stdout",
     "output_type": "stream",
     "text": [
      "DONE...\n",
      "DONE DONE...\n"
     ]
    }
   ],
   "source": [
    "file_out='../Data/NpInter2 Interacting LncRNAs/NP_V2_lncRNA_seq_clean2.fasta'\n",
    "\n",
    "with open(file_out, 'w') as f_out:\n",
    "    for index, row in df_nc_seq.iterrows():\n",
    "        f_out.write(\">\" + row['nncid'] + \"\\n\" +row['sequence'] + \"\\n\")\n",
    "    print(\"DONE...\")\n",
    "    \n",
    "print(\"DONE DONE...\")"
   ]
  },
  {
   "cell_type": "code",
   "execution_count": 3,
   "metadata": {},
   "outputs": [
    {
     "data": {
      "text/html": [
       "<div>\n",
       "<style scoped>\n",
       "    .dataframe tbody tr th:only-of-type {\n",
       "        vertical-align: middle;\n",
       "    }\n",
       "\n",
       "    .dataframe tbody tr th {\n",
       "        vertical-align: top;\n",
       "    }\n",
       "\n",
       "    .dataframe thead th {\n",
       "        text-align: right;\n",
       "    }\n",
       "</style>\n",
       "<table border=\"1\" class=\"dataframe\">\n",
       "  <thead>\n",
       "    <tr style=\"text-align: right;\">\n",
       "      <th></th>\n",
       "      <th>NONCODEID</th>\n",
       "      <th>nncid</th>\n",
       "      <th>accn</th>\n",
       "      <th>class</th>\n",
       "      <th>organism</th>\n",
       "      <th>name</th>\n",
       "      <th>ref</th>\n",
       "      <th>transcriptID</th>\n",
       "      <th>url</th>\n",
       "      <th>cpcScore</th>\n",
       "      <th>cnci</th>\n",
       "      <th>sequence</th>\n",
       "    </tr>\n",
       "  </thead>\n",
       "  <tbody>\n",
       "    <tr>\n",
       "      <th>0</th>\n",
       "      <td>NONHSAT044059.2</td>\n",
       "      <td>n344453</td>\n",
       "      <td>NULL</td>\n",
       "      <td>lincRNA</td>\n",
       "      <td>Homo sapiens</td>\n",
       "      <td>Human lincRNA</td>\n",
       "      <td>Scripture Reconstruction LincRNAs By Luo</td>\n",
       "      <td>linc_luo_1</td>\n",
       "      <td>NULL</td>\n",
       "      <td>-1.48162</td>\n",
       "      <td>-0.211334</td>\n",
       "      <td>TCTCGCTCTGTCACCCAGGCTGGAGTGCAGTGGCGTGATCTCGGCT...</td>\n",
       "    </tr>\n",
       "    <tr>\n",
       "      <th>1</th>\n",
       "      <td>NONHSAT140501.2</td>\n",
       "      <td>n344454</td>\n",
       "      <td>NULL</td>\n",
       "      <td>lincRNA</td>\n",
       "      <td>Homo sapiens</td>\n",
       "      <td>Human lincRNA</td>\n",
       "      <td>Scripture Reconstruction LincRNAs By Luo</td>\n",
       "      <td>linc_luo_2</td>\n",
       "      <td>NULL</td>\n",
       "      <td>-1.29125</td>\n",
       "      <td>-0.390813</td>\n",
       "      <td>ATTGTTAACGGCTGCGGTTCGAAGTGGCTGTGGGTATTGCTGCGGC...</td>\n",
       "    </tr>\n",
       "    <tr>\n",
       "      <th>2</th>\n",
       "      <td>NONHSAT030943.2</td>\n",
       "      <td>n344455</td>\n",
       "      <td>NULL</td>\n",
       "      <td>lincRNA</td>\n",
       "      <td>Homo sapiens</td>\n",
       "      <td>Human lincRNA</td>\n",
       "      <td>Scripture Reconstruction LincRNAs By Luo</td>\n",
       "      <td>linc_luo_3</td>\n",
       "      <td>NULL</td>\n",
       "      <td>-1.27104</td>\n",
       "      <td>-0.166314</td>\n",
       "      <td>AAATGAGGATGAAGCCAAGTGTTTGGAGTTCTTGCGAAGAAAGATA...</td>\n",
       "    </tr>\n",
       "    <tr>\n",
       "      <th>3</th>\n",
       "      <td>NONHSAT049673.2</td>\n",
       "      <td>n344457</td>\n",
       "      <td>NULL</td>\n",
       "      <td>lincRNA</td>\n",
       "      <td>Homo sapiens</td>\n",
       "      <td>Human lincRNA</td>\n",
       "      <td>Scripture Reconstruction LincRNAs By Luo</td>\n",
       "      <td>linc_luo_5</td>\n",
       "      <td>NULL</td>\n",
       "      <td>-1.36124</td>\n",
       "      <td>-0.309593</td>\n",
       "      <td>GGCCGGAGAGGCAGCAGCACCCCGAGCTGTCAGGCGTTCCGCCGCG...</td>\n",
       "    </tr>\n",
       "    <tr>\n",
       "      <th>4</th>\n",
       "      <td>NONHSAT119864.2</td>\n",
       "      <td>n344460</td>\n",
       "      <td>NULL</td>\n",
       "      <td>lincRNA</td>\n",
       "      <td>Homo sapiens</td>\n",
       "      <td>Human lincRNA</td>\n",
       "      <td>Scripture Reconstruction LincRNAs By Luo</td>\n",
       "      <td>linc_luo_8</td>\n",
       "      <td>NULL</td>\n",
       "      <td>-1.30821</td>\n",
       "      <td>-0.336347</td>\n",
       "      <td>AAGGTGGACTAGACAAAGTTGTATCTAGACCCTTATCATATATGTG...</td>\n",
       "    </tr>\n",
       "  </tbody>\n",
       "</table>\n",
       "</div>"
      ],
      "text/plain": [
       "         NONCODEID    nncid    accn      class        organism  \\\n",
       "0  NONHSAT044059.2  n344453   NULL    lincRNA    Homo sapiens    \n",
       "1  NONHSAT140501.2  n344454   NULL    lincRNA    Homo sapiens    \n",
       "2  NONHSAT030943.2  n344455   NULL    lincRNA    Homo sapiens    \n",
       "3  NONHSAT049673.2  n344457   NULL    lincRNA    Homo sapiens    \n",
       "4  NONHSAT119864.2  n344460   NULL    lincRNA    Homo sapiens    \n",
       "\n",
       "              name                                         ref  transcriptID  \\\n",
       "0   Human lincRNA    Scripture Reconstruction LincRNAs By Luo    linc_luo_1    \n",
       "1   Human lincRNA    Scripture Reconstruction LincRNAs By Luo    linc_luo_2    \n",
       "2   Human lincRNA    Scripture Reconstruction LincRNAs By Luo    linc_luo_3    \n",
       "3   Human lincRNA    Scripture Reconstruction LincRNAs By Luo    linc_luo_5    \n",
       "4   Human lincRNA    Scripture Reconstruction LincRNAs By Luo    linc_luo_8    \n",
       "\n",
       "      url  cpcScore      cnci  \\\n",
       "0   NULL   -1.48162 -0.211334   \n",
       "1   NULL   -1.29125 -0.390813   \n",
       "2   NULL   -1.27104 -0.166314   \n",
       "3   NULL   -1.36124 -0.309593   \n",
       "4   NULL   -1.30821 -0.336347   \n",
       "\n",
       "                                            sequence  \n",
       "0  TCTCGCTCTGTCACCCAGGCTGGAGTGCAGTGGCGTGATCTCGGCT...  \n",
       "1  ATTGTTAACGGCTGCGGTTCGAAGTGGCTGTGGGTATTGCTGCGGC...  \n",
       "2  AAATGAGGATGAAGCCAAGTGTTTGGAGTTCTTGCGAAGAAAGATA...  \n",
       "3  GGCCGGAGAGGCAGCAGCACCCCGAGCTGTCAGGCGTTCCGCCGCG...  \n",
       "4  AAGGTGGACTAGACAAAGTTGTATCTAGACCCTTATCATATATGTG...  "
      ]
     },
     "execution_count": 3,
     "metadata": {},
     "output_type": "execute_result"
    }
   ],
   "source": [
    "df = pd.read_csv('../Data/NpInter2 Interacting LncRNAs/NP_V2_LncRNAsSequences_clean.csv')\n",
    "df.head()"
   ]
  },
  {
   "cell_type": "code",
   "execution_count": 5,
   "metadata": {},
   "outputs": [
    {
     "data": {
      "text/html": [
       "<div>\n",
       "<style scoped>\n",
       "    .dataframe tbody tr th:only-of-type {\n",
       "        vertical-align: middle;\n",
       "    }\n",
       "\n",
       "    .dataframe tbody tr th {\n",
       "        vertical-align: top;\n",
       "    }\n",
       "\n",
       "    .dataframe thead th {\n",
       "        text-align: right;\n",
       "    }\n",
       "</style>\n",
       "<table border=\"1\" class=\"dataframe\">\n",
       "  <thead>\n",
       "    <tr style=\"text-align: right;\">\n",
       "      <th></th>\n",
       "      <th>NONCODEID</th>\n",
       "      <th>nncid</th>\n",
       "      <th>accn</th>\n",
       "      <th>class</th>\n",
       "      <th>organism</th>\n",
       "      <th>name</th>\n",
       "      <th>ref</th>\n",
       "      <th>transcriptID</th>\n",
       "      <th>url</th>\n",
       "      <th>cpcScore</th>\n",
       "      <th>cnci</th>\n",
       "      <th>sequence</th>\n",
       "    </tr>\n",
       "  </thead>\n",
       "  <tbody>\n",
       "    <tr>\n",
       "      <th>61</th>\n",
       "      <td>NONHSAT129017.2</td>\n",
       "      <td>n344709</td>\n",
       "      <td>NULL</td>\n",
       "      <td>lincRNA</td>\n",
       "      <td>Homo sapiens</td>\n",
       "      <td>Human lincRNA</td>\n",
       "      <td>Scripture Reconstruction LincRNAs By Luo</td>\n",
       "      <td>linc_luo_258</td>\n",
       "      <td>NULL</td>\n",
       "      <td>-1.415710</td>\n",
       "      <td>-0.332816</td>\n",
       "      <td>GAATCCATTGGAACCACGTAGATGAAGTTTCATTCAAAAACAATCC...</td>\n",
       "    </tr>\n",
       "    <tr>\n",
       "      <th>1107</th>\n",
       "      <td>NONHSAT137539.2</td>\n",
       "      <td>n385783</td>\n",
       "      <td>NULL</td>\n",
       "      <td>lncRNA</td>\n",
       "      <td>Homo sapiens</td>\n",
       "      <td></td>\n",
       "      <td>UCSCGeneNoncode</td>\n",
       "      <td>uc004ebn.2</td>\n",
       "      <td></td>\n",
       "      <td>0.340401</td>\n",
       "      <td>-0.345549</td>\n",
       "      <td>TAAAAATGTAAAAGATCAGCTGGGTGTGGTGGCTCACACCTGTAAT...</td>\n",
       "    </tr>\n",
       "  </tbody>\n",
       "</table>\n",
       "</div>"
      ],
      "text/plain": [
       "            NONCODEID    nncid    accn      class        organism  \\\n",
       "61    NONHSAT129017.2  n344709   NULL    lincRNA    Homo sapiens    \n",
       "1107  NONHSAT137539.2  n385783   NULL     lncRNA    Homo sapiens    \n",
       "\n",
       "                 name                                         ref  \\\n",
       "61     Human lincRNA    Scripture Reconstruction LincRNAs By Luo    \n",
       "1107                                             UCSCGeneNoncode    \n",
       "\n",
       "        transcriptID     url  cpcScore      cnci  \\\n",
       "61     linc_luo_258    NULL  -1.415710 -0.332816   \n",
       "1107     uc004ebn.2           0.340401 -0.345549   \n",
       "\n",
       "                                               sequence  \n",
       "61    GAATCCATTGGAACCACGTAGATGAAGTTTCATTCAAAAACAATCC...  \n",
       "1107  TAAAAATGTAAAAGATCAGCTGGGTGTGGTGGCTCACACCTGTAAT...  "
      ]
     },
     "execution_count": 5,
     "metadata": {},
     "output_type": "execute_result"
    }
   ],
   "source": [
    "df[df['sequence'].str.len() == 32759]"
   ]
  },
  {
   "cell_type": "code",
   "execution_count": 10,
   "metadata": {},
   "outputs": [
    {
     "data": {
      "text/html": [
       "<div>\n",
       "<style scoped>\n",
       "    .dataframe tbody tr th:only-of-type {\n",
       "        vertical-align: middle;\n",
       "    }\n",
       "\n",
       "    .dataframe tbody tr th {\n",
       "        vertical-align: top;\n",
       "    }\n",
       "\n",
       "    .dataframe thead th {\n",
       "        text-align: right;\n",
       "    }\n",
       "</style>\n",
       "<table border=\"1\" class=\"dataframe\">\n",
       "  <thead>\n",
       "    <tr style=\"text-align: right;\">\n",
       "      <th></th>\n",
       "      <th>NONCODEID</th>\n",
       "      <th>nncid</th>\n",
       "      <th>accn</th>\n",
       "      <th>class</th>\n",
       "      <th>organism</th>\n",
       "      <th>name</th>\n",
       "      <th>ref</th>\n",
       "      <th>transcriptID</th>\n",
       "      <th>url</th>\n",
       "      <th>cpcScore</th>\n",
       "      <th>cnci</th>\n",
       "      <th>sequence</th>\n",
       "      <th>sequence_len</th>\n",
       "    </tr>\n",
       "  </thead>\n",
       "  <tbody>\n",
       "    <tr>\n",
       "      <th>0</th>\n",
       "      <td>NONHSAT044059.2</td>\n",
       "      <td>n344453</td>\n",
       "      <td>NULL</td>\n",
       "      <td>lincRNA</td>\n",
       "      <td>Homo sapiens</td>\n",
       "      <td>Human lincRNA</td>\n",
       "      <td>Scripture Reconstruction LincRNAs By Luo</td>\n",
       "      <td>linc_luo_1</td>\n",
       "      <td>NULL</td>\n",
       "      <td>-1.48162</td>\n",
       "      <td>-0.211334</td>\n",
       "      <td>TCTCGCTCTGTCACCCAGGCTGGAGTGCAGTGGCGTGATCTCGGCT...</td>\n",
       "      <td>3367</td>\n",
       "    </tr>\n",
       "    <tr>\n",
       "      <th>1</th>\n",
       "      <td>NONHSAT140501.2</td>\n",
       "      <td>n344454</td>\n",
       "      <td>NULL</td>\n",
       "      <td>lincRNA</td>\n",
       "      <td>Homo sapiens</td>\n",
       "      <td>Human lincRNA</td>\n",
       "      <td>Scripture Reconstruction LincRNAs By Luo</td>\n",
       "      <td>linc_luo_2</td>\n",
       "      <td>NULL</td>\n",
       "      <td>-1.29125</td>\n",
       "      <td>-0.390813</td>\n",
       "      <td>ATTGTTAACGGCTGCGGTTCGAAGTGGCTGTGGGTATTGCTGCGGC...</td>\n",
       "      <td>573</td>\n",
       "    </tr>\n",
       "    <tr>\n",
       "      <th>2</th>\n",
       "      <td>NONHSAT030943.2</td>\n",
       "      <td>n344455</td>\n",
       "      <td>NULL</td>\n",
       "      <td>lincRNA</td>\n",
       "      <td>Homo sapiens</td>\n",
       "      <td>Human lincRNA</td>\n",
       "      <td>Scripture Reconstruction LincRNAs By Luo</td>\n",
       "      <td>linc_luo_3</td>\n",
       "      <td>NULL</td>\n",
       "      <td>-1.27104</td>\n",
       "      <td>-0.166314</td>\n",
       "      <td>AAATGAGGATGAAGCCAAGTGTTTGGAGTTCTTGCGAAGAAAGATA...</td>\n",
       "      <td>2758</td>\n",
       "    </tr>\n",
       "    <tr>\n",
       "      <th>3</th>\n",
       "      <td>NONHSAT049673.2</td>\n",
       "      <td>n344457</td>\n",
       "      <td>NULL</td>\n",
       "      <td>lincRNA</td>\n",
       "      <td>Homo sapiens</td>\n",
       "      <td>Human lincRNA</td>\n",
       "      <td>Scripture Reconstruction LincRNAs By Luo</td>\n",
       "      <td>linc_luo_5</td>\n",
       "      <td>NULL</td>\n",
       "      <td>-1.36124</td>\n",
       "      <td>-0.309593</td>\n",
       "      <td>GGCCGGAGAGGCAGCAGCACCCCGAGCTGTCAGGCGTTCCGCCGCG...</td>\n",
       "      <td>1269</td>\n",
       "    </tr>\n",
       "    <tr>\n",
       "      <th>4</th>\n",
       "      <td>NONHSAT119864.2</td>\n",
       "      <td>n344460</td>\n",
       "      <td>NULL</td>\n",
       "      <td>lincRNA</td>\n",
       "      <td>Homo sapiens</td>\n",
       "      <td>Human lincRNA</td>\n",
       "      <td>Scripture Reconstruction LincRNAs By Luo</td>\n",
       "      <td>linc_luo_8</td>\n",
       "      <td>NULL</td>\n",
       "      <td>-1.30821</td>\n",
       "      <td>-0.336347</td>\n",
       "      <td>AAGGTGGACTAGACAAAGTTGTATCTAGACCCTTATCATATATGTG...</td>\n",
       "      <td>5954</td>\n",
       "    </tr>\n",
       "  </tbody>\n",
       "</table>\n",
       "</div>"
      ],
      "text/plain": [
       "         NONCODEID    nncid    accn      class        organism  \\\n",
       "0  NONHSAT044059.2  n344453   NULL    lincRNA    Homo sapiens    \n",
       "1  NONHSAT140501.2  n344454   NULL    lincRNA    Homo sapiens    \n",
       "2  NONHSAT030943.2  n344455   NULL    lincRNA    Homo sapiens    \n",
       "3  NONHSAT049673.2  n344457   NULL    lincRNA    Homo sapiens    \n",
       "4  NONHSAT119864.2  n344460   NULL    lincRNA    Homo sapiens    \n",
       "\n",
       "              name                                         ref  transcriptID  \\\n",
       "0   Human lincRNA    Scripture Reconstruction LincRNAs By Luo    linc_luo_1    \n",
       "1   Human lincRNA    Scripture Reconstruction LincRNAs By Luo    linc_luo_2    \n",
       "2   Human lincRNA    Scripture Reconstruction LincRNAs By Luo    linc_luo_3    \n",
       "3   Human lincRNA    Scripture Reconstruction LincRNAs By Luo    linc_luo_5    \n",
       "4   Human lincRNA    Scripture Reconstruction LincRNAs By Luo    linc_luo_8    \n",
       "\n",
       "      url  cpcScore      cnci  \\\n",
       "0   NULL   -1.48162 -0.211334   \n",
       "1   NULL   -1.29125 -0.390813   \n",
       "2   NULL   -1.27104 -0.166314   \n",
       "3   NULL   -1.36124 -0.309593   \n",
       "4   NULL   -1.30821 -0.336347   \n",
       "\n",
       "                                            sequence  sequence_len  \n",
       "0  TCTCGCTCTGTCACCCAGGCTGGAGTGCAGTGGCGTGATCTCGGCT...          3367  \n",
       "1  ATTGTTAACGGCTGCGGTTCGAAGTGGCTGTGGGTATTGCTGCGGC...           573  \n",
       "2  AAATGAGGATGAAGCCAAGTGTTTGGAGTTCTTGCGAAGAAAGATA...          2758  \n",
       "3  GGCCGGAGAGGCAGCAGCACCCCGAGCTGTCAGGCGTTCCGCCGCG...          1269  \n",
       "4  AAGGTGGACTAGACAAAGTTGTATCTAGACCCTTATCATATATGTG...          5954  "
      ]
     },
     "execution_count": 10,
     "metadata": {},
     "output_type": "execute_result"
    }
   ],
   "source": [
    "df['sequence_len']=df['sequence'].str.len()\n",
    "df.head()"
   ]
  },
  {
   "cell_type": "code",
   "execution_count": 17,
   "metadata": {},
   "outputs": [
    {
     "data": {
      "text/html": [
       "<div>\n",
       "<style scoped>\n",
       "    .dataframe tbody tr th:only-of-type {\n",
       "        vertical-align: middle;\n",
       "    }\n",
       "\n",
       "    .dataframe tbody tr th {\n",
       "        vertical-align: top;\n",
       "    }\n",
       "\n",
       "    .dataframe thead th {\n",
       "        text-align: right;\n",
       "    }\n",
       "</style>\n",
       "<table border=\"1\" class=\"dataframe\">\n",
       "  <thead>\n",
       "    <tr style=\"text-align: right;\">\n",
       "      <th></th>\n",
       "      <th>nncid</th>\n",
       "      <th>sequence_len</th>\n",
       "    </tr>\n",
       "  </thead>\n",
       "  <tbody>\n",
       "    <tr>\n",
       "      <th>4</th>\n",
       "      <td>n344460</td>\n",
       "      <td>5954</td>\n",
       "    </tr>\n",
       "    <tr>\n",
       "      <th>6</th>\n",
       "      <td>n344462</td>\n",
       "      <td>4442</td>\n",
       "    </tr>\n",
       "    <tr>\n",
       "      <th>7</th>\n",
       "      <td>n344478</td>\n",
       "      <td>11929</td>\n",
       "    </tr>\n",
       "    <tr>\n",
       "      <th>11</th>\n",
       "      <td>n344497</td>\n",
       "      <td>5428</td>\n",
       "    </tr>\n",
       "    <tr>\n",
       "      <th>12</th>\n",
       "      <td>n344500</td>\n",
       "      <td>4060</td>\n",
       "    </tr>\n",
       "    <tr>\n",
       "      <th>13</th>\n",
       "      <td>n344503</td>\n",
       "      <td>6253</td>\n",
       "    </tr>\n",
       "    <tr>\n",
       "      <th>15</th>\n",
       "      <td>n344517</td>\n",
       "      <td>7251</td>\n",
       "    </tr>\n",
       "    <tr>\n",
       "      <th>18</th>\n",
       "      <td>n344538</td>\n",
       "      <td>7765</td>\n",
       "    </tr>\n",
       "    <tr>\n",
       "      <th>19</th>\n",
       "      <td>n344540</td>\n",
       "      <td>6515</td>\n",
       "    </tr>\n",
       "    <tr>\n",
       "      <th>20</th>\n",
       "      <td>n344541</td>\n",
       "      <td>4985</td>\n",
       "    </tr>\n",
       "    <tr>\n",
       "      <th>23</th>\n",
       "      <td>n344552</td>\n",
       "      <td>21686</td>\n",
       "    </tr>\n",
       "    <tr>\n",
       "      <th>25</th>\n",
       "      <td>n344569</td>\n",
       "      <td>7268</td>\n",
       "    </tr>\n",
       "    <tr>\n",
       "      <th>28</th>\n",
       "      <td>n344585</td>\n",
       "      <td>9679</td>\n",
       "    </tr>\n",
       "    <tr>\n",
       "      <th>33</th>\n",
       "      <td>n344604</td>\n",
       "      <td>7047</td>\n",
       "    </tr>\n",
       "    <tr>\n",
       "      <th>34</th>\n",
       "      <td>n344610</td>\n",
       "      <td>4926</td>\n",
       "    </tr>\n",
       "    <tr>\n",
       "      <th>39</th>\n",
       "      <td>n344644</td>\n",
       "      <td>9556</td>\n",
       "    </tr>\n",
       "    <tr>\n",
       "      <th>44</th>\n",
       "      <td>n344653</td>\n",
       "      <td>12885</td>\n",
       "    </tr>\n",
       "    <tr>\n",
       "      <th>47</th>\n",
       "      <td>n344659</td>\n",
       "      <td>14567</td>\n",
       "    </tr>\n",
       "    <tr>\n",
       "      <th>51</th>\n",
       "      <td>n344677</td>\n",
       "      <td>5132</td>\n",
       "    </tr>\n",
       "    <tr>\n",
       "      <th>52</th>\n",
       "      <td>n344678</td>\n",
       "      <td>12222</td>\n",
       "    </tr>\n",
       "    <tr>\n",
       "      <th>53</th>\n",
       "      <td>n344679</td>\n",
       "      <td>6904</td>\n",
       "    </tr>\n",
       "    <tr>\n",
       "      <th>55</th>\n",
       "      <td>n344693</td>\n",
       "      <td>8544</td>\n",
       "    </tr>\n",
       "    <tr>\n",
       "      <th>56</th>\n",
       "      <td>n344695</td>\n",
       "      <td>5608</td>\n",
       "    </tr>\n",
       "    <tr>\n",
       "      <th>59</th>\n",
       "      <td>n344703</td>\n",
       "      <td>8245</td>\n",
       "    </tr>\n",
       "    <tr>\n",
       "      <th>61</th>\n",
       "      <td>n344709</td>\n",
       "      <td>32759</td>\n",
       "    </tr>\n",
       "    <tr>\n",
       "      <th>66</th>\n",
       "      <td>n344736</td>\n",
       "      <td>18005</td>\n",
       "    </tr>\n",
       "    <tr>\n",
       "      <th>70</th>\n",
       "      <td>n344755</td>\n",
       "      <td>5497</td>\n",
       "    </tr>\n",
       "    <tr>\n",
       "      <th>72</th>\n",
       "      <td>n344766</td>\n",
       "      <td>8078</td>\n",
       "    </tr>\n",
       "    <tr>\n",
       "      <th>75</th>\n",
       "      <td>n344772</td>\n",
       "      <td>4754</td>\n",
       "    </tr>\n",
       "    <tr>\n",
       "      <th>76</th>\n",
       "      <td>n344778</td>\n",
       "      <td>8797</td>\n",
       "    </tr>\n",
       "    <tr>\n",
       "      <th>...</th>\n",
       "      <td>...</td>\n",
       "      <td>...</td>\n",
       "    </tr>\n",
       "    <tr>\n",
       "      <th>1177</th>\n",
       "      <td>n387393</td>\n",
       "      <td>5677</td>\n",
       "    </tr>\n",
       "    <tr>\n",
       "      <th>1179</th>\n",
       "      <td>n387531</td>\n",
       "      <td>6025</td>\n",
       "    </tr>\n",
       "    <tr>\n",
       "      <th>1187</th>\n",
       "      <td>n405566</td>\n",
       "      <td>4009</td>\n",
       "    </tr>\n",
       "    <tr>\n",
       "      <th>1189</th>\n",
       "      <td>n405705</td>\n",
       "      <td>7238</td>\n",
       "    </tr>\n",
       "    <tr>\n",
       "      <th>1193</th>\n",
       "      <td>n406144</td>\n",
       "      <td>5788</td>\n",
       "    </tr>\n",
       "    <tr>\n",
       "      <th>1200</th>\n",
       "      <td>n406301</td>\n",
       "      <td>4231</td>\n",
       "    </tr>\n",
       "    <tr>\n",
       "      <th>1201</th>\n",
       "      <td>n406346</td>\n",
       "      <td>4597</td>\n",
       "    </tr>\n",
       "    <tr>\n",
       "      <th>1207</th>\n",
       "      <td>n406478</td>\n",
       "      <td>8014</td>\n",
       "    </tr>\n",
       "    <tr>\n",
       "      <th>1209</th>\n",
       "      <td>n406543</td>\n",
       "      <td>6814</td>\n",
       "    </tr>\n",
       "    <tr>\n",
       "      <th>1215</th>\n",
       "      <td>n406883</td>\n",
       "      <td>10263</td>\n",
       "    </tr>\n",
       "    <tr>\n",
       "      <th>1222</th>\n",
       "      <td>n406992</td>\n",
       "      <td>4133</td>\n",
       "    </tr>\n",
       "    <tr>\n",
       "      <th>1225</th>\n",
       "      <td>n407071</td>\n",
       "      <td>5134</td>\n",
       "    </tr>\n",
       "    <tr>\n",
       "      <th>1228</th>\n",
       "      <td>n407114</td>\n",
       "      <td>5904</td>\n",
       "    </tr>\n",
       "    <tr>\n",
       "      <th>1230</th>\n",
       "      <td>n407211</td>\n",
       "      <td>5984</td>\n",
       "    </tr>\n",
       "    <tr>\n",
       "      <th>1233</th>\n",
       "      <td>n407400</td>\n",
       "      <td>4421</td>\n",
       "    </tr>\n",
       "    <tr>\n",
       "      <th>1237</th>\n",
       "      <td>n407500</td>\n",
       "      <td>4782</td>\n",
       "    </tr>\n",
       "    <tr>\n",
       "      <th>1238</th>\n",
       "      <td>n407502</td>\n",
       "      <td>5206</td>\n",
       "    </tr>\n",
       "    <tr>\n",
       "      <th>1250</th>\n",
       "      <td>n407851</td>\n",
       "      <td>5712</td>\n",
       "    </tr>\n",
       "    <tr>\n",
       "      <th>1251</th>\n",
       "      <td>n407887</td>\n",
       "      <td>5343</td>\n",
       "    </tr>\n",
       "    <tr>\n",
       "      <th>1253</th>\n",
       "      <td>n408014</td>\n",
       "      <td>5051</td>\n",
       "    </tr>\n",
       "    <tr>\n",
       "      <th>1268</th>\n",
       "      <td>n409250</td>\n",
       "      <td>4374</td>\n",
       "    </tr>\n",
       "    <tr>\n",
       "      <th>1271</th>\n",
       "      <td>n409499</td>\n",
       "      <td>4616</td>\n",
       "    </tr>\n",
       "    <tr>\n",
       "      <th>1273</th>\n",
       "      <td>n409638</td>\n",
       "      <td>21017</td>\n",
       "    </tr>\n",
       "    <tr>\n",
       "      <th>1276</th>\n",
       "      <td>n409707</td>\n",
       "      <td>4942</td>\n",
       "    </tr>\n",
       "    <tr>\n",
       "      <th>1282</th>\n",
       "      <td>n410063</td>\n",
       "      <td>4639</td>\n",
       "    </tr>\n",
       "    <tr>\n",
       "      <th>1287</th>\n",
       "      <td>n410143</td>\n",
       "      <td>4375</td>\n",
       "    </tr>\n",
       "    <tr>\n",
       "      <th>1290</th>\n",
       "      <td>n410453</td>\n",
       "      <td>4818</td>\n",
       "    </tr>\n",
       "    <tr>\n",
       "      <th>1297</th>\n",
       "      <td>n411142</td>\n",
       "      <td>5425</td>\n",
       "    </tr>\n",
       "    <tr>\n",
       "      <th>1298</th>\n",
       "      <td>n411511</td>\n",
       "      <td>9419</td>\n",
       "    </tr>\n",
       "    <tr>\n",
       "      <th>1301</th>\n",
       "      <td>n411552</td>\n",
       "      <td>8336</td>\n",
       "    </tr>\n",
       "  </tbody>\n",
       "</table>\n",
       "<p>210 rows × 2 columns</p>\n",
       "</div>"
      ],
      "text/plain": [
       "        nncid  sequence_len\n",
       "4     n344460          5954\n",
       "6     n344462          4442\n",
       "7     n344478         11929\n",
       "11    n344497          5428\n",
       "12    n344500          4060\n",
       "13    n344503          6253\n",
       "15    n344517          7251\n",
       "18    n344538          7765\n",
       "19    n344540          6515\n",
       "20    n344541          4985\n",
       "23    n344552         21686\n",
       "25    n344569          7268\n",
       "28    n344585          9679\n",
       "33    n344604          7047\n",
       "34    n344610          4926\n",
       "39    n344644          9556\n",
       "44    n344653         12885\n",
       "47    n344659         14567\n",
       "51    n344677          5132\n",
       "52    n344678         12222\n",
       "53    n344679          6904\n",
       "55    n344693          8544\n",
       "56    n344695          5608\n",
       "59    n344703          8245\n",
       "61    n344709         32759\n",
       "66    n344736         18005\n",
       "70    n344755          5497\n",
       "72    n344766          8078\n",
       "75    n344772          4754\n",
       "76    n344778          8797\n",
       "...       ...           ...\n",
       "1177  n387393          5677\n",
       "1179  n387531          6025\n",
       "1187  n405566          4009\n",
       "1189  n405705          7238\n",
       "1193  n406144          5788\n",
       "1200  n406301          4231\n",
       "1201  n406346          4597\n",
       "1207  n406478          8014\n",
       "1209  n406543          6814\n",
       "1215  n406883         10263\n",
       "1222  n406992          4133\n",
       "1225  n407071          5134\n",
       "1228  n407114          5904\n",
       "1230  n407211          5984\n",
       "1233  n407400          4421\n",
       "1237  n407500          4782\n",
       "1238  n407502          5206\n",
       "1250  n407851          5712\n",
       "1251  n407887          5343\n",
       "1253  n408014          5051\n",
       "1268  n409250          4374\n",
       "1271  n409499          4616\n",
       "1273  n409638         21017\n",
       "1276  n409707          4942\n",
       "1282  n410063          4639\n",
       "1287  n410143          4375\n",
       "1290  n410453          4818\n",
       "1297  n411142          5425\n",
       "1298  n411511          9419\n",
       "1301  n411552          8336\n",
       "\n",
       "[210 rows x 2 columns]"
      ]
     },
     "execution_count": 17,
     "metadata": {},
     "output_type": "execute_result"
    }
   ],
   "source": [
    "df[df['sequence'].str.len() >4000][['nncid','sequence_len']]"
   ]
  },
  {
   "cell_type": "code",
   "execution_count": 22,
   "metadata": {},
   "outputs": [
    {
     "data": {
      "text/html": [
       "<div>\n",
       "<style scoped>\n",
       "    .dataframe tbody tr th:only-of-type {\n",
       "        vertical-align: middle;\n",
       "    }\n",
       "\n",
       "    .dataframe tbody tr th {\n",
       "        vertical-align: top;\n",
       "    }\n",
       "\n",
       "    .dataframe thead th {\n",
       "        text-align: right;\n",
       "    }\n",
       "</style>\n",
       "<table border=\"1\" class=\"dataframe\">\n",
       "  <thead>\n",
       "    <tr style=\"text-align: right;\">\n",
       "      <th></th>\n",
       "      <th>PrId</th>\n",
       "      <th>nncid</th>\n",
       "      <th>interaction</th>\n",
       "    </tr>\n",
       "  </thead>\n",
       "  <tbody>\n",
       "    <tr>\n",
       "      <th>0</th>\n",
       "      <td>Q13148</td>\n",
       "      <td>n121</td>\n",
       "      <td>1</td>\n",
       "    </tr>\n",
       "    <tr>\n",
       "      <th>1</th>\n",
       "      <td>Q9HCE1</td>\n",
       "      <td>n127</td>\n",
       "      <td>1</td>\n",
       "    </tr>\n",
       "    <tr>\n",
       "      <th>2</th>\n",
       "      <td>P35637</td>\n",
       "      <td>n1315</td>\n",
       "      <td>1</td>\n",
       "    </tr>\n",
       "    <tr>\n",
       "      <th>3</th>\n",
       "      <td>Q01844</td>\n",
       "      <td>n1315</td>\n",
       "      <td>1</td>\n",
       "    </tr>\n",
       "    <tr>\n",
       "      <th>4</th>\n",
       "      <td>Q13148</td>\n",
       "      <td>n1315</td>\n",
       "      <td>1</td>\n",
       "    </tr>\n",
       "  </tbody>\n",
       "</table>\n",
       "</div>"
      ],
      "text/plain": [
       "     PrId  nncid  interaction\n",
       "0  Q13148   n121            1\n",
       "1  Q9HCE1   n127            1\n",
       "2  P35637  n1315            1\n",
       "3  Q01844  n1315            1\n",
       "4  Q13148  n1315            1"
      ]
     },
     "execution_count": 22,
     "metadata": {},
     "output_type": "execute_result"
    }
   ],
   "source": [
    "dfp=pd.read_csv('E:\\\\Fast\\\\Maam Zoya\\\\papers\\\\RPITER-master\\\\RPITER-master\\\\data\\\\NPInter_pairs.csv')\n",
    "dfp.head()"
   ]
  },
  {
   "cell_type": "code",
   "execution_count": 23,
   "metadata": {},
   "outputs": [
    {
     "data": {
      "text/plain": [
       "PrId            449\n",
       "nncid          4636\n",
       "interaction       2\n",
       "dtype: int64"
      ]
     },
     "execution_count": 23,
     "metadata": {},
     "output_type": "execute_result"
    }
   ],
   "source": [
    "dfp.nunique()"
   ]
  },
  {
   "cell_type": "code",
   "execution_count": null,
   "metadata": {},
   "outputs": [],
   "source": []
  }
 ],
 "metadata": {
  "kernelspec": {
   "display_name": "Python 3",
   "language": "python",
   "name": "python3"
  },
  "language_info": {
   "codemirror_mode": {
    "name": "ipython",
    "version": 3
   },
   "file_extension": ".py",
   "mimetype": "text/x-python",
   "name": "python",
   "nbconvert_exporter": "python",
   "pygments_lexer": "ipython3",
   "version": "3.7.1"
  }
 },
 "nbformat": 4,
 "nbformat_minor": 2
}
